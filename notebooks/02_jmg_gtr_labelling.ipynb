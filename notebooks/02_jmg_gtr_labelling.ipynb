{
 "cells": [
  {
   "cell_type": "markdown",
   "metadata": {},
   "source": [
    "# Using labelled datasets to enrich our activity data\n",
    "\n",
    "We have a couple of labelled datasets that we can use to enrich our health data with more meaningful categories about purposes, goals ans disease areas. In this notebook we will train predictive models in those data and then apply them to the GDB we have been working with in `notebook 3`.\n",
    "\n",
    "Steps to follow:\n",
    "\n",
    "* Preamble\n",
    "* Load the data (GTR and RWJF)\n",
    "* Train models \n",
    "* Evaluate models\n",
    "* Save models\n"
   ]
  },
  {
   "cell_type": "markdown",
   "metadata": {},
   "source": [
    "## Preamble"
   ]
  },
  {
   "cell_type": "code",
   "execution_count": 196,
   "metadata": {},
   "outputs": [],
   "source": [
    "# %load preamble.py\n",
    "%matplotlib inline\n",
    "#NB I open a standard set of directories\n",
    "\n",
    "#Paths\n",
    "\n",
    "#Get the top path\n",
    "top_path = os.path.dirname(os.getcwd())\n",
    "\n",
    "#Create the path for external data\n",
    "ext_data = os.path.join(top_path,'data/external')\n",
    "\n",
    "#Raw path (for html downloads)\n",
    "\n",
    "raw_data = os.path.join(top_path,'data/raw')\n",
    "\n",
    "#And external data\n",
    "proc_data = os.path.join(top_path,'data/processed')\n",
    "\n",
    "fig_path = os.path.join(top_path,'reports/figures')\n",
    "\n",
    "#Get date for saving files\n",
    "today = datetime.datetime.today()\n",
    "\n",
    "today_str = \"_\".join([str(x) for x in [today.day,today.month,today.year]])"
   ]
  },
  {
   "cell_type": "code",
   "execution_count": 197,
   "metadata": {},
   "outputs": [],
   "source": [
    "#And the model path\n",
    "mod_path = os.path.join(top_path,'models/')\n",
    "\n",
    "#ML imports\n",
    "from sklearn.metrics import confusion_matrix\n",
    "from sklearn.feature_extraction.text import CountVectorizer\n",
    "\n",
    "from sklearn.linear_model import LogisticRegression\n",
    "from sklearn.ensemble import RandomForestClassifier\n",
    "from sklearn.model_selection import cross_val_score,GridSearchCV\n",
    "from sklearn.multiclass import OneVsRestClassifier\n",
    "from sklearn.preprocessing import LabelBinarizer\n",
    "\n",
    "import warnings\n",
    "\n",
    "warnings.simplefilter('ignore',UserWarning)"
   ]
  },
  {
   "cell_type": "code",
   "execution_count": 52,
   "metadata": {},
   "outputs": [],
   "source": [
    "# Utility functions\n",
    "\n",
    "def flatten_list(my_list):\n",
    "    '''\n",
    "    Flattens a list\n",
    "    '''\n",
    "    \n",
    "    return([x for el in my_list for x in el])\n",
    "\n",
    "\n",
    "def dummies_from_list(list_of_categories):\n",
    "    '''\n",
    "    This function takes a list of categories and returns a df where every column is a dummie for each unique variable\n",
    "    in the category. Admittedly, the function could be nicer.\n",
    "    \n",
    "    '''\n",
    "\n",
    "    #We concatenate a bunch of series whose indices are the names of the variables.\n",
    "    #We could have done something similar by creating DFs with one row\n",
    "    dummy_df = pd.concat([pd.Series({v:1 for v in obs}) for obs in list_of_categories],axis=1).T.fillna(0)\n",
    "    return(dummy_df)"
   ]
  },
  {
   "cell_type": "code",
   "execution_count": 262,
   "metadata": {},
   "outputs": [],
   "source": [
    "# CLasses\n",
    "\n",
    "#One class for text classification based on text inputs\n",
    "\n",
    "class TextClassification():\n",
    "    '''\n",
    "    This class takes a corpus (could be a list of strings or a tokenised corpus) and a target (could be multiclass or single class).\n",
    "    \n",
    "    When it is initialised it vectorises the list of tokens using sklearn's count vectoriser.\n",
    "    \n",
    "    It has a grid search method that takes a list of models and parameters and trains the model.\n",
    "    \n",
    "    It returns the output of grid search for diagnosis\n",
    "    \n",
    "    '''\n",
    "    \n",
    "    def __init__(self,corpus,target):\n",
    "        '''\n",
    "        \n",
    "        Initialise. The class will recognise if we are feeding it a list of strings or a list of\n",
    "        tokenised documents and vectorise accordingly. \n",
    "        \n",
    "        It will also recognise is this a multiclass or one class problem based on the dimensions of the target array\n",
    "        \n",
    "        Later on, it will use control flow to modify model parameters depending on the type of data we have\n",
    "        \n",
    "        '''\n",
    "        \n",
    "        #Is this a multiclass classification problem or a single class classification problem?\n",
    "        if target.shape[1]>1:\n",
    "            self.mode = 'multiclass'\n",
    "            \n",
    "        else:\n",
    "            self.mode = 'single_class'\n",
    "    \n",
    "    \n",
    "        #Store the target\n",
    "        self.Y = target\n",
    "    \n",
    "        #Did we feed the model a bunch of strings or a list of tokenised docs? If the latter, we clean and tokenise.\n",
    "        \n",
    "        if type(corpus[0])==str:\n",
    "            corpus = CleanTokenize(corpus).clean().bigram().tokenised\n",
    "            \n",
    "        #Turn every list of tokens into a string for count vectorising\n",
    "        corpus_string =  [' '.join(words) for words in corpus]\n",
    "        \n",
    "        \n",
    "        #And then we count vectorise in a hacky way.\n",
    "        count_vect = CountVectorizer(stop_words='english',min_df=5).fit(corpus_string)\n",
    "        \n",
    "        #Store the features\n",
    "        self.X = count_vect.transform(corpus_string)\n",
    "        \n",
    "        #Store the count vectoriser (we will use it later on for prediction on new data)\n",
    "        self.count_vect = count_vect\n",
    "        \n",
    "    def grid_search(self,models):\n",
    "        '''\n",
    "        The grid search method takes a list with models and their parameters and it does grid search crossvalidation.\n",
    "        \n",
    "        '''\n",
    "        \n",
    "        #Load inputs and targets into the model\n",
    "        Y = self.Y\n",
    "        X = self.X\n",
    "        \n",
    "        if self.mode=='multiclass':\n",
    "            '''\n",
    "            If the model is multiclass then we need to add some prefixes to the model paramas\n",
    "            \n",
    "            '''\n",
    "        \n",
    "            for mod in models:\n",
    "                #Make ovr\n",
    "                mod[0] = OneVsRestClassifier(mod[0])\n",
    "                \n",
    "                #Add the estimator prefix\n",
    "                mod[1] = {'estimator__'+k:v for k,v in mod[1].items()}\n",
    "                \n",
    "        \n",
    "        #Container with results\n",
    "        results = []\n",
    "\n",
    "        #For each model, run the analysis.\n",
    "        for num,mod in enumerate(models):\n",
    "            print(num)\n",
    "\n",
    "            #Run the classifier\n",
    "            clf = GridSearchCV(mod[0],mod[1])\n",
    "\n",
    "            #Fit\n",
    "            clf.fit(X,Y)\n",
    "\n",
    "            #Append results\n",
    "            results.append(clf)\n",
    "        \n",
    "        self.results = results\n",
    "        return(self)\n",
    "\n",
    "    \n",
    "#Class to visualise the outputs of multilabel models.\n",
    "\n",
    "#I call it OrangeBrick after YellowBrick, the package for ML output visualisation \n",
    "#(which currently doesn't support multilabel classification)\n",
    "\n",
    "\n",
    "class OrangeBrick():\n",
    "    '''\n",
    "    This class takes a df with the true classes for a multilabel classification exercise and produces some charts visualising findings.\n",
    "    \n",
    "    The methods include:\n",
    "    \n",
    "        .confusion_stack: creates a stacked barchart with the confusion matrices stacked by category, sorting classes by performance\n",
    "        .prec_rec: creates a barchart showing each class precision and recall;\n",
    "        #Tobe done: Consider mixes between classes?\n",
    "    \n",
    "    '''\n",
    "    \n",
    "    def __init__(self,true_labels,predicted_labels,var_names):\n",
    "        '''\n",
    "        Initialise with a true labels, predicted labels and the variable names\n",
    "        '''\n",
    "         \n",
    "        self.true_labels = true_labels\n",
    "        self.predicted_labels = predicted_labels\n",
    "        self.var_names = var_names\n",
    "    \n",
    "    def make_metrics(self):\n",
    "        '''\n",
    "        Estimates performance metrics (for now just confusion charts by class and precision/recall scores for the 0.5 \n",
    "        decision rule.\n",
    "        \n",
    "        '''\n",
    "        #NB in a confusion matrix in SKlearn the X axis indicates the predicted class and the Y axis indicates the ground truth.\n",
    "        #This means that:\n",
    "            #cf[0,0]-> TN\n",
    "            #cf[1,1]-> TP\n",
    "            #cf[0,1]-> FN (prediction is false, groundtruth is true)\n",
    "            #cf[1,0]-> FP (prediction is true, ground truth is false)\n",
    "\n",
    "\n",
    "\n",
    "        #Predictions and true labels\n",
    "        true_labels = self.true_labels\n",
    "        pred_labels = self.predicted_labels\n",
    "\n",
    "        #Variable names\n",
    "        var_names = self.var_names\n",
    "\n",
    "        #Store confusion matrices\n",
    "        score_store = []\n",
    "\n",
    "\n",
    "        for num in np.arange(len(var_names)):\n",
    "\n",
    "            #This is the confusion matrix\n",
    "            cf = confusion_matrix(pred_labels[:,num],true_labels[:,num])\n",
    "\n",
    "            #This is a melted confusion matrix\n",
    "            melt_cf = pd.melt(pd.DataFrame(cf).reset_index(drop=False),id_vars='index')['value']\n",
    "            melt_cf.index = ['true_negative','false_positive','false_negative','true_positive']\n",
    "            melt_cf.name = var_names[num]\n",
    "            \n",
    "            #Order variables to separate failed vs correct predictions\n",
    "            melt_cf = melt_cf.loc[['true_positive','true_negative','false_positive','false_negative']]\n",
    "\n",
    "            #We are also interested in precision and recall\n",
    "            prec = cf[1,1]/(cf[1,1]+cf[1,0])\n",
    "            rec = cf[1,1]/(cf[1,1]+cf[0,1])\n",
    "\n",
    "            prec_rec = pd.Series([prec,rec],index=['precision','recall'])\n",
    "            prec_rec.name = var_names[num]\n",
    "            score_store.append([melt_cf,prec_rec])\n",
    "    \n",
    "        self.score_store = score_store\n",
    "        \n",
    "        return(self)\n",
    "    \n",
    "    def confusion_chart(self,ax):\n",
    "        '''\n",
    "        Plot the confusion charts\n",
    "        \n",
    "        \n",
    "        '''\n",
    "        \n",
    "        #Visualise confusion matrix outputs\n",
    "        cf_df = pd.concat([x[0] for x in self.score_store],1)\n",
    "\n",
    "        #This ranks categories by the error rates\n",
    "        failure_rate = cf_df.apply(lambda x: x/x.sum(),axis=0).loc[['false' in x for x in cf_df.index]].sum().sort_values(\n",
    "            ascending=False).index\n",
    "\n",
    "        \n",
    "        #Plot and add labels\n",
    "        cf_df.T.loc[failure_rate,:].plot.bar(stacked=True,ax=ax,width=0.8,cmap='Accent')\n",
    "\n",
    "        ax.legend(bbox_to_anchor=(1.01,1))\n",
    "        #ax.set_title('Stacked confusion matrix for disease areas',size=16)\n",
    "    \n",
    "    \n",
    "    def prec_rec_chart(self,ax):\n",
    "        '''\n",
    "        \n",
    "        Plot a precision-recall chart\n",
    "        \n",
    "        '''\n",
    "    \n",
    "\n",
    "        #Again, we sort them here to assess model performance in different disease areas\n",
    "        prec_rec = pd.concat([x[1] for x in self.score_store],1).T.sort_values('precision')\n",
    "        prec_rec.plot.bar(ax=ax)\n",
    "\n",
    "        #Add legend and title\n",
    "        ax.legend(bbox_to_anchor=(1.01,1))\n",
    "        #ax.set_title('Precision and Recall by disease area',size=16)"
   ]
  },
  {
   "cell_type": "markdown",
   "metadata": {},
   "source": [
    "## 1. Load data"
   ]
  },
  {
   "cell_type": "code",
   "execution_count": 5,
   "metadata": {},
   "outputs": [],
   "source": [
    "#Load GTR projects\n",
    "gtr = pd.read_csv(ext_data+'/projects_gtr.csv')\n",
    "\n",
    "#Load RWJF projeccts\n",
    "#rwjf = pd.read_csv(ext_data+'/')\n"
   ]
  },
  {
   "cell_type": "markdown",
   "metadata": {},
   "source": [
    "## 2. Predictive analysis\n",
    "\n",
    "Here we carry out the predictive analysis of the GTR and RWJF data. \n"
   ]
  },
  {
   "cell_type": "markdown",
   "metadata": {},
   "source": [
    "### a. GTR\n",
    "\n",
    "\n",
    "We start with the GTR data. Recall that there are projects with disease category information here, as well as projects in topics related to public health etc.\n",
    "\n",
    "\n"
   ]
  },
  {
   "cell_type": "markdown",
   "metadata": {},
   "source": [
    "#### i. EDA"
   ]
  },
  {
   "cell_type": "code",
   "execution_count": 6,
   "metadata": {},
   "outputs": [],
   "source": [
    "#The dict with health category info was loaded as a string so we need to parse it (evaluate it)\n",
    "\n",
    "from ast import literal_eval\n",
    "\n",
    "gtr['health_categories'] = [literal_eval(x) for x in gtr['health_categories']]"
   ]
  },
  {
   "cell_type": "code",
   "execution_count": 7,
   "metadata": {},
   "outputs": [],
   "source": [
    "# We then extract health projects (those that have at least one health category)"
   ]
  },
  {
   "cell_type": "code",
   "execution_count": 11,
   "metadata": {},
   "outputs": [
    {
     "data": {
      "text/plain": [
       "(7174, 17)"
      ]
     },
     "execution_count": 11,
     "metadata": {},
     "output_type": "execute_result"
    }
   ],
   "source": [
    "health = gtr.loc[[len(x['healthCategory'])>0 for x in gtr['health_categories']]].reset_index(drop=True)\n",
    "\n",
    "health.shape"
   ]
  },
  {
   "cell_type": "markdown",
   "metadata": {},
   "source": [
    "seven thousand projects"
   ]
  },
  {
   "cell_type": "code",
   "execution_count": 14,
   "metadata": {},
   "outputs": [
    {
     "data": {
      "text/plain": [
       "{'healthCategory': [{'id': '98954',\n",
       "   'percentage': 100,\n",
       "   'text': 'Generic Health Relevance'}]}"
      ]
     },
     "execution_count": 14,
     "metadata": {},
     "output_type": "execute_result"
    }
   ],
   "source": [
    "#This is what one of the variables looks like.\n",
    "health['health_categories'][0]"
   ]
  },
  {
   "cell_type": "code",
   "execution_count": 16,
   "metadata": {},
   "outputs": [],
   "source": [
    "#We now create a list of health categories for each project\n",
    "health['health_cat_list'] = [[x['text'] for x in health_cats['healthCategory']] for health_cats in health['health_categories']]"
   ]
  },
  {
   "cell_type": "code",
   "execution_count": 17,
   "metadata": {},
   "outputs": [
    {
     "data": {
      "text/plain": [
       "21"
      ]
     },
     "execution_count": 17,
     "metadata": {},
     "output_type": "execute_result"
    }
   ],
   "source": [
    "health_cat_flat = flatten_list(health['health_cat_list'])\n",
    "\n",
    "len(set(health_cat_flat))"
   ]
  },
  {
   "cell_type": "markdown",
   "metadata": {},
   "source": [
    "There are 21 categories"
   ]
  },
  {
   "cell_type": "code",
   "execution_count": 51,
   "metadata": {},
   "outputs": [
    {
     "data": {
      "text/plain": [
       "<matplotlib.axes._subplots.AxesSubplot at 0x115bf4898>"
      ]
     },
     "execution_count": 51,
     "metadata": {},
     "output_type": "execute_result"
    },
    {
     "data": {
      "image/png": "[encoded data removed]",
      "text/plain": [
       "<Figure size 432x288 with 1 Axes>"
      ]
     },
     "metadata": {},
     "output_type": "display_data"
    }
   ],
   "source": [
    "#This is what they look like\n",
    "pd.Series(health_cat_flat).value_counts(ascending=True).plot.barh(color='blue')"
   ]
  },
  {
   "cell_type": "code",
   "execution_count": 18,
   "metadata": {},
   "outputs": [
    {
     "data": {
      "text/plain": [
       "(array([5.969e+03, 0.000e+00, 9.070e+02, 0.000e+00, 1.010e+02, 0.000e+00,\n",
       "        5.900e+01, 0.000e+00, 1.340e+02, 4.000e+00]),\n",
       " array([1. , 1.5, 2. , 2.5, 3. , 3.5, 4. , 4.5, 5. , 5.5, 6. ]),\n",
       " <a list of 10 Patch objects>)"
      ]
     },
     "execution_count": 18,
     "metadata": {},
     "output_type": "execute_result"
    },
    {
     "data": {
      "image/png": "[encoded data removed]",
      "text/plain": [
       "<Figure size 432x288 with 1 Axes>"
      ]
     },
     "metadata": {},
     "output_type": "display_data"
    }
   ],
   "source": [
    "#How often do they co-occur?\n",
    "plt.hist([len(x) for x in health['health_cat_list']],color='blue')"
   ]
  },
  {
   "cell_type": "markdown",
   "metadata": {},
   "source": [
    "Perhaps not enough for a cluster analysis but then we don't have many categories to predict"
   ]
  },
  {
   "cell_type": "code",
   "execution_count": 97,
   "metadata": {},
   "outputs": [
    {
     "data": {
      "text/html": [
       "<div>\n",
       "<style scoped>\n",
       "    .dataframe tbody tr th:only-of-type {\n",
       "        vertical-align: middle;\n",
       "    }\n",
       "\n",
       "    .dataframe tbody tr th {\n",
       "        vertical-align: top;\n",
       "    }\n",
       "\n",
       "    .dataframe thead th {\n",
       "        text-align: right;\n",
       "    }\n",
       "</style>\n",
       "<table border=\"1\" class=\"dataframe\">\n",
       "  <thead>\n",
       "    <tr style=\"text-align: right;\">\n",
       "      <th></th>\n",
       "      <th>abstract_texts</th>\n",
       "      <th>tech_abstracts</th>\n",
       "    </tr>\n",
       "  </thead>\n",
       "  <tbody>\n",
       "    <tr>\n",
       "      <th>0</th>\n",
       "      <td>Your body is built of billions of cells, and t...</td>\n",
       "      <td>Our preliminary screen with siRNA against 13 m...</td>\n",
       "    </tr>\n",
       "    <tr>\n",
       "      <th>1</th>\n",
       "      <td>This research concerns a new aspect of human i...</td>\n",
       "      <td>There is growing evidence from animal and huma...</td>\n",
       "    </tr>\n",
       "    <tr>\n",
       "      <th>2</th>\n",
       "      <td>Abstracts are not currently available in GtR f...</td>\n",
       "      <td>Hutchinson-Gilford progeria syndrome (HGPS) is...</td>\n",
       "    </tr>\n",
       "    <tr>\n",
       "      <th>3</th>\n",
       "      <td>Context of the research: \\nWorldwide, alcohol ...</td>\n",
       "      <td>Background: In the UK alone, nearly 9% of men ...</td>\n",
       "    </tr>\n",
       "    <tr>\n",
       "      <th>4</th>\n",
       "      <td>Thyroid hormone (T3) excess causes bone loss, ...</td>\n",
       "      <td>Aims: Excess thyroid hormone (T3) accelerates ...</td>\n",
       "    </tr>\n",
       "  </tbody>\n",
       "</table>\n",
       "</div>"
      ],
      "text/plain": [
       "                                      abstract_texts  \\\n",
       "0  Your body is built of billions of cells, and t...   \n",
       "1  This research concerns a new aspect of human i...   \n",
       "2  Abstracts are not currently available in GtR f...   \n",
       "3  Context of the research: \\nWorldwide, alcohol ...   \n",
       "4  Thyroid hormone (T3) excess causes bone loss, ...   \n",
       "\n",
       "                                      tech_abstracts  \n",
       "0  Our preliminary screen with siRNA against 13 m...  \n",
       "1  There is growing evidence from animal and huma...  \n",
       "2  Hutchinson-Gilford progeria syndrome (HGPS) is...  \n",
       "3  Background: In the UK alone, nearly 9% of men ...  \n",
       "4  Aims: Excess thyroid hormone (T3) accelerates ...  "
      ]
     },
     "execution_count": 97,
     "metadata": {},
     "output_type": "execute_result"
    }
   ],
   "source": [
    "#I have noticed that we have two sets of abstracts to consider here. \n",
    "health[['abstract_texts','tech_abstracts']].head()\n",
    "\n",
    "#Could use both. Would need to normalise given that there seems to be some overlap between terms"
   ]
  },
  {
   "cell_type": "code",
   "execution_count": 105,
   "metadata": {},
   "outputs": [
    {
     "data": {
      "text/plain": [
       "abstract_texts      0\n",
       "tech_abstracts    671\n",
       "dtype: int64"
      ]
     },
     "execution_count": 105,
     "metadata": {},
     "output_type": "execute_result"
    }
   ],
   "source": [
    "health[['abstract_texts','tech_abstracts']].isna().sum()"
   ]
  },
  {
   "cell_type": "markdown",
   "metadata": {},
   "source": [
    "#### ii. Preprocessing\n",
    "\n",
    "Import the LDA pipeline and process tech abstracts and abstract texts\n"
   ]
  },
  {
   "cell_type": "code",
   "execution_count": 22,
   "metadata": {},
   "outputs": [],
   "source": [
    "%run lda_pipeline.py\n",
    "\n",
    "import lda_pipeline"
   ]
  },
  {
   "cell_type": "code",
   "execution_count": 46,
   "metadata": {},
   "outputs": [],
   "source": [
    "#These two lists are the tokenised abstracts.\n",
    "# Important observation - we are dropping ~600 projects from the tech abstracts category where those abstracts are missing.\n",
    "# We'll need to do the same thing with the targets.\n",
    "\n",
    "#Drop all observations with missing tech abstracts\n",
    "health_w_tech = health.dropna(axis=0,subset=['tech_abstracts'])\n",
    "\n",
    "#Extract the tokenised descriptions for the remaining records\n",
    "health_abs,health_tech_descr = [list(CleanTokenize(health_w_tech[var]).clean().bigram().tokenised) for var in \n",
    "                                ['abstract_texts','tech_abstracts']]\n",
    "                                "
   ]
  },
  {
   "cell_type": "code",
   "execution_count": 47,
   "metadata": {},
   "outputs": [],
   "source": [
    "#Then create the category dummies."
   ]
  },
  {
   "cell_type": "code",
   "execution_count": 48,
   "metadata": {},
   "outputs": [],
   "source": [
    "health_cat_dummies = dummies_from_list(health_w_tech['health_cat_list'])"
   ]
  },
  {
   "cell_type": "code",
   "execution_count": 50,
   "metadata": {},
   "outputs": [
    {
     "data": {
      "text/html": [
       "<div>\n",
       "<style scoped>\n",
       "    .dataframe tbody tr th:only-of-type {\n",
       "        vertical-align: middle;\n",
       "    }\n",
       "\n",
       "    .dataframe tbody tr th {\n",
       "        vertical-align: top;\n",
       "    }\n",
       "\n",
       "    .dataframe thead th {\n",
       "        text-align: right;\n",
       "    }\n",
       "</style>\n",
       "<table border=\"1\" class=\"dataframe\">\n",
       "  <thead>\n",
       "    <tr style=\"text-align: right;\">\n",
       "      <th></th>\n",
       "      <th>Blood</th>\n",
       "      <th>Cancer</th>\n",
       "      <th>Cardiovascular</th>\n",
       "      <th>Congenital Disorders</th>\n",
       "      <th>Ear</th>\n",
       "      <th>Eye</th>\n",
       "      <th>Generic Health Relevance</th>\n",
       "      <th>Infection</th>\n",
       "      <th>Inflammatory and Immune System</th>\n",
       "      <th>Injuries and Accidents</th>\n",
       "      <th>...</th>\n",
       "      <th>Metabolic and Endocrine</th>\n",
       "      <th>Musculoskeletal</th>\n",
       "      <th>Neurological</th>\n",
       "      <th>Oral and Gastrointestinal</th>\n",
       "      <th>Other</th>\n",
       "      <th>Renal and Urogenital</th>\n",
       "      <th>Reproductive Health and Childbirth</th>\n",
       "      <th>Respiratory</th>\n",
       "      <th>Skin</th>\n",
       "      <th>Stroke</th>\n",
       "    </tr>\n",
       "  </thead>\n",
       "  <tbody>\n",
       "    <tr>\n",
       "      <th>0</th>\n",
       "      <td>0.0</td>\n",
       "      <td>0.0</td>\n",
       "      <td>0.0</td>\n",
       "      <td>0.0</td>\n",
       "      <td>0.0</td>\n",
       "      <td>0.0</td>\n",
       "      <td>1.0</td>\n",
       "      <td>0.0</td>\n",
       "      <td>0.0</td>\n",
       "      <td>0.0</td>\n",
       "      <td>...</td>\n",
       "      <td>0.0</td>\n",
       "      <td>0.0</td>\n",
       "      <td>0.0</td>\n",
       "      <td>0.0</td>\n",
       "      <td>0.0</td>\n",
       "      <td>0.0</td>\n",
       "      <td>0.0</td>\n",
       "      <td>0.0</td>\n",
       "      <td>0.0</td>\n",
       "      <td>0.0</td>\n",
       "    </tr>\n",
       "    <tr>\n",
       "      <th>1</th>\n",
       "      <td>0.0</td>\n",
       "      <td>0.0</td>\n",
       "      <td>0.0</td>\n",
       "      <td>0.0</td>\n",
       "      <td>0.0</td>\n",
       "      <td>0.0</td>\n",
       "      <td>0.0</td>\n",
       "      <td>0.0</td>\n",
       "      <td>0.0</td>\n",
       "      <td>0.0</td>\n",
       "      <td>...</td>\n",
       "      <td>1.0</td>\n",
       "      <td>0.0</td>\n",
       "      <td>0.0</td>\n",
       "      <td>0.0</td>\n",
       "      <td>0.0</td>\n",
       "      <td>0.0</td>\n",
       "      <td>0.0</td>\n",
       "      <td>0.0</td>\n",
       "      <td>0.0</td>\n",
       "      <td>0.0</td>\n",
       "    </tr>\n",
       "    <tr>\n",
       "      <th>2</th>\n",
       "      <td>0.0</td>\n",
       "      <td>0.0</td>\n",
       "      <td>0.0</td>\n",
       "      <td>0.0</td>\n",
       "      <td>0.0</td>\n",
       "      <td>0.0</td>\n",
       "      <td>1.0</td>\n",
       "      <td>0.0</td>\n",
       "      <td>0.0</td>\n",
       "      <td>0.0</td>\n",
       "      <td>...</td>\n",
       "      <td>0.0</td>\n",
       "      <td>0.0</td>\n",
       "      <td>0.0</td>\n",
       "      <td>0.0</td>\n",
       "      <td>0.0</td>\n",
       "      <td>0.0</td>\n",
       "      <td>0.0</td>\n",
       "      <td>0.0</td>\n",
       "      <td>1.0</td>\n",
       "      <td>0.0</td>\n",
       "    </tr>\n",
       "    <tr>\n",
       "      <th>3</th>\n",
       "      <td>0.0</td>\n",
       "      <td>1.0</td>\n",
       "      <td>1.0</td>\n",
       "      <td>0.0</td>\n",
       "      <td>0.0</td>\n",
       "      <td>0.0</td>\n",
       "      <td>0.0</td>\n",
       "      <td>0.0</td>\n",
       "      <td>0.0</td>\n",
       "      <td>0.0</td>\n",
       "      <td>...</td>\n",
       "      <td>0.0</td>\n",
       "      <td>0.0</td>\n",
       "      <td>0.0</td>\n",
       "      <td>1.0</td>\n",
       "      <td>0.0</td>\n",
       "      <td>0.0</td>\n",
       "      <td>0.0</td>\n",
       "      <td>0.0</td>\n",
       "      <td>0.0</td>\n",
       "      <td>1.0</td>\n",
       "    </tr>\n",
       "    <tr>\n",
       "      <th>4</th>\n",
       "      <td>0.0</td>\n",
       "      <td>0.0</td>\n",
       "      <td>0.0</td>\n",
       "      <td>0.0</td>\n",
       "      <td>0.0</td>\n",
       "      <td>0.0</td>\n",
       "      <td>0.0</td>\n",
       "      <td>0.0</td>\n",
       "      <td>0.0</td>\n",
       "      <td>0.0</td>\n",
       "      <td>...</td>\n",
       "      <td>0.0</td>\n",
       "      <td>1.0</td>\n",
       "      <td>0.0</td>\n",
       "      <td>0.0</td>\n",
       "      <td>0.0</td>\n",
       "      <td>0.0</td>\n",
       "      <td>0.0</td>\n",
       "      <td>0.0</td>\n",
       "      <td>0.0</td>\n",
       "      <td>0.0</td>\n",
       "    </tr>\n",
       "  </tbody>\n",
       "</table>\n",
       "<p>5 rows × 21 columns</p>\n",
       "</div>"
      ],
      "text/plain": [
       "   Blood  Cancer  Cardiovascular  Congenital Disorders  Ear  Eye  \\\n",
       "0    0.0     0.0             0.0                   0.0  0.0  0.0   \n",
       "1    0.0     0.0             0.0                   0.0  0.0  0.0   \n",
       "2    0.0     0.0             0.0                   0.0  0.0  0.0   \n",
       "3    0.0     1.0             1.0                   0.0  0.0  0.0   \n",
       "4    0.0     0.0             0.0                   0.0  0.0  0.0   \n",
       "\n",
       "   Generic Health Relevance  Infection  Inflammatory and Immune System  \\\n",
       "0                       1.0        0.0                             0.0   \n",
       "1                       0.0        0.0                             0.0   \n",
       "2                       1.0        0.0                             0.0   \n",
       "3                       0.0        0.0                             0.0   \n",
       "4                       0.0        0.0                             0.0   \n",
       "\n",
       "   Injuries and Accidents   ...    Metabolic and Endocrine  Musculoskeletal  \\\n",
       "0                     0.0   ...                        0.0              0.0   \n",
       "1                     0.0   ...                        1.0              0.0   \n",
       "2                     0.0   ...                        0.0              0.0   \n",
       "3                     0.0   ...                        0.0              0.0   \n",
       "4                     0.0   ...                        0.0              1.0   \n",
       "\n",
       "   Neurological  Oral and Gastrointestinal  Other  Renal and Urogenital  \\\n",
       "0           0.0                        0.0    0.0                   0.0   \n",
       "1           0.0                        0.0    0.0                   0.0   \n",
       "2           0.0                        0.0    0.0                   0.0   \n",
       "3           0.0                        1.0    0.0                   0.0   \n",
       "4           0.0                        0.0    0.0                   0.0   \n",
       "\n",
       "   Reproductive Health and Childbirth  Respiratory  Skin  Stroke  \n",
       "0                                 0.0          0.0   0.0     0.0  \n",
       "1                                 0.0          0.0   0.0     0.0  \n",
       "2                                 0.0          0.0   1.0     0.0  \n",
       "3                                 0.0          0.0   0.0     1.0  \n",
       "4                                 0.0          0.0   0.0     0.0  \n",
       "\n",
       "[5 rows x 21 columns]"
      ]
     },
     "execution_count": 50,
     "metadata": {},
     "output_type": "execute_result"
    }
   ],
   "source": [
    "health_cat_dummies.head()"
   ]
  },
  {
   "cell_type": "code",
   "execution_count": 257,
   "metadata": {},
   "outputs": [],
   "source": [
    "#Turn this into an array for pred analysis\n",
    "Y = np.array(health_cat_dummies)"
   ]
  },
  {
   "cell_type": "markdown",
   "metadata": {},
   "source": [
    "#### iii. Modelling\n",
    "\n",
    "We use a simple class we wrote for this kind of predictive analysis."
   ]
  },
  {
   "cell_type": "code",
   "execution_count": 69,
   "metadata": {},
   "outputs": [],
   "source": [
    "#Initialise class\n",
    "tc = TextClassification(health_abs,Y)"
   ]
  },
  {
   "cell_type": "code",
   "execution_count": 81,
   "metadata": {},
   "outputs": [
    {
     "name": "stdout",
     "output_type": "stream",
     "text": [
      "0\n",
      "1\n"
     ]
    },
    {
     "data": {
      "text/plain": [
       "<__main__.TextClassification at 0x13a11ab00>"
      ]
     },
     "execution_count": 81,
     "metadata": {},
     "output_type": "execute_result"
    }
   ],
   "source": [
    "#Run grid search with these model parameters\n",
    "models = [\n",
    "    [RandomForestClassifier(),\n",
    "     {'class_weight':['balanced',None],'min_samples_leaf':[1,5]}],\n",
    "    \n",
    "    [LogisticRegression(),\n",
    "     {'class_weight':['balanced',None],'penalty':['l1','l2'],\n",
    "      'C':[0.1,1,100]}]]\n",
    "\n",
    "tc.grid_search(models)"
   ]
  },
  {
   "cell_type": "code",
   "execution_count": 85,
   "metadata": {},
   "outputs": [
    {
     "name": "stdout",
     "output_type": "stream",
     "text": [
      "0.35752729509457176\n",
      "OneVsRestClassifier(estimator=RandomForestClassifier(bootstrap=True, class_weight='balanced',\n",
      "            criterion='gini', max_depth=None, max_features='auto',\n",
      "            max_leaf_nodes=None, min_impurity_decrease=0.0,\n",
      "            min_impurity_split=None, min_samples_leaf=5,\n",
      "            min_samples_split=2, min_weight_fraction_leaf=0.0,\n",
      "            n_estimators=10, n_jobs=1, oob_score=False, random_state=None,\n",
      "            verbose=0, warm_start=False),\n",
      "          n_jobs=1)\n",
      "0.533138551437798\n",
      "OneVsRestClassifier(estimator=LogisticRegression(C=0.1, class_weight='balanced', dual=False,\n",
      "          fit_intercept=True, intercept_scaling=1, max_iter=100,\n",
      "          multi_class='ovr', n_jobs=1, penalty='l2', random_state=None,\n",
      "          solver='liblinear', tol=0.0001, verbose=0, warm_start=False),\n",
      "          n_jobs=1)\n"
     ]
    }
   ],
   "source": [
    "#Check scores and best estimators\n",
    "for res in tc.results:\n",
    "    print(res.best_score_)\n",
    "    print(res.best_estimator_)\n",
    "    "
   ]
  },
  {
   "cell_type": "code",
   "execution_count": 86,
   "metadata": {},
   "outputs": [],
   "source": [
    "#This is the best estimator\n",
    "best_est = tc.results[1].best_estimator_"
   ]
  },
  {
   "cell_type": "markdown",
   "metadata": {},
   "source": [
    "Some exploration of the results"
   ]
  },
  {
   "cell_type": "code",
   "execution_count": 255,
   "metadata": {},
   "outputs": [],
   "source": [
    "from sklearn.metrics import confusion_matrix"
   ]
  },
  {
   "cell_type": "code",
   "execution_count": 260,
   "metadata": {},
   "outputs": [
    {
     "data": {
      "text/plain": [
       "Text(0.5,1.01,'Model evaluation for GTR topics')"
      ]
     },
     "execution_count": 260,
     "metadata": {},
     "output_type": "execute_result"
    },
    {
     "data": {
      "image/png": "[encoded data removed]",
      "text/plain": [
       "<Figure size 720x864 with 2 Axes>"
      ]
     },
     "metadata": {},
     "output_type": "display_data"
    }
   ],
   "source": [
    "gtr_diag = OrangeBrick(Y,best_est.predict(tc.X),health_cat_dummies.columns).make_metrics()\n",
    "\n",
    "fig,ax = plt.subplots(nrows=2,figsize=(10,12))\n",
    "\n",
    "gtr_diag.confusion_chart(ax=ax[0])\n",
    "gtr_diag.prec_rec_chart(ax=ax[1])\n",
    "\n",
    "plt.tight_layout()\n",
    "\n",
    "fig.suptitle('Model evaluation for GTR topics',y=1.01,size=16)"
   ]
  },
  {
   "cell_type": "markdown",
   "metadata": {},
   "source": [
    "The model performs less well in the 'Blood', 'Musculoeskeletal' and 'Other' categories"
   ]
  },
  {
   "cell_type": "markdown",
   "metadata": {},
   "source": [
    "We have 3-4 categories with poor model performance (unsurprisingly including other) after which prevision becomes quite good.\n",
    "\n",
    "TODO: Explore errors un Blood, musculoeskeletal variables. What is the mixing between them and other disease areas?\n"
   ]
  },
  {
   "cell_type": "code",
   "execution_count": 200,
   "metadata": {},
   "outputs": [],
   "source": [
    "#We save the model for use in the bigger GDB\n",
    "\n",
    "with open(mod_path+'/{date}_gtr_disease_models.p'.format(date=today_str),'wb') as outfile:\n",
    "    pickle.dump([tc.count_vect,best_est,var_names],outfile)"
   ]
  },
  {
   "cell_type": "markdown",
   "metadata": {},
   "source": [
    "### b. RWJF"
   ]
  },
  {
   "cell_type": "markdown",
   "metadata": {},
   "source": [
    "#### i. Load data and EDA"
   ]
  },
  {
   "cell_type": "code",
   "execution_count": 211,
   "metadata": {},
   "outputs": [
    {
     "data": {
      "text/plain": [
       "(6834, 16)"
      ]
     },
     "execution_count": 211,
     "metadata": {},
     "output_type": "execute_result"
    }
   ],
   "source": [
    "# Load data (obtained from George)\n",
    "\n",
    "rwj = pd.read_csv(ext_data+'/rwjf_grants_05_18_2018.csv')\n",
    "\n",
    "#We drop projects without an about (features) or topics (target)\n",
    "rwj = rwj.dropna(axis=0,subset=['about','topics'])\n",
    "rwj.shape"
   ]
  },
  {
   "cell_type": "code",
   "execution_count": 212,
   "metadata": {},
   "outputs": [
    {
     "data": {
      "text/html": [
       "<div>\n",
       "<style scoped>\n",
       "    .dataframe tbody tr th:only-of-type {\n",
       "        vertical-align: middle;\n",
       "    }\n",
       "\n",
       "    .dataframe tbody tr th {\n",
       "        vertical-align: top;\n",
       "    }\n",
       "\n",
       "    .dataframe thead th {\n",
       "        text-align: right;\n",
       "    }\n",
       "</style>\n",
       "<table border=\"1\" class=\"dataframe\">\n",
       "  <thead>\n",
       "    <tr style=\"text-align: right;\">\n",
       "      <th></th>\n",
       "      <th>about</th>\n",
       "      <th>address</th>\n",
       "      <th>amount_awarded</th>\n",
       "      <th>awarded</th>\n",
       "      <th>awarded_on</th>\n",
       "      <th>contacts</th>\n",
       "      <th>grant_number</th>\n",
       "      <th>location</th>\n",
       "      <th>organization</th>\n",
       "      <th>page</th>\n",
       "      <th>timeframe</th>\n",
       "      <th>title</th>\n",
       "      <th>topics</th>\n",
       "      <th>website</th>\n",
       "      <th>year</th>\n",
       "      <th>about_tokenized</th>\n",
       "    </tr>\n",
       "  </thead>\n",
       "  <tbody>\n",
       "    <tr>\n",
       "      <th>0</th>\n",
       "      <td>The Robert Wood Johnson Clinical Scholars Prog...</td>\n",
       "      <td>University of North Carolina at Chapel Hill Sc...</td>\n",
       "      <td>$865,484</td>\n",
       "      <td>$865,484</td>\n",
       "      <td>3/25/2009</td>\n",
       "      <td>Desmond Kimo Runyan</td>\n",
       "      <td>48349</td>\n",
       "      <td>Chapel Hill, NC</td>\n",
       "      <td>University of North Carolina at Chapel Hill Sc...</td>\n",
       "      <td>1344</td>\n",
       "      <td>5/1/2009 - 4/30/2010</td>\n",
       "      <td>Technical assistance and direction for the Rob...</td>\n",
       "      <td>Health Disparities\\nHealth Leadership Development</td>\n",
       "      <td>http://www.med.unc.edu/contact</td>\n",
       "      <td>2009</td>\n",
       "      <td>['robert_wood', 'johnson', 'clinical', 'schola...</td>\n",
       "    </tr>\n",
       "    <tr>\n",
       "      <th>1</th>\n",
       "      <td>The Robert Wood Johnson Clinical Scholars Prog...</td>\n",
       "      <td>University of North Carolina at Chapel Hill Sc...</td>\n",
       "      <td>$801,175</td>\n",
       "      <td>$801,175</td>\n",
       "      <td>3/8/2010</td>\n",
       "      <td>Desmond Kimo Runyan</td>\n",
       "      <td>48350</td>\n",
       "      <td>Chapel Hill, NC</td>\n",
       "      <td>University of North Carolina at Chapel Hill Sc...</td>\n",
       "      <td>1201</td>\n",
       "      <td>5/1/2010 - 4/30/2011</td>\n",
       "      <td>Technical assistance and direction for the Rob...</td>\n",
       "      <td>Health Disparities\\nHealth Leadership Development</td>\n",
       "      <td>http://www.med.unc.edu/contact</td>\n",
       "      <td>2010</td>\n",
       "      <td>['robert_wood', 'johnson', 'clinical', 'schola...</td>\n",
       "    </tr>\n",
       "    <tr>\n",
       "      <th>2</th>\n",
       "      <td>This grant will continue long-standing support...</td>\n",
       "      <td>National Public Radio Inc.\\n1111 North Capital...</td>\n",
       "      <td>$2,800,000</td>\n",
       "      <td>$2,800,000</td>\n",
       "      <td>11/13/2008</td>\n",
       "      <td>Anne Gudenkauf</td>\n",
       "      <td>51491</td>\n",
       "      <td>Washington, DC</td>\n",
       "      <td>National Public Radio Inc.</td>\n",
       "      <td>1391</td>\n",
       "      <td>11/15/2008 - 11/14/2011</td>\n",
       "      <td>Health and health care reporting by National P...</td>\n",
       "      <td>Public and Community Health\\nHealth Care Quality</td>\n",
       "      <td>http://www.npr.org/</td>\n",
       "      <td>2008</td>\n",
       "      <td>['grant', 'continue', 'long', 'standing', 'sup...</td>\n",
       "    </tr>\n",
       "    <tr>\n",
       "      <th>4</th>\n",
       "      <td>The Foundation's Summer Medical and Dental Edu...</td>\n",
       "      <td>Association of American Medical Colleges\\n655 ...</td>\n",
       "      <td>$1,252,432</td>\n",
       "      <td>$1,252,432</td>\n",
       "      <td>8/7/2008</td>\n",
       "      <td>Charles Terrell\\nRichard W. Valachovic</td>\n",
       "      <td>53039</td>\n",
       "      <td>Washington, DC</td>\n",
       "      <td>Association of American Medical Colleges</td>\n",
       "      <td>1444</td>\n",
       "      <td>9/1/2008 - 8/31/2009</td>\n",
       "      <td>Technical assistance and direction for RWJF's ...</td>\n",
       "      <td>Social Determinants of Health\\nHealth Leadersh...</td>\n",
       "      <td>http://www.aamc.org</td>\n",
       "      <td>2008</td>\n",
       "      <td>['foundation', 'summer', 'medical_dental', 'ed...</td>\n",
       "    </tr>\n",
       "    <tr>\n",
       "      <th>5</th>\n",
       "      <td>Although the Robert Wood Johnson Foundation be...</td>\n",
       "      <td>Center School\\n2 Riverview Drive\\nSomerset, NJ...</td>\n",
       "      <td>$65,000</td>\n",
       "      <td>$65,000</td>\n",
       "      <td>5/12/2009</td>\n",
       "      <td>Susan Osborn</td>\n",
       "      <td>53357</td>\n",
       "      <td>Somerset, NJ</td>\n",
       "      <td>Center School</td>\n",
       "      <td>1328</td>\n",
       "      <td>6/1/2009 - 9/30/2009</td>\n",
       "      <td>Summer therapy program for high-risk, learning...</td>\n",
       "      <td>Mental and Emotional Well-Being\\nDisease Preve...</td>\n",
       "      <td>http://www.thecenterschool.com/</td>\n",
       "      <td>2009</td>\n",
       "      <td>['robert_wood_johnson_foundation', 'national_p...</td>\n",
       "    </tr>\n",
       "  </tbody>\n",
       "</table>\n",
       "</div>"
      ],
      "text/plain": [
       "                                               about  \\\n",
       "0  The Robert Wood Johnson Clinical Scholars Prog...   \n",
       "1  The Robert Wood Johnson Clinical Scholars Prog...   \n",
       "2  This grant will continue long-standing support...   \n",
       "4  The Foundation's Summer Medical and Dental Edu...   \n",
       "5  Although the Robert Wood Johnson Foundation be...   \n",
       "\n",
       "                                             address amount_awarded  \\\n",
       "0  University of North Carolina at Chapel Hill Sc...       $865,484   \n",
       "1  University of North Carolina at Chapel Hill Sc...       $801,175   \n",
       "2  National Public Radio Inc.\\n1111 North Capital...     $2,800,000   \n",
       "4  Association of American Medical Colleges\\n655 ...     $1,252,432   \n",
       "5  Center School\\n2 Riverview Drive\\nSomerset, NJ...        $65,000   \n",
       "\n",
       "      awarded  awarded_on                                contacts  \\\n",
       "0    $865,484   3/25/2009                     Desmond Kimo Runyan   \n",
       "1    $801,175    3/8/2010                     Desmond Kimo Runyan   \n",
       "2  $2,800,000  11/13/2008                          Anne Gudenkauf   \n",
       "4  $1,252,432    8/7/2008  Charles Terrell\\nRichard W. Valachovic   \n",
       "5     $65,000   5/12/2009                            Susan Osborn   \n",
       "\n",
       "   grant_number         location  \\\n",
       "0         48349  Chapel Hill, NC   \n",
       "1         48350  Chapel Hill, NC   \n",
       "2         51491   Washington, DC   \n",
       "4         53039   Washington, DC   \n",
       "5         53357     Somerset, NJ   \n",
       "\n",
       "                                        organization  page  \\\n",
       "0  University of North Carolina at Chapel Hill Sc...  1344   \n",
       "1  University of North Carolina at Chapel Hill Sc...  1201   \n",
       "2                         National Public Radio Inc.  1391   \n",
       "4           Association of American Medical Colleges  1444   \n",
       "5                                      Center School  1328   \n",
       "\n",
       "                 timeframe                                              title  \\\n",
       "0     5/1/2009 - 4/30/2010  Technical assistance and direction for the Rob...   \n",
       "1     5/1/2010 - 4/30/2011  Technical assistance and direction for the Rob...   \n",
       "2  11/15/2008 - 11/14/2011  Health and health care reporting by National P...   \n",
       "4     9/1/2008 - 8/31/2009  Technical assistance and direction for RWJF's ...   \n",
       "5     6/1/2009 - 9/30/2009  Summer therapy program for high-risk, learning...   \n",
       "\n",
       "                                              topics  \\\n",
       "0  Health Disparities\\nHealth Leadership Development   \n",
       "1  Health Disparities\\nHealth Leadership Development   \n",
       "2   Public and Community Health\\nHealth Care Quality   \n",
       "4  Social Determinants of Health\\nHealth Leadersh...   \n",
       "5  Mental and Emotional Well-Being\\nDisease Preve...   \n",
       "\n",
       "                           website  year  \\\n",
       "0   http://www.med.unc.edu/contact  2009   \n",
       "1   http://www.med.unc.edu/contact  2010   \n",
       "2              http://www.npr.org/  2008   \n",
       "4              http://www.aamc.org  2008   \n",
       "5  http://www.thecenterschool.com/  2009   \n",
       "\n",
       "                                     about_tokenized  \n",
       "0  ['robert_wood', 'johnson', 'clinical', 'schola...  \n",
       "1  ['robert_wood', 'johnson', 'clinical', 'schola...  \n",
       "2  ['grant', 'continue', 'long', 'standing', 'sup...  \n",
       "4  ['foundation', 'summer', 'medical_dental', 'ed...  \n",
       "5  ['robert_wood_johnson_foundation', 'national_p...  "
      ]
     },
     "execution_count": 212,
     "metadata": {},
     "output_type": "execute_result"
    }
   ],
   "source": [
    "rwj.head()"
   ]
  },
  {
   "cell_type": "markdown",
   "metadata": {},
   "source": [
    "TODO: decide what to repeat about repeated references (eg see rows 0 and 1 above - they capture the same programme in consecutive years)"
   ]
  },
  {
   "cell_type": "markdown",
   "metadata": {},
   "source": [
    "#### ii. Preprocessing"
   ]
  },
  {
   "cell_type": "code",
   "execution_count": 209,
   "metadata": {},
   "outputs": [],
   "source": [
    "# No need to preprocess and tokenise the features (they were included in the data)"
   ]
  },
  {
   "cell_type": "code",
   "execution_count": 227,
   "metadata": {},
   "outputs": [
    {
     "data": {
      "text/plain": [
       "<matplotlib.axes._subplots.AxesSubplot at 0x1298e6630>"
      ]
     },
     "execution_count": 227,
     "metadata": {},
     "output_type": "execute_result"
    },
    {
     "data": {
      "image/png": "[encoded data removed]",
      "text/plain": [
       "<Figure size 432x288 with 1 Axes>"
      ]
     },
     "metadata": {},
     "output_type": "display_data"
    }
   ],
   "source": [
    "rwj['topic_list'] = [x.split('\\n') for x in rwj['topics']]\n",
    "\n",
    "pd.Series(flatten_list(rwj['topic_list'])).value_counts(ascending=True).plot.barh(color='blue',title='RWJF topics')"
   ]
  },
  {
   "cell_type": "markdown",
   "metadata": {},
   "source": [
    "There is a small number of typos we don't want to consider"
   ]
  },
  {
   "cell_type": "code",
   "execution_count": 229,
   "metadata": {},
   "outputs": [],
   "source": [
    "#We will remove typo topics\n",
    "rwj_topic_count = pd.Series(flatten_list(rwj['topic_list'])).value_counts(ascending=True)\n",
    "rwj_topic_keep = rwj_topic_count.index[rwj_topic_count>10]\n",
    "\n",
    "#Filter each topic list to keep relevant non-typo topics\n",
    "rwj['topic_list'] = [[x for x in topic_list if x in rwj_topic_keep] for topic_list in rwj['topic_list']]"
   ]
  },
  {
   "cell_type": "code",
   "execution_count": 231,
   "metadata": {},
   "outputs": [],
   "source": [
    "#Create targets (dummies) with the function we defined above\n",
    "rwj_topic_dummies = dummies_from_list(rwj['topic_list'])"
   ]
  },
  {
   "cell_type": "code",
   "execution_count": 264,
   "metadata": {},
   "outputs": [],
   "source": [
    "#Create array and list of wrj variables\n",
    "Y = np.array(rwj_topic_dummies)\n",
    "rwj_topic_names = rwj_topic_dummies.columns"
   ]
  },
  {
   "cell_type": "markdown",
   "metadata": {},
   "source": [
    "\n"
   ]
  },
  {
   "cell_type": "markdown",
   "metadata": {},
   "source": [
    "#### iii. Modelling"
   ]
  },
  {
   "cell_type": "code",
   "execution_count": 235,
   "metadata": {},
   "outputs": [],
   "source": [
    "#Initialise the TextClassification class\n",
    "rwj_topic = TextClassification(rwj['about_tokenized'],Y)"
   ]
  },
  {
   "cell_type": "code",
   "execution_count": 236,
   "metadata": {},
   "outputs": [
    {
     "name": "stdout",
     "output_type": "stream",
     "text": [
      "0\n",
      "1\n"
     ]
    },
    {
     "data": {
      "text/plain": [
       "<__main__.TextClassification at 0x128e666a0>"
      ]
     },
     "execution_count": 236,
     "metadata": {},
     "output_type": "execute_result"
    }
   ],
   "source": [
    "#Do grid search with the same models we used in the analysis before\n",
    "rwj_topic.grid_search(models=models)"
   ]
  },
  {
   "cell_type": "code",
   "execution_count": 237,
   "metadata": {},
   "outputs": [
    {
     "name": "stdout",
     "output_type": "stream",
     "text": [
      "0.14076675446297923\n",
      "OneVsRestClassifier(estimator=OneVsRestClassifier(estimator=RandomForestClassifier(bootstrap=True, class_weight=None, criterion='gini',\n",
      "            max_depth=None, max_features='auto', max_leaf_nodes=None,\n",
      "            min_impurity_decrease=0.0, min_impurity_split=None,\n",
      "            min_samples_leaf=1, min_samples_split=2,\n",
      "            min_weight_fraction_leaf=0.0, n_estimators=10, n_jobs=1,\n",
      "            oob_score=False, random_state=None, verbose=0,\n",
      "            warm_start=False),\n",
      "          n_jobs=1),\n",
      "          n_jobs=1)\n",
      "0.1874451273046532\n",
      "OneVsRestClassifier(estimator=OneVsRestClassifier(estimator=LogisticRegression(C=0.1, class_weight=None, dual=False, fit_intercept=True,\n",
      "          intercept_scaling=1, max_iter=100, multi_class='ovr', n_jobs=1,\n",
      "          penalty='l2', random_state=None, solver='liblinear', tol=0.0001,\n",
      "          verbose=0, warm_start=False),\n",
      "          n_jobs=1),\n",
      "          n_jobs=1)\n"
     ]
    }
   ],
   "source": [
    "#Check scores and best estimators\n",
    "for res in rwj_topic.results:\n",
    "    print(res.best_score_)\n",
    "    print(res.best_estimator_)"
   ]
  },
  {
   "cell_type": "markdown",
   "metadata": {},
   "source": [
    "Model performance is much worse than what we achieved when analysing the GTR data. This could be due to the fact that the vocabulary associated with the RWJF topics is more generic. There are some things we could do to address this such as TFIDF etc."
   ]
  },
  {
   "cell_type": "code",
   "execution_count": 266,
   "metadata": {},
   "outputs": [
    {
     "data": {
      "text/plain": [
       "Text(0.5,1.01,'Model evaluation for RWJF topics')"
      ]
     },
     "execution_count": 266,
     "metadata": {},
     "output_type": "execute_result"
    },
    {
     "data": {
      "image/png": "[encoded data removed]",
      "text/plain": [
       "<Figure size 720x864 with 2 Axes>"
      ]
     },
     "metadata": {},
     "output_type": "display_data"
    }
   ],
   "source": [
    "rwj_diag = OrangeBrick(rwj_topic.Y,rwj_topic.results[1].best_estimator_.predict(rwj_topic.X),rwj_topic_names).make_metrics()\n",
    "\n",
    "fig,ax = plt.subplots(nrows=2,figsize=(10,12))\n",
    "\n",
    "rwj_diag.confusion_chart(ax=ax[0])\n",
    "rwj_diag.prec_rec_chart(ax=ax[1])\n",
    "\n",
    "plt.tight_layout()\n",
    "\n",
    "fig.suptitle('Model evaluation for RWJF topics',y=1.01,size=16)"
   ]
  },
  {
   "cell_type": "markdown",
   "metadata": {},
   "source": [
    "Observations: The model seems to perform quite well when we consider classes separately. Worst classes are Health Care Quality and Health Care Access when we look at the confusion matrix\n",
    "\n"
   ]
  },
  {
   "cell_type": "code",
   "execution_count": 267,
   "metadata": {},
   "outputs": [],
   "source": [
    "#We save the model for use in the bigger GDB\n",
    "\n",
    "with open(mod_path+'/{date}_rwj_topics.p'.format(date=today_str),'wb') as outfile:\n",
    "    pickle.dump([rwj_topic.count_vect,rwj_topic.results[1].best_estimator_,rwj_topic_names],outfile)"
   ]
  },
  {
   "cell_type": "markdown",
   "metadata": {},
   "source": [
    "## Check the presence of 'health topics' in the research subjects"
   ]
  },
  {
   "cell_type": "code",
   "execution_count": 76,
   "metadata": {},
   "outputs": [],
   "source": [
    "projects['research_topics_parsed'] = [literal_eval(x) for x in projects.research_topics]"
   ]
  },
  {
   "cell_type": "code",
   "execution_count": 77,
   "metadata": {},
   "outputs": [],
   "source": [
    "projects['research_topics_list'] = [[x['text'].lower() for x in top['researchTopic']] for top in projects['research_topics_parsed']]"
   ]
  },
  {
   "cell_type": "code",
   "execution_count": 79,
   "metadata": {},
   "outputs": [],
   "source": [
    "health_topics = [x for x in set(flatten_list(projects['research_topics_list'])) if any(h in x for h in ['health','ill'])]"
   ]
  },
  {
   "cell_type": "code",
   "execution_count": 88,
   "metadata": {},
   "outputs": [],
   "source": [
    "#How many projects have these topics?\n",
    "\n",
    "#668 projects with health topics in them\n",
    "#np.sum([len(set(health_topics) & set(x))>0 for x in projects['research_topics_list']])\n",
    "\n",
    "projects_w_h = projects.loc[[len(set(health_topics) & set(x))>0 for x in projects['research_topics_list']],:].reset_index(drop=True)"
   ]
  },
  {
   "cell_type": "code",
   "execution_count": 90,
   "metadata": {},
   "outputs": [
    {
     "data": {
      "text/plain": [
       "(688, 19)"
      ]
     },
     "execution_count": 90,
     "metadata": {},
     "output_type": "execute_result"
    }
   ],
   "source": [
    "projects_w_h.shape"
   ]
  },
  {
   "cell_type": "code",
   "execution_count": 103,
   "metadata": {},
   "outputs": [
    {
     "data": {
      "text/html": [
       "<div>\n",
       "<style scoped>\n",
       "    .dataframe tbody tr th:only-of-type {\n",
       "        vertical-align: middle;\n",
       "    }\n",
       "\n",
       "    .dataframe tbody tr th {\n",
       "        vertical-align: top;\n",
       "    }\n",
       "\n",
       "    .dataframe thead th {\n",
       "        text-align: right;\n",
       "    }\n",
       "</style>\n",
       "<table border=\"1\" class=\"dataframe\">\n",
       "  <thead>\n",
       "    <tr style=\"text-align: right;\">\n",
       "      <th></th>\n",
       "      <th>abstract_texts</th>\n",
       "      <th>tech_abstracts</th>\n",
       "    </tr>\n",
       "  </thead>\n",
       "  <tbody>\n",
       "    <tr>\n",
       "      <th>0</th>\n",
       "      <td>&lt;p&gt;The project will produce teaching packs for...</td>\n",
       "      <td>NaN</td>\n",
       "    </tr>\n",
       "    <tr>\n",
       "      <th>1</th>\n",
       "      <td>South Asia has long had a fish eating traditio...</td>\n",
       "      <td>NaN</td>\n",
       "    </tr>\n",
       "    <tr>\n",
       "      <th>2</th>\n",
       "      <td>This research will investigate the chemical se...</td>\n",
       "      <td>Nutrient sensing by enteroendocrine cells (EEC...</td>\n",
       "    </tr>\n",
       "    <tr>\n",
       "      <th>3</th>\n",
       "      <td>Atmospheric aerosol particles, or particulate ...</td>\n",
       "      <td>NaN</td>\n",
       "    </tr>\n",
       "    <tr>\n",
       "      <th>4</th>\n",
       "      <td>Manufactured nanoparticles (NPs) can be define...</td>\n",
       "      <td>NaN</td>\n",
       "    </tr>\n",
       "  </tbody>\n",
       "</table>\n",
       "</div>"
      ],
      "text/plain": [
       "                                      abstract_texts  \\\n",
       "0  <p>The project will produce teaching packs for...   \n",
       "1  South Asia has long had a fish eating traditio...   \n",
       "2  This research will investigate the chemical se...   \n",
       "3  Atmospheric aerosol particles, or particulate ...   \n",
       "4  Manufactured nanoparticles (NPs) can be define...   \n",
       "\n",
       "                                      tech_abstracts  \n",
       "0                                                NaN  \n",
       "1                                                NaN  \n",
       "2  Nutrient sensing by enteroendocrine cells (EEC...  \n",
       "3                                                NaN  \n",
       "4                                                NaN  "
      ]
     },
     "execution_count": 103,
     "metadata": {},
     "output_type": "execute_result"
    }
   ],
   "source": [
    "#What would be the features?\n",
    "projects_w_h[['abstract_texts','tech_abstracts']].head()"
   ]
  },
  {
   "cell_type": "code",
   "execution_count": 106,
   "metadata": {},
   "outputs": [
    {
     "data": {
      "text/plain": [
       "abstract_texts      0\n",
       "tech_abstracts    540\n",
       "dtype: int64"
      ]
     },
     "execution_count": 106,
     "metadata": {},
     "output_type": "execute_result"
    }
   ],
   "source": [
    "projects_w_h[['abstract_texts','tech_abstracts']].isna().sum()"
   ]
  },
  {
   "cell_type": "code",
   "execution_count": null,
   "metadata": {},
   "outputs": [],
   "source": []
  }
 ],
 "metadata": {
  "kernelspec": {
   "display_name": "Python 3",
   "language": "python",
   "name": "python3"
  },
  "language_info": {
   "codemirror_mode": {
    "name": "ipython",
    "version": 3
   },
   "file_extension": ".py",
   "mimetype": "text/x-python",
   "name": "python",
   "nbconvert_exporter": "python",
   "pygments_lexer": "ipython3",
   "version": "3.5.2"
  }
 },
 "nbformat": 4,
 "nbformat_minor": 2
}
