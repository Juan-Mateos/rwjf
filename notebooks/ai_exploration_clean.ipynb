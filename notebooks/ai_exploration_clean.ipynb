{
 "cells": [
  {
   "cell_type": "markdown",
   "metadata": {},
   "source": [
    "# Exploration of AI data for the RWJF project\n",
    "\n",
    "Here we explore the AI data for the RWJF project. This involves:\n",
    "\n",
    "* Analysing World Report\n",
    "  * Load\n",
    "  * Map\n",
    "  * Trend analysis\n",
    "  * MeSH exploration\n",
    "  \n",
    "* Consider other sources such as CrunchBase or GitHub to illustrate the range of sources we are working with.\n",
    "\n",
    "\n"
   ]
  },
  {
   "cell_type": "code",
   "execution_count": 67,
   "metadata": {},
   "outputs": [],
   "source": [
    "%matplotlib inline\n",
    "\n",
    "import matplotlib.pyplot as plt"
   ]
  },
  {
   "cell_type": "markdown",
   "metadata": {},
   "source": [
    "## World Reporter"
   ]
  },
  {
   "cell_type": "code",
   "execution_count": 2,
   "metadata": {},
   "outputs": [],
   "source": [
    "my_files = os.listdir('../data/external/for_juan/')\n",
    "\n",
    "dfs_list = []\n",
    "\n",
    "for file in my_files:\n",
    "    #print(file)\n",
    "    #Problem file!\n",
    "    if any(x in file for x in ['590000','180000','1170000','490000']):\n",
    "        continue\n",
    "    df = pd.read_json(f'../data/external/for_juan/{file}')\n",
    "    dfs_list.append(df)"
   ]
  },
  {
   "cell_type": "code",
   "execution_count": 3,
   "metadata": {},
   "outputs": [],
   "source": [
    "wr = pd.concat(dfs_list)"
   ]
  },
  {
   "cell_type": "code",
   "execution_count": 56,
   "metadata": {},
   "outputs": [],
   "source": [
    "wr.reset_index(drop=True,inplace=True)"
   ]
  },
  {
   "cell_type": "code",
   "execution_count": 4,
   "metadata": {},
   "outputs": [],
   "source": [
    "ai = pd.read_csv('../data/external/world_reporter/ai_projects')"
   ]
  },
  {
   "cell_type": "markdown",
   "metadata": {},
   "source": [
    "### Initial exploration of world reporter\n",
    "\n",
    "Protocol:\n",
    "\n",
    "* What is in it?\n",
    "  * Missing values\n",
    "  * Types of entities\n",
    "  * Entities relevant for the project (in this case health innovations)\n",
    "  \n",
    "* When does it cover?\n",
    "  * How many years\n",
    "\n",
    "* Where are these organisations?\n",
    "  * Geography."
   ]
  },
  {
   "cell_type": "markdown",
   "metadata": {},
   "source": [
    "#### What is in it"
   ]
  },
  {
   "cell_type": "code",
   "execution_count": 5,
   "metadata": {},
   "outputs": [
    {
     "data": {
      "text/plain": [
       "<matplotlib.axes._subplots.AxesSubplot at 0x2146ca278>"
      ]
     },
     "execution_count": 5,
     "metadata": {},
     "output_type": "execute_result"
    },
    {
     "data": {
      "image/png": "[encoded data removed]",
      "text/plain": [
       "<Figure size 432x288 with 1 Axes>"
      ]
     },
     "metadata": {},
     "output_type": "display_data"
    }
   ],
   "source": [
    "wr.apply(lambda x: x.isna().mean()).sort_values().plot.barh(color='navy')"
   ]
  },
  {
   "cell_type": "markdown",
   "metadata": {},
   "source": [
    "Things to do:\n",
    "\n",
    "* Why are there duplicates?\n",
    "* What is the difference between project description and project abstract?\n"
   ]
  },
  {
   "cell_type": "code",
   "execution_count": 15,
   "metadata": {},
   "outputs": [
    {
     "data": {
      "text/plain": [
       "219702.0"
      ]
     },
     "execution_count": 15,
     "metadata": {},
     "output_type": "execute_result"
    }
   ],
   "source": [
    "#On the duplicate abstracts\n",
    "\n",
    "wr.booleanFlag_duplicate_abstract.sum()"
   ]
  },
  {
   "cell_type": "code",
   "execution_count": 28,
   "metadata": {},
   "outputs": [
    {
     "data": {
      "text/plain": [
       "ABSTRACT NOT PROVIDED                                                                                                                                                                                                                                                                                                                                                                                                                                                                                                                                                                                      2149\n",
       "No Abstract Provided                                                                                                                                                                                                                                                                                                                                                                                                                                                                                                                                                                                       1834\n",
       "SUBPROJECT ABSTRACT NOT AVAILABLE                                                                                                                                                                                                                                                                                                                                                                                                                                                                                                                                                                          1115\n",
       "This is a Shannon Award providing partial support for research projects that fall short of the assigned institute's funding range but are in the margin of excellence. The Shannon award is intended to provide support to test the feasibility of the approach; develop further tests and refine research techniques; perform secondary analysis of available data sets; or conduct discrete projects that can demonstrate the PI's research capabilities or lend additional weight to an already meritorious application. Further scientific data for the CRISP System are unavailable at this time.     1008\n",
       "No abstract provided.                                                                                                                                                                                                                                                                                                                                                                                                                                                                                                                                                                                       316\n",
       "Name: textBody_abstract_project, dtype: int64"
      ]
     },
     "execution_count": 28,
     "metadata": {},
     "output_type": "execute_result"
    }
   ],
   "source": [
    "abstract_short = wr['textBody_abstract_project'].apply(lambda x: x[:1000] if type(x)==str else np.nan)\n",
    "\n",
    "abstract_short.value_counts()[:5]"
   ]
  },
  {
   "cell_type": "markdown",
   "metadata": {},
   "source": [
    "A few missing values"
   ]
  },
  {
   "cell_type": "code",
   "execution_count": 31,
   "metadata": {},
   "outputs": [
    {
     "name": "stdout",
     "output_type": "stream",
     "text": [
      "371827\n",
      "175807\n"
     ]
    }
   ],
   "source": [
    "print(sum(abstract_short.value_counts()>1))\n",
    "\n",
    "print(sum(abstract_short.value_counts()==1))"
   ]
  },
  {
   "cell_type": "markdown",
   "metadata": {},
   "source": [
    "There are 371827 beginnings of abstracts that appear more than once, and 157807 abstracts that appear *just once*. This means there are ~500K unique abstract texts. \n",
    "\n",
    "We will need to do some serious deduplication here.\n",
    "\n",
    "Are any of the repeats because eg multiple organisations received a grant?"
   ]
  },
  {
   "cell_type": "code",
   "execution_count": 34,
   "metadata": {},
   "outputs": [
    {
     "data": {
      "text/plain": [
       "ABSTRACT NOT PROVIDED                                                                                                                                                                                                                                                                                                                                                                                                                                                                                                                                                                                                                                                                                                                                                                                                                                                                              2149\n",
       "No Abstract Provided                                                                                                                                                                                                                                                                                                                                                                                                                                                                                                                                                                                                                                                                                                                                                                                                                                                                               1834\n",
       "SUBPROJECT ABSTRACT NOT AVAILABLE                                                                                                                                                                                                                                                                                                                                                                                                                                                                                                                                                                                                                                                                                                                                                                                                                                                                  1115\n",
       "This is a Shannon Award providing partial support for research projects that fall short of the assigned institute's funding range but are in the margin of excellence. The Shannon award is intended to provide support to test the feasibility of the approach; develop further tests and refine research techniques; perform secondary analysis of available data sets; or conduct discrete projects that can demonstrate the PI's research capabilities or lend additional weight to an already meritorious application. Further scientific data for the CRISP System are unavailable at this time.                                                                                                                                                                                                                                                                                             1008\n",
       "No abstract provided.                                                                                                                                                                                                                                                                                                                                                                                                                                                                                                                                                                                                                                                                                                                                                                                                                                                                               316\n",
       "Abstract Not Provided.                                                                                                                                                                                                                                                                                                                                                                                                                                                                                                                                                                                                                                                                                                                                                                                                                                                                              311\n",
       "ABSTRACT NOT AVAILABLE                                                                                                                                                                                                                                                                                                                                                                                                                                                                                                                                                                                                                                                                                                                                                                                                                                                                              302\n",
       "Training in the use of DMX electronics.                                                                                                                                                                                                                                                                                                                                                                                                                                                                                                                                                                                                                                                                                                                                                                                                                                                             199\n",
       "CORE ABSTRACT NOT PROVIDED                                                                                                                                                                                                                                                                                                                                                                                                                                                                                                                                                                                                                                                                                                                                                                                                                                                                          186\n",
       "This contract is for a clinical center which is one of an estimated twenty-five centers that will conduct a large scale clinical trial on left ventricular dysfunction. The primary objective of the trial is to answer two questions: (1) In patients with moderate left ventricular dysfunction and little or no overt heart failure, can death be prevented? (2) Is mortality reduced by treatment in those with manifest heart failure? Two concurrent but distinct randomized double blind controlled trials will be conducted. The first will be the Prevention Trial and will be placebo controlled. The second will be the Treatment Trial and patients will be randomized to \"standard\" treatment + placebo or \"standard\" treatment + active agent. The Prevention Trial has an anticipated enrollment of at least 4,000 patients and the Treatment Trial of at least 2,000 patients.      172\n",
       "Name: textBody_abstract_project, dtype: int64"
      ]
     },
     "execution_count": 34,
     "metadata": {},
     "output_type": "execute_result"
    }
   ],
   "source": [
    "abstract_short.value_counts()[:10]"
   ]
  },
  {
   "cell_type": "markdown",
   "metadata": {},
   "source": [
    "Some of the duplicates are repeating grants and awards involving multiple institutions. Let's check the one right above: "
   ]
  },
  {
   "cell_type": "markdown",
   "metadata": {},
   "source": [
    "Let's find abstracts missing"
   ]
  },
  {
   "cell_type": "code",
   "execution_count": 49,
   "metadata": {},
   "outputs": [],
   "source": [
    "missing_abs = [any(x in text.lower() for x in ['abstract','no','not']) & (len(text)<100) for \n",
    "               text in wr['textBody_abstract_project']]"
   ]
  },
  {
   "cell_type": "code",
   "execution_count": 50,
   "metadata": {},
   "outputs": [
    {
     "data": {
      "text/plain": [
       "8294"
      ]
     },
     "execution_count": 50,
     "metadata": {},
     "output_type": "execute_result"
    }
   ],
   "source": [
    "sum(missing_abs)"
   ]
  },
  {
   "cell_type": "markdown",
   "metadata": {},
   "source": [
    "Not a crazy number of missing abstracts beyond the NAs"
   ]
  },
  {
   "cell_type": "markdown",
   "metadata": {},
   "source": [
    "#### Check one project where there are repeated abstracts"
   ]
  },
  {
   "cell_type": "code",
   "execution_count": 35,
   "metadata": {},
   "outputs": [],
   "source": [
    "text_of_interest = \"This contract is for a clinical center which is one of an estimated twenty-five centers that will conduct a large scale clinical trial on left ventricular dysfunction.\""
   ]
  },
  {
   "cell_type": "code",
   "execution_count": 36,
   "metadata": {},
   "outputs": [],
   "source": [
    "projects_with_text = wr.loc[[text_of_interest in text for text in wr.textBody_abstract_project]]\n"
   ]
  },
  {
   "cell_type": "code",
   "execution_count": 43,
   "metadata": {},
   "outputs": [
    {
     "data": {
      "text/html": [
       "<div>\n",
       "<style scoped>\n",
       "    .dataframe tbody tr th:only-of-type {\n",
       "        vertical-align: middle;\n",
       "    }\n",
       "\n",
       "    .dataframe tbody tr th {\n",
       "        vertical-align: top;\n",
       "    }\n",
       "\n",
       "    .dataframe thead th {\n",
       "        text-align: right;\n",
       "    }\n",
       "</style>\n",
       "<table border=\"1\" class=\"dataframe\">\n",
       "  <thead>\n",
       "    <tr style=\"text-align: right;\">\n",
       "      <th></th>\n",
       "      <th>title_of_organisation</th>\n",
       "      <th>terms_mesh_abstract</th>\n",
       "    </tr>\n",
       "  </thead>\n",
       "  <tbody>\n",
       "    <tr>\n",
       "      <th>9712</th>\n",
       "      <td>NaN</td>\n",
       "      <td>[Humans, Double-Blind Method, Analgesics, Pain...</td>\n",
       "    </tr>\n",
       "    <tr>\n",
       "      <th>113</th>\n",
       "      <td>NaN</td>\n",
       "      <td>[Humans, Double-Blind Method, Analgesics, Pain...</td>\n",
       "    </tr>\n",
       "    <tr>\n",
       "      <th>122</th>\n",
       "      <td>NaN</td>\n",
       "      <td>[Humans, Double-Blind Method, Analgesics, Pain...</td>\n",
       "    </tr>\n",
       "    <tr>\n",
       "      <th>131</th>\n",
       "      <td>NaN</td>\n",
       "      <td>[Humans, Double-Blind Method, Analgesics, Pain...</td>\n",
       "    </tr>\n",
       "    <tr>\n",
       "      <th>140</th>\n",
       "      <td>TUFTS MEDICAL CENTER</td>\n",
       "      <td>[Humans, Double-Blind Method, Analgesics, Pain...</td>\n",
       "    </tr>\n",
       "    <tr>\n",
       "      <th>149</th>\n",
       "      <td>NaN</td>\n",
       "      <td>[Humans, Double-Blind Method, Analgesics, Pain...</td>\n",
       "    </tr>\n",
       "    <tr>\n",
       "      <th>158</th>\n",
       "      <td>NaN</td>\n",
       "      <td>[Humans, Double-Blind Method, Analgesics, Pain...</td>\n",
       "    </tr>\n",
       "    <tr>\n",
       "      <th>167</th>\n",
       "      <td>NaN</td>\n",
       "      <td>[Humans, Double-Blind Method, Analgesics, Pain...</td>\n",
       "    </tr>\n",
       "    <tr>\n",
       "      <th>176</th>\n",
       "      <td>NaN</td>\n",
       "      <td>[Humans, Double-Blind Method, Analgesics, Pain...</td>\n",
       "    </tr>\n",
       "    <tr>\n",
       "      <th>185</th>\n",
       "      <td>NaN</td>\n",
       "      <td>[Humans, Double-Blind Method, Analgesics, Pain...</td>\n",
       "    </tr>\n",
       "    <tr>\n",
       "      <th>194</th>\n",
       "      <td>UNIVERSITY OF FLORIDA</td>\n",
       "      <td>[Humans, Double-Blind Method, Analgesics, Pain...</td>\n",
       "    </tr>\n",
       "    <tr>\n",
       "      <th>203</th>\n",
       "      <td>NaN</td>\n",
       "      <td>[Humans, Double-Blind Method, Analgesics, Pain...</td>\n",
       "    </tr>\n",
       "    <tr>\n",
       "      <th>212</th>\n",
       "      <td>NaN</td>\n",
       "      <td>[Humans, Double-Blind Method, Analgesics, Pain...</td>\n",
       "    </tr>\n",
       "    <tr>\n",
       "      <th>221</th>\n",
       "      <td>NaN</td>\n",
       "      <td>[Humans, Double-Blind Method, Analgesics, Pain...</td>\n",
       "    </tr>\n",
       "    <tr>\n",
       "      <th>230</th>\n",
       "      <td>NaN</td>\n",
       "      <td>[Humans, Double-Blind Method, Analgesics, Pain...</td>\n",
       "    </tr>\n",
       "    <tr>\n",
       "      <th>239</th>\n",
       "      <td>NaN</td>\n",
       "      <td>[Humans, Double-Blind Method, Analgesics, Pain...</td>\n",
       "    </tr>\n",
       "    <tr>\n",
       "      <th>248</th>\n",
       "      <td>NaN</td>\n",
       "      <td>[Humans, Double-Blind Method, Analgesics, Pain...</td>\n",
       "    </tr>\n",
       "    <tr>\n",
       "      <th>257</th>\n",
       "      <td>NaN</td>\n",
       "      <td>[Humans, Double-Blind Method, Analgesics, Pain...</td>\n",
       "    </tr>\n",
       "    <tr>\n",
       "      <th>266</th>\n",
       "      <td>NEW YORK MEDICAL COLLEGE</td>\n",
       "      <td>[Humans, Double-Blind Method, Analgesics, Pain...</td>\n",
       "    </tr>\n",
       "    <tr>\n",
       "      <th>275</th>\n",
       "      <td>ATLANTIC HEALTH SYSTEM, INC.</td>\n",
       "      <td>[Humans, Double-Blind Method, Analgesics, Pain...</td>\n",
       "    </tr>\n",
       "  </tbody>\n",
       "</table>\n",
       "</div>"
      ],
      "text/plain": [
       "             title_of_organisation  \\\n",
       "9712                           NaN   \n",
       "113                            NaN   \n",
       "122                            NaN   \n",
       "131                            NaN   \n",
       "140           TUFTS MEDICAL CENTER   \n",
       "149                            NaN   \n",
       "158                            NaN   \n",
       "167                            NaN   \n",
       "176                            NaN   \n",
       "185                            NaN   \n",
       "194          UNIVERSITY OF FLORIDA   \n",
       "203                            NaN   \n",
       "212                            NaN   \n",
       "221                            NaN   \n",
       "230                            NaN   \n",
       "239                            NaN   \n",
       "248                            NaN   \n",
       "257                            NaN   \n",
       "266       NEW YORK MEDICAL COLLEGE   \n",
       "275   ATLANTIC HEALTH SYSTEM, INC.   \n",
       "\n",
       "                                    terms_mesh_abstract  \n",
       "9712  [Humans, Double-Blind Method, Analgesics, Pain...  \n",
       "113   [Humans, Double-Blind Method, Analgesics, Pain...  \n",
       "122   [Humans, Double-Blind Method, Analgesics, Pain...  \n",
       "131   [Humans, Double-Blind Method, Analgesics, Pain...  \n",
       "140   [Humans, Double-Blind Method, Analgesics, Pain...  \n",
       "149   [Humans, Double-Blind Method, Analgesics, Pain...  \n",
       "158   [Humans, Double-Blind Method, Analgesics, Pain...  \n",
       "167   [Humans, Double-Blind Method, Analgesics, Pain...  \n",
       "176   [Humans, Double-Blind Method, Analgesics, Pain...  \n",
       "185   [Humans, Double-Blind Method, Analgesics, Pain...  \n",
       "194   [Humans, Double-Blind Method, Analgesics, Pain...  \n",
       "203   [Humans, Double-Blind Method, Analgesics, Pain...  \n",
       "212   [Humans, Double-Blind Method, Analgesics, Pain...  \n",
       "221   [Humans, Double-Blind Method, Analgesics, Pain...  \n",
       "230   [Humans, Double-Blind Method, Analgesics, Pain...  \n",
       "239   [Humans, Double-Blind Method, Analgesics, Pain...  \n",
       "248   [Humans, Double-Blind Method, Analgesics, Pain...  \n",
       "257   [Humans, Double-Blind Method, Analgesics, Pain...  \n",
       "266   [Humans, Double-Blind Method, Analgesics, Pain...  \n",
       "275   [Humans, Double-Blind Method, Analgesics, Pain...  "
      ]
     },
     "execution_count": 43,
     "metadata": {},
     "output_type": "execute_result"
    }
   ],
   "source": [
    "projects_with_text.head(n=20)[['title_of_organisation','terms_mesh_abstract']]"
   ]
  },
  {
   "cell_type": "markdown",
   "metadata": {},
   "source": [
    "So this gives different organisations with the same MeSH terms. We should use the set of 'unique abstracts' for any querying "
   ]
  },
  {
   "cell_type": "markdown",
   "metadata": {},
   "source": [
    "#### Differences between text abstracts and paper abstracts"
   ]
  },
  {
   "cell_type": "code",
   "execution_count": 8,
   "metadata": {},
   "outputs": [
    {
     "name": "stdout",
     "output_type": "stream",
     "text": [
      "nan\n",
      "\n",
      "\n",
      "The central objective of this Project is to use miniprotein mimetic together with the emerging structure of the gp120/CD4 complex to design antagonists of the interaction of human cells with HIV-1, the human immunodeficiency virus responsible for AIDS. T-cell docking and entry by HIV-1, a major route of cell infection in AIDS, is driven by specific recognition of the T-cell surface protein CD4 by the HIV envelope protein gp120. The crystallographic structure of CD4 is known, and that of its complex with gp120 is close at hand. Structural components in both protein partners have been identified which are proposed to play key roles in CD4-gp120 recognition. The advancing high resolution structural understanding of the protein participants in virus-cell recognition together with the advancing technology of mimetics design now make it possible to combine structure determination, modeling and miniprotein engineering to obtain an advanced mechanistic understanding of the structural basis of CD4-gp120 interaction and to design new antagonists for AIDS. The specific aims of this Project are: (1) obtain miniprotein constructions by transplanting CD4 and gp120 binding site components into conformationally constrained miniprotein presentation scaffolds by chemical and recombinant DNA methods and establish their CD4/gp120 antagonist activities; (2) construct phage displayed libraries of CD4- and gp120-mimetic miniproteins and use these to identify novel CD4 and gp120 binding antagonists as well as to examine the key structural elements needed for CD4/gp120 antagonist design; (3) determine the high resolution structures of key miniprotein constructs complexed with CD4 or gp120 and use the binding interface structures in these complexes to refine the topological map of key structural elements in CD4- gp120 recognition. Overall, this project will yield miniprotein mimetic constructions for both an immunorecognition receptor (CD4) and a retroviral envelope glycoprotein (gp120);and advanced mechanistic definition of key structural elements for CD4-gp120 interaction; and structural lead information for small molecule antagonist design. Long term, the mimetics strategies derived will be useful to determine mechanism of, and design antagonists for other protein-protein interactions important in AIDS, such as the gp41-gp120 and chemokine receptor interactions, that also are associated with human cell - HIV-1 docking and viral entry. \n",
      "\n",
      "\n",
      "===\n",
      "\n",
      "\n",
      "\n",
      "This subproject is one of many research subprojects utilizing the resources provided by a Center grant funded by NIH/NCRR. The subproject and investigator (PI) may have received primary funding from another NIH source, and thus could be represented in other CRISP entries. The institution listed is for the Center, which is not necessarily the institution for the investigator. The purpose of the study is to determine the role of arginase in reflex cutaneous vasodilation in a healthy aged human subject group (65-85 years old) compared to a healthy young subject group (18-30 years old) and to examine the relative role of reactive oxygen species on the NO-dependent portion of reflex cutaneous vasodilation in an aged humans subject group compared to a healthy young subject group. \n",
      "\n",
      "\n",
      "===\n",
      "nan\n",
      "\n",
      "\n",
      "Although solar ultraviolet radiation is a proven mutagen, toxicant, and carcinogen, little is known about the underlying cellular and molecular processes causing these effects in mammalian cells, especially by the longer ultraviolet wavelengths. Using human cells (P3 teratocarcinoma) in culture and an isolated fragment of human DNA, we propose (1) to study the spectral efficiencies for specific DNA alterations (breakage, protein cross-links, pyrimidine dimers, and (6-4) pyrimidine adducts) caused by wavelengths longer than 290 nm, and (2) to attempt to correlate the specific DNA lesions observed with mutagenesis and cell killing caused by solar uv. Isolated wavelength bands and lines within the 290 to 435 nm range as well as the complete spectrum of terrestrial solar radiation itself (290 through visible light) will be used. The effects of dose modifying reagents, especially oxygen, upon the biological and biophysical end points will be studied. These experiments will provide insight into basic molecular mechanisms of the biological action of solar ultraviolet light, and provide information relevant to our understanding of hazards resulting from possible attenuation of our stratospheric ozone shield. \n",
      "\n",
      "\n",
      "===\n",
      "nan\n",
      "\n",
      "\n",
      "The immune response to HIV infection is poorly understood. Because of the tropism of the virus for cells of the immune system, it is not clear whether certain immunologic alterations reflect a protective host response to HIV or are indicative of immunopathology. Several lines of evidence suggest that there is protective immunity to HIV, particularly in HIV-exposed children. This evidence, along with the enormous social and ethical pressure to blunt the devastating epidemic of HIV in women and children, presents a rationale for ACTG-sponsored immune based therapies for amelioration and prevention of HIV disease. The in vitro testing of cellular and humoral immune function is essential for evaluation of the impact of experimental immune based therapies for HIV infection. The UCLA Pediatric ACTU has the capability to test host immune function through a consortium of immunology laboratories in the Center for the Health Sciences. The laboratories have the capability to: 1) Characterize the level of HIV-specific cellular immunity in response to vaccine or other immunomodulatory therapy utilizing assays of lymphocyte proliferation to HIV proteins and cytotoxicity of T cells to HIV-expressing target cells, 2) Assess HIV-specific humoral immunity in response to active or passive immunization utilizing assays for neutralizing antibody and antibody-dependent cellular cytotoxicity, 3) Assess general cellular immunity by non-HIV specific antigen responses utilizing assays of lymphocyte proliferation to mitogens and non-HIV microbial antigens, 4) Characterize decreased immune activation as a marker of therapeutic efficacy utilizing assays for flow cytometric determination of cell surface activation antigen expression, serum cytokine and soluble activation molecule levels, and cellular expression of mRNA for cytokines. The assays are performed according to available approved or recommended ACTG protocols. The expertise to perform these assays is available at UCLA along with the leadership evidenced by the participation of the Investigators in numerous Immunology and Pediatric Working Groups and Committees within the ACTG. \n",
      "\n",
      "\n",
      "===\n",
      "\n",
      "\n",
      "\n",
      " DESCRIPTION: (Verbatim from the Applicant's Abstract) Understanding the basic mechanism that control the formation, maintenance and reinnervation of synapses is critical to our understanding of the malfunction of these synapses in disease. Of all the synapses in the body the neuromuscular junction has been most studied due to its relative simplicity and accessibility. Agrin is a heparin sulfate proteoglycan and is an integral member of the synaptic basal lamina. We have shown that agrin is quickly and efficiently removed from synaptic basal lamina during normal synaptic remodelling, and following reinnervation. We have also found that matrix metalloproteinase-3 (MMP-3) removes agrin from synaptic basal lamina, and antibodies to MMP-3 recognize molecules concentrated at the neuromuscular junction. Synaptic activity results in the activation and release of MMP-3 like molecules from stimulated muscle, and subsequent removal of agrin from synaptic basal lamina. Thus, we hypothesize that MMP-3 is responsible for the activity dependent removal of agrin from synaptic basal. Further, we hypothesize that synaptic remodelling is a result of the balance between the removal of agrin from synaptic basal lamina by proteases and the secretion of agrin by the nerve terminal. The neuromuscular junction is a model system for synapses in the brain, and our investigations into the cellular mechanism that controls agrin distribution will have strong implications in our understanding of the mechanisms that lead to Alzheimer's disease. Immunohistochemistry has revealed that agrin and MMP-3 are colocalized to plaques and tangles in Alzheimer's disease. Further, agrin has been shown to enhance the formation of amyloid fibrils, and is hypothesized to trigger plaque formation in the brain. Here we will investigate the basic mechanisms controlling agrin cleavage at the neuromuscular junction, and this information will have direct implications in our understanding of the functioning and malfunctioning of synapses throughout the body. \n",
      "\n",
      "\n",
      "===\n"
     ]
    }
   ],
   "source": [
    "import random\n",
    "\n",
    "for x in random.sample(range(len(wr)),5):\n",
    "    \n",
    "    print(wr.iloc[x]['textBody_descriptive_project'])\n",
    "    \n",
    "    print('\\n')\n",
    "    \n",
    "    print(wr.iloc[x]['textBody_abstract_project'])\n",
    "    \n",
    "    print('\\n')\n",
    "    print('===')"
   ]
  },
  {
   "cell_type": "markdown",
   "metadata": {},
   "source": [
    "The descriptions are an executive summary and the abstract is the scientific abstract"
   ]
  },
  {
   "cell_type": "markdown",
   "metadata": {},
   "source": [
    "#### Organisations receiving grants"
   ]
  },
  {
   "cell_type": "code",
   "execution_count": 51,
   "metadata": {},
   "outputs": [
    {
     "name": "stdout",
     "output_type": "stream",
     "text": [
      "9481\n"
     ]
    },
    {
     "data": {
      "text/plain": [
       "JOHNS HOPKINS UNIVERSITY                  20654\n",
       "UNIVERSITY OF PENNSYLVANIA                18350\n",
       "UNIVERSITY OF WASHINGTON                  16955\n",
       "UNIVERSITY OF PITTSBURGH AT PITTSBURGH    15127\n",
       "UNIVERSITY OF CALIFORNIA LOS ANGELES      14796\n",
       "WASHINGTON UNIVERSITY                     13677\n",
       "YALE UNIVERSITY                           13658\n",
       "STANFORD UNIVERSITY                       13558\n",
       "UNIVERSITY OF CALIFORNIA SAN DIEGO        12705\n",
       "DUKE UNIVERSITY                           12318\n",
       "Name: title_of_organisation, dtype: int64"
      ]
     },
     "execution_count": 51,
     "metadata": {},
     "output_type": "execute_result"
    }
   ],
   "source": [
    "print(len(set(wr.title_of_organisation)))\n",
    "\n",
    "wr.title_of_organisation.value_counts().head(n=10)"
   ]
  },
  {
   "cell_type": "markdown",
   "metadata": {},
   "source": [
    "The organisations are mostly universities although we also find some companies"
   ]
  },
  {
   "cell_type": "markdown",
   "metadata": {},
   "source": [
    "#### Relevant entities: do we find social/digital innovations?\n",
    "\n",
    "To get a handle on this I will explore the MeSH terms. What are the top terms? Can we cluster them and if so do we find a digital/social cluster?\n"
   ]
  },
  {
   "cell_type": "code",
   "execution_count": 60,
   "metadata": {},
   "outputs": [],
   "source": [
    "def flatten(a_list):\n",
    "    '''\n",
    "    flattens a list\n",
    "    '''\n",
    "    \n",
    "    out = [x for el in a_list for x in el]\n",
    "    \n",
    "    return(out)\n",
    "\n",
    "\n",
    "def term_distr(a_list):\n",
    "    '''\n",
    "    Counts elements in a flat list\n",
    "    \n",
    "    '''\n",
    "    \n",
    "    return(pd.Series(flatten(a_list)).value_counts())\n",
    "    \n",
    "    "
   ]
  },
  {
   "cell_type": "code",
   "execution_count": 61,
   "metadata": {},
   "outputs": [],
   "source": [
    "mesh_distr = term_distr(wr.terms_mesh_abstract)"
   ]
  },
  {
   "cell_type": "code",
   "execution_count": 64,
   "metadata": {},
   "outputs": [
    {
     "data": {
      "text/plain": [
       "Humans           889279\n",
       "Animals          638488\n",
       "Goals            459083\n",
       "Mice             278280\n",
       "Female           189669\n",
       "United States    144499\n",
       "Male             122818\n",
       "Rats             116165\n",
       "Child            112867\n",
       "DNA              108553\n",
       "dtype: int64"
      ]
     },
     "execution_count": 64,
     "metadata": {},
     "output_type": "execute_result"
    }
   ],
   "source": [
    "mesh_distr.head(n=10)"
   ]
  },
  {
   "cell_type": "code",
   "execution_count": 65,
   "metadata": {},
   "outputs": [
    {
     "data": {
      "text/plain": [
       "53623"
      ]
     },
     "execution_count": 65,
     "metadata": {},
     "output_type": "execute_result"
    }
   ],
   "source": [
    "len(mesh_distr)"
   ]
  },
  {
   "cell_type": "markdown",
   "metadata": {},
   "source": [
    "There are 53,263 MeSH terms"
   ]
  },
  {
   "cell_type": "code",
   "execution_count": 72,
   "metadata": {},
   "outputs": [
    {
     "data": {
      "text/plain": [
       "(array([9.5380e+03, 1.4441e+04, 1.0550e+04, 8.7380e+03, 6.2480e+03,\n",
       "        2.9520e+03, 9.4900e+02, 1.8000e+02, 2.3000e+01, 4.0000e+00]),\n",
       " array([ 0.        ,  1.36981663,  2.73963326,  4.10944989,  5.47926652,\n",
       "         6.84908315,  8.21889978,  9.58871641, 10.95853304, 12.32834967,\n",
       "        13.6981663 ]),\n",
       " <a list of 10 Patch objects>)"
      ]
     },
     "execution_count": 72,
     "metadata": {},
     "output_type": "execute_result"
    },
    {
     "data": {
      "image/png": "[encoded data removed]",
      "text/plain": [
       "<Figure size 432x288 with 1 Axes>"
      ]
     },
     "metadata": {},
     "output_type": "display_data"
    }
   ],
   "source": [
    "plt.hist(np.log(mesh_distr))"
   ]
  },
  {
   "cell_type": "markdown",
   "metadata": {},
   "source": [
    "Most MeSH terms appear once."
   ]
  },
  {
   "cell_type": "markdown",
   "metadata": {},
   "source": [
    "#### How do we cluster them?\n",
    "\n",
    "Options:\n",
    "\n",
    "\n",
    "* Topic modelling\n",
    "* community detection on topic co-occurrence network\n",
    "* semantic clustering on w2v model\n",
    "\n",
    "\n",
    "All these options might take a while. For now I'm going to take it very easy and simply look for digital and social terms and their synonyms"
   ]
  },
  {
   "cell_type": "code",
   "execution_count": null,
   "metadata": {},
   "outputs": [],
   "source": [
    "#Lowercase\n",
    "tokenised = [[x.lower() for x in tokens] for tokens in wr.terms_mesh_abstract]"
   ]
  },
  {
   "cell_type": "code",
   "execution_count": 197,
   "metadata": {},
   "outputs": [],
   "source": [
    "wr['mesh_lower'] = tokenised"
   ]
  },
  {
   "cell_type": "code",
   "execution_count": 86,
   "metadata": {},
   "outputs": [],
   "source": [
    "from gensim.models import Word2Vec\n",
    "\n",
    "w2v = Word2Vec(tokenised)"
   ]
  },
  {
   "cell_type": "code",
   "execution_count": 178,
   "metadata": {},
   "outputs": [],
   "source": [
    "def expanded_query(w2v,term,steps,thres=0.6,counts=True):\n",
    "    '''\n",
    "    Runs an expanded query on a w2v model. Steps is the number of steps it takes beyond the initial expansion.\n",
    "    counts is whether it returns a count of term appearances, or a set.\n",
    "    \n",
    "    '''\n",
    "    \n",
    "    #Seed\n",
    "    seed = [x[0] for x in w2v.wv.most_similar(term) if x[1]>thres]\n",
    "    \n",
    "    #return(seed)\n",
    "\n",
    "    counter =0\n",
    "        \n",
    "    while counter<=steps:\n",
    "        \n",
    "        expand = [w2v.wv.most_similar(x) for x in set(seed)]\n",
    "        \n",
    "        new_set = list(set([x[0] for x in flatten(expand) if x[1]>thres]))\n",
    "        \n",
    "        seed = seed+new_set\n",
    "        \n",
    "        counter+=1\n",
    "        \n",
    "    #return(term_distr(seed))\n",
    "    if counts==True:\n",
    "        return(pd.Series(seed).value_counts())\n",
    "    \n",
    "    else:\n",
    "        return(set(seed))"
   ]
  },
  {
   "cell_type": "code",
   "execution_count": 185,
   "metadata": {},
   "outputs": [
    {
     "name": "stderr",
     "output_type": "stream",
     "text": [
      "/usr/local/lib/python3.7/site-packages/gensim/matutils.py:737: FutureWarning: Conversion of the second argument of issubdtype from `int` to `np.signedinteger` is deprecated. In future, it will be treated as `np.int64 == np.dtype(int).type`.\n",
      "  if np.issubdtype(vec.dtype, np.int):\n"
     ]
    },
    {
     "data": {
      "text/plain": [
       "documentation                        4\n",
       "machine learning                     4\n",
       "computer systems                     4\n",
       "information storage and retrieval    4\n",
       "algorithms                           4\n",
       "microcomputers                       4\n",
       "internet                             4\n",
       "cluster analysis                     4\n",
       "automation                           4\n",
       "computer communication networks      4\n",
       "dtype: int64"
      ]
     },
     "execution_count": 185,
     "metadata": {},
     "output_type": "execute_result"
    }
   ],
   "source": [
    "software_synonyms =expanded_query(w2v,'software',steps=2) \n",
    "\n",
    "software_synonyms.head(n=10)"
   ]
  },
  {
   "cell_type": "code",
   "execution_count": 187,
   "metadata": {},
   "outputs": [
    {
     "name": "stderr",
     "output_type": "stream",
     "text": [
      "/usr/local/lib/python3.7/site-packages/gensim/matutils.py:737: FutureWarning: Conversion of the second argument of issubdtype from `int` to `np.signedinteger` is deprecated. In future, it will be treated as `np.int64 == np.dtype(int).type`.\n",
      "  if np.issubdtype(vec.dtype, np.int):\n"
     ]
    },
    {
     "data": {
      "text/plain": [
       "documentation                        4\n",
       "referral and consultation            4\n",
       "information services                 4\n",
       "information storage and retrieval    4\n",
       "computers, handheld                  4\n",
       "marketing                            4\n",
       "books                                4\n",
       "information management               4\n",
       "telecommunications                   4\n",
       "resource allocation                  4\n",
       "dtype: int64"
      ]
     },
     "execution_count": 187,
     "metadata": {},
     "output_type": "execute_result"
    }
   ],
   "source": [
    "online_synonyms = expanded_query(w2v,'internet',steps=2) \n",
    "\n",
    "online_synonyms.head(n=10)"
   ]
  },
  {
   "cell_type": "code",
   "execution_count": 184,
   "metadata": {},
   "outputs": [
    {
     "name": "stderr",
     "output_type": "stream",
     "text": [
      "/usr/local/lib/python3.7/site-packages/gensim/matutils.py:737: FutureWarning: Conversion of the second argument of issubdtype from `int` to `np.signedinteger` is deprecated. In future, it will be treated as `np.int64 == np.dtype(int).type`.\n",
      "  if np.issubdtype(vec.dtype, np.int):\n"
     ]
    },
    {
     "data": {
      "text/plain": [
       "personality                4\n",
       "social class               4\n",
       "anger                      4\n",
       "health behavior            4\n",
       "social support             4\n",
       "self concept               4\n",
       "marital status             4\n",
       "peer group                 4\n",
       "interpersonal relations    4\n",
       "sexuality                  4\n",
       "dtype: int64"
      ]
     },
     "execution_count": 184,
     "metadata": {},
     "output_type": "execute_result"
    }
   ],
   "source": [
    "social_env = expanded_query(w2v,'social environment',steps=2) \n",
    "\n",
    "social_env.head(n=10)"
   ]
  },
  {
   "cell_type": "code",
   "execution_count": 181,
   "metadata": {},
   "outputs": [
    {
     "name": "stderr",
     "output_type": "stream",
     "text": [
      "/usr/local/lib/python3.7/site-packages/gensim/matutils.py:737: FutureWarning: Conversion of the second argument of issubdtype from `int` to `np.signedinteger` is deprecated. In future, it will be treated as `np.int64 == np.dtype(int).type`.\n",
      "  if np.issubdtype(vec.dtype, np.int):\n"
     ]
    },
    {
     "data": {
      "text/plain": [
       "risk reduction behavior     4\n",
       "health education            4\n",
       "health status indicators    4\n",
       "life style                  4\n",
       "attitude                    4\n",
       "social support              4\n",
       "health promotion            4\n",
       "health status               4\n",
       "social class                4\n",
       "exercise                    4\n",
       "dtype: int64"
      ]
     },
     "execution_count": 181,
     "metadata": {},
     "output_type": "execute_result"
    }
   ],
   "source": [
    "peer = expanded_query(w2v,'health behavior',steps=2) \n",
    "\n",
    "peer.head(n=10)"
   ]
  },
  {
   "cell_type": "code",
   "execution_count": 188,
   "metadata": {},
   "outputs": [
    {
     "name": "stderr",
     "output_type": "stream",
     "text": [
      "/usr/local/lib/python3.7/site-packages/gensim/matutils.py:737: FutureWarning: Conversion of the second argument of issubdtype from `int` to `np.signedinteger` is deprecated. In future, it will be treated as `np.int64 == np.dtype(int).type`.\n",
      "  if np.issubdtype(vec.dtype, np.int):\n"
     ]
    },
    {
     "data": {
      "text/plain": [
       "health personnel                 4\n",
       "quality of health care           4\n",
       "health services accessibility    4\n",
       "policy making                    4\n",
       "evidence-based practice          4\n",
       "insurance coverage               4\n",
       "economics, medical               4\n",
       "health services research         4\n",
       "public policy                    4\n",
       "health status                    3\n",
       "dtype: int64"
      ]
     },
     "execution_count": 188,
     "metadata": {},
     "output_type": "execute_result"
    }
   ],
   "source": [
    "health_pol = expanded_query(w2v,'health policy',steps=2) \n",
    "\n",
    "health_pol.head(n=10)"
   ]
  },
  {
   "cell_type": "markdown",
   "metadata": {},
   "source": [
    "Lots of relevant keywords...but how many projects?"
   ]
  },
  {
   "cell_type": "code",
   "execution_count": 198,
   "metadata": {},
   "outputs": [],
   "source": [
    "def extract_projects(df,term_list,appearances):\n",
    "    '''\n",
    "    Returns projects if relevant terms appear in it. Relevance is based on the number of times a term\n",
    "    appeared in the expanded kw search\n",
    "    \n",
    "    '''\n",
    "    \n",
    "    terms = term_list.index[term_list>appearances]\n",
    "    \n",
    "    print(terms)\n",
    "    \n",
    "    projs = df.loc[[any(x in mesh for x in terms) for mesh in df.mesh_lower]]\n",
    "    \n",
    "    print(len(projs))\n",
    "    \n",
    "    return(projs)"
   ]
  },
  {
   "cell_type": "code",
   "execution_count": 199,
   "metadata": {},
   "outputs": [
    {
     "name": "stdout",
     "output_type": "stream",
     "text": [
      "Index(['documentation', 'referral and consultation', 'information services',\n",
      "       'information storage and retrieval', 'computers, handheld', 'marketing',\n",
      "       'books', 'information management', 'telecommunications',\n",
      "       'resource allocation', 'documentation', 'machine learning',\n",
      "       'computer systems', 'information storage and retrieval', 'algorithms',\n",
      "       'microcomputers', 'internet', 'cluster analysis', 'automation',\n",
      "       'computer communication networks'],\n",
      "      dtype='object')\n",
      "73601\n"
     ]
    }
   ],
   "source": [
    "digital_projects = extract_projects(wr,\n",
    "                                    pd.concat([online_synonyms,software_synonyms]),\n",
    "                                    3)"
   ]
  },
  {
   "cell_type": "code",
   "execution_count": 200,
   "metadata": {},
   "outputs": [
    {
     "name": "stdout",
     "output_type": "stream",
     "text": [
      "Index(['personality', 'social class', 'anger', 'health behavior',\n",
      "       'social support', 'self concept', 'marital status', 'peer group',\n",
      "       'interpersonal relations', 'sexuality', 'risk reduction behavior',\n",
      "       'health education', 'health status indicators', 'life style',\n",
      "       'attitude', 'social support', 'health promotion', 'health status',\n",
      "       'social class', 'exercise'],\n",
      "      dtype='object')\n",
      "69456\n"
     ]
    }
   ],
   "source": [
    "social_projects = extract_projects(wr,\n",
    "                                   pd.concat([social_env,peer]),\n",
    "                                    3)"
   ]
  },
  {
   "cell_type": "code",
   "execution_count": 201,
   "metadata": {},
   "outputs": [
    {
     "name": "stdout",
     "output_type": "stream",
     "text": [
      "Index(['health personnel', 'quality of health care',\n",
      "       'health services accessibility', 'policy making',\n",
      "       'evidence-based practice', 'insurance coverage', 'economics, medical',\n",
      "       'health services research', 'public policy'],\n",
      "      dtype='object')\n",
      "21068\n"
     ]
    }
   ],
   "source": [
    "policy_projects = extract_projects(wr,\n",
    "                                  health_pol,3)"
   ]
  },
  {
   "cell_type": "markdown",
   "metadata": {},
   "source": [
    "Non-insignificant numbers. There will be duplicates though!"
   ]
  },
  {
   "cell_type": "code",
   "execution_count": 209,
   "metadata": {},
   "outputs": [],
   "source": [
    "def sample_projects(df,variable,sample_size,length_text):\n",
    "    '''\n",
    "    Sample some projects\n",
    "    '''\n",
    "    \n",
    "    rel= random.sample(list(df[variable]),sample_size)\n",
    "    \n",
    "    for item in rel:\n",
    "        \n",
    "        print(item[:length_text])\n",
    "        print('\\n')\n",
    "    "
   ]
  },
  {
   "cell_type": "code",
   "execution_count": 212,
   "metadata": {},
   "outputs": [
    {
     "name": "stdout",
     "output_type": "stream",
     "text": [
      " DESCRIPTION (provided by applicant): Morbidity and mortality associated with vehicular crashes are a major public health concern, accompanied by great fiscal and emotional costs. While Type 1 Diabetes Mellitus (T1DM) drivers have over twice as many driving mishaps as non-diabetic drivers, this is accounted for by a subgroup. What is needed is a way to identify those diabetic drivers who are at high-risk, and interventions that can reduce this risk. We demonstrated that this high-risk subgroup d\n",
      "\n",
      "\n",
      "DESCRIPTION (provided by applicant) A number of barriers, both real and perceived, tend to hinder the recruitment of patients, and by extension, minorities and poor people into clinical oncology trials at community centers. In order to initiate the opportunity to participate in clinical research at the community level, we have developed a collaborative regional network, The Radiation Oncology Community Outreach Group (ROCOG), based at UPMC McKeesport Hospital, that will build the infrastructure \n",
      "\n",
      "\n",
      "The data management approach of the Program Project is an integrated statistics, data management and data protection solution. The Data Management and Statistics Core receives, stores, catalogues, tracks and integrates all data generated by the Cores and Projects in this Program Project Grant and provides expert advice for the statistical analysis of data components or integrations. A new data management plan has been developed, and its components have been deployed, during the past 18 months. A\n",
      "\n",
      "\n",
      "METHODOLOGY AND DATA MANAGEMENT CORE DESCRIPTION: The Methodology and Data Management Core ( (MDMC) serves as a function core, providing support and consultation for other cores on intervention design, data management, statistical analyses, and measurement. In addition to these support functions, the Core is active in the development of new methodological tools for prevention sciences, including innovations in design, statistical methods, and measurement. The MDMC has 4 overall missions: 1) to m\n",
      "\n",
      "\n",
      "This effort prototypes a new 21st century biomedical [unreadable]ecosystem[unreadable] in the cancer community. The information technology platform underpinning this effort is the caBIG[unreadable] ([unreadable]ca[unreadable] for cancer and [unreadable]BIG[unreadable] for the Biomedical Informatics Grid). caBIG[unreadable] flexibly connects local data and applications with software, data, and infrastructure services offered through the internet [unreadable]cloud[unreadable], using a semantically\n",
      "\n",
      "\n"
     ]
    }
   ],
   "source": [
    "sample_projects(digital_projects,'textBody_abstract_project',5,500)"
   ]
  },
  {
   "cell_type": "code",
   "execution_count": 213,
   "metadata": {},
   "outputs": [
    {
     "name": "stdout",
     "output_type": "stream",
     "text": [
      "There are distinct gaps in our understanding of the link between obesity and/or fat distribution and increased disease risk in adolescent children. We propose a 5-year longitudinal study to examine the temporal relationships between changes in body fat, body fat pattern, insulin sensitivity, lipd profile, physical activity, and sex hormones during adolescent growth. We will use state-of-the-art techniques for measuring total body fat (4-compartment model), body fat pattern (dual energy X-ray abs\n",
      "\n",
      "\n",
      "Our specific aim is to use and enrich existing patient self report and group level organizational data for patients receiving care in one of 58 managed care medical groups in California and the Pacific Northwest for the systematic analysis of the quality of medical are under varying features of managed care organizations. This collaborative effort between UCLA and the Pacific Business Group on Health (PBGH) will take place in an existing real world managed care laboratory whose infrastructure ha\n",
      "\n",
      "\n",
      "In North Carolina, South Carolina and Georgia, Cooperative Extension Services, Land grant and state universities, and the Greenville (SC) Hospital System have formed a consortium to reduce cancer morbidity and mortality in their Appalachian counties. This effort is further supported by the State Health Departments (Cancer Control, Assist and Health Promotion programs), the American Cancer Society, and the Regional Cancer Information Service. Study Design: TSALIC is a multi-site, randomized, cont\n",
      "\n",
      "\n",
      "The purpose of this study is to describe and correlate the relationship between the diet and exercise behaviors of parents and their preadolescent children. The specific aims of the proposed study include: to describe and compare (a) the diet and exercise behavior, perceived health status, self-efficacy, definition of health and health promoting lifestyle characteristics of preadolescents and their parents, and (b) to compare preadolescents and their parents' diet and exercise behaviors to their\n",
      "\n",
      "\n",
      " DESCRIPTION (provided by applicant): Fast and effective communication is the key to minimizing confusion, anxiety, and casualties both during and after a public health emergency. The ability of emergency services personnel to relay clear instructions, particularly to vulnerable populations, results in better understanding of the situation by the population and faster compliance with these instructions. As America's population ages, the number of people in senior living communities is growing ra\n",
      "\n",
      "\n"
     ]
    }
   ],
   "source": [
    "sample_projects(social_projects,'textBody_abstract_project',5,500)"
   ]
  },
  {
   "cell_type": "code",
   "execution_count": 214,
   "metadata": {},
   "outputs": [
    {
     "ename": "KeyError",
     "evalue": "'textBody_abstract_project'",
     "output_type": "error",
     "traceback": [
      "\u001b[0;31m---------------------------------------------------------------------------\u001b[0m",
      "\u001b[0;31mTypeError\u001b[0m                                 Traceback (most recent call last)",
      "\u001b[0;32m/usr/local/lib/python3.7/site-packages/pandas/core/indexes/base.py\u001b[0m in \u001b[0;36mget_value\u001b[0;34m(self, series, key)\u001b[0m\n\u001b[1;32m   3123\u001b[0m             \u001b[0;32mtry\u001b[0m\u001b[0;34m:\u001b[0m\u001b[0;34m\u001b[0m\u001b[0m\n\u001b[0;32m-> 3124\u001b[0;31m                 \u001b[0;32mreturn\u001b[0m \u001b[0mlibindex\u001b[0m\u001b[0;34m.\u001b[0m\u001b[0mget_value_box\u001b[0m\u001b[0;34m(\u001b[0m\u001b[0ms\u001b[0m\u001b[0;34m,\u001b[0m \u001b[0mkey\u001b[0m\u001b[0;34m)\u001b[0m\u001b[0;34m\u001b[0m\u001b[0m\n\u001b[0m\u001b[1;32m   3125\u001b[0m             \u001b[0;32mexcept\u001b[0m \u001b[0mIndexError\u001b[0m\u001b[0;34m:\u001b[0m\u001b[0;34m\u001b[0m\u001b[0m\n",
      "\u001b[0;32mpandas/_libs/index.pyx\u001b[0m in \u001b[0;36mpandas._libs.index.get_value_box\u001b[0;34m()\u001b[0m\n",
      "\u001b[0;32mpandas/_libs/index.pyx\u001b[0m in \u001b[0;36mpandas._libs.index.get_value_box\u001b[0;34m()\u001b[0m\n",
      "\u001b[0;31mTypeError\u001b[0m: 'str' object cannot be interpreted as an integer",
      "\nDuring handling of the above exception, another exception occurred:\n",
      "\u001b[0;31mKeyError\u001b[0m                                  Traceback (most recent call last)",
      "\u001b[0;32m<ipython-input-214-2efca017d668>\u001b[0m in \u001b[0;36m<module>\u001b[0;34m()\u001b[0m\n\u001b[0;32m----> 1\u001b[0;31m \u001b[0msample_projects\u001b[0m\u001b[0;34m(\u001b[0m\u001b[0mhealth_pol\u001b[0m\u001b[0;34m,\u001b[0m\u001b[0;34m'textBody_abstract_project'\u001b[0m\u001b[0;34m,\u001b[0m\u001b[0;36m5\u001b[0m\u001b[0;34m,\u001b[0m\u001b[0;36m500\u001b[0m\u001b[0;34m)\u001b[0m\u001b[0;34m\u001b[0m\u001b[0m\n\u001b[0m",
      "\u001b[0;32m<ipython-input-209-ab3ea65ca47a>\u001b[0m in \u001b[0;36msample_projects\u001b[0;34m(df, variable, sample_size, length_text)\u001b[0m\n\u001b[1;32m      4\u001b[0m     '''\n\u001b[1;32m      5\u001b[0m \u001b[0;34m\u001b[0m\u001b[0m\n\u001b[0;32m----> 6\u001b[0;31m     \u001b[0mrel\u001b[0m\u001b[0;34m=\u001b[0m \u001b[0mrandom\u001b[0m\u001b[0;34m.\u001b[0m\u001b[0msample\u001b[0m\u001b[0;34m(\u001b[0m\u001b[0mlist\u001b[0m\u001b[0;34m(\u001b[0m\u001b[0mdf\u001b[0m\u001b[0;34m[\u001b[0m\u001b[0mvariable\u001b[0m\u001b[0;34m]\u001b[0m\u001b[0;34m)\u001b[0m\u001b[0;34m,\u001b[0m\u001b[0msample_size\u001b[0m\u001b[0;34m)\u001b[0m\u001b[0;34m\u001b[0m\u001b[0m\n\u001b[0m\u001b[1;32m      7\u001b[0m \u001b[0;34m\u001b[0m\u001b[0m\n\u001b[1;32m      8\u001b[0m     \u001b[0;32mfor\u001b[0m \u001b[0mitem\u001b[0m \u001b[0;32min\u001b[0m \u001b[0mrel\u001b[0m\u001b[0;34m:\u001b[0m\u001b[0;34m\u001b[0m\u001b[0m\n",
      "\u001b[0;32m/usr/local/lib/python3.7/site-packages/pandas/core/series.py\u001b[0m in \u001b[0;36m__getitem__\u001b[0;34m(self, key)\u001b[0m\n\u001b[1;32m    765\u001b[0m         \u001b[0mkey\u001b[0m \u001b[0;34m=\u001b[0m \u001b[0mcom\u001b[0m\u001b[0;34m.\u001b[0m\u001b[0m_apply_if_callable\u001b[0m\u001b[0;34m(\u001b[0m\u001b[0mkey\u001b[0m\u001b[0;34m,\u001b[0m \u001b[0mself\u001b[0m\u001b[0;34m)\u001b[0m\u001b[0;34m\u001b[0m\u001b[0m\n\u001b[1;32m    766\u001b[0m         \u001b[0;32mtry\u001b[0m\u001b[0;34m:\u001b[0m\u001b[0;34m\u001b[0m\u001b[0m\n\u001b[0;32m--> 767\u001b[0;31m             \u001b[0mresult\u001b[0m \u001b[0;34m=\u001b[0m \u001b[0mself\u001b[0m\u001b[0;34m.\u001b[0m\u001b[0mindex\u001b[0m\u001b[0;34m.\u001b[0m\u001b[0mget_value\u001b[0m\u001b[0;34m(\u001b[0m\u001b[0mself\u001b[0m\u001b[0;34m,\u001b[0m \u001b[0mkey\u001b[0m\u001b[0;34m)\u001b[0m\u001b[0;34m\u001b[0m\u001b[0m\n\u001b[0m\u001b[1;32m    768\u001b[0m \u001b[0;34m\u001b[0m\u001b[0m\n\u001b[1;32m    769\u001b[0m             \u001b[0;32mif\u001b[0m \u001b[0;32mnot\u001b[0m \u001b[0mis_scalar\u001b[0m\u001b[0;34m(\u001b[0m\u001b[0mresult\u001b[0m\u001b[0;34m)\u001b[0m\u001b[0;34m:\u001b[0m\u001b[0;34m\u001b[0m\u001b[0m\n",
      "\u001b[0;32m/usr/local/lib/python3.7/site-packages/pandas/core/indexes/base.py\u001b[0m in \u001b[0;36mget_value\u001b[0;34m(self, series, key)\u001b[0m\n\u001b[1;32m   3130\u001b[0m                     \u001b[0;32mraise\u001b[0m \u001b[0mInvalidIndexError\u001b[0m\u001b[0;34m(\u001b[0m\u001b[0mkey\u001b[0m\u001b[0;34m)\u001b[0m\u001b[0;34m\u001b[0m\u001b[0m\n\u001b[1;32m   3131\u001b[0m                 \u001b[0;32melse\u001b[0m\u001b[0;34m:\u001b[0m\u001b[0;34m\u001b[0m\u001b[0m\n\u001b[0;32m-> 3132\u001b[0;31m                     \u001b[0;32mraise\u001b[0m \u001b[0me1\u001b[0m\u001b[0;34m\u001b[0m\u001b[0m\n\u001b[0m\u001b[1;32m   3133\u001b[0m             \u001b[0;32mexcept\u001b[0m \u001b[0mException\u001b[0m\u001b[0;34m:\u001b[0m  \u001b[0;31m# pragma: no cover\u001b[0m\u001b[0;34m\u001b[0m\u001b[0m\n\u001b[1;32m   3134\u001b[0m                 \u001b[0;32mraise\u001b[0m \u001b[0me1\u001b[0m\u001b[0;34m\u001b[0m\u001b[0m\n",
      "\u001b[0;32m/usr/local/lib/python3.7/site-packages/pandas/core/indexes/base.py\u001b[0m in \u001b[0;36mget_value\u001b[0;34m(self, series, key)\u001b[0m\n\u001b[1;32m   3116\u001b[0m         \u001b[0;32mtry\u001b[0m\u001b[0;34m:\u001b[0m\u001b[0;34m\u001b[0m\u001b[0m\n\u001b[1;32m   3117\u001b[0m             return self._engine.get_value(s, k,\n\u001b[0;32m-> 3118\u001b[0;31m                                           tz=getattr(series.dtype, 'tz', None))\n\u001b[0m\u001b[1;32m   3119\u001b[0m         \u001b[0;32mexcept\u001b[0m \u001b[0mKeyError\u001b[0m \u001b[0;32mas\u001b[0m \u001b[0me1\u001b[0m\u001b[0;34m:\u001b[0m\u001b[0;34m\u001b[0m\u001b[0m\n\u001b[1;32m   3120\u001b[0m             \u001b[0;32mif\u001b[0m \u001b[0mlen\u001b[0m\u001b[0;34m(\u001b[0m\u001b[0mself\u001b[0m\u001b[0;34m)\u001b[0m \u001b[0;34m>\u001b[0m \u001b[0;36m0\u001b[0m \u001b[0;32mand\u001b[0m \u001b[0mself\u001b[0m\u001b[0;34m.\u001b[0m\u001b[0minferred_type\u001b[0m \u001b[0;32min\u001b[0m \u001b[0;34m[\u001b[0m\u001b[0;34m'integer'\u001b[0m\u001b[0;34m,\u001b[0m \u001b[0;34m'boolean'\u001b[0m\u001b[0;34m]\u001b[0m\u001b[0;34m:\u001b[0m\u001b[0;34m\u001b[0m\u001b[0m\n",
      "\u001b[0;32mpandas/_libs/index.pyx\u001b[0m in \u001b[0;36mpandas._libs.index.IndexEngine.get_value\u001b[0;34m()\u001b[0m\n",
      "\u001b[0;32mpandas/_libs/index.pyx\u001b[0m in \u001b[0;36mpandas._libs.index.IndexEngine.get_value\u001b[0;34m()\u001b[0m\n",
      "\u001b[0;32mpandas/_libs/index.pyx\u001b[0m in \u001b[0;36mpandas._libs.index.IndexEngine.get_loc\u001b[0;34m()\u001b[0m\n",
      "\u001b[0;32mpandas/_libs/hashtable_class_helper.pxi\u001b[0m in \u001b[0;36mpandas._libs.hashtable.PyObjectHashTable.get_item\u001b[0;34m()\u001b[0m\n",
      "\u001b[0;32mpandas/_libs/hashtable_class_helper.pxi\u001b[0m in \u001b[0;36mpandas._libs.hashtable.PyObjectHashTable.get_item\u001b[0;34m()\u001b[0m\n",
      "\u001b[0;31mKeyError\u001b[0m: 'textBody_abstract_project'"
     ]
    }
   ],
   "source": [
    "sample_projects(health_pol,'textBody_abstract_project',5,500)"
   ]
  },
  {
   "cell_type": "code",
   "execution_count": null,
   "metadata": {},
   "outputs": [],
   "source": []
  }
 ],
 "metadata": {
  "kernelspec": {
   "display_name": "Python 3",
   "language": "python",
   "name": "python3"
  },
  "language_info": {
   "codemirror_mode": {
    "name": "ipython",
    "version": 3
   },
   "file_extension": ".py",
   "mimetype": "text/x-python",
   "name": "python",
   "nbconvert_exporter": "python",
   "pygments_lexer": "ipython3",
   "version": "3.7.0"
  }
 },
 "nbformat": 4,
 "nbformat_minor": 2
}
