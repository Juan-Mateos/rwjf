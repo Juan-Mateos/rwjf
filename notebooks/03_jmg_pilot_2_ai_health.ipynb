{
 "cells": [
  {
   "cell_type": "markdown",
   "metadata": {},
   "source": [
    "# Pilot 2: An analysis of AI in health\n",
    "\n",
    "This pilot for the RWJF project sets out to identify AI innovations which could be of interest for the RWJF.\n",
    "\n",
    "We use a combined dataset including:\n",
    "\n",
    "* GDB, the grant database we are working on for pilot 1 including data from:\n",
    "  * [Gateway to Research](http:/http://gtr.ukri.org/) a database with information about research projects funded in the UK\n",
    "  * [Innovate UK](https://www.gov.uk/government/publications/innovate-uk-funded-projects)  \n",
    "  * [AHRQ](https://www.ahrq.gov/), agency healthcare research and quality, a public body supporting health research in the USA\n",
    "  * [H2020](https://cordis.europa.eu/home_en.html), a database with EU R&D data\n",
    "  * , a startup and tech company database\n",
    "  * RWJF (the Robert Woods Johnson Foundation open dataset)\n",
    "  * World reporter (TODO: Discover what this is)\n",
    "  \n",
    "* [Crunchbase](https://www.crunchbase.com/) a database of startup activity that we recently licensed\n",
    "* GitHub, an open source database. \n",
    "\n",
    "How do we identify ai projects in the data? We will use Clio, an information retrieval system which extracts relevant documents from a corpus of data, and a supervised approach potentially based on labelled data such as CrunchBase or Gateway to Research. Another important output of the analysis is a better understanding of the contents of the GDB, which will be relevant for pilot 1.\n",
    "\n",
    "The activities I will follow are as usual:\n",
    "\n",
    "1. Preamble including imports, directories, functions and classes.\n",
    "2. Load data and any necessary metadata\n",
    "3. Exploratory data analysis: what's in there? what are the questions about interpretation and provenance?\n",
    "4. Classification: Identify AI and health projects in the data. Think about how this analysis will include the classification developed by George Richardson (to understand the domain of health where a project sits)\n",
    "5. Reporting\n",
    "\n",
    "\n"
   ]
  },
  {
   "cell_type": "markdown",
   "metadata": {},
   "source": [
    "### Imports and paths go here"
   ]
  },
  {
   "cell_type": "code",
   "execution_count": 1,
   "metadata": {},
   "outputs": [],
   "source": [
    "# %load preamble.py\n",
    "%matplotlib inline\n",
    "#NB I open a standard set of directories\n",
    "\n",
    "#Paths\n",
    "\n",
    "#Get the top path\n",
    "top_path = os.path.dirname(os.getcwd())\n",
    "\n",
    "#Create the path for external data\n",
    "ext_data = os.path.join(top_path,'data/external')\n",
    "\n",
    "#Raw path (for html downloads)\n",
    "\n",
    "raw_data = os.path.join(top_path,'data/raw')\n",
    "\n",
    "#And external data\n",
    "proc_data = os.path.join(top_path,'data/processed')\n",
    "\n",
    "fig_path = os.path.join(top_path,'reports/figures')\n",
    "\n",
    "#Get date for saving files\n",
    "today = datetime.datetime.today()\n",
    "\n",
    "today_str = \"_\".join([str(x) for x in [today.day,today.month,today.year]])"
   ]
  },
  {
   "cell_type": "code",
   "execution_count": 521,
   "metadata": {},
   "outputs": [],
   "source": [
    "#And the model path\n",
    "mod_path = os.path.join(top_path,'models/')"
   ]
  },
  {
   "cell_type": "markdown",
   "metadata": {},
   "source": [
    "### Functions and classes go here"
   ]
  },
  {
   "cell_type": "code",
   "execution_count": 198,
   "metadata": {},
   "outputs": [],
   "source": [
    "def flatten_list(my_list):\n",
    "    '''\n",
    "    Flattens a list\n",
    "    '''\n",
    "    \n",
    "    return([x for el in my_list for x in el])"
   ]
  },
  {
   "cell_type": "markdown",
   "metadata": {},
   "source": [
    "## 1. Load data\n",
    "\n",
    "We load the data. \n",
    "\n",
    "**Data dictionary**\n",
    "\n",
    "\n",
    "\n",
    "* **GH User ID**: Github User ID.\n",
    "* **GDB Dataset ID**: Only for Grants DB. Shows the dataset (Grants.gov, Research.gov, AHRQ, H2020, Innovateuk, GtR, RWJF, World Explorer) of the instance.\n",
    "* **Source ID**: Can be Crunchbase, GitHub or GDB\n",
    "* **Start Date**: Incorporation date, project starting date or the date that a Github repo was created.\n",
    "* **Status**: Only for CB and GDB source datasets. Shows if the company/funded project is active.\n",
    "* **GH User Creation Date**: Only for Github. Creation date of a user's Github profile.\n",
    "* **Description**: Description of a company/funded project/github repo. \n",
    "* **Funding**: Only for CB and GDB source datasets. Shows the VC investment / public funds that companies have got. \n",
    "* **Row ID**: Every row has a unique ID that corresponds to the Crunchbase ID / Funded Project ID / Github repo ID.\n",
    "* **Currency**: Only for CB and GDB source datasets. Can be USD, EUR, GBP.\n",
    "* **CB Category Group List**: Only for CB. Broad categories of a Crunchbase company.\n",
    "* **GH User Type**: Only for Github. A user can be either a company or a user (individual person).\n",
    "* **CB Number of Employees**: Only for CB. Number of individuals employeed by a company.\n",
    "* **CB Category List**: Only for CB. Categories of a Crunchbase company. More granular than *CB Category Group List*\n",
    "* **CB Role**: Only for CB. Shows if an organisation is a company, investor or school.\n",
    "* **End Date**: Only for CB and GDB. Shows when a company closed and when a funded project finished. I would trust *Status* more for CB dataset.\n",
    "* **GH Valid Description**: Only for Github. Binary column, shows if a description has five or more tokens.\n",
    "* **Name**: Company name, Participant in a funded project name, github repo name.\n",
    "* **administrative_area_level_1**: Only for GDB at this point. \n",
    "* **administrative_area_level_2**: Only for GDB at this point. \n",
    "* **lng**: Only for GDB and Github. Longitude.\n",
    "* **lat**: Only for GDB and Github. Latitude.\n",
    "* **country**: Only for GDB at this point. \n",
    "\n",
    "Some observations / questions: \n",
    "\n",
    "* Is each GitHub project assigned to an individual and company?\n",
    "* Do the GitHub projects include forks?\n",
    "* We currently don't know the locations of GitHub projects. It would be easy to geocode them on the lat-lon but we'll leave it for now (Kostas is working on the geocoding anyway).\n",
    "* We will need to revise the Innovate UK funding data (in that database, the levels of funding allocated to a project are per organisation, not project). Need to determine what's the situation with the other sources.\n",
    "* How are projects with multiple organisations geocoded (eg GTR)? Are they geocoded to the lead organisation, to the first one to be deduplicated?\n"
   ]
  },
  {
   "cell_type": "code",
   "execution_count": 2,
   "metadata": {},
   "outputs": [
    {
     "name": "stderr",
     "output_type": "stream",
     "text": [
      "/usr/local/lib/python3.5/site-packages/IPython/core/interactiveshell.py:2785: DtypeWarning: Columns (2,5,6,8,9,10,11,12,13,14,15,16,19,20,23) have mixed types. Specify dtype option on import or set low_memory=False.\n",
      "  interactivity=interactivity, compiler=compiler, result=result)\n"
     ]
    }
   ],
   "source": [
    "#Here we load the data. Note that it was compressed with gzip.\n",
    "data = pd.read_csv(ext_data+'/gh_cb_gdb_v1.csv', compression='gzip')"
   ]
  },
  {
   "cell_type": "code",
   "execution_count": 3,
   "metadata": {},
   "outputs": [],
   "source": [
    "#Tidy columns (lowercases, no spaces)\n",
    "data.columns = [re.sub(' ','_',x.lower()) for x in data.columns]"
   ]
  },
  {
   "cell_type": "markdown",
   "metadata": {},
   "source": [
    "## 2. Explore data\n",
    "\n",
    "Initial data exploration to answer questions such as:\n",
    "\n",
    "1. How missing values are there in each variable\n",
    "2. How do we standardise funding amounts?\n",
    "3. Do we need to standardise dates? How?\n"
   ]
  },
  {
   "cell_type": "code",
   "execution_count": 4,
   "metadata": {},
   "outputs": [
    {
     "data": {
      "text/html": [
       "<div>\n",
       "<style scoped>\n",
       "    .dataframe tbody tr th:only-of-type {\n",
       "        vertical-align: middle;\n",
       "    }\n",
       "\n",
       "    .dataframe tbody tr th {\n",
       "        vertical-align: top;\n",
       "    }\n",
       "\n",
       "    .dataframe thead th {\n",
       "        text-align: right;\n",
       "    }\n",
       "</style>\n",
       "<table border=\"1\" class=\"dataframe\">\n",
       "  <thead>\n",
       "    <tr style=\"text-align: right;\">\n",
       "      <th></th>\n",
       "      <th>unnamed:_0</th>\n",
       "      <th>gh_user_id</th>\n",
       "      <th>gdb_dataset_id</th>\n",
       "      <th>source_id</th>\n",
       "      <th>start_date</th>\n",
       "      <th>status</th>\n",
       "      <th>gh_user_creation_date</th>\n",
       "      <th>description</th>\n",
       "      <th>funding</th>\n",
       "      <th>row_id</th>\n",
       "      <th>...</th>\n",
       "      <th>cb_category_list</th>\n",
       "      <th>cb_role</th>\n",
       "      <th>end_date</th>\n",
       "      <th>gh_valid_description</th>\n",
       "      <th>name</th>\n",
       "      <th>administrative_area_level_1</th>\n",
       "      <th>administrative_area_level_2</th>\n",
       "      <th>lng</th>\n",
       "      <th>lat</th>\n",
       "      <th>country</th>\n",
       "    </tr>\n",
       "  </thead>\n",
       "  <tbody>\n",
       "    <tr>\n",
       "      <th>0</th>\n",
       "      <td>0</td>\n",
       "      <td>NaN</td>\n",
       "      <td>gtr</td>\n",
       "      <td>GDB</td>\n",
       "      <td>2012-10-01 00:00:00</td>\n",
       "      <td>Closed</td>\n",
       "      <td>NaN</td>\n",
       "      <td>Over the last fifty years, accelerators of eve...</td>\n",
       "      <td>26776</td>\n",
       "      <td>http://gtr.rcuk.ac.uk:80/gtr/api/projects/0004...</td>\n",
       "      <td>...</td>\n",
       "      <td>NaN</td>\n",
       "      <td>NaN</td>\n",
       "      <td>NaN</td>\n",
       "      <td>NaN</td>\n",
       "      <td>University College London</td>\n",
       "      <td>England</td>\n",
       "      <td>Greater London</td>\n",
       "      <td>-0.132718</td>\n",
       "      <td>51.524469</td>\n",
       "      <td>United Kingdom</td>\n",
       "    </tr>\n",
       "    <tr>\n",
       "      <th>1</th>\n",
       "      <td>1</td>\n",
       "      <td>NaN</td>\n",
       "      <td>gtr</td>\n",
       "      <td>GDB</td>\n",
       "      <td>2002-02-01 00:00:00</td>\n",
       "      <td>Closed</td>\n",
       "      <td>NaN</td>\n",
       "      <td>Abstracts are not currently available in GtR f...</td>\n",
       "      <td>187427</td>\n",
       "      <td>http://gtr.rcuk.ac.uk:80/gtr/api/projects/000C...</td>\n",
       "      <td>...</td>\n",
       "      <td>NaN</td>\n",
       "      <td>NaN</td>\n",
       "      <td>NaN</td>\n",
       "      <td>NaN</td>\n",
       "      <td>University College London</td>\n",
       "      <td>England</td>\n",
       "      <td>Greater London</td>\n",
       "      <td>-0.132718</td>\n",
       "      <td>51.524469</td>\n",
       "      <td>United Kingdom</td>\n",
       "    </tr>\n",
       "    <tr>\n",
       "      <th>2</th>\n",
       "      <td>2</td>\n",
       "      <td>NaN</td>\n",
       "      <td>gtr</td>\n",
       "      <td>GDB</td>\n",
       "      <td>1998-10-01 00:00:00</td>\n",
       "      <td>Closed</td>\n",
       "      <td>NaN</td>\n",
       "      <td>The question of how the human brain develops o...</td>\n",
       "      <td>3.00761e+06</td>\n",
       "      <td>http://gtr.rcuk.ac.uk:80/gtr/api/projects/002D...</td>\n",
       "      <td>...</td>\n",
       "      <td>NaN</td>\n",
       "      <td>NaN</td>\n",
       "      <td>NaN</td>\n",
       "      <td>NaN</td>\n",
       "      <td>University College London</td>\n",
       "      <td>England</td>\n",
       "      <td>Greater London</td>\n",
       "      <td>-0.132718</td>\n",
       "      <td>51.524469</td>\n",
       "      <td>United Kingdom</td>\n",
       "    </tr>\n",
       "    <tr>\n",
       "      <th>3</th>\n",
       "      <td>3</td>\n",
       "      <td>NaN</td>\n",
       "      <td>gtr</td>\n",
       "      <td>GDB</td>\n",
       "      <td>2012-06-30 00:00:00</td>\n",
       "      <td>Closed</td>\n",
       "      <td>NaN</td>\n",
       "      <td>T-cells are white blood cells that enable us t...</td>\n",
       "      <td>465999</td>\n",
       "      <td>http://gtr.rcuk.ac.uk:80/gtr/api/projects/0042...</td>\n",
       "      <td>...</td>\n",
       "      <td>NaN</td>\n",
       "      <td>NaN</td>\n",
       "      <td>NaN</td>\n",
       "      <td>NaN</td>\n",
       "      <td>University College London</td>\n",
       "      <td>England</td>\n",
       "      <td>Greater London</td>\n",
       "      <td>-0.132718</td>\n",
       "      <td>51.524469</td>\n",
       "      <td>United Kingdom</td>\n",
       "    </tr>\n",
       "    <tr>\n",
       "      <th>4</th>\n",
       "      <td>4</td>\n",
       "      <td>NaN</td>\n",
       "      <td>gtr</td>\n",
       "      <td>GDB</td>\n",
       "      <td>2010-09-01 00:00:00</td>\n",
       "      <td>Closed</td>\n",
       "      <td>NaN</td>\n",
       "      <td>When excavators dug al-Bahnasa, some 200 km so...</td>\n",
       "      <td>851035</td>\n",
       "      <td>http://gtr.rcuk.ac.uk:80/gtr/api/projects/005B...</td>\n",
       "      <td>...</td>\n",
       "      <td>NaN</td>\n",
       "      <td>NaN</td>\n",
       "      <td>NaN</td>\n",
       "      <td>NaN</td>\n",
       "      <td>University College London</td>\n",
       "      <td>England</td>\n",
       "      <td>Greater London</td>\n",
       "      <td>-0.132718</td>\n",
       "      <td>51.524469</td>\n",
       "      <td>United Kingdom</td>\n",
       "    </tr>\n",
       "  </tbody>\n",
       "</table>\n",
       "<p>5 rows × 24 columns</p>\n",
       "</div>"
      ],
      "text/plain": [
       "   unnamed:_0  gh_user_id gdb_dataset_id source_id           start_date  \\\n",
       "0           0         NaN            gtr       GDB  2012-10-01 00:00:00   \n",
       "1           1         NaN            gtr       GDB  2002-02-01 00:00:00   \n",
       "2           2         NaN            gtr       GDB  1998-10-01 00:00:00   \n",
       "3           3         NaN            gtr       GDB  2012-06-30 00:00:00   \n",
       "4           4         NaN            gtr       GDB  2010-09-01 00:00:00   \n",
       "\n",
       "   status gh_user_creation_date  \\\n",
       "0  Closed                   NaN   \n",
       "1  Closed                   NaN   \n",
       "2  Closed                   NaN   \n",
       "3  Closed                   NaN   \n",
       "4  Closed                   NaN   \n",
       "\n",
       "                                         description      funding  \\\n",
       "0  Over the last fifty years, accelerators of eve...        26776   \n",
       "1  Abstracts are not currently available in GtR f...       187427   \n",
       "2  The question of how the human brain develops o...  3.00761e+06   \n",
       "3  T-cells are white blood cells that enable us t...       465999   \n",
       "4  When excavators dug al-Bahnasa, some 200 km so...       851035   \n",
       "\n",
       "                                              row_id       ...        \\\n",
       "0  http://gtr.rcuk.ac.uk:80/gtr/api/projects/0004...       ...         \n",
       "1  http://gtr.rcuk.ac.uk:80/gtr/api/projects/000C...       ...         \n",
       "2  http://gtr.rcuk.ac.uk:80/gtr/api/projects/002D...       ...         \n",
       "3  http://gtr.rcuk.ac.uk:80/gtr/api/projects/0042...       ...         \n",
       "4  http://gtr.rcuk.ac.uk:80/gtr/api/projects/005B...       ...         \n",
       "\n",
       "  cb_category_list cb_role end_date gh_valid_description  \\\n",
       "0              NaN     NaN      NaN                  NaN   \n",
       "1              NaN     NaN      NaN                  NaN   \n",
       "2              NaN     NaN      NaN                  NaN   \n",
       "3              NaN     NaN      NaN                  NaN   \n",
       "4              NaN     NaN      NaN                  NaN   \n",
       "\n",
       "                        name administrative_area_level_1  \\\n",
       "0  University College London                     England   \n",
       "1  University College London                     England   \n",
       "2  University College London                     England   \n",
       "3  University College London                     England   \n",
       "4  University College London                     England   \n",
       "\n",
       "  administrative_area_level_2       lng        lat         country  \n",
       "0              Greater London -0.132718  51.524469  United Kingdom  \n",
       "1              Greater London -0.132718  51.524469  United Kingdom  \n",
       "2              Greater London -0.132718  51.524469  United Kingdom  \n",
       "3              Greater London -0.132718  51.524469  United Kingdom  \n",
       "4              Greater London -0.132718  51.524469  United Kingdom  \n",
       "\n",
       "[5 rows x 24 columns]"
      ]
     },
     "execution_count": 4,
     "metadata": {},
     "output_type": "execute_result"
    }
   ],
   "source": [
    "data.head()"
   ]
  },
  {
   "cell_type": "code",
   "execution_count": 5,
   "metadata": {},
   "outputs": [
    {
     "data": {
      "text/plain": [
       "GitHub        5871898\n",
       "Crunchbase     662315\n",
       "GDB            358506\n",
       "Name: source_id, dtype: int64"
      ]
     },
     "execution_count": 5,
     "metadata": {},
     "output_type": "execute_result"
    }
   ],
   "source": [
    "#The overwhelming majority of projects come from GitHub\n",
    "data.source_id.value_counts()"
   ]
  },
  {
   "cell_type": "code",
   "execution_count": 6,
   "metadata": {},
   "outputs": [
    {
     "data": {
      "text/plain": [
       "rgov              155239\n",
       "gtr                79427\n",
       "H2020              63125\n",
       "innovateuk         31987\n",
       "world_reporter     15092\n",
       "rwjf                7315\n",
       "ahrq                6321\n",
       "Name: gdb_dataset_id, dtype: int64"
      ]
     },
     "execution_count": 6,
     "metadata": {},
     "output_type": "execute_result"
    }
   ],
   "source": [
    "#And what about the contents of GDB?\n",
    "data.gdb_dataset_id.value_counts()"
   ]
  },
  {
   "cell_type": "markdown",
   "metadata": {},
   "source": [
    "We need to write some documentation for each of these, using the fields in the data audits."
   ]
  },
  {
   "cell_type": "code",
   "execution_count": 7,
   "metadata": {},
   "outputs": [
    {
     "data": {
      "image/png": "[encoded data removed]",
      "text/plain": [
       "<Figure size 432x288 with 1 Axes>"
      ]
     },
     "metadata": {},
     "output_type": "display_data"
    }
   ],
   "source": [
    "#What are the percentage of missing values in all the data\n",
    "missing_all = (data.apply(lambda x: x.isna().sum(),axis=0)/len(data)).sort_values()\n",
    "\n",
    "missing_all.plot.bar(color='blue',title='Missing values fraction per variable')\n",
    "\n",
    "#We also store the order of the missing values. We will use this to sort data later\n",
    "miss_vars_sorted = missing_all.index\n"
   ]
  },
  {
   "cell_type": "markdown",
   "metadata": {},
   "source": [
    "This is not super-informative because many of the variables cover a single dataset"
   ]
  },
  {
   "cell_type": "code",
   "execution_count": 8,
   "metadata": {},
   "outputs": [],
   "source": [
    "#We want to process dates (just extract the years)\n",
    "#The prurpose is to look at trends and identify gaps and issues."
   ]
  },
  {
   "cell_type": "code",
   "execution_count": 9,
   "metadata": {},
   "outputs": [],
   "source": [
    "#First we need to acknowledge that each of the sources in GDB may have a different format.\n",
    "#The conditional in the list comprehension avoids concatenating a missing value if the data we are considering\n",
    "#is not in the GDB and therefore doesn't have a sub-source (ie grant source inside the grabt database)\n",
    "\n",
    "data['source_detailed'] = [str(x)+'_'+str(y) if str(y)!='nan' else str(x) for x,y in zip(data['source_id'],data['gdb_dataset_id'])]"
   ]
  },
  {
   "cell_type": "code",
   "execution_count": 10,
   "metadata": {},
   "outputs": [
    {
     "data": {
      "text/plain": [
       "GitHub                5871898\n",
       "Crunchbase             662315\n",
       "GDB_rgov               155239\n",
       "GDB_gtr                 79427\n",
       "GDB_H2020               63125\n",
       "GDB_innovateuk          31987\n",
       "GDB_world_reporter      15092\n",
       "GDB_rwjf                 7315\n",
       "GDB_ahrq                 6321\n",
       "Name: source_detailed, dtype: int64"
      ]
     },
     "execution_count": 10,
     "metadata": {},
     "output_type": "execute_result"
    }
   ],
   "source": [
    "#This is the same as before\n",
    "data['source_detailed'].value_counts()"
   ]
  },
  {
   "cell_type": "code",
   "execution_count": 11,
   "metadata": {},
   "outputs": [],
   "source": [
    "#This function gives us the fraction of missing values per data source we are considering \n",
    "missing_grouped = data.groupby('source_detailed').apply(lambda x: x.apply(lambda y: y.isna().sum()/len(y),axis=0))"
   ]
  },
  {
   "cell_type": "code",
   "execution_count": 12,
   "metadata": {},
   "outputs": [
    {
     "data": {
      "image/png": "[encoded data removed]",
      "text/plain": [
       "<Figure size 576x720 with 9 Axes>"
      ]
     },
     "metadata": {},
     "output_type": "display_data"
    }
   ],
   "source": [
    "#Plot missing values\n",
    "\n",
    "fig,ax = plt.subplots(ncols=len(missing_grouped),sharey=True,figsize=(8,10))\n",
    "\n",
    "#This loops over each row in the missing grouped DF and plots missing values as a share of the total.\n",
    "#We are using the missing_var_sorted to put the variables with most missing values at the top. Unexpectedly, \n",
    "#Those values which are missing from GitHub dominate\n",
    "\n",
    "for num,x in enumerate(missing_grouped.index):\n",
    "    missing_grouped.loc[x,miss_vars_sorted].plot.barh(ax=ax[num],color='blue')\n",
    "    ax[num].set_title(x,rotation=90,va='bottom')"
   ]
  },
  {
   "cell_type": "markdown",
   "metadata": {},
   "source": [
    "Some observations:\n",
    "\n",
    "* Lots of CB organisations have no funding data. Are these missing values or non-company entities? We should check.\n",
    "* All CBs have employees though! Or do they?\n",
    "* Quite a few CB organisations have no categories (these are their 'topics' or labels)\n",
    "* We have currency info for all entities with funding. It will be easy to convert them all to $\n",
    "* We have start dates for almost every database except the world reporter and some innovate UK records\n",
    "* Missing lat lon for almost all Crunchbase observations. How are we supposed to geocode these?"
   ]
  },
  {
   "cell_type": "markdown",
   "metadata": {},
   "source": [
    "### Parse dates"
   ]
  },
  {
   "cell_type": "code",
   "execution_count": 13,
   "metadata": {},
   "outputs": [
    {
     "name": "stdout",
     "output_type": "stream",
     "text": [
      "GDB_innovateuk\n",
      "3561    2017-08-01 00:00:00\n",
      "3562    2017-10-01 00:00:00\n",
      "3563                    NaN\n",
      "Name: start_date, dtype: object\n",
      "\n",
      "\n",
      "GDB_world_reporter\n",
      "343414    NaN\n",
      "343415    NaN\n",
      "343416    NaN\n",
      "Name: start_date, dtype: object\n",
      "\n",
      "\n",
      "GDB_rwjf\n",
      "85764    3/25/2009\n",
      "85765     3/8/2010\n",
      "85766    3/18/2011\n",
      "Name: start_date, dtype: object\n",
      "\n",
      "\n",
      "GDB_ahrq\n",
      "90822    09/30/05\n",
      "90823    09/30/13\n",
      "90824    09/30/13\n",
      "Name: start_date, dtype: object\n",
      "\n",
      "\n",
      "GDB_gtr\n",
      "0    2012-10-01 00:00:00\n",
      "1    2002-02-01 00:00:00\n",
      "2    1998-10-01 00:00:00\n",
      "Name: start_date, dtype: object\n",
      "\n",
      "\n",
      "Crunchbase\n",
      "358506           NaN\n",
      "358507    1968-07-18\n",
      "358508    1968-01-01\n",
      "Name: start_date, dtype: object\n",
      "\n",
      "\n",
      "GitHub\n",
      "1020821    2017-08-27 17:03:00 UTC\n",
      "1020822    2017-03-03 20:52:23 UTC\n",
      "1020823    2017-10-01 20:06:53 UTC\n",
      "Name: start_date, dtype: object\n",
      "\n",
      "\n",
      "GDB_H2020\n",
      "46995    2016-03-01\n",
      "46996    2017-05-01\n",
      "46997    2017-04-01\n",
      "Name: start_date, dtype: object\n",
      "\n",
      "\n",
      "GDB_rgov\n",
      "91360    =\"09/01/2017\"\n",
      "93154    =\"09/01/2011\"\n",
      "93155    =\"08/15/2010\"\n",
      "Name: start_date, dtype: object\n",
      "\n",
      "\n"
     ]
    }
   ],
   "source": [
    "#What are the date formats?\n",
    "#We loop over each unique source and print the top 3 dates\n",
    "\n",
    "for x in set(data['source_detailed']):\n",
    "    print(x)\n",
    "    print(data.loc[data['source_detailed']==x,'start_date'][:3])\n",
    "    print('\\n')"
   ]
  },
  {
   "cell_type": "code",
   "execution_count": 14,
   "metadata": {},
   "outputs": [],
   "source": [
    "#We want to parse these to extract years. \n",
    "#A simple option is to write a function that takes two elements (the string and the source) and returns the year\n",
    "\n",
    "def parse_string(date,datetime_function,date_format):\n",
    "    '''\n",
    "    This function takes a string and function, checks that the string is a string and if it is, parses it with a function and\n",
    "    format.\n",
    "    If it receives a timestamp style string, it splits on whitespace\n",
    "    \n",
    "    Otherwise it returns a np.nan\n",
    "    \n",
    "    '''\n",
    "    \n",
    "    #Check type\n",
    "    if type(date)!=str:\n",
    "        date_parsed = np.nan\n",
    "        date_year = np.nan\n",
    "    else:\n",
    "        \n",
    "        #Note that we are doing a bit of string cleaning to deal with some weird formats in the GDB gov data\n",
    "        \n",
    "        date = re.sub('=|\\\"','',date)\n",
    "        \n",
    "        #If it's a string it parses it using the function and format we provided\n",
    "        #Note that the split on whitespace allows us to automatically deal with timestamps\n",
    "        date_parsed = datetime_function(date.split(' ')[0],date_format)\n",
    "        date_year = date_parsed.year\n",
    "    \n",
    "    return([date_parsed,date_year])\n",
    "    \n",
    "\n",
    "\n",
    "def parse_date(date,source):\n",
    "    '''\n",
    "    The date is a string with the date, and the source is the data source. The parsing process depends on the source.\n",
    "    #The parsing function does some text processing to deal with timestamps, weird symbols in the data etc.\n",
    "\n",
    "    '''\n",
    "    \n",
    "    if source in ['GDB_ahrq']:\n",
    "        #Annoyingly, GDB AHRQ doesn't include full years but only the last 2 digits. 2014 is 14, 1993 is 93\n",
    "        #We split on / and if the first value in the last element of the list is below 2, we concatenate with 20 otherwise 19\n",
    "        if type(date)==str:\n",
    "            #This gives us the last part of the date (the year)\n",
    "\n",
    "            y = date.split('/')[-1]\n",
    "            \n",
    "            #Add the first two digits\n",
    "            if int(y[0])<2:\n",
    "                y = '20'+y\n",
    "            else:\n",
    "                y = '19'+y\n",
    "                \n",
    "            #Create a new date\n",
    "            date = date[:-2]+y\n",
    "                \n",
    "        \n",
    "        date_parsed,year = parse_string(date,datetime.datetime.strptime,'%m/%d/%Y')\n",
    "    \n",
    "    \n",
    "    if source in ['GDB_rwjf']:\n",
    "        #The year format is y/m/d.\n",
    "        #Parse.\n",
    "        \n",
    "        date_parsed,year = parse_string(date,datetime.datetime.strptime,'%m/%d/%Y')\n",
    "   \n",
    "    if source in ['Crunchbase','GDB_H2020','GDB_gtr','GitHub','GDB_innovateuk','GDB_world_reporter']:\n",
    "        #In these two, the year format is y-m-d or or a timestamop that is split on whitespace by the parser\n",
    "        #Note that the world reporter only has missing values \n",
    "        \n",
    "        date_parsed,year = parse_string(date,datetime.datetime.strptime,'%Y-%m-%d')\n",
    "        \n",
    "    if source in ['GDB_rgov']:\n",
    "        #Here  the formart is m/d/y. The parses removes some weird symbols in the rgov data\n",
    "        \n",
    "        date_parsed,year = parse_string(date,datetime.datetime.strptime,'%m/%d/%Y')\n",
    "\n",
    "\n",
    "    return([date_parsed,year])\n",
    "\n",
    "\n"
   ]
  },
  {
   "cell_type": "code",
   "execution_count": null,
   "metadata": {},
   "outputs": [],
   "source": [
    "%%time\n",
    "#Run the function\n",
    "data['start_date_parsed'] = data[['start_date','source_detailed']].apply(lambda x: parse_date(x[0],x[1])[0],axis=1)\n",
    "data['start_year'] = data[['start_date','source_detailed']].apply(lambda x: parse_date(x[0],x[1])[1],axis=1)\n"
   ]
  },
  {
   "cell_type": "code",
   "execution_count": 45,
   "metadata": {},
   "outputs": [],
   "source": [
    "#All dates parsed.\n",
    "year_source = pd.pivot_table(data,index='start_year',columns='source_detailed',values='row_id',aggfunc='count').fillna(0)\n",
    "\n",
    "#So CrunchBase contains organisations started in the middle ages. fun\n"
   ]
  },
  {
   "cell_type": "code",
   "execution_count": 59,
   "metadata": {},
   "outputs": [
    {
     "data": {
      "image/png": "[encoded data removed]",
      "text/plain": [
       "<Figure size 432x720 with 8 Axes>"
      ]
     },
     "metadata": {},
     "output_type": "display_data"
    }
   ],
   "source": [
    "#Given the big differences between GitHub and other sources, we split by source when visualising trends.\n",
    "\n",
    "#Focus on activity since 2000\n",
    "year_source_recent = year_source.loc[year_source.index>1999]\n",
    "\n",
    "#Plot\n",
    "fig,ax = plt.subplots(figsize=(6,10),nrows=len(year_source.columns),sharex=True)\n",
    "\n",
    "#We loop over columns and enumerate to identify the right ax to plot\n",
    "for num,source in enumerate(year_source.columns):\n",
    "    \n",
    "    #Plot\n",
    "    year_source_recent[source].plot(ax=ax[num],color='blue')\n",
    "    \n",
    "    ax[num].set_title(source)\n",
    "\n",
    "fig.suptitle('Number of entities by source and year',size=16,y=1.01)\n",
    "    \n",
    "plt.tight_layout()    \n",
    "\n",
    "\n"
   ]
  },
  {
   "cell_type": "markdown",
   "metadata": {},
   "source": [
    "This gives us a good sense of data coverage:\n",
    "\n",
    "* Crunchbase has the smoothest trend\n",
    "* H2020 starts with the most recent framework programme (last 5 years)\n",
    "* GTR from around 2006 as we know\n",
    "* RWJF since 2007 (is there a reason for this?)\n",
    "* Innovate grows from 2005, which is somewhat odd given that they only started operation in 2007."
   ]
  },
  {
   "cell_type": "code",
   "execution_count": 62,
   "metadata": {},
   "outputs": [
    {
     "data": {
      "text/html": [
       "<div>\n",
       "<style scoped>\n",
       "    .dataframe tbody tr th:only-of-type {\n",
       "        vertical-align: middle;\n",
       "    }\n",
       "\n",
       "    .dataframe tbody tr th {\n",
       "        vertical-align: top;\n",
       "    }\n",
       "\n",
       "    .dataframe thead th {\n",
       "        text-align: right;\n",
       "    }\n",
       "</style>\n",
       "<table border=\"1\" class=\"dataframe\">\n",
       "  <thead>\n",
       "    <tr style=\"text-align: right;\">\n",
       "      <th></th>\n",
       "      <th>unnamed:_0</th>\n",
       "      <th>gh_user_id</th>\n",
       "      <th>gdb_dataset_id</th>\n",
       "      <th>source_id</th>\n",
       "      <th>start_date</th>\n",
       "      <th>status</th>\n",
       "      <th>gh_user_creation_date</th>\n",
       "      <th>description</th>\n",
       "      <th>funding</th>\n",
       "      <th>row_id</th>\n",
       "      <th>...</th>\n",
       "      <th>gh_valid_description</th>\n",
       "      <th>name</th>\n",
       "      <th>administrative_area_level_1</th>\n",
       "      <th>administrative_area_level_2</th>\n",
       "      <th>lng</th>\n",
       "      <th>lat</th>\n",
       "      <th>country</th>\n",
       "      <th>source_detailed</th>\n",
       "      <th>start_date_parsed</th>\n",
       "      <th>start_year</th>\n",
       "    </tr>\n",
       "  </thead>\n",
       "  <tbody>\n",
       "    <tr>\n",
       "      <th>321963</th>\n",
       "      <td>321963</td>\n",
       "      <td>NaN</td>\n",
       "      <td>innovateuk</td>\n",
       "      <td>GDB</td>\n",
       "      <td>1999-04-01 00:00:00</td>\n",
       "      <td>Closed</td>\n",
       "      <td>NaN</td>\n",
       "      <td>Awaiting Public Project Summary</td>\n",
       "      <td>110220.0</td>\n",
       "      <td>210034</td>\n",
       "      <td>...</td>\n",
       "      <td>NaN</td>\n",
       "      <td>GL Industrial Services UK Limited</td>\n",
       "      <td>England</td>\n",
       "      <td>Leicestershire</td>\n",
       "      <td>-1.258469</td>\n",
       "      <td>52.760994</td>\n",
       "      <td>United Kingdom</td>\n",
       "      <td>GDB_innovateuk</td>\n",
       "      <td>1999-04-01 00:00:00</td>\n",
       "      <td>1999.0</td>\n",
       "    </tr>\n",
       "    <tr>\n",
       "      <th>342967</th>\n",
       "      <td>342967</td>\n",
       "      <td>NaN</td>\n",
       "      <td>innovateuk</td>\n",
       "      <td>GDB</td>\n",
       "      <td>1999-06-01 00:00:00</td>\n",
       "      <td>Closed</td>\n",
       "      <td>NaN</td>\n",
       "      <td>Awaiting Public Project Summary</td>\n",
       "      <td>652486</td>\n",
       "      <td>210001</td>\n",
       "      <td>...</td>\n",
       "      <td>NaN</td>\n",
       "      <td>Ghana Forestry Commission</td>\n",
       "      <td>England</td>\n",
       "      <td>Greater London</td>\n",
       "      <td>-0.247325</td>\n",
       "      <td>51.610680</td>\n",
       "      <td>United Kingdom</td>\n",
       "      <td>GDB_innovateuk</td>\n",
       "      <td>1999-06-01 00:00:00</td>\n",
       "      <td>1999.0</td>\n",
       "    </tr>\n",
       "    <tr>\n",
       "      <th>75906</th>\n",
       "      <td>75906</td>\n",
       "      <td>NaN</td>\n",
       "      <td>innovateuk</td>\n",
       "      <td>GDB</td>\n",
       "      <td>2001-04-01 00:00:00</td>\n",
       "      <td>Closed</td>\n",
       "      <td>NaN</td>\n",
       "      <td>Awaiting Public Project Summary</td>\n",
       "      <td>895759.0</td>\n",
       "      <td>210004</td>\n",
       "      <td>...</td>\n",
       "      <td>NaN</td>\n",
       "      <td>Siemens Industrial Turbomachinery Limited</td>\n",
       "      <td>England</td>\n",
       "      <td>Surrey</td>\n",
       "      <td>-0.736373</td>\n",
       "      <td>51.318211</td>\n",
       "      <td>United Kingdom</td>\n",
       "      <td>GDB_innovateuk</td>\n",
       "      <td>2001-04-01 00:00:00</td>\n",
       "      <td>2001.0</td>\n",
       "    </tr>\n",
       "    <tr>\n",
       "      <th>338769</th>\n",
       "      <td>338769</td>\n",
       "      <td>NaN</td>\n",
       "      <td>innovateuk</td>\n",
       "      <td>GDB</td>\n",
       "      <td>2001-10-01 00:00:00</td>\n",
       "      <td>Closed</td>\n",
       "      <td>NaN</td>\n",
       "      <td>Awaiting Public Project Summary</td>\n",
       "      <td>1.4734e+06</td>\n",
       "      <td>140080</td>\n",
       "      <td>...</td>\n",
       "      <td>NaN</td>\n",
       "      <td>card University of Cardiff</td>\n",
       "      <td>Wales</td>\n",
       "      <td>Cardiff</td>\n",
       "      <td>-3.165951</td>\n",
       "      <td>51.483818</td>\n",
       "      <td>United Kingdom</td>\n",
       "      <td>GDB_innovateuk</td>\n",
       "      <td>2001-10-01 00:00:00</td>\n",
       "      <td>2001.0</td>\n",
       "    </tr>\n",
       "    <tr>\n",
       "      <th>23057</th>\n",
       "      <td>23057</td>\n",
       "      <td>NaN</td>\n",
       "      <td>innovateuk</td>\n",
       "      <td>GDB</td>\n",
       "      <td>2001-09-01 00:00:00</td>\n",
       "      <td>Closed</td>\n",
       "      <td>NaN</td>\n",
       "      <td>Awaiting Public Project Summary</td>\n",
       "      <td>1.80372e+06</td>\n",
       "      <td>140077</td>\n",
       "      <td>...</td>\n",
       "      <td>NaN</td>\n",
       "      <td>University of Southampton</td>\n",
       "      <td>England</td>\n",
       "      <td>Southampton</td>\n",
       "      <td>-1.395667</td>\n",
       "      <td>50.934107</td>\n",
       "      <td>United Kingdom</td>\n",
       "      <td>GDB_innovateuk</td>\n",
       "      <td>2001-09-01 00:00:00</td>\n",
       "      <td>2001.0</td>\n",
       "    </tr>\n",
       "  </tbody>\n",
       "</table>\n",
       "<p>5 rows × 27 columns</p>\n",
       "</div>"
      ],
      "text/plain": [
       "        unnamed:_0  gh_user_id gdb_dataset_id source_id           start_date  \\\n",
       "321963      321963         NaN     innovateuk       GDB  1999-04-01 00:00:00   \n",
       "342967      342967         NaN     innovateuk       GDB  1999-06-01 00:00:00   \n",
       "75906        75906         NaN     innovateuk       GDB  2001-04-01 00:00:00   \n",
       "338769      338769         NaN     innovateuk       GDB  2001-10-01 00:00:00   \n",
       "23057        23057         NaN     innovateuk       GDB  2001-09-01 00:00:00   \n",
       "\n",
       "        status gh_user_creation_date                      description  \\\n",
       "321963  Closed                   NaN  Awaiting Public Project Summary   \n",
       "342967  Closed                   NaN  Awaiting Public Project Summary   \n",
       "75906   Closed                   NaN  Awaiting Public Project Summary   \n",
       "338769  Closed                   NaN  Awaiting Public Project Summary   \n",
       "23057   Closed                   NaN  Awaiting Public Project Summary   \n",
       "\n",
       "            funding  row_id    ...     gh_valid_description  \\\n",
       "321963     110220.0  210034    ...                      NaN   \n",
       "342967       652486  210001    ...                      NaN   \n",
       "75906      895759.0  210004    ...                      NaN   \n",
       "338769   1.4734e+06  140080    ...                      NaN   \n",
       "23057   1.80372e+06  140077    ...                      NaN   \n",
       "\n",
       "                                             name administrative_area_level_1  \\\n",
       "321963          GL Industrial Services UK Limited                     England   \n",
       "342967                  Ghana Forestry Commission                     England   \n",
       "75906   Siemens Industrial Turbomachinery Limited                     England   \n",
       "338769                 card University of Cardiff                       Wales   \n",
       "23057                   University of Southampton                     England   \n",
       "\n",
       "       administrative_area_level_2       lng        lat         country  \\\n",
       "321963              Leicestershire -1.258469  52.760994  United Kingdom   \n",
       "342967              Greater London -0.247325  51.610680  United Kingdom   \n",
       "75906                       Surrey -0.736373  51.318211  United Kingdom   \n",
       "338769                     Cardiff -3.165951  51.483818  United Kingdom   \n",
       "23057                  Southampton -1.395667  50.934107  United Kingdom   \n",
       "\n",
       "        source_detailed    start_date_parsed start_year  \n",
       "321963   GDB_innovateuk  1999-04-01 00:00:00     1999.0  \n",
       "342967   GDB_innovateuk  1999-06-01 00:00:00     1999.0  \n",
       "75906    GDB_innovateuk  2001-04-01 00:00:00     2001.0  \n",
       "338769   GDB_innovateuk  2001-10-01 00:00:00     2001.0  \n",
       "23057    GDB_innovateuk  2001-09-01 00:00:00     2001.0  \n",
       "\n",
       "[5 rows x 27 columns]"
      ]
     },
     "execution_count": 62,
     "metadata": {},
     "output_type": "execute_result"
    }
   ],
   "source": [
    "data.loc[data.source_detailed=='GDB_innovateuk'].sort_values('start_year',ascending=True).head()"
   ]
  },
  {
   "cell_type": "markdown",
   "metadata": {},
   "source": [
    "There is a bunch of projects in the innovate UK data going back to 2000, and lacking a summary.\n",
    "\n",
    "We will need to remove these projects for other analyses"
   ]
  },
  {
   "cell_type": "markdown",
   "metadata": {},
   "source": [
    "### Parse currencies [TODO]\n",
    "\n",
    "This will be relatively trivial to do using one of the currency conversion packages.\n",
    "\n",
    "We need to decide to what currency do we convert. We also need to use the date. This will create some problems with the startup funding, where the funding was probably obtained in different periods."
   ]
  },
  {
   "cell_type": "code",
   "execution_count": 63,
   "metadata": {},
   "outputs": [
    {
     "data": {
      "text/plain": [
       "USD    831190\n",
       "GBP    111414\n",
       "EUR     63125\n",
       "Name: currency, dtype: int64"
      ]
     },
     "execution_count": 63,
     "metadata": {},
     "output_type": "execute_result"
    }
   ],
   "source": [
    "data['currency'].value_counts()"
   ]
  },
  {
   "cell_type": "markdown",
   "metadata": {},
   "source": [
    "## 3. Classify projects\n",
    "\n",
    "### a. Identify AI and ML projects in the data\n",
    "\n",
    "Strategies:\n",
    "\n",
    "* Use a model trained on GTR data to predict the probability that a project in another domain is AI/ML/Data related\n",
    "* Use a model trained on CB data to predict the probability that a project in another domain is AI/ML/Data related\n",
    "* Look for the presence of keywords related to AI, ML etc. (enhanced via word embeddings)\n",
    "\n",
    "**Steps**\n",
    "\n",
    "1. Preprocess *all* text data and explore it.\n",
    "2. Train a predictive model on the CB data.\n",
    "3. Load the GTR models we trained elsewhere\n",
    "4. Train a w2vec model on the data and use it to find AI/ML related keywords\n",
    "4. Apply the models to the whole corpus and crossvalidate performance\n",
    "\n"
   ]
  },
  {
   "cell_type": "markdown",
   "metadata": {},
   "source": [
    "#### Preprocess all the data (tokenise etc) first\n",
    "\n",
    "I will use the lda pipeline, a script I wrote before with a collection of tools for cleaning and parsing text data\n",
    "It doesn't include parts of speech tagging or entity recognition"
   ]
  },
  {
   "cell_type": "code",
   "execution_count": 158,
   "metadata": {},
   "outputs": [],
   "source": [
    "%run lda_pipeline.py"
   ]
  },
  {
   "cell_type": "code",
   "execution_count": 253,
   "metadata": {},
   "outputs": [],
   "source": [
    "from lda_pipeline import clean_tokenise, CleanTokenize\n",
    "\n",
    "#Modelling exports from sklearn\n",
    "from sklearn.feature_extraction.text import CountVectorizer\n",
    "from sklearn.ensemble import RandomForestClassifier\n",
    "from sklearn.linear_model import LogisticRegression\n",
    "from sklearn.model_selection import GridSearchCV\n"
   ]
  },
  {
   "cell_type": "code",
   "execution_count": 241,
   "metadata": {},
   "outputs": [],
   "source": [
    "#We want to convert only those entries with descriptions\n",
    "#TODO: Clean this up and remove some projects with no descriptions\n",
    "data_desc = data.dropna(axis=0,subset=['description']).reset_index(drop=True)"
   ]
  },
  {
   "cell_type": "code",
   "execution_count": 418,
   "metadata": {},
   "outputs": [
    {
     "data": {
      "text/plain": [
       "<lda_pipeline.CleanTokenize at 0x5efd97e80>"
      ]
     },
     "execution_count": 418,
     "metadata": {},
     "output_type": "execute_result"
    }
   ],
   "source": [
    "#We initialise a health_ct instance of the CleanTokenize class using the descriptions as input\n",
    "health_ct = CleanTokenize(data_desc['description'])\n",
    "\n",
    "#This cleans and bigrams\n",
    "health_ct.clean().bigram()"
   ]
  },
  {
   "cell_type": "code",
   "execution_count": 457,
   "metadata": {},
   "outputs": [],
   "source": [
    "#Turn this into a list we cxan feed to other analyses\n",
    "data_tokenised = list(health_ct.tokenised)"
   ]
  },
  {
   "cell_type": "markdown",
   "metadata": {},
   "source": [
    "#### i. Use predictive model we trained on the Gateway to Research\n",
    "\n",
    "Let's see what kinds of projects are picked up by a model trained on the Gateway to Research, a database of UK research projects where some of the projects were labelled with an 'artificial intelligence' topic"
   ]
  },
  {
   "cell_type": "code",
   "execution_count": 458,
   "metadata": {},
   "outputs": [],
   "source": [
    "import random"
   ]
  },
  {
   "cell_type": "code",
   "execution_count": 459,
   "metadata": {},
   "outputs": [],
   "source": [
    "#We use this to load a model we trained on the GTR corpus, and a count vectoriser we used to binarise the data (into features)\n",
    "with open('/Users/jmateosgarcia/links/iuk/clio_search/models/8_5_2018_ai_supervised_models.p','rb') as infile:\n",
    "    ai_gtr_supervised = pickle.load(infile)\n"
   ]
  },
  {
   "cell_type": "code",
   "execution_count": 460,
   "metadata": {},
   "outputs": [],
   "source": [
    "#Create a list with detailed sources. We will loop over this later\n",
    "sources_detailed = list(set(data.source_detailed))"
   ]
  },
  {
   "cell_type": "code",
   "execution_count": 461,
   "metadata": {},
   "outputs": [],
   "source": [
    "#Load the count vectoriser. Turns the data into a document term matrix with term counts, using the vocabulary from GTR.\n",
    "#This will limit the relevance of these data for the wider corpus we are considering\n",
    "count_vec = ai_gtr_supervised[1]\n",
    "\n",
    "#Create the feature dataset.\n",
    "X_pred = count_vec.transform(data_desc['description'])"
   ]
  },
  {
   "cell_type": "code",
   "execution_count": 462,
   "metadata": {},
   "outputs": [],
   "source": [
    "#Model\n",
    "best_gtr_model = ai_gtr_supervised[0][1].best_estimator_\n",
    "\n",
    "#Make predictions\n",
    "Y_pred = best_gtr_model.predict_proba(X_pred)"
   ]
  },
  {
   "cell_type": "code",
   "execution_count": 463,
   "metadata": {},
   "outputs": [
    {
     "data": {
      "text/plain": [
       "<matplotlib.axes._subplots.AxesSubplot at 0x8f904ab00>"
      ]
     },
     "execution_count": 463,
     "metadata": {},
     "output_type": "execute_result"
    },
    {
     "data": {
      "image/png": "[encoded data removed]",
      "text/plain": [
       "<Figure size 576x396 with 1 Axes>"
      ]
     },
     "metadata": {},
     "output_type": "display_data"
    }
   ],
   "source": [
    "#What happens when we change the threshold for inclusion?\n",
    "#Let's plot.\n",
    "\n",
    "#This is a container with the source distribution of projects we predict as AI with different thresholds we use\n",
    "source_by_threshold = []\n",
    "\n",
    "for threshold in np.arange(0.1,0.6,0.05):\n",
    "    #For each probability threshold we get a distribution of accepted projects over sources.\n",
    "    source_distr = data_desc.loc[Y_pred[:,1]>threshold]['source_detailed'].value_counts()\n",
    "    \n",
    "    #We name each series with the threshold so we can later concatenate into a nicely labelled df\n",
    "    source_distr.name= str(np.round(threshold,2))\n",
    "    \n",
    "    #Append to the container\n",
    "    source_by_threshold.append(source_distr)\n",
    "    \n",
    "#Concatenate the series in the container\n",
    "source_by_threshold_df = pd.concat(source_by_threshold,axis=1).fillna(0)\n",
    "\n",
    "#Plot\n",
    "source_by_threshold_df.T.plot.bar(stacked=True,edgecolor='black',title='Predicted AI projects by threshold')"
   ]
  },
  {
   "cell_type": "markdown",
   "metadata": {},
   "source": [
    "Substantial decline in the number of predicted CrunchBase and GitHub projects when we move above a threshold of 0.1\n",
    "\n",
    "Above 0.3 we are only picking up H2020, GTR and rgov projects"
   ]
  },
  {
   "cell_type": "code",
   "execution_count": 464,
   "metadata": {},
   "outputs": [
    {
     "name": "stdout",
     "output_type": "stream",
     "text": [
      "0.1\n",
      "=====\n",
      "GDB_innovateuk\n",
      "---\n",
      "In late December 2014 in Edinburgh, a tragedy happened when a truck mounted the pavement before crashing into the Millennium Hotel in George Square. Unfortunately the driver of the truck had a cardiac attack prior to the accident which meant that he was unable to control the vehicle. Incidents such as this if happen in a large public transport could be catastrophic. Globalcis, believe that technology can help prevent such unfortunate happening. Globalcis is proposing inteliautodrive a seat belt \n",
      "\n",
      "\n",
      "Autonomous, or self-driving, vehicles have been hard to miss in the news recently, whether this be Tesla's partially automated 'Auto Pilot' feature, or the fully driverless 'Pods' that arrived on the streets of Milton Keynes in October 2016. As the technology becomes more familiar, people are becoming increasingly confident that individual vehicles will be able to drive and navigate themselves on roads and around people. But a single self-driving car is of limited value, it needs to work as part\n",
      "\n",
      "\n",
      "GDB_world_reporter\n",
      "---\n",
      "DESCRIPTION (provided by applicant): Genome-wide association studies (GWAS) have revealed thousands of genetic loci associated with common diseases. For each locus, a 'tag' single nucleotide polymorphism (SNP) has been identified along with dozens of additional SNPs in linkage disequilibrium. However, for many of these loci, the casual SNP(s) and the genes affected by the causal SNPs are not known. Since most SNPs fall in non-coding regions of the genome, and relatively little are known about th\n",
      "\n",
      "\n",
      "Healthcare for seniors can be challenging, especially for those with chronic illnesses like heart failure. Without suitable home care to support them, their health can quickly get worse, resulting in Emergency Room (ER) visits or hospital admissions. By finding a way for doctors and nurses to watch over these seniors at home, we may be able to catch any problems early and help them to avoid getting sick and going to hospitals. This support may even help seniors feel better by being comfortable a\n",
      "\n",
      "\n",
      "GDB_rwjf\n",
      "---\n",
      "This project will test ways to redefine the reward structures for sharing research data and analysis in an effort to use the open-source movement to build better models of disease and reimagine the traditional roles that patients, researchers and funders play in medical research. The current system of drug discovery is inefficient and hampered by reward incentives that run counter to rapid learning. This project--to demonstrate how the progress of drug discoveries can be transparent and collabor\n",
      "\n",
      "\n",
      "This project will develop and validate a social-media-based, patient-reported outcome (PRO) to estimate health-related quality of life (HRQOL). The development of a reliable and validated social-media-based PRO could ultimately help caregivers understand the comparative effectiveness of the therapies prescribed to their patients in a significantly more cost-effective and timely manner. In this project, the grantee will: (1) produce an empirically validated social media PRO that uses natural lang\n",
      "\n",
      "\n",
      "GDB_ahrq\n",
      "---\n",
      "   \n",
      "DESCRIPTION (provided by applicant): Medical error is one of the leading causes of death in the US. The study and reduction of medical errors have become a major concern in healthcare today. It is believed that medical error reporting systems could be a good resource to share and to learn from errors if medical error data are collected in a properly structured format and are useful for the detection of patterns, discovery of underlying factors, and generation of solutions.\n",
      "Effectively gath\n",
      "\n",
      "\n",
      "   \n",
      "DESCRIPTION (provided by applicant): The Workshop on Interactive Systems in Healthcare 2012 (WISH 2012) will take place November 3-4 in conjunction with the American Medical Informatics Annual Symposium. This event is designed to foster conversation and bridge communities and will include specialists in biomedical informatics, nursing informatics, medical sociology, human-computer interaction, and related fields. The goals of this workshop are consistent with those of AHRQ. The primary inte\n",
      "\n",
      "\n",
      "GDB_gtr\n",
      "---\n",
      "Words are the building blocks of sentences, yet meaning of a sentence goes well beyond meanings of the words therein. Indeed, while we do have dictionaries for words, we don't seem to need them to infer the meaning of a sentence from meanings of its constituents. Discovering the process of meaning assignment in natural languages is one of the most foundational issues in linguistics and computer science, whose findings will increase our understanding of cognition and intelligence and may assist i\n",
      "\n",
      "\n",
      "We live in an age of burgeoning information, and increasingly fast information access. The WorldWide Web has allowed us to make many positive changes in our society and environment, for example through social networking and e-publishing, but it also presents problems, by its very nature. There is now so much information being spread so quickly that it is becoming impossible for individuals to be aware of enough of it to enable them to take advantage of it.What is more, because of the information\n",
      "\n",
      "\n",
      "Crunchbase\n",
      "---\n",
      "Punchh offers innovative digital marketing products for brick and mortar retailers, combining AI and machine learning technologies.\n",
      "\n",
      "\n",
      "DataVisor is the leading fraud & financial crime detection service utilizing unsupervised machine learning to ID attacks before they happen\n",
      "\n",
      "\n",
      "GitHub\n",
      "---\n",
      "Unsupervised Learning Project from Udacity's Machine Learning Nanodegree\n",
      "\n",
      "\n",
      "Attempts to create an AI agent capable of playing Tetris \"well\".\n",
      "\n",
      "\n",
      "GDB_H2020\n",
      "---\n",
      "Amorph Systems has developed AMORPH.aero, a solution able to provide continuous, accurate, near-term forecasts of passenger flows. Unlike competitors using process flow-oriented models based on static mathematical values, the solution supports dynamic calculations based on the actual demand of passengers compared with the available resources. This is critical for airport operations to get always accurate information based on the current availability and schedule of staff and the results of opera\n",
      "\n",
      "\n",
      "Achieving the European environmental objectives for 2020 requires not only technological progress, but also a major change in energy consumption behaviour. The enCOMPASS project will implement and validate an integrated socio-technical approach to behavioural change for energy saving, by developing innovative user-friendly digital tools to make energy consumption data available and understandable for different stakeholders (residents, visitors, public actors, building managers, utilities and ICT\n",
      "\n",
      "\n",
      "GDB_rgov\n",
      "---\n",
      "Key sustainability challenges, such as poverty mitigation, climate change, and food security, involve global phenomena that are unique in scale and complexity. Our global sensing capabilities - from remote sensing to crowdsourcing - are becoming increasingly economical and accurate. These recent technological developments are creating new spatio-temporal data streams that contain a wealth of information relevant to sustainable development goals. Actionable insights, however, cannot be easily ext\n",
      "\n",
      "\n",
      "Robots are becoming integrated into more areas of life, no longer confined to the predictable environment of a factory, performing the same task. Robots that work among humans require greater intelligence and the ability to adapt to changing tasks in an unpredictable environment. This work develops a sophisticated control system for robotics by modeling the control systems in the brain of a remarkably intelligent, capable, and adaptable insect: the praying mantis. This work promises to transform\n",
      "\n",
      "\n",
      "\n",
      "\n",
      "0.2\n",
      "=====\n",
      "GDB_innovateuk\n",
      "---\n",
      "At least 25% of the process time for high value manufactured components arises from machining. CNC machine tools are programmed to produce geometry to a nominal form and surface finish, sources of error in the machining system impact on the cost, quality and delivery. These sources are split into those induced by the condition of the machine tool system and those induced by the behaviour of the work piece. The consortium, comprising machine builders, solution providers, academic institutes and e\n",
      "\n",
      "\n",
      "To develop a Digital Legal Assistant to assist decision on whether to pursue cases of medical negligence. The system will make use of techniques from artificial intelligence covering information extraction, machine learning and data mining.\n",
      "\n",
      "\n",
      "GDB_world_reporter\n",
      "---\n",
      "Au cours de mes années de recherche, j'ai observé qu'il existe un fossé entre la production de connaissances et leur application. Plus particulièrement, la population manque d'informations justes quant aux effets des rayons ultraviolets sur l'homme. C'est pour cette raison que j'ai fondé l'organisation sans but lucratif Share your science. Son mandat de courtier du savoir permettra d'initier et de faciliter la discussion entre les scientifiques et public afin de faire avancer la science et l'app\n",
      "\n",
      "\n",
      "DESCRIPTION (provided by applicant):    \n",
      "   \n",
      "The aim of this proposal is to conduct research on the foundational models and algorithms in computer vision and machine learning for an egocentric vision based active learning co-robot wheelchair system to improve the quality of life of elders and disabled who have limited hand functionality or no hand functionality at all, and rely on wheelchairs for mobility. In this co-robt system, the wheelchair users wear a pair of egocentric camera glasses, i.e\n",
      "\n",
      "\n",
      "GDB_rwjf\n",
      "---\n",
      "Robert Wood Johnson Foundation funding will support the development and piloting of a home-based, signal-detection solution to support independent older adults aging at home and in their community. The linkAges Connect Signal Detection system will track naturally occurring patterns of electricity use by older adults and interpret the data arising in the home environment as an indication of health status. The David Druker Center for Health Systems Innovation (Innovation Center) would like to test\n",
      "\n",
      "\n",
      "This grant supports the Leadership Learning Community, a project of the Tides Center, to convene the Leadership Development Funders and Evaluators Learning Lab. The Learning Lab will bring together 30 to 50 key foundation investors from across the United States for 1.5 days to discuss best practices in leadership-development programming and evaluation. The Learning Lab is currently supported by the Annie E. Casey Foundation and the W.K. Kellogg Foundation. Additional funding has been requested f\n",
      "\n",
      "\n",
      "GDB_ahrq\n",
      "---\n",
      "   \n",
      "DESCRIPTION (provided by applicant): While hospital information systems have primarily been designed to support clinicians and hospital administrators, there is growing interest in extending traditional systems to directly share information with patients. For example, Personal Health Record (PHR) systems allow patients to access information from their medical records online. Researchers have addressed questions of information sharing and security in PHRs and have demonstrated that PHRs can \n",
      "\n",
      "\n",
      "  \n",
      "DESCRIPTION (Provided by Applicant): Our goal is to develop a biometric patient identification system employing fingerprint scanners and pattern recognition software to identify patients undergoing radiation therapy or surgical operations to reduce medical errors associated with patient misidentification and failed procedure verification. Our customized system will be developed to interact with the Multi-Access treatment record and verification system (IMPAC inc., Sunnyvale, CA) used by radi\n",
      "\n",
      "\n",
      "GDB_gtr\n",
      "---\n",
      "The field of Machine Learning plays an increasingly important role in Computer Science and related disciplines. Over the past decade, the availability of powerful desktop computers has opened the door to synergistic interactions between empirical and theoretical studies of Machine Learning, showing thevalue of the ``learning from example'' paradigm in a wide variety of applications. Much effort has been devoted by Machine Learning researchers to the standard single task learning problem and exci\n",
      "\n",
      "\n",
      "Computational Creativity is the study of how to build software which takes on some of the creative responsibility in arts and science projects. We are at a stage where software can generate pictures, melodies, jokes and poems, can invent new words and discover new and interesting mathematical theorems, and regularly helps scientists to make important discoveries. This kind software can be used autonomously, or in collaboration with creative people. It is also used in cognitive modelling projects\n",
      "\n",
      "\n",
      "Crunchbase\n",
      "---\n",
      "GreyB combines the best techniques from machine learning and human intelligence to build a powerful system for performing patent searches.\n",
      "\n",
      "\n",
      "Computational Intelligence Unconferences are events for artificial intelligence, bio-inspired systems, data mining & machine learning\n",
      "\n",
      "\n",
      "GitHub\n",
      "---\n",
      "Machine Learning From Scratch. Bare bones Python implementations of Machine Learning models and algorithms with a focus on transparency and accessibility. Aims to cover everything from Data Mining to Deep Learning.\n",
      "\n",
      "\n",
      ":train: :train: :train:  :train: :train:  :train: :train: :train: :train: :train:  :train: :train:  :train: :train: \n",
      "\n",
      "\n",
      "GDB_H2020\n",
      "---\n",
      "BONVOYAGE will design, develop and test a platform optimizing multimodal door-to-door transport of passengers and goods. The platform integrates travel information, planning and ticketing services, by automatically analysing non-real-time data from heterogeneous databases (on road, railway and urban transport systems); real-time measured data (traffic, weather forecasts); user profiles; user feedback.\n",
      "The platform is supported by an innovative information-centric communication network that colle\n",
      "\n",
      "\n",
      "BONVOYAGE will design, develop and test a platform optimizing multimodal door-to-door transport of passengers and goods. The platform integrates travel information, planning and ticketing services, by automatically analysing non-real-time data from heterogeneous databases (on road, railway and urban transport systems); real-time measured data (traffic, weather forecasts); user profiles; user feedback.\n",
      "The platform is supported by an innovative information-centric communication network that colle\n",
      "\n",
      "\n",
      "GDB_rgov\n",
      "---\n",
      "The intent of this research project is to support adaptive and personalized information environments. Central to this vision is the need to improve activity discovery and representation of user behavior. This will necessitate the development of novel machine learning algorithms for building models of that activity. (An extension of the ABL agent language with support for looping prediction suffix trees is proposed.) This approach will be applied to two innovative domains, user interactions with \n",
      "\n",
      "\n",
      "A live programming environment allows a programmer to immediately see the effects of changes to a program on its outputs and effectively eliminates the edit-run-debug cycle that dominates programming work flows today. Live programming is an emerging paradigm that is promising a vast change in the techniques used to develop modern software. This project combines live programming and software synthesis. By generating representative examples to illustrate code behavior, the user can more easily und\n",
      "\n",
      "\n",
      "\n",
      "\n",
      "0.5\n",
      "=====\n",
      "GDB_innovateuk\n",
      "---\n",
      "The 3-month Phase 1 proposal describes the creation of a prototype system to assess proposals that are submitted to Innovate UK. The project has three main goals: matching proposals to assessors, identifying duplicates and resubmitted proposals and then identifying fraudulent behaviour. The system will use a combination of Natural Language Processing (NLP), machine learning and data analytics to understand the content of a proposal and the assign this to a relevant assessor. The system uses topi\n",
      "\n",
      "\n",
      "Interchanges can be a major 'pain point' for passenger transport. Transport organisations currently have a limited view of the interchange activities of individual customers, and are therefore unable to improve their interchange experience at a reasonable cost. This project's vision is to improve experiences in rail stations when customers interchange between different modes of transport (e.g. from rail to bus or car, or vice versa). The vision will be realised by Q Shy developing 'customer inte\n",
      "\n",
      "\n",
      "GDB_world_reporter\n",
      "---\n",
      "GDB_rwjf\n",
      "---\n",
      "GDB_ahrq\n",
      "---\n",
      "Medical errors hurt patients, cost money, and undermine the health care system. The first step to reducing errors is detecting them, for what cannot be detected cannot be managed. A number of approaches have been applied to medical error detection, including mandatory event reporting, voluntary near-miss reporting, chart review, and automated surveillance using information systems. Automated surveillance promises large-scale detection, minimal labor, and, potentially, detection in real time to p\n",
      "\n",
      "\n",
      "   \n",
      "DESCRIPTION (provided by applicant): Simulation-based mastery learning (SBML) decreases serious iatrogenic complications from central venous catheter insertion. Given medical procedures are the second most common cause of the complications that afflict 3% of hospitalized patients, SBML should be applied to procedures done in all medical centers. In academic hospitals, bedside procedures such as thoracentesis (removal of fluid in the chest) are often performed by unsupervised medical trainee\n",
      "\n",
      "\n",
      "GDB_gtr\n",
      "---\n",
      "The aim of this network is to establish the UK as the world leading authority in the joint area of Computational Statistics and Machine Learning (CompStat &amp; ML) by advancing communication, interchange and collaboration within the UK between the disciplines of Computational Statistics (CompStat) and Machine Learning (ML).\n",
      "\n",
      "The UK has tremendous research strength and depth that is widely acknowledged as world leading in both the individual areas of Computational Statistics and Machine Learning\n",
      "\n",
      "\n",
      "The goals of our interdisciplinary effort are to develop new methodologies for modeling multimodal neural activity underlying multisensory processing and decision making, and to use those methodologies to design closed-loop adaptive algorithms for optimized exploitation of multisensory data for brain-computer communication. We are motivated by the observation that a dismounted soldier or a tank driver routinely makes decisions in time-pressured and stressful conditions based on a multiplicity of\n",
      "\n",
      "\n",
      "Crunchbase\n",
      "---\n",
      "GitHub\n",
      "---\n",
      "A comprehensive list of Deep Learning / Artificial Intelligence and Machine Learning tutorials - rapidly expanding into areas of AI/Deep Learning / Machine Vision / NLP and industry specific areas such as Automotives, Retail, Pharma, Medicine, Healthcare \n",
      "\n",
      "\n",
      "A comprehensive list of Deep Learning / Artificial Intelligence and Machine Learning tutorials - rapidly expanding into areas of AI/Deep Learning / Machine Vision / NLP and industry specific areas such as Automotives, Retail, Pharma, Medicine, Healthcare \n",
      "\n",
      "\n",
      "GDB_H2020\n",
      "---\n",
      "Cheaper and more powerful sensors, together with big data analytics, offer an unprecedented opportunity to track machine-tool performance and health condition. However, manufacturers only spend 15% of their total maintenance costs on predictive (vs reactive or preventative) maintenance.\n",
      "The project will deploy and test a predictive cognitive maintenance decision-support system able to identify and localize damage, assess damage severity, predict damage evolution, assess remaining asset life, red\n",
      "\n",
      "\n",
      "COROMA project proposes to develop a cognitively enhanced robot that can execute multiple tasks for the manufacturing of metal and composite parts. COROMA will therefore provide the flexibility that European metalworking and advanced material manufacturing companies require to compete in the rapidly evolving global market.\n",
      "\n",
      "The main output of COROMA project will be a modular robotic system that will perform multitude of different manufacturing tasks in an autonomous way to adapt to the productio\n",
      "\n",
      "\n",
      "GDB_rgov\n",
      "---\n",
      "This research seeks to develop novel machine learning algorithms that enable real-time video and sensor data analysis on large data streams given limited computational resources. The work focuses on healthcare as an application domain where real-time video analysis can prevent user-errors in operating medical devices or provide immediate alerts to caregivers about dangerous situations.  The research will develop algorithms to automatically adapt data analysis approaches to maximize accuracy of a\n",
      "\n",
      "\n",
      "Attributed networks are those networks which are associated with a rich set of attributes. For example, in online social networks, users post messages related to what they are experiencing, which can be represented as a series of word attributes; in health care systems, providers are networked with each other given their shared patients, and each provider has profile information and may submit insurance claims as attribute information. Feature learning aims at seeking effective representations o\n",
      "\n",
      "\n",
      "\n",
      "\n"
     ]
    }
   ],
   "source": [
    "#Let's eyeball the results for 3 thresholds: 0.1, 0.2 and 0.5\n",
    "\n",
    "for thres in [0.1,0.2,0.5]:\n",
    "    print(thres)\n",
    "    print('=====')\n",
    "    \n",
    "    predicted = data_desc.loc[Y_pred[:,1]>thres]\n",
    "    \n",
    "    #For each source we get \n",
    "    for sou in sources_detailed:\n",
    "        print(sou)\n",
    "        print('---')\n",
    "        \n",
    "        #This returns the descriptions of all projects predicted as AI/ML\n",
    "        descriptions = list(predicted.loc[predicted['source_detailed']==sou,'description'])\n",
    "        \n",
    "        #If the length of the abstracts is below 3 there's not a lot to sample from\n",
    "        if len(descriptions)<3:\n",
    "            random_choice = descriptions\n",
    "            \n",
    "        #If there are more than 3 we get a random set of abstracts\n",
    "        else:\n",
    "            random_choice = random.sample(descriptions,2)\n",
    "        \n",
    "        #We then print them\n",
    "        for x in random_choice:\n",
    "            try:\n",
    "                print(x[:500]) #We only print the first 500 letters\n",
    "            \n",
    "            #Sometimes there is nothing to print\n",
    "            except:\n",
    "                print('nothing')\n",
    "            print('\\n')\n",
    "    \n",
    "    print('\\n')\n",
    "    \n",
    "\n"
   ]
  },
  {
   "cell_type": "markdown",
   "metadata": {},
   "source": [
    "The lower thresholds pick up lots of noisy predictions such as projects that are just about learning. At higher threshold the projects we identify become more relevant but several datasets disappear from the data. It looks like the GTR database will, on its own, be insufficient for our analysis"
   ]
  },
  {
   "cell_type": "markdown",
   "metadata": {},
   "source": [
    "#### ii. Train a predictive model on the CrunchBase data.\n",
    "\n",
    "Now we train a predictive model on CrunchBase. Can it help us predict which projects in the rest of the data are related to AI/ML?\n",
    "\n",
    "We need to identify labels related to AI and ML, preprocess the text to create a document term matrix and train the model\n"
   ]
  },
  {
   "cell_type": "markdown",
   "metadata": {},
   "source": [
    "** Identify labels **"
   ]
  },
  {
   "cell_type": "code",
   "execution_count": 465,
   "metadata": {},
   "outputs": [
    {
     "data": {
      "text/plain": [
       "(662209, 27)"
      ]
     },
     "execution_count": 465,
     "metadata": {},
     "output_type": "execute_result"
    }
   ],
   "source": [
    "#This is the Crunchbase data\n",
    "cb = data_desc.loc[data_desc['source_detailed']=='Crunchbase']\n",
    "\n",
    "cb.shape\n",
    "\n",
    "#It includes 662,209 observations"
   ]
  },
  {
   "cell_type": "code",
   "execution_count": 466,
   "metadata": {},
   "outputs": [
    {
     "data": {
      "text/html": [
       "<div>\n",
       "<style scoped>\n",
       "    .dataframe tbody tr th:only-of-type {\n",
       "        vertical-align: middle;\n",
       "    }\n",
       "\n",
       "    .dataframe tbody tr th {\n",
       "        vertical-align: top;\n",
       "    }\n",
       "\n",
       "    .dataframe thead th {\n",
       "        text-align: right;\n",
       "    }\n",
       "</style>\n",
       "<table border=\"1\" class=\"dataframe\">\n",
       "  <thead>\n",
       "    <tr style=\"text-align: right;\">\n",
       "      <th></th>\n",
       "      <th>unnamed:_0</th>\n",
       "      <th>source_id</th>\n",
       "      <th>start_date</th>\n",
       "      <th>status</th>\n",
       "      <th>description</th>\n",
       "      <th>funding</th>\n",
       "      <th>row_id</th>\n",
       "      <th>currency</th>\n",
       "      <th>cb_category_group_list</th>\n",
       "      <th>cb_number_of_employees</th>\n",
       "      <th>cb_category_list</th>\n",
       "      <th>cb_role</th>\n",
       "      <th>end_date</th>\n",
       "      <th>name</th>\n",
       "      <th>source_detailed</th>\n",
       "    </tr>\n",
       "  </thead>\n",
       "  <tbody>\n",
       "    <tr>\n",
       "      <th>357494</th>\n",
       "      <td>0</td>\n",
       "      <td>Crunchbase</td>\n",
       "      <td>NaN</td>\n",
       "      <td>operating</td>\n",
       "      <td>Bakery</td>\n",
       "      <td>NaN</td>\n",
       "      <td>52fe377c-3dea-a49a-25e1-ba25499d1eb7</td>\n",
       "      <td>USD</td>\n",
       "      <td>Food and Beverage</td>\n",
       "      <td>unknown</td>\n",
       "      <td>Bakery</td>\n",
       "      <td>company</td>\n",
       "      <td>NaN</td>\n",
       "      <td>Vive la tarte</td>\n",
       "      <td>Crunchbase</td>\n",
       "    </tr>\n",
       "    <tr>\n",
       "      <th>357495</th>\n",
       "      <td>1</td>\n",
       "      <td>Crunchbase</td>\n",
       "      <td>1968-07-18</td>\n",
       "      <td>ipo</td>\n",
       "      <td>Intel designs, manufactures, and sells integra...</td>\n",
       "      <td>2.51e+06</td>\n",
       "      <td>1e4f199c-363b-451b-a164-f94571075ee5</td>\n",
       "      <td>USD</td>\n",
       "      <td>Design,Hardware,Manufacturing,Science and Engi...</td>\n",
       "      <td>10000+</td>\n",
       "      <td>Hardware,Manufacturing,Product Design,Semicond...</td>\n",
       "      <td>company</td>\n",
       "      <td>NaN</td>\n",
       "      <td>Intel</td>\n",
       "      <td>Crunchbase</td>\n",
       "    </tr>\n",
       "    <tr>\n",
       "      <th>357496</th>\n",
       "      <td>2</td>\n",
       "      <td>Crunchbase</td>\n",
       "      <td>1968-01-01</td>\n",
       "      <td>operating</td>\n",
       "      <td>Intercomp designs and manufactures weighing an...</td>\n",
       "      <td>549000</td>\n",
       "      <td>6681b1b0-0cea-6a4a-820d-60b15793fa66</td>\n",
       "      <td>USD</td>\n",
       "      <td>Hardware,Software</td>\n",
       "      <td>101-250</td>\n",
       "      <td>Hardware,Software</td>\n",
       "      <td>company</td>\n",
       "      <td>NaN</td>\n",
       "      <td>Intercomp</td>\n",
       "      <td>Crunchbase</td>\n",
       "    </tr>\n",
       "    <tr>\n",
       "      <th>357497</th>\n",
       "      <td>3</td>\n",
       "      <td>Crunchbase</td>\n",
       "      <td>1955-01-01</td>\n",
       "      <td>ipo</td>\n",
       "      <td>Gruppo Editoriale L’Espresso is one of Italy’s...</td>\n",
       "      <td>NaN</td>\n",
       "      <td>e74463f7-94a8-ab7b-ba31-f4cd57a16570</td>\n",
       "      <td>USD</td>\n",
       "      <td>Content and Publishing,Media and Entertainment</td>\n",
       "      <td>1001-5000</td>\n",
       "      <td>News,Publishing</td>\n",
       "      <td>company</td>\n",
       "      <td>NaN</td>\n",
       "      <td>Gruppo Editoriale L'Espresso Spa</td>\n",
       "      <td>Crunchbase</td>\n",
       "    </tr>\n",
       "    <tr>\n",
       "      <th>357498</th>\n",
       "      <td>4</td>\n",
       "      <td>Crunchbase</td>\n",
       "      <td>1975-04-04</td>\n",
       "      <td>ipo</td>\n",
       "      <td>Microsoft is a software corporation that devel...</td>\n",
       "      <td>1e+06</td>\n",
       "      <td>fd80725f-53fc-7009-9878-aeecf1e9ffbb</td>\n",
       "      <td>USD</td>\n",
       "      <td>Consumer Electronics,Hardware,Internet Service...</td>\n",
       "      <td>10000+</td>\n",
       "      <td>Cloud Computing,Collaboration,Consumer Electro...</td>\n",
       "      <td>company</td>\n",
       "      <td>NaN</td>\n",
       "      <td>Microsoft</td>\n",
       "      <td>Crunchbase</td>\n",
       "    </tr>\n",
       "  </tbody>\n",
       "</table>\n",
       "</div>"
      ],
      "text/plain": [
       "        unnamed:_0   source_id  start_date     status  \\\n",
       "357494           0  Crunchbase         NaN  operating   \n",
       "357495           1  Crunchbase  1968-07-18        ipo   \n",
       "357496           2  Crunchbase  1968-01-01  operating   \n",
       "357497           3  Crunchbase  1955-01-01        ipo   \n",
       "357498           4  Crunchbase  1975-04-04        ipo   \n",
       "\n",
       "                                              description   funding  \\\n",
       "357494                                             Bakery       NaN   \n",
       "357495  Intel designs, manufactures, and sells integra...  2.51e+06   \n",
       "357496  Intercomp designs and manufactures weighing an...    549000   \n",
       "357497  Gruppo Editoriale L’Espresso is one of Italy’s...       NaN   \n",
       "357498  Microsoft is a software corporation that devel...     1e+06   \n",
       "\n",
       "                                      row_id currency  \\\n",
       "357494  52fe377c-3dea-a49a-25e1-ba25499d1eb7      USD   \n",
       "357495  1e4f199c-363b-451b-a164-f94571075ee5      USD   \n",
       "357496  6681b1b0-0cea-6a4a-820d-60b15793fa66      USD   \n",
       "357497  e74463f7-94a8-ab7b-ba31-f4cd57a16570      USD   \n",
       "357498  fd80725f-53fc-7009-9878-aeecf1e9ffbb      USD   \n",
       "\n",
       "                                   cb_category_group_list  \\\n",
       "357494                                  Food and Beverage   \n",
       "357495  Design,Hardware,Manufacturing,Science and Engi...   \n",
       "357496                                  Hardware,Software   \n",
       "357497     Content and Publishing,Media and Entertainment   \n",
       "357498  Consumer Electronics,Hardware,Internet Service...   \n",
       "\n",
       "       cb_number_of_employees  \\\n",
       "357494                unknown   \n",
       "357495                 10000+   \n",
       "357496                101-250   \n",
       "357497              1001-5000   \n",
       "357498                 10000+   \n",
       "\n",
       "                                         cb_category_list  cb_role end_date  \\\n",
       "357494                                             Bakery  company      NaN   \n",
       "357495  Hardware,Manufacturing,Product Design,Semicond...  company      NaN   \n",
       "357496                                  Hardware,Software  company      NaN   \n",
       "357497                                    News,Publishing  company      NaN   \n",
       "357498  Cloud Computing,Collaboration,Consumer Electro...  company      NaN   \n",
       "\n",
       "                                    name source_detailed  \n",
       "357494                     Vive la tarte      Crunchbase  \n",
       "357495                             Intel      Crunchbase  \n",
       "357496                         Intercomp      Crunchbase  \n",
       "357497  Gruppo Editoriale L'Espresso Spa      Crunchbase  \n",
       "357498                         Microsoft      Crunchbase  "
      ]
     },
     "execution_count": 466,
     "metadata": {},
     "output_type": "execute_result"
    }
   ],
   "source": [
    "# Identify relevant variables\n",
    "#They are the ones that have less than 100% of missing values\n",
    "cb = cb[missing_grouped.T.index[missing_grouped.T['Crunchbase']<1]]\n",
    "\n",
    "cb.head()"
   ]
  },
  {
   "cell_type": "code",
   "execution_count": 467,
   "metadata": {},
   "outputs": [
    {
     "data": {
      "text/plain": [
       "company     613851\n",
       "investor     33300\n",
       "school       15058\n",
       "Name: cb_role, dtype: int64"
      ]
     },
     "execution_count": 467,
     "metadata": {},
     "output_type": "execute_result"
    }
   ],
   "source": [
    "#What roles are present in the data?\n",
    "cb['cb_role'].value_counts()"
   ]
  },
  {
   "cell_type": "code",
   "execution_count": 468,
   "metadata": {},
   "outputs": [
    {
     "data": {
      "text/plain": [
       "<matplotlib.axes._subplots.AxesSubplot at 0x62fd72400>"
      ]
     },
     "execution_count": 468,
     "metadata": {},
     "output_type": "execute_result"
    },
    {
     "data": {
      "image/png": "[encoded data removed]",
      "text/plain": [
       "<Figure size 576x396 with 1 Axes>"
      ]
     },
     "metadata": {},
     "output_type": "display_data"
    }
   ],
   "source": [
    "#Where are the missing categories?\n",
    "cb.groupby('cb_role').apply(lambda x: np.sum(x.isna())/len(x)).T.plot.bar(title='Missing values by CrunchBase category')"
   ]
  },
  {
   "cell_type": "markdown",
   "metadata": {},
   "source": [
    "We are interested on the sectoral info so perhaps focus on the company category where there are fewer missing values"
   ]
  },
  {
   "cell_type": "code",
   "execution_count": 469,
   "metadata": {},
   "outputs": [],
   "source": [
    "#Subset to focus on companies\n",
    "cb_comps = cb.loc[cb['cb_role']=='company',:]\n",
    "\n",
    "#Turn the sectoral categories into flat lists and analyse the distribution\n",
    "#NB we are avoiding the missing values at the end of the list comprehension\n",
    "cat_list,cat_group_list = [flatten_list([x.split(',') for x in cb_comps[var] if type(x)==str]) for var in ['cb_category_list',\n",
    "                                                                                           'cb_category_group_list']]"
   ]
  },
  {
   "cell_type": "code",
   "execution_count": 470,
   "metadata": {},
   "outputs": [
    {
     "name": "stdout",
     "output_type": "stream",
     "text": [
      "737\n"
     ]
    },
    {
     "data": {
      "text/plain": [
       "<matplotlib.axes._subplots.AxesSubplot at 0x9255756d8>"
      ]
     },
     "execution_count": 470,
     "metadata": {},
     "output_type": "execute_result"
    },
    {
     "data": {
      "image/png": "[encoded data removed]",
      "text/plain": [
       "<Figure size 720x360 with 1 Axes>"
      ]
     },
     "metadata": {},
     "output_type": "display_data"
    }
   ],
   "source": [
    "print(len(set(cat_list)))\n",
    "\n",
    "pd.Series(cat_list).value_counts()[:40].plot.bar(color='blue',figsize=(10,5),title='Top 40 categories')"
   ]
  },
  {
   "cell_type": "markdown",
   "metadata": {},
   "source": [
    "There are 737 CrunchBase categories. We already see an 'Analytics' one that looks interesting"
   ]
  },
  {
   "cell_type": "code",
   "execution_count": 471,
   "metadata": {},
   "outputs": [
    {
     "name": "stdout",
     "output_type": "stream",
     "text": [
      "46\n"
     ]
    },
    {
     "data": {
      "text/plain": [
       "<matplotlib.axes._subplots.AxesSubplot at 0x92629d940>"
      ]
     },
     "execution_count": 471,
     "metadata": {},
     "output_type": "execute_result"
    },
    {
     "data": {
      "image/png": "[encoded data removed]",
      "text/plain": [
       "<Figure size 720x360 with 1 Axes>"
      ]
     },
     "metadata": {},
     "output_type": "display_data"
    }
   ],
   "source": [
    "print(len(set(cat_group_list)))\n",
    "\n",
    "pd.Series(cat_group_list).value_counts().plot.bar(color='blue',figsize=(10,5),title='Top category groups')"
   ]
  },
  {
   "cell_type": "markdown",
   "metadata": {},
   "source": [
    "Interestingly there is an Artificial Intelligence category\n",
    "\n"
   ]
  },
  {
   "cell_type": "code",
   "execution_count": 472,
   "metadata": {},
   "outputs": [],
   "source": [
    "pd.Series(cat_group_list).value_counts()['Artificial Intelligence']"
   ]
  },
  {
   "cell_type": "markdown",
   "metadata": {},
   "source": [
    "The Artificial Intelligence category has 6500 observations. We can probably work with that"
   ]
  },
  {
   "cell_type": "code",
   "execution_count": 473,
   "metadata": {},
   "outputs": [],
   "source": [
    "# Let's do it, to end the day.\n",
    "\n",
    "#We simply subset a series version of the tokenised CB using the indices of the variables here. I checked and everything\n",
    "#seems to line up\n",
    "\n",
    "cb_tokenised = list(pd.Series(data_tokenised).loc[cb_comps.index])\n",
    "\n",
    "#We turn each tokenised element into a string for the count vectorisation.\n",
    "#TODO: Make this less roundabout\n",
    "cb_tokenised_string = [' '.join(x) for x in cb_tokenised]"
   ]
  },
  {
   "cell_type": "code",
   "execution_count": 474,
   "metadata": {},
   "outputs": [],
   "source": [
    "#Initialise the count vectoriser and fit it to the CB data\n",
    "\n",
    "#Initialise and fit\n",
    "count_vec_cb = CountVectorizer(stop_words='english',min_df=5).fit(cb_tokenised_string)\n",
    "\n",
    "#Generate the X\n",
    "X = count_vec_cb.transform(cb_tokenised_string)"
   ]
  },
  {
   "cell_type": "code",
   "execution_count": 475,
   "metadata": {},
   "outputs": [],
   "source": [
    "#Also need to generate the target\n",
    "Y = ['Artificial Intelligence' in categories if type(categories)!=float else 0 for categories in cb_comps['cb_category_group_list']]"
   ]
  },
  {
   "cell_type": "code",
   "execution_count": 476,
   "metadata": {},
   "outputs": [
    {
     "name": "stdout",
     "output_type": "stream",
     "text": [
      "0\n",
      "1\n"
     ]
    }
   ],
   "source": [
    "#Do some grid search with a pair of models\n",
    "\n",
    "#Each element in this list is a classifier and some parameters to use in grid search\n",
    "\n",
    "models_params = [\n",
    "    [RandomForestClassifier(),\n",
    "     {'class_weight':['balanced',None],'min_samples_leaf':[1,5]}],\n",
    "    \n",
    "    [LogisticRegression(),\n",
    "     {'class_weight':['balanced',None],'penalty':['l1','l2'],\n",
    "      'C':[0.1,1,100]}]]\n",
    "                    \n",
    "#Container\n",
    "cb_results = []\n",
    "\n",
    "#For each model, run the analysis.\n",
    "for num,mod in enumerate(models_params):\n",
    "    print(num)\n",
    "    \n",
    "    #Initialise the Grid Search classifier with the combination of parameters\n",
    "    clf = GridSearchCV(mod[0],mod[1])\n",
    "    \n",
    "    #Fit\n",
    "    clf.fit(X,Y)\n",
    "    \n",
    "    #Append results\n",
    "    cb_results.append(clf)"
   ]
  },
  {
   "cell_type": "code",
   "execution_count": 477,
   "metadata": {},
   "outputs": [],
   "source": [
    "cb_mod = cb_results[1]\n",
    "Y_pred = cb_mod.best_estimator_.predict_proba(X)"
   ]
  },
  {
   "cell_type": "code",
   "execution_count": 478,
   "metadata": {},
   "outputs": [
    {
     "data": {
      "text/html": [
       "<div>\n",
       "<style scoped>\n",
       "    .dataframe tbody tr th:only-of-type {\n",
       "        vertical-align: middle;\n",
       "    }\n",
       "\n",
       "    .dataframe tbody tr th {\n",
       "        vertical-align: top;\n",
       "    }\n",
       "\n",
       "    .dataframe thead th {\n",
       "        text-align: right;\n",
       "    }\n",
       "</style>\n",
       "<table border=\"1\" class=\"dataframe\">\n",
       "  <thead>\n",
       "    <tr style=\"text-align: right;\">\n",
       "      <th>col_0</th>\n",
       "      <th>False</th>\n",
       "      <th>True</th>\n",
       "    </tr>\n",
       "    <tr>\n",
       "      <th>row_0</th>\n",
       "      <th></th>\n",
       "      <th></th>\n",
       "    </tr>\n",
       "  </thead>\n",
       "  <tbody>\n",
       "    <tr>\n",
       "      <th>False</th>\n",
       "      <td>606807</td>\n",
       "      <td>631</td>\n",
       "    </tr>\n",
       "    <tr>\n",
       "      <th>True</th>\n",
       "      <td>5620</td>\n",
       "      <td>793</td>\n",
       "    </tr>\n",
       "  </tbody>\n",
       "</table>\n",
       "</div>"
      ],
      "text/plain": [
       "col_0   False  True \n",
       "row_0               \n",
       "False  606807    631\n",
       "True     5620    793"
      ]
     },
     "execution_count": 478,
     "metadata": {},
     "output_type": "execute_result"
    }
   ],
   "source": [
    "pd.crosstab(pd.Series(Y),pd.Series(Y_pred[:,1]>0.5))"
   ]
  },
  {
   "cell_type": "markdown",
   "metadata": {},
   "source": [
    "This doesn't work very well. Low recall (less than 10% and low precision (just over 50%)"
   ]
  },
  {
   "cell_type": "code",
   "execution_count": 479,
   "metadata": {},
   "outputs": [],
   "source": [
    "#Let's test results\n",
    "\n",
    "#False positives\n",
    "ai_fp = pd.Series(Y)==False & pd.Series(Y_pred[:,1]>0.5)\n",
    "\n",
    "#False negatives\n",
    "ai_fn = pd.Series(Y)==True & pd.Series(Y_pred[:,1]<0.5)\n",
    "\n",
    "#True positives\n",
    "ai_tp = pd.Series(Y)==True & pd.Series(Y_pred[:,1]>0.5)\n",
    "\n",
    "cb_comps_2 = cb_comps.reset_index(drop=True)\n"
   ]
  },
  {
   "cell_type": "code",
   "execution_count": 487,
   "metadata": {},
   "outputs": [
    {
     "name": "stdout",
     "output_type": "stream",
     "text": [
      "false positive\n",
      "=====\n",
      "\tHumanoid Events is a conference all about humanoid robots.\n",
      "\n",
      "\n",
      "\tArchon is a company based in Italy and USA, specialized in providing automated operations with UAVs and rovers in energy installations.\n",
      "\n",
      "\n",
      "\tOur factory in China specializes in the design and manufacture of all kinds of bedding products.\n",
      "\n",
      "\n",
      "\tPEAK Group is a substantial player in the service sector and provides array of Agency, Representation and Consultancy services.\n",
      "\n",
      "\n",
      "\tInnovum provides technology solutions for the management and development of people and their employability.\n",
      "\n",
      "\n",
      "\tSnapMD operates a cloud-based patient-to-provider telemedicine platform that connects individuals with pediatric physicians in the U.S.\n",
      "\n",
      "\n",
      "\tGet quality materials for your studies\n",
      "\n",
      "\n",
      "\tPlanetGR is an online social networking service and platform for Greeks.\n",
      "\n",
      "\n",
      "\tCouncil Global the first pure #IoT consultancy is open for business.\n",
      "\n",
      "\n",
      "\tKing of Condos is a luxury real estate broker that focuses on the sale of luxury condos in vacation destinations.\n",
      "\n",
      "\n",
      "\n",
      "\n",
      "false negative\n",
      "=====\n",
      "\tSatisfi Labs is the virtual assistant for the world inside.\n",
      "\n",
      "\n",
      "\tKodaCloud brings Artificial Intelligence (AI)-powered Cloud Wi-Fi as a Service to enterprise customers via Managed Services Partners\n",
      "\n",
      "\n",
      "\tTech startup based on Seoul running WATCHA (contents recommendation service) and WATCHA PLAY (subscription VOD service).\n",
      "\n",
      "\n",
      "\tPersonally curating the best of what a city has to offer through machine learning algorithms\n",
      "\n",
      "\n",
      "\tGroundbreaking Robo-Advising & Wealth Management Solution\n",
      "\n",
      "\n",
      "\tNeoWize develops and provides e-commerce personalization solutions\n",
      "\n",
      "\n",
      "\tMeet Aiko, your new AI Assistant.\n",
      "\n",
      "\n",
      "\tLemmeno elevates online content sharing to an interactive experience - increasing virality and providing publishers with robust insights.\n",
      "\n",
      "\n",
      "\tBuzz Radar is an industry leader in making data, insightful, accessible and actionable\n",
      "\n",
      "\n",
      "\tIdentify & engage those who need you most in real time — before they start shopping\n",
      "\n",
      "\n",
      "\n",
      "\n",
      "true positive\n",
      "=====\n",
      "\tBee Gold Hidromel Artesanal produces and sells a variety of mead in Brazil.\n",
      "\n",
      "\n",
      "\tMebelkart is an e-marketplace portal\n",
      "\n",
      "\n",
      "\tTravelers Do goal is to create a community to find, share, and geek out about the latest newest attractions within a city.\n",
      "\n",
      "\n",
      "\tPonder is a fun and interactive way to get feedback on your content.\n",
      "\n",
      "\n",
      "\tO2V is a team of technology and business leaders with a passion to help others succeed. We help you start and grow yours software company\n",
      "\n",
      "\n",
      "\tGlobal Talent Track (GTT) is a path breaking global educational initiative and corporate training solutions company, set up by some of the\n",
      "\n",
      "\n",
      "\tDockless Bikesharing\n",
      "\n",
      "\n",
      "\tGene Probe, Inc. has assumed further development, maintenance, and support for the GeneMark and GeneMark.hmm gene prediction software\n",
      "\n",
      "\n",
      "\tOnline Florist Singapore is an online florist that delivers to the country of Singapore.\n",
      "\n",
      "\n",
      "\tMatradee is an online restaurant reservation network for restaurants in major US cities. It operates in real time and suggests available\n",
      "\n",
      "\n",
      "\n",
      "\n"
     ]
    }
   ],
   "source": [
    "test = [[name,random.sample(list(cb_comps_2.loc[comps,'description']),10)] for name,comps in zip(\n",
    "    ['false positive','false negative','true positive'],[ai_fp,ai_fn,ai_tp])]\n",
    "\n",
    "\n",
    "for x in test:\n",
    "    print(x[0])\n",
    "    print('=====')\n",
    "    \n",
    "    for entry in x[1]:\n",
    "        print('\\t'+entry)\n",
    "        print('\\n')\n",
    "    print('\\n')"
   ]
  },
  {
   "cell_type": "markdown",
   "metadata": {},
   "source": [
    "It looks like CrunchBase will be useless as a labelled dataset. Descriptions are too short and it's unclear how they link with the AI label"
   ]
  },
  {
   "cell_type": "markdown",
   "metadata": {},
   "source": [
    "#### iii. Use a keyword based strategy\n",
    "\n",
    "The third strategy is to look for relevant keywords in the data. The challenge we face is identifying the right set of keywords. This is what we will do through Clio. As a placeholder, we simply identify some keywords through word2vec. Would it make sense to look for them separately by dataset and then create a combined set of relevant keywords?\n"
   ]
  },
  {
   "cell_type": "code",
   "execution_count": 481,
   "metadata": {},
   "outputs": [],
   "source": [
    "w2v = models.Word2Vec(data_tokenised)"
   ]
  },
  {
   "cell_type": "code",
   "execution_count": 519,
   "metadata": {},
   "outputs": [
    {
     "name": "stderr",
     "output_type": "stream",
     "text": [
      "/usr/local/lib/python3.5/site-packages/ipykernel_launcher.py:1: DeprecationWarning: Call to deprecated `most_similar` (Method will be removed in 4.0.0, use self.wv.most_similar() instead).\n",
      "  \"\"\"Entry point for launching an IPython kernel.\n"
     ]
    },
    {
     "data": {
      "text/plain": [
       "[('data_mining', 0.8067034482955933),\n",
       " ('ml', 0.8028653860092163),\n",
       " ('deep_learning', 0.78989577293396),\n",
       " ('artificial_intelligence', 0.7642579078674316),\n",
       " ('nlp', 0.7451745867729187),\n",
       " ('computer_vision', 0.7415744066238403),\n",
       " ('supervised_learning', 0.7270875573158264),\n",
       " ('ai', 0.7105552554130554),\n",
       " ('machine-learning', 0.7100757360458374),\n",
       " ('text_classification', 0.6986529231071472)]"
      ]
     },
     "execution_count": 519,
     "metadata": {},
     "output_type": "execute_result"
    }
   ],
   "source": [
    "w2v.most_similar('machine_learning')"
   ]
  },
  {
   "cell_type": "markdown",
   "metadata": {},
   "source": [
    "This is replaced with a clio powered analysis."
   ]
  },
  {
   "cell_type": "markdown",
   "metadata": {},
   "source": [
    "### b. Generate richer health categories\n",
    "\n",
    "Some of our datasets contain rich descriptions of activities in the health domain which we could use to try to understand the meaning or purpose of health activities in the data. For example:\n",
    "\n",
    "* The Gateway to Research contains information about disease areas and health topics which we could use to generate predictions about the rest of the data.\n",
    "* The RWJF data contains information about programme areas they work in.\n",
    "\n",
    "In this section we will load models that we trained in **`notebook 2`** and use them to generate predictions about the rest of the GDB data.\n"
   ]
  },
  {
   "cell_type": "code",
   "execution_count": 551,
   "metadata": {},
   "outputs": [],
   "source": [
    "#We write a function that we will use with the two sets of models we wrote before\n",
    "\n",
    "def transfer_predictions(model_pack,corpus):\n",
    "    '''\n",
    "    This function takes a 'model pack' we have trained elsewhere: count vectoriser, model and variable names.\n",
    "    \n",
    "    It transforms the corpus into a set of features and predicts labels\n",
    "    \n",
    "    '''\n",
    "    \n",
    "    # Create features\n",
    "    \n",
    "    #We load the count vectoriser we trained on the GTR data\n",
    "    count_vec = model_pack[0]\n",
    "\n",
    "    #Estimator\n",
    "    estimator = model_pack[1]\n",
    "\n",
    "    #Var names\n",
    "    class_names = model_pack[2]\n",
    "    \n",
    "    \n",
    "    #Use it to create a feature set based on the merged dataset\n",
    "    X_for_pred = count_vec.transform(corpus)\n",
    "    \n",
    "    #Generate predictions\n",
    "    output = pd.DataFrame(estimator.predict_proba(X_for_pred),columns=class_names)\n",
    "    \n",
    "    #Return\n",
    "    return(output)\n",
    "\n",
    "\n",
    "def report_findings\n",
    "    "
   ]
  },
  {
   "cell_type": "markdown",
   "metadata": {},
   "source": [
    "#### i. With the Gateway to Research models"
   ]
  },
  {
   "cell_type": "code",
   "execution_count": 552,
   "metadata": {},
   "outputs": [],
   "source": [
    "#Load model\n",
    "with open(mod_path+'15_5_2018_gtr_disease_models.p'.format(date=today_str),'rb') as infile:\n",
    "    gtr_models = pickle.load(infile)\n",
    "\n",
    "gtr_preds = transfer_predictions(gtr_models,data_desc['description'])\n"
   ]
  },
  {
   "cell_type": "code",
   "execution_count": 599,
   "metadata": {},
   "outputs": [],
   "source": [
    "#We have outputed probabilities. We focus on projects with high confidence (>0.7). \n",
    "#We make other values np.nan to facilitate classification through idxmax later.\n",
    "\n",
    "gtr_high_conf = gtr_preds.applymap(lambda x: np.nan if x<0.9 else x)"
   ]
  },
  {
   "cell_type": "markdown",
   "metadata": {},
   "source": [
    "#### ii. With the RWJF models"
   ]
  },
  {
   "cell_type": "code",
   "execution_count": 554,
   "metadata": {},
   "outputs": [],
   "source": [
    "#Load model\n",
    "with open(mod_path+'15_5_2018_rwj_topics.p'.format(date=today_str),'rb') as infile:\n",
    "    rwj_models = pickle.load(infile)\n",
    "\n",
    "rwj_preds = transfer_predictions(rwj_models,data_desc['description'])"
   ]
  },
  {
   "cell_type": "code",
   "execution_count": 569,
   "metadata": {},
   "outputs": [],
   "source": [
    "#Same as with GTR\n",
    "rwj_high_conf = rwj_preds.applymap(lambda x: np.nan if x<0.9 else x)"
   ]
  },
  {
   "cell_type": "markdown",
   "metadata": {},
   "source": [
    "#### iv. Classify\n",
    "\n",
    "\n",
    "\n"
   ]
  },
  {
   "cell_type": "code",
   "execution_count": 600,
   "metadata": {},
   "outputs": [],
   "source": [
    "#Each project is allocated to its top category based on the high confidence scores form GTR and RWJ\n",
    "data_desc['dis_pred'],data_desc['rwj_pred'] = [var.idxmax(axis=1) for var in [gtr_high_conf,rwj_high_conf]]"
   ]
  },
  {
   "cell_type": "code",
   "execution_count": 602,
   "metadata": {},
   "outputs": [],
   "source": [
    "#And now we want to check the outputs\n",
    "\n",
    "def check_outputs(df,group_var,check_var,descr_var,condition,sample_n=3,length=500):\n",
    "    '''\n",
    "    \n",
    "    This simple function takes a df and returns a sample of records in the check_var (if they fulfill the condition)\n",
    "    grouped by the source var. This helps us assess the \n",
    "    \n",
    "    '''\n",
    "    #Subsets a df by the condition\n",
    "    relevant = df.loc[df[check_var]==condition,:]\n",
    "    \n",
    "    #Groups the df by the category and obtain the descriotions \n",
    "    descriptions_by_cat = relevant.groupby(group_var)[descr_var].apply(lambda x: list(x))\n",
    "        \n",
    "    for x in descriptions_by_cat.index:\n",
    "    \n",
    "        print(x)\n",
    "        print('===')\n",
    "        \n",
    "        random_selection = random.sample(descriptions_by_cat[x],1)\n",
    "\n",
    "        for des in random_selection:\n",
    "            print(des[:500])\n",
    "            print('\\n')\n",
    "\n",
    "        print('\\n')\n"
   ]
  },
  {
   "cell_type": "code",
   "execution_count": 605,
   "metadata": {},
   "outputs": [],
   "source": [
    "#Run bthe check_outputs function for all the categories in relevant variables\n",
    "#for disease in set(data_desc['rwj_pred'].dropna()):\n",
    "#    print(disease.upper())\n",
    "#    check_outputs(data_desc,group_var='source_detailed',check_var='rwj_pred',descr_var='description',condition=disease)b"
   ]
  },
  {
   "cell_type": "markdown",
   "metadata": {},
   "source": [
    "#### **Observations based on some eyeballing of the outputs from classification**\n",
    "\n",
    "The results are hit and miss and depend a lot on the category we are considering and its vocabulary.\n",
    "\n",
    "For example, topics related to Nurses, Cancer, Neurology or Obesity are relatively easy to predict: they have a unique and specific vocabulary / terminology. The situation is different with topics like 'Health Costs' or 'Environmental determinants of health'. In that case, we find that the predictive models applied outside of health pick up anything to do with cost reduction regardless of the domain. The reason for this is that we trained the model on a health database where health is not a highly predictive variable for health costs. \n",
    "\n",
    "One way forward is to focus the model on the analysis of projects that are identified as health with a simple binary classifier, or Clio, and then to classify projects there inside the right categories. We will try to do this below.\n",
    "\n"
   ]
  },
  {
   "cell_type": "markdown",
   "metadata": {},
   "source": [
    "### d. Clio powered analysis\n",
    "\n",
    "In parallel to the analysis above, we have used Clio to query the data and identify relevant projects. I will load the project IDs and query the data\n"
   ]
  },
  {
   "cell_type": "code",
   "execution_count": 609,
   "metadata": {},
   "outputs": [],
   "source": [
    "# Load the pickled dicts with the data\n",
    "\n",
    "with open(int_data+'/health_and_ai_ids.pickle','rb') as infile:\n",
    "    health_ai_ids = pickle.load(infile)\n"
   ]
  },
  {
   "cell_type": "code",
   "execution_count": 610,
   "metadata": {},
   "outputs": [
    {
     "name": "stdout",
     "output_type": "stream",
     "text": [
      "128647\n",
      "117285\n"
     ]
    }
   ],
   "source": [
    "#How many of each do we have?\n",
    "\n",
    "print(len(health_ai_ids['AI IDs']))\n",
    "print(len(health_ai_ids['Health IDs']))"
   ]
  },
  {
   "cell_type": "code",
   "execution_count": 612,
   "metadata": {},
   "outputs": [],
   "source": [
    "#Extract the data\n",
    "\n",
    "#We create two booleans showing where the AI projects and health projects are \n",
    "data_desc['is_ai'],data_desc['is_health'] = [data_desc['row_id'].apply(lambda x: x in health_ai_ids[id_list]) for \n",
    "                                   id_list in ['AI IDs','Health IDs']]\n",
    "\n",
    "#And a boolean indicating health-ai projects\n",
    "data_desc['ai_health'] = (data_desc['is_ai'] == True) & (data_desc['is_health']==True)\n",
    "\n"
   ]
  },
  {
   "cell_type": "code",
   "execution_count": 613,
   "metadata": {},
   "outputs": [
    {
     "data": {
      "text/html": [
       "<div>\n",
       "<style scoped>\n",
       "    .dataframe tbody tr th:only-of-type {\n",
       "        vertical-align: middle;\n",
       "    }\n",
       "\n",
       "    .dataframe tbody tr th {\n",
       "        vertical-align: top;\n",
       "    }\n",
       "\n",
       "    .dataframe thead th {\n",
       "        text-align: right;\n",
       "    }\n",
       "</style>\n",
       "<table border=\"1\" class=\"dataframe\">\n",
       "  <thead>\n",
       "    <tr style=\"text-align: right;\">\n",
       "      <th>is_health</th>\n",
       "      <th>False</th>\n",
       "      <th>True</th>\n",
       "    </tr>\n",
       "    <tr>\n",
       "      <th>is_ai</th>\n",
       "      <th></th>\n",
       "      <th></th>\n",
       "    </tr>\n",
       "  </thead>\n",
       "  <tbody>\n",
       "    <tr>\n",
       "      <th>False</th>\n",
       "      <td>6734395</td>\n",
       "      <td>123280</td>\n",
       "    </tr>\n",
       "    <tr>\n",
       "      <th>True</th>\n",
       "      <td>24998</td>\n",
       "      <td>8928</td>\n",
       "    </tr>\n",
       "  </tbody>\n",
       "</table>\n",
       "</div>"
      ],
      "text/plain": [
       "is_health    False   True \n",
       "is_ai                     \n",
       "False      6734395  123280\n",
       "True         24998    8928"
      ]
     },
     "execution_count": 613,
     "metadata": {},
     "output_type": "execute_result"
    }
   ],
   "source": [
    "#This is what the health/AI matrix looks like\n",
    "pd.crosstab(data_desc['is_ai'],data_desc['is_health'])\n"
   ]
  },
  {
   "cell_type": "code",
   "execution_count": 614,
   "metadata": {},
   "outputs": [
    {
     "data": {
      "text/plain": [
       "<matplotlib.axes._subplots.AxesSubplot at 0x311cb8748>"
      ]
     },
     "execution_count": 614,
     "metadata": {},
     "output_type": "execute_result"
    },
    {
     "data": {
      "image/png": "[encoded data removed]",
      "text/plain": [
       "<Figure size 576x396 with 1 Axes>"
      ]
     },
     "metadata": {},
     "output_type": "display_data"
    }
   ],
   "source": [
    "#here is the distribution over datasets\n",
    "\n",
    "data_desc.loc[data['ai_health']==True,'source_detailed'].value_counts().plot.bar(color='blue',\n",
    "                                                                           title='Source for Health AI projects')"
   ]
  },
  {
   "cell_type": "markdown",
   "metadata": {},
   "source": [
    "Nothing from GitHub!"
   ]
  },
  {
   "cell_type": "code",
   "execution_count": 616,
   "metadata": {},
   "outputs": [
    {
     "name": "stdout",
     "output_type": "stream",
     "text": [
      "Crunchbase\n",
      "===\n",
      "Lumme uses wearable technology and machine learning to assist with smoking cessation.\n",
      "\n",
      "\n",
      "InferX provides predictive analytics and business intelligence solutions for financial services, healthcare, and government enterprises.\n",
      "\n",
      "\n",
      "Artificial Intelligence chatbot to improve teenager wellbeing\n",
      "\n",
      "\n",
      "\n",
      "\n",
      "GDB_H2020\n",
      "===\n",
      "Today’s rich digital information environment is characterized by the multitude of data sources providing information that has not yet reached its full potential in eHealth. CrowdHEALTH will introduce a new paradigm of Holistic Health Records (HHRs) that include all health determinants. HHRs will be transformed into Social HHRs communities capturing the clinical, social and human context of the population segmentation and as a result the collective knowledge for different factors depending on the communities formulation criteria (e.g. demographics, diseases, lifestyle choices, nutrition, etc). CrowdHEALTH will deliver a secure integrated ICT platform that seamlessly integrates big data technologies across the complete data path, providing of Data as a Service (DaaS) to the health ecosystem stakeholders. CrowdHEALTH will develop policy modeling techniques to facilitate the inclusion of Key Performance Indicators (KPIs) in policies and the correlation of these KPIs both with all health determinants captured in HHRs and with information from other domains towards a “health in all policies” approach. Creation and co-creation (cross-domain) of policies will be feasible through a rich toolkit, which will be provided on top of the DaaS, incorporating mechanisms for causal and risk analysis, as well as for compilation of predictions. Through the toolkit, multi-modal targeted policies addressing various time scales (long- / short- term), locations (area, regional, national, international), populations, and evolving risks will be realized. CrowdHEALTH will facilitate policies evaluation (on complete policy and per-KPI levels) and optimization through adaptive and incremental visualizations of simulations and outcomes of evidence based analysis of prevention strategies. CrowdHEALTH will collect data and will be validated through 5 pilots addressing different environments (care centers, social networks, public environments, living labs, diseases monitoring).\n",
      "\n",
      "\n",
      "CircRTrain focuses on circular RNAs (circRNAs), a new large class of single-stranded RNAs with covalently closed ends. CircRNAs have only very recently attracted high general interest and become the focus of an increasing number of publications: recent discoveries through sequencing technology and computational analyses have revealed the widespread existence of circRNAs in animal cells. Particularly in neural tissues, circRNA expression is high, dynamic, and evolutionarily conserved. In aging animal brains the expression of certain circRNAs is strongly elevated, suggesting connections to age-related diseases. The study of circRNAs thus emerges as a novel topic with highest importance for the understanding of such diverse conditions as neurodegenerative diseases, aging, and cancer. Moreover, the highly stable expression and their presence in human blood and exosomes make circRNAs attractive biomarker candidates. \n",
      "The overall aims of circRTrain are to 1. Elucidate the biogenesis and function of circRNAs; 2. Define their role in diseases; 3. Exploit their potential as biomarkers and for medical applications; and 4. Combine cutting-edge technologies and disciplines.\n",
      "Understanding circRNAs and exploring their medical relevance requires to integrate various technologies (sequencing, single-molecule and whole-organism imaging, RNA knockdown/delivery, CRISPR/CAS9), disciplines (biochemistry, computational biology, genetics), model systems (worm, fly, mouse, human) and medical applications (biomarkers, new therapeutic strategies). \n",
      "CircRTrain will combine these diverse approaches and industrial technologies by training 15 early stage researchers (ESR) at two SMEs and seven academic partners, which are all leaders in their respective fields. Additionally, cooperation with four partner organizations, circRNA devoted conferences, winter- and summer schools will extend training for the ESRs, sustaining the critical number of young talented professionals in the field.\n",
      "\n",
      "\n",
      "Data and services have become the key factor in manufacturing processes. The need to react on dynamically changing market demands is dramatically rising. One of the most imperative problems so far is to connect supply chain data and services between enterprises and to connect value chain data within a factory, so that it can meaningfully support decision-making. COMPOSITION will create a digital automation framework (the COMPOSITION IIMS) that optimizes the manufacturing processes by exploiting existing data, knowledge and tools to increase productivity and dynamically adapt to changing market requirements. This technology acts as the technical operating system for business connections between factories and their suppliers. Furthermore, it opens a new space for third party entities to actively interact in the supply chain, e.g., by providing services to improve cycle time, cost, flexibility or resource usage. In addition to the supply chain improvements, also the processes inside the company will be addressed and optimized. Data across the (multi sided) company internal value chain is integrated by an Integrated Information Management System (IIMS) with optimisation and modelling tools for resource management including innovative, multi-level, real-time cross-domain analytics including a Decision Support System. The technology will be based on extending existing FI-WARE and FITMAN catalogues and LINKSmart® Middleware and adapt the concept of Industrial Data Space. COMPOSITION will implement, demonstrate and validate the system in two multi-sided pilots that show the modularity, scalability and re-configurability of the platform across multiple application domains. The first pilot in the biomedical device domain focuses on the integrated information management system in a multi-sided manufacturing process. The second pilot concentrates on the interaction between different companies using the COMPOSITION ecosystem with the agent-based marketplace for collaboration.\n",
      "\n",
      "\n",
      "\n",
      "\n",
      "GDB_ahrq\n",
      "===\n",
      "   \n",
      "DESCRIPTION (provided by applicant): As both a graduate student and post-doctoral fellow, Dr. Rosenberg has sought to improve our understanding of quality of life (QOL) and treatment decisions in young women with breast cancer both because breast cancer is the most common cancer in young adults and because of the unique and substantial psychosocial issues young women face at both diagnosis and longer-term follow-up. As part of her dissertation work at the Harvard School of Public Health, Dr. Rosenberg examined the impact of treatment on two important QOL issues - sexual function and body image - in young women with early-stage breast cancer. As a post-doctoral fellow, Dr. Rosenberg explored the decision among women with unilateral, early-stage breast cancer to remove their healthy breast (known as contralateral prophylactic mastectomy or CPM), an extremely important issue given increasing rates of CPM in recent years, despite a lack of evidence for improvement in outcomes from this surgery. Importantly, younger women with breast cancer are the most likely to choose CPM and findings from a recent study led by Dr. Rosenberg indicate that many young women who have CPM harbor inaccurate breast cancer risk perceptions and appear to overestimate the benefit gained from the procedure. The career development and research plan proposed in this K01 application aims to build on this prior work. Training in three key areas: 1) qualitative research methods; 2) advanced quantitative methods; and 3) decision science, will enable Dr. Rosenberg to acquire new skills that will allow her to carry out each aim of the proposed research. Using a mixed-methods approach, including qualitative methods and quantitative analyses of longitudinal survey data, Dr. Rosenberg will assess patient experiences as well as physician perspectives regarding surgical decisions and outcomes. These findings will inform the design of a decision aid which she will then pilot, aiming to optimize decision-making in young women with early-stage breast cancer. The proposed research in this K01 application involves multiple stakeholders, including breast cancer patients, survivors, physicians, and advocates. The overarching aim of this research is to ensure that decisions about breast cancer surgery are fully informed, consistent with individual needs and values, and made in a setting where anxiety, concerns, and expectations about how surgery might impact QOL are addressed. The training and career development plan detailed in this K01 application will allow the candidate to acquire the necessary skills to accomplish her short-term goals of learning and using new analytic methods, designing and implementing a clinical intervention, and developing productive collaborations with advocacy groups. Dr. Rosenberg's past educational and research experiences have incorporated epidemiology, psychology, outcomes, and health services research. In supporting the proposed research, this award will allow Dr. Rosenberg to further integrate these areas, while expanding her research skill set, facilitating her transition to an independent investigator with the ability to lead epidemiological, qualitative, and intervention studies.   \n",
      "   \n",
      "\n",
      "\n",
      "\n",
      "To enhance the computerized information and communications infrastructure of our emerging primary care practice-based research network (PBRN). This is a Category I proposal.\n",
      "\n",
      "Background: The Kentucky Ambulatory Network (KAN) was established in the fall of 2000, using grant support from HRSA. Its missions are to advance knowledge and promote best practices in primary care, through the study of common health problems in appropriate settings. In so doing, KAN seeks to broadly represent primary care practices in Kentucky; most of which are small, independent, and widely dispersed in rural communities. To date, KAN has 102 community-based clinician members (74% family physicians) at 56 sites, plus 48 university-based faculty members. KAN has completed data collection on 3100 patient visits in its replication of the National Ambulatory Medical Care Survey. Three other funded studies will begin within the next 6 months. KAN is administered through the University of Kentucky, in cooperation with the University of Louisville and the Kentucky Academy of Family Physicians. Needs: KAN has no informatics infrastructure beyond a rudimentary website. More technologically-sophisficated information/communication systems are needed in order for KAN to realize its potential beyond completing relatively simple studies that require very limited data collection at the point of care. Opportunities: KAN has identified experts in medical informatics who are anxious to work with us. Over 90% of our practitioners already use computerized billing and the internet. We have funding for 50 palm-top computers, not yet in use. Local Area Health Education Centers (AHECs) wish to partner with KAN, at no extra cost, to promote the electronic medical library and decision support portions of a network-wide informatics infrastructure. Methods: We propose a planning, through which we will: 1) Complete an assessment of our members' current capabilities, needs, desires, and barriers related to the adoption and implementation of computerized information and communication technologies that would be useful for individual practitioners and for our PBRN. 2) Construct a realistic plan for building a network-ride computerized data and communications system, with evidence-adaptive decision support components. Evaluation: Non-native and summative evaluations of our assessments and plans will be completed, measuring success against apriori qualifications for: completeness of our assessments, valid planning processes that incorporate appropriate data and stakeholder inputs, and finally, production of a viable, realistic and detailed plan for a network-wide informatics infrastructure.\n",
      "\n",
      "\n",
      "\n",
      "   \n",
      "DESCRIPTION (provided by applicant): Children are not small adults. Nowhere is this understanding more critical than in the aftermath of a disaster event, when the strained resources of healthcare providers must be directed where they can do the most good in the least time. Frontline responders are unfortunately rarely trained in the principles and practice of\n",
      "pediatric disaster triage and often do not understand the special pediatric needs and considerations they must take into account when acting decisively and quickly to direct actions in a stressful situation that is often chaotic and always taxing. Researchers at Yale University School of Medicine (YSM) have developed a live simulation training protocol on pediatric disaster triage that has been shown to be effective but also relatively expensive, resource-intensive and therefore difficult to disseminate widely. The Yale New Haven Health System Center for Healthcare Solutions (YNHHS-CHS) has taken up this challenge, proposing to use YNHHS-CHS expertise with online training solutions and web development to create and implement a computer-based simulation that will build on the live simulation model and carry the research into a new medium that will be more cost-effective and able to more broadly engage and educate greater numbers of emergency medical service providers (EMSPs). YNHHS-CHS specialists with design and training skills will use the expertise of YSM pediatric emergency medicine specialists Mark Cicero, MD, who developed the live simulation training, and Marc Auerbach, MD, and the YNHHS-CHS network of emergency management contacts to engage EMSPs in this learning process. The computer- based simulation training will be delivered to 600 EMSPs in southern New England (Connecticut, Rhode Island and Massachusetts) and evaluated for future broader dissemination. Multiple retention evaluations, scenario-based and decision-tree driven, will be conducted: immediately at the end of the online training and at three- and six-month intervals post-training to determine the value of the training in delivering information and fostering the ability to apply it in simulated scenarios. A 10% random sampling of participants will also take an in-person live simulation retention evaluation to further assess and demonstrate the usefulness of the training. The project objective is to achieve a success rate of >80% of learners performing pediatric disaster triage with accuracy that is >/=90%.   \n",
      "   \n",
      "\n",
      "\n",
      "\n",
      "\n",
      "\n",
      "GDB_gtr\n",
      "===\n",
      "Since 9-11 and 7-7, terrorism has been a major public concern. To ensure public safety and to protect the UK economy, research is needed that offers new methods to foil attacks before they are executed, to identify people and networks who might be preparing for or undertaking an attack, and to provide clear evidence that can be used to justify questioning, arrests and prosecutions. In this study, we will investigate whether deception can be identified and proved from 'scent trails', that is, coherent accounts of suspects' activities over time compiled from tracking their movements, communications and behaviours. We will develop software to derive inferences about what activities are consistent with suspects' scent trails and what are ruled out. These inferences will allow investigators to challenge suspects, both in real time (e.g., to encourage suspects to abandon an ongoing attack) and during interviews (e.g., to point out inconsistencies between a suspect's account and scent trail evidence that might change the course of an interview). The project will investigate scent trails in the context of people undertaking deceptive activities to gain advantage in adversarial 'treasure hunt'-type games. The games will be developed in consultation with stakeholders to provide a non-sensitive analogy to counter-terrorism contexts. Players, typically undergraduate students paid for participation, will be monitored during games via positional and communication data obtained from mobile devices enabled with geospatial positioning devices. Novel software for integrating these data will be developed to build up scent trails of players' activities during game play. Methods of artificial intelligence will be combined to derive inferences from the scent trails about what kinds of activity are possible and impossible given a player's location, trajectory, activities and links with others. We envision games with 3 teams: Team A represent the adversary, Team B the police or general public, and Team C the intelligence services. Team A scores points by visiting target locations within a time limit under a set of game rules that they must violate if they are to win. They must try to hide rule violations from Team B, who score points by preventing or identifying Team A's deceptions successfully. Team C can challenge Team A by sending them indications of the scent trails that are held or can feed Team B intelligence information. Moreover, the inferences from scent trails will support Team C in deciding how best to prove or falsify a suspicion during an interview with Team A players at key points during the games. By conducting observation of players during games, we can investigate how people change their behaviours when they are confronted with evidence that reveals their deceptions. We will also interview players at key points during games as a simulation of interviews with suspects, eliciting from players accounts of their activities before presenting them with challenges based on their own scent trails that are either consistent or inconsistent with legal game playing. This will allow interview and analysis techniques to be improved and will provide clues as to how people subsequently change their behaviour after they have been confronted with their deception. The results will also allow us to test between hypotheses deriving from forensic psychology as to how best to detect deception. The research also allows us to explore public awareness of, and response to, monitoring and surveillance in counter-terrorism. With an advisory panel of stakeholders and subject specialists representing key public and academic bodies, we will identify ethical and legal issues associated with collecting and using data on peoples' movements through public spaces. We will also conduct questionnaire studies with game players and others not involved in the games, to measure attitudes to monitoring and surveillance in game-playing and other contexts.\n",
      "\n",
      "\n",
      "Policy makers worldwide use health economic evaluation to help decide which health care interventions to provide. For the cost-effectiveness analysis of pharmaceuticals, randomised trials are seen as the &quot;gold standard&quot; source of evidence for economic evaluation, because randomisation ensures that any difference between the health and economic outcomes of the treated and control patients reflects the causal effect of the treatment. \n",
      " \n",
      "In many settings, including the evaluation of new devices and of diagnostic tests, clinical guideline development, and the evaluation of new health policy initiatives, no relevant trial evidence is available. Such economic evaluations need to use non-randomised evidence, for example registry data, or cohort studies. For these studies, randomisation between treatment arms is not ensured any longer. Here, a simple comparison of treatment groups would yield selection bias in the estimated quantity of interest, due to confounding factors, i.e. patient characteristics that make it more likely for a patient to receive one treatment over the other, and also influence the health outcomes and eventual treatment costs. Selection bias due to confounding can be adjusted for if appropriate statistical methods are used. However, as a recent systematic review has demonstrated, in published economic evaluations, the quality of statistical analysis to address this problem is unsatisfactory. Results from such studies can lead to the wrong conclusions on cost-effectiveness, and to health care resources being misallocated. \n",
      " Methods developments for addressing selection bias in economic evaluation so far has been limited to relatively simple settings, such as comparing two treatments, which do not change over time. However, these settings might not characterise more complex evaluations. First, decision makers may require information not just about the cost-effectiveness of a binary treatment, but also about what intensity of treatment to provide. For example, when introducing a new financial incentive, the policy maker may want to know what the optimal level of incentive is. Second, in clinical practice, treatment provided can respond to the patient's characteristics, for example cancer treatment is switched according to tumour progression. Third, many interventions, typically health policy initiatives, are implemented at the level of an institution (e.g. NHS trust) or for an entire geographical region (e.g. health authority), and adjusting for confounding might be challenging due to the lack of an appropriate control group. \n",
      " \n",
      "Currently there is a lack of methodological guidance for these settings. This might lead to the use of inappropriate methods, resulting in severely biased estimates, or worse; completely discourage analysts and decision makers from exploiting non-randomised evidence for economic evaluation. Methods that can address confounding in these settings are at the forefront of developments in the causal inference literature, however these methods have yet to be translated, and potentially extended to the setting of economic evaluation. \n",
      "I propose to conduct a comprehensive research programme to address this gap in knowledge, using both simulation work and data from clinical and policy areas of high relevance. The research will assess and if necessary, extend alternative methods from the causal inference literature for addressing confounding in economic evaluation. This research will enable me to provide recommendations on which methods are appropriate in an economic evaluation setting, towards applied researchers and decision makers. By thorough dissemination of the methods, this research aims to improve the quality of statistical analysis in economic evaluation, leading to more accurate cost-effectiveness results, and a stronger evidence for decision making. This research will therefore help ensure that scarce resources are allocated in the best ways for improving population health in the UK.\n",
      "\n",
      "\n",
      "The Centre for Smart Infrastructure and Construction (CSIC) research focuses on the innovative use of emerging technologies in sensor and data management, coupled with emerging best practice in the form of applying the latest manufacturing and supply chain management approaches to construction and infrastructure. It aims to develop completely new markets and achieve breakthroughs in performance.\n",
      "\n",
      "CSIC focuses on the innovative use of emerging technologies in sensor and data management (e.g. fibre optics, MEMS, computer vision, power harvesting, Radio Frequency Identification (RFID) and Wireless Sensor Networks). It aims to develop completely new markets and achieve breakthroughs in performance.\n",
      "\n",
      "The outputs of the Centre will provide the construction industry and infrastructure owners and operators with the means to ensure that very challenging new performance targets can be met. Furthermore, the potential breakthroughs will make the industry more efficient and therefore more profitable. They will give UK companies a competitive advantage in the increasingly global construction market.\n",
      "\n",
      "CSIC works closely with our large network of industry partners in developing the strategic direction for the Centre and in collaborative projects. To date, the Centre has over 30 demonstration projects and case studies.\n",
      "\n",
      "In this proposal for Tranche 2 funding, we seek to build on the research and demonstration projects carried out in the Core programme and the Tranche 1 Collaborative Projects, with a strong focus on developing the outputs of these projects to be market ready, through development of the technologies into products and through standardisation of the deployment of sensor technologies in infrastructure environments and of the analysis of the data produced.\n",
      "\n",
      "Important to this aim is the creation of an 'incubator team' who will carry out product development activities and will deploy sensor technologies in the field, further demonstrating and refining CSIC's capability and demonstrating the value of this capability to the market. The team will be constituted so that it can respond rapidly to client demand for demonstration and deployment of technologies and interpretation of data, creating maximum value for our industry partners.\n",
      "\n",
      "This will result in a number of outputs designed to catalyse widespread uptake in the infrastructure industry, including:\n",
      "\n",
      "1) Specific commercialisation opportunities for the technologies through joint ventures, spin outs or licensing of IP;\n",
      "\n",
      "2) Consulting services, deploying sensors to assist clients e.g. in monitoring sensitive structures during construction, understanding live performance of assets or designing new assets efficiently based on data from monitored assets;\n",
      "\n",
      "3) Development of best practice guidance for structural health monitoring of assets, deployment of sensor networks, and analysis of data; and\n",
      "\n",
      "4) Development of training packages for industry\n",
      "\n",
      "In addition to this, CSIC will carry out further research to expand the capability of the Centre's technologies into new areas, as identified by our industry partners through meetings and workshops.\n",
      "\n",
      "\n",
      "\n",
      "\n",
      "GDB_innovateuk\n",
      "===\n",
      "It is well recognized that ambulatory blood pressure (BP) monitoring by means of wearable sensors has the potential to enable new levels of health-related vigilance and medical care in a number of novel settings, including, for example, controlling chronic hypertension and monitoring in-patients during convalescence. However, a significant challenge to realizing true non-invasive blood pressure (NIBP) measurement remains the problem of accounting for the unknown tension in the underlying arterial wall: If one simply measures pressure external to an artery (for instance, on the overlying skin), one is measuring the balance of intra-arterial pressure and the rapidly varying arterial wall tension. Ideal NIBP methods solve the problem of estimating intra-arterial wall pressures independently of the arterial wall tension. Yet, there is no optimal solution to truly wearable NIBP measurement. The ideal wearable device would be lightweight, easy-to-apply, non-invasive, small, unobtrusive, and as close to imperceptible as a regular wrist-watch. The fundamental assumption in Machine Learning is that analytical solutions can be built by studying past data models. Machine Learning supports that kind of data analysis that learns from previous data models, trends, patterns, and builds automated, algorithmic systems based on that study. As Machine Learning relies solely on pre-built algorithms for making data-driven analysis and predictions, it claims to replace data analytics and prediction tasks carried out by humans. In Machine Learning, the algorithms have the capability to study and learn from past data, and then simulate the human decision-making process by using predictive analysis and decision trees. Long short-term memory (LSTM) is a recurrent neural network (RNN) Machine Learning Algorithm architecture that remembers values over arbitrary intervals. Stored values are not modified as learning proceeds. RNNs allow forward and backward connections between neurons. An LSTM is well-suited to classify, process and predict time series given time lags of unknown size and duration between important events. Relative insensitivity to gap length gives an advantage to LSTM over alternative RNN, hidden Markov models and other sequence learning methods in numerous applications. LOTSOM-H looks to use a uniquely configured Machine Learning Algorithm to identify trends between optical sensor samples and thus develop a map of arterial performance which can thus allow a user to calculate a value for trending Blood Pressure. It is hoped that these works will enable the resolution of a continuous Blood Pressure as a metric that can be acquired by consumer health wearable devices.\n",
      "\n",
      "\n",
      "Applied Nanodetectors has developed a sensor array platform that can be used for a number of market opportunities. Each sensor array is composed of different sensor elements produced using specific nanomaterials, which can be used for chemical and biosensors. This sensor array can be designed in the same physical space and allows forward integration into the same package. Which would dramatically reduce costs and ease the manufacturing complexity. Our sensor arrays combine sensory data from different sensor elements to provide information that is more accurate and dependable than that which would be acquired from individual sensors. There are many different applications for our sensor platform and we have a significant market pull from the healthcare and other market sectors. A key market requirement is to integrate our sensor die into a smart sensor module, that would include signal conditioning, analogue-digital conversion, signal processing and digital output. In this project, we plan to develop manufacturing methods and integration techniques to develop a smart hybrid sensor module.\n",
      "\n",
      "\n",
      "Tail biting in growing pigs is affected by many risk factors, but an outbreak can start without warning or obvious cause. This unpredictable tail biting results in pain and sickness for bitten pigs and severe economic losses for farmers: infection through tail wounds results in abattoir condemnation of meat. Tail docking of piglets is partly effective at reducing tail biting in later life, but is seen as an undesirable mutilation and its routine use is banned in the EU. Our innovative new solution to this long-standing problem begins with the observation that pigs hold their tails down before a damaging tail biting outbreak starts. In an earlier project, we used 3D cameras and developed machine vision software that automatically detects these changes in tail posture. In this project we will build on our promising early feasibility results to develop a prototype decision support system to give farmers early warning of tail biting. Testing it on diverse pig farm types in the UK with both tail docked and undocked pigs, we will assess its welfare and economic benefits for pig producers and breeders. There is considerable domestic demand and export potential for TailTech for use in pig production systems globally. Tackling tail biting and reducing tail docking involves a multi-disciplinary farm to fork approach which is reflected in our project team of Agri-tech engineers, animal scientists, veterinarians and pork supply chain partners.\n",
      "\n",
      "\n",
      "\n",
      "\n",
      "GDB_rgov\n",
      "===\n",
      "Proposal Title: RI: Medium Collaborative Research: Minimalist Mapping and<br/>Monitoring<br/>Institution: University of Illinois at Urbana-Champaign<br/>Abstract Date: 05/05/09<br/>\"This award is funded under the American Recovery and Reinvestment Act of 2009<br/>(Public Law 111-5).\"<br/>This project addresses fundamental and challenging questions that are common to<br/>robotic systems that build their own maps and solve monitoring tasks. In particular, the<br/>work contributes to our general understanding of the interplay between sensing, control,<br/>and computation as people attempt to design systems that minimize costs and<br/>maximize robustness.<br/>Powerful new abstractions, planning algorithms, and control laws that accomplish basic<br/>mapping and monitoring operations are being developed in this effort. This is expected<br/>to lead to improved technologies in numerous settings where mapping and monotoring<br/>are basic components.<br/>Ample motivation is provided by technological challenges that involve searching,<br/>tracking, and monitoring the behavior of people, wildlife, and robots. Examples include<br/>search-and-rescue, security sweeps, mapping abandoned mines, scientific study of<br/>endangered species, assisted living, ground-based military operations, and even<br/>analysis of shopping habits.<br/>The work is particularly transformative because it lives outside of the traditional<br/>boundaries of algorithms, computational geometry, sensor networks, control theory, and<br/>robotics. Furthermore, national interest continues to grow in the direction of developing<br/>distributed robotic systems that combine sensing, actuation, and computation. By<br/>helping to break down traditional academic and scientific barriers, it is expected that the<br/>work will transform the way we think about robotics algorithms, the engineering design<br/>process, and the education of students across the robotics, computational geometry,<br/>and control disciplines.<br/>NATIONAL SCIENCE FOUNDATION<br/>Proposal Abstract<br/>Proposal:0905523 PI Name:LaValle, Steven<br/>Printed from eJacket: 05/06/09 Page 1 of 1\n",
      "\n",
      "\n",
      "The accelerated growth of Big Data has created enormous amount of information at the macro level for knowledge discovery. But at the micro level, one can only expect a handful of observations in most individual users. This hinders the exploration of subtle patterns and heterogeneities among distinct users for improving the utility of Big Data analytics at a per-user basis. The objective of this project is to develop a set of algorithmic solutions to perform online learning in a collaborative fashion, where personalized learning solutions actively interact with users for feedback acquisition and collaborate with each other to learn from incomplete and noisy input.  This project amplifies the utility of statistical learning in many important fields, such as healthcare, business intelligence, crowdsourcing, and cyber physical systems, where automated decision models are built on diverse, noisy and heterogeneous supervision. The research activities will be incorporated into teaching materials for student training and education in the areas of information retrieval, machine learning and data mining. \n",
      "\n",
      "This project consists of three synergistic research thrusts. First, it develops a family of contextual bandit algorithms to perform collaborative online learning over networked users. Dependency among users is estimated and exploited to collaboratively update the individualized bandit parameters. Second, it develops principled solutions to optimize task-specific and general loss functions for online learning, which enables the collaborative learning solutions reach more important real-world applications, such as information retrieval and user behavior modeling. Third, it models and differentiates the reliability of the sources of feedback to optimize the overall online learning effectiveness, which is especially important in the applications such as health informatics, crowdsourcing and cyber physical systems. Expected outcomes of the project include: 1) open source implementations for the developed online learning solutions; and 2) evaluation corpora that will enable researchers to conduct follow-up research in related domains.\n",
      "\n",
      "\n",
      "Assistive robots that autonomously manipulate objects within everyday settings have the potential to improve the lives of the elderly, injured, and disabled. Although researchers have demonstrated relevant capabilities within laboratory environments, current methods are untested and potentially unsuitable for the variability of real-world healthcare environments. In order to address this critical issue, the new infrastructure funded by this award consists of a state-of-the-art robot (a mobile manipulator) dedicated to research conducted outside of the lab via collaborations with healthcare researchers and providers. The robot spends extended periods of time (residencies) in environments where assistive robots are expected to make a positive impact, including the homes of persons with disabilities, assisted living environments for the elderly, and clinical facilities. These residencies enable robotics researchers to maximize the impact of their research by identifying and addressing the roadblocks to deployment of autonomous mobile manipulators for healthcare. The research supported by this infrastructure will result in new methods for assistive manipulation and contributions to compliant arm control, multi-modal perception, and human-robot interaction. It will also begin to quantitatively characterize the variability of real-world healthcare environments. Results of this research will be communicated via academic publications, a website, open source code, and publicly released data captured with the robot. The robot will also have residencies at Spelman College (an HBCU for women) to promote science, technology, engineering, and mathematics (STEM) education.\n",
      "\n",
      "\n",
      "\n",
      "\n",
      "GDB_rwjf\n",
      "===\n",
      "The Foundation's initiative, Policies for Action: Policy and Law Research to Build a Culture of Health, was designed to form the evidence base regarding how policy and law can promote and may be necessary to build a Culture of Health by: (1) supporting health policy research focused on advancing a Culture of Health and supporting real-world empirical applications of that research; and (2) establishing hubs throughout the United States that will provide additional capacity to identify, develop, and oversee new and emerging areas of research in the field.Under this grant, the Wagner Health Hub (WHH) will link Wagner's and NYU's leading centers and institutes focused on sectors that influence health to a core data resource and multidisciplinary steering committee. Using these assets, the WHH will generate innovative and practical approaches to improving the health of low-income, urban populations. The WHH will focus its research primarily on New York City and the surrounding area; and other large urban regions in New York State will be considered to test findings for demographic, economic, and geographic generalizability. The WHH will engage faculty with varied substantive (e.g., housing, transportation, health) and disciplinary (e.g., sociology, economics, services research) expertise in transdisciplinary teams. Teams will include: policy subject matter experts; legal and political scholars who can ensure that policy is actionable; economists and experts in causal inference; urban planners and sociologists focused on contextual factors, such as inequality and segregation; health services and organizational researchers with expertise in measure development and use; data scientists; and communications specialists. Teams will link a wealth of data from non-health policy sectors (beginning with housing and transportation) to NYS Medicaid and other data on health outcomes. Using these linked data and a transdisciplinary approach, the WHH will: (1) identify evidence-based approaches to making meaningful improvements in the health of low-income urban populations through social policies, and (2) develop metrics that can be used in settings around the country to implement these policy approaches, compare performance, and stimulate the development of better policies. Wagner's well-established dissemination mechanisms will ensure that the results reach scholars, policy makers, advocates, and the policy-engaged public. The Hub will: coordinate and work with the National Coordinating Center (NCC), disseminate research results and other products to other researchers through conferences and publications, encourage replication and extensions and to ensure that the policy recommendations are evidence-based and comprehensible to decision makers.\n",
      "\n",
      "\n",
      "This project team will create an artificial intelligence-enabled tool that will be accessible via a website or mobile device and will allow users to enter a description, such as illness history and current symptoms, as free text in ordinary, nontechnical language. The system will then produce a ranked list of relevant potential conditions and links to additional reference material that the user can read for more information. The main deliverable of this project is the development of the artificial intelligence system for health education. The ultimate intended goal for this tool will be to help people improve their understanding about medical conditions, particularly those individuals who are currently underserved or poorly served by their local health care system. This tool will ultimately help people with a state-of-the-art, highly accurate, easy-to-use tool that will provide a very accurate differential diagnosis list based on symptoms and concerns they submit to the tool. The components of this project include a rigorous validation of the completeness and accuracy of the system against current computer-based alternatives and against human physicians. Upon completion of the development and validation of the tool, the team will provide an easily accessible interface to the tool available to the public for free.\n",
      "\n",
      "\n",
      "This project will lay the foundation for a new discipline, the \"science of collaboration,\" to drive the value and sustainability of biomedical and health care innovation. Transformational innovation in health and health care requires an extraordinary and unprecedented degree of collaboration across disciplines, organizations, and market sectors. The growing number and diversity of collaborative initiatives in the biomedical science space are driven both by need (how to address the ongoing productivity crisis in the biopharmaceutical industry) and opportunity (how to translate emerging science and technology and big data into public health value). Defining collaboration leadership and management as a core competency for innovation success will be important for identifying and structuring future successful efforts. This research will look at organizational design available through retrospective case studies (e.g., funding, governance, communication, team structures, stakeholder composition, and cultural elements, such as openness, transparency, and patient engagement), as well as use real-world learning from traditional and nontraditional collaborative-innovation models (e.g., distributed innovation, open innovation, and prize-induced innovation). Deliverables will include: (1) a decision-support framework to inform the strategic design of new multistakeholder collaborations, tailored to address the specific goals of different collaborative initiatives; and (2) a portfolio of peer-reviewed publications and other communications briefings.\n",
      "\n",
      "\n",
      "\n",
      "\n",
      "GDB_world_reporter\n",
      "===\n",
      "?   \n",
      "DESCRIPTION (provided by applicant):  A \"meta-study\" (or \"meta-analysis\") collects and analyzes many studies on the same topic to understand if there is a meaningful, overall result. Meta-studies can support (or refute) interventions, spur new investigations, and lead to novel clinical guidelines. However, constructing meta-studies is a time intensive process of searching the literature, compiling the results, and performing the statistical analysis. Due to the time commitment that is required, many topics are unexplored, and many meta-studies are not kept up-to-date with the latest published results. Finally, a number of (unknown) biases, via subjective choices during the meta-study, may influence the results. Our long-term goal is to automate, as much as possible, the meta-study process. This should decrease subjective bias; increase the dissemination of evidence, especially for diseases and interventions that receive less attention; and allow for the automatic updating of meta-studies as new results are published. We propose a computer system that uses statistical machine learning to gather and group studies focused on similar interventions and outcomes; extract the necessary results from the text; and analyze the results using standard meta-analysis techniques. The final output will be presented in a spreadsheet-like Web-interface where users can explore and even change the data and meta-analyses. Our team uniquely blends technical expertise in machine learning with leadership in publishing meta-studies about Inflammatory Bowel Disease (IBD), our disease of focus for our Phase I feasibility study. We are therefore qualified technically and able\n",
      "to ensure that the techniques generate valid and accurate meta-studies. Our Phase I results will define the current state-of-the-art for this novel task. Further, although we will initially focus n IBD, our Phase I results will demonstrate that our approach can generalize to other diseases, eventually applying to any intervention and any disease. The feasibility shown by our Phase I results will motivate our Phase II effort where we will focus on dramatically improving the approach, yielding broad coverage of all medical literature and generating human-quality meta-studies. We note that by the end of Phase I we should have a viable end-to-end prototype, focused on IBD, which we can begin taking to market. The final product should significantly benefit our target markets given the Phase II emphasis to improve the technology, user experience, and scope of covered diseases.\n",
      "\n",
      "\n",
      "Diabetes (DM) triples the risk of developing tuberculosis (TB). Consequently, the alarming growth of type 2 DM in TB endemic countries and among people originating from TB-endemic countries poses a serious threat to global TB control.\n",
      "This project addresses the scarce evidence for many of the recently advocated guidelines for care and control of TB and DM, as well as our lack of understanding of the mechanisms underlying the effect of DM on TB susceptibility and treatment outcome.\n",
      "We will use a comprehensive and integrated approach combining clinical, epidemiological and cutting edge expertise in laboratory sciences, bringing together a multi-disciplinary consortium linking field sites in Romania, Peru, South Africa and Indonesia, with leading laboratories in Germany, United Kingdom and the Netherlands.\n",
      "We will define the optimal and most cost-effective ways of screening TB patients for DM diabetes, and determine the prevalence of DM among TB patients and of TB in DM patients in the four countries. With regard to treatment, we will determine the level of DM management required during and after TB treatment, the safety and pharmacokinetics of metformin when combined with rifampicin, and the effect of hyperglycemia control on TB treatment outcome. To help establish the cellular basis and immunological pathways underlying the link between DM and TB we will provide new data on: gene expression data of TB patients with and without DM; ex vivo and in vitro Mycobacterium tuberculosis stimulation data of different cell types, including macrophage subsets and adipocytes in the presence of high glucose and insulin; data regarding the role of common and more rare genetic variants in the combined susceptibility to TB and type 2 DM; and relevant functional genomics experiments.\n",
      "In summary, this project is expected to have significant impact both in improving basic knowledge on the link between TB and DM, as well as on prevention, therapeutic management and prognosis of TB-DM.\n",
      "\n",
      "\n",
      "PROJECT SUMMARY/ABSTRACT\n",
      "Colorectal cancer (CRC) is a complex disease with both genetic (G) and environmental (E) risk factors\n",
      "contributing to susceptibility. Genome-wide GxE interaction scans (GWIS) can help identify novel susceptibility\n",
      "loci and biologically meaningful GxE interactions that point to new carcinogenic mechanisms. Limited statistical\n",
      "power remains a primary concern in GxE analyses. To maximize the statistical power in a GWIS, it is essential\n",
      "to have the largest possible sample size by pooling resources across studies. In this project, we will combine\n",
      "the resources of three existing CRC consortia (approximately 53,600 cases and 52,400 controls of European\n",
      "descent): the Colorectal Cancer Family Registry (CCFR), the Colorectal Cancer Transdisciplinary (CORECT)\n",
      "Study, and the Genetics and Epidemiology of Colorectal Cancer Consortium (GECCO) for interaction testing\n",
      "with 8 environmental and lifestyle factors: alcohol, calcium, folate, hormone replacement therapy (HRT), non-\n",
      "steroidal anti-inflammatory drugs (NSAIDs), red meat, processed meat, and smoking. To improve statistical\n",
      "power and enhance our ability to discover true GxE associations, we will as part of Aim 1 incorporate functional\n",
      "genomics data in two forms: (1) enhancer/promoter profiles derived from ChIPseq and DNase I hypersensitive\n",
      "sites (DHS) data publicly available from Roadmap or from our own experiments in normal colon tissue; and (2)\n",
      "our newly generated RNA-Seq results from normal colon biopsies with detailed environmental and lifestyle risk\n",
      "factor information, and gene expression measured in normal human 3D colon organoids (mini guts) in\n",
      "response to environmental exposures. In Aim 2 we will use our novel statistical methods that can incorporate\n",
      "the CR and E-specific functional genomics data generated in Aim 1 to discover new GxE interaction for CRC\n",
      "with rare and common single nucleotide variants (down to MAF 0.1%) in up to 53,600 cases and 52,400\n",
      "controls. To narrow in on the underlying causal variant(s) for any identified novel GxE interaction, we will\n",
      "conduct fine-mapping analyses using a trans-ethnic meta-analysis (23,500 non-European and 106,000\n",
      "European). To follow-up on identified significant GxE interactions, we will functionally validate our strongest\n",
      "GxE interactions (including previously published findings) to provide support for the novel GxE interactions\n",
      "such as knock down in CRC cell lines and normal human 3D colon epithelial organoids.\n",
      "Our large and well-characterized study population, combined with our experienced research team, and\n",
      "integration of functional genomics data into our novel statistical methods provide opportunities to better\n",
      "understand how genetic and environmental risk factors, combined, contribute to individual risk of CRC.\n",
      "Discovering GxE interactions will provide insight into the underlying mechanisms that drive gene-CRC\n",
      "associations impacted by established environmental risk factors. Since genetic profiles are fixed, modifying\n",
      "environmental exposures to alter deleterious effects of alleles remains an important preventive strategy.\n",
      "\n",
      "\n",
      "\n",
      "\n"
     ]
    }
   ],
   "source": [
    "#Create a dataset focused on AI / Health\n",
    "ai_h = data_desc.loc[data_desc['ai_health']==True]\n",
    "\n",
    "#Print examples from each\n",
    "#We create a list for each source\n",
    "ai_descriptions = ai_h.groupby('source_detailed')['description'].apply(lambda x: list(x))\n",
    "\n",
    "for x in ai_descriptions.index:\n",
    "    \n",
    "    print(x)\n",
    "    print('===')\n",
    "    \n",
    "    random_selection = random.sample(ai_descriptions[x],3)\n",
    "    \n",
    "    for des in random_selection:\n",
    "        print(des)\n",
    "        print('\\n')\n",
    "        \n",
    "    print('\\n')\n",
    "    \n",
    "\n"
   ]
  },
  {
   "cell_type": "markdown",
   "metadata": {},
   "source": [
    "### Combine the above with our predictive analysis of disease areas and topics\n",
    "\n",
    "Some of the questions we are interested in:\n",
    "\n",
    "* Trends in AI for Health\n",
    "* Disease area focus and RWJF topic focus\n",
    "\n"
   ]
  },
  {
   "cell_type": "code",
   "execution_count": 655,
   "metadata": {},
   "outputs": [
    {
     "data": {
      "text/plain": [
       "Text(0.5,0,'% of all health projects')"
      ]
     },
     "execution_count": 655,
     "metadata": {},
     "output_type": "execute_result"
    },
    {
     "data": {
      "image/png": "[encoded data removed]",
      "text/plain": [
       "<Figure size 576x396 with 1 Axes>"
      ]
     },
     "metadata": {},
     "output_type": "display_data"
    }
   ],
   "source": [
    "#Create a df with only the health projects\n",
    "health = data_desc.loc[data_desc.is_health==True,:]\n",
    "\n",
    "#Here we are plotting the share of AI projects in Health between 2000 and 2018\n",
    "\n",
    "health_ai_year = health.groupby('start_year')['ai_health'].mean()[np.arange(2000,2018)]\n",
    "\n",
    "#And plot\n",
    "fig,ax = plt.subplots()\n",
    "\n",
    "(100*health_ai_year.rolling(window=2).mean()).plot.bar(color='blue',ax=ax)\n",
    "\n",
    "ax.set_title('AI-related projects as a % of all health projects',size=16)\n",
    "ax.set_xlabel('% of all health projects',fontsize=16)"
   ]
  },
  {
   "cell_type": "code",
   "execution_count": 757,
   "metadata": {},
   "outputs": [
    {
     "data": {
      "image/png": "[encoded data removed]",
      "text/plain": [
       "<Figure size 576x504 with 2 Axes>"
      ]
     },
     "metadata": {},
     "output_type": "display_data"
    }
   ],
   "source": [
    "#AI by disease area\n",
    "fig,ax = plt.subplots(nrows=2,figsize=(8,7),sharex=True)\n",
    "\n",
    "#This looks at the number of AI/ML projects per RWJF topic\n",
    "ai_rwj_topic = pd.pivot_table(\n",
    "    health,index='rwj_pred',columns='ai_health',values='row_id',aggfunc='count').fillna(0)\n",
    "ai_rwj_topic.sort_values(True,ascending=True).plot.barh(stacked=True,ax=ax[0],edgecolor='black')\n",
    "\n",
    "ax[0].set_title('AI projects in Health by RWJF topic',size=16)\n",
    "\n",
    "ax[0].axes.tick_params('y',labelsize=12)\n",
    "\n",
    "#This looks at the same thing but by disease area\n",
    "ai_dis_area = pd.pivot_table(\n",
    "    health,index='dis_pred',columns='ai_health',values='row_id',aggfunc='count').fillna(0)\n",
    "ai_dis_area.sort_values(True,ascending=True).plot.barh(stacked=True,ax=ax[1],edgecolor='black')\n",
    "\n",
    "ax[1].set_title('AI projects in Health by Disease Area',size=16)\n",
    "\n",
    "ax[1].axes.tick_params('y',labelsize=12)\n",
    "\n",
    "plt.tight_layout()\n",
    "\n",
    "plt.savefig(fig_path+'/{date}_areas.pdf'.format(date=today_str))\n"
   ]
  },
  {
   "cell_type": "code",
   "execution_count": 704,
   "metadata": {},
   "outputs": [],
   "source": [
    "def gimme_examples(df,variable,value,how_many=3,length=500):\n",
    "    '''\n",
    "    Simple function to get some examples of AI projects\n",
    "    \n",
    "    '''\n",
    "    \n",
    "    projs = list(df.loc[(df.is_ai==True) & (df[variable]==value),'description'])\n",
    "    \n",
    "    examples = random.sample(projs,how_many)\n",
    "    \n",
    "    for x in examples:\n",
    "        print(x[:length])\n",
    "        print('\\n')\n",
    "    "
   ]
  },
  {
   "cell_type": "code",
   "execution_count": 756,
   "metadata": {},
   "outputs": [
    {
     "name": "stdout",
     "output_type": "stream",
     "text": [
      "The identification of cognitive impairments in early childhood provides the best opportunity for successful remedial intervention, because brain plasticity diminishes with age.  Attention deficit hyperactivity disorder (ADHD) is a psychiatric neurodevelopmental disorder that is very hard to diagnose or tell apart from other disorders.  Symptoms include inattention, hyperactivity, or acting impulsively, all of which often result in poor performance in school and persist later in life.  In this project, an interdisciplinary team of computer and neurocognitive scientists will develop and implement transformative computational approaches to evaluate the cognitive profiles of young children and to address these issues.  The project will take advantage of both physical and computer based exercises already in place in 300 schools in the United States and involving thousands of children, many of whom have been diagnosed with ADHD or other learning disabilities.  Project outcomes will have impo\n",
      "\n",
      "\n",
      "This project will integrate new cognitive models of behavioral data based on queueing theory with new machine learning techniques for analyzing neurophysiological data, specifically electroencephalogram (EEG), in order to provide a deeper and more complete understanding of mental states as well as more accurate prediction of human performance. In cognitive modeling, a new brain network architecture for human performance and mental workload, called Queuing Network-Model Human Processor (QN-MHP), will be further improved. QN-MHP with a new human-like small-scale knowledge system will be used to model the increase of myelination in the brain in cognitive development and predict human performance, in terms of subjective risk perception and confidence. In machine learning, new spatio-temporal (pattern-based) classification techniques will be developed for multidimensional time series data and used to identify human mental states (e.g., fully awake, fatigue, distracted, anger) from EEG data.\n",
      "\n",
      "\n",
      "Autism Spectrum Conditions (ASC, frequently defined as ASD - Autism Spectrum Disorders) are neurodevelopmental conditions, characterized by social communication difficulties and restricted and repetitive behaviour patterns. There are over 5 million people with autism in Europe – around 1 in every 100 people, affecting lives of over 20 million people each day. Alongside their difficulties, individuals with ASC tend to have intact and sometimes superior abilities to comprehend and manipulate closed, rule-based, predictable systems, such as robot-based technology.\n",
      " \n",
      "Over the last couple of years, this has led to several attempts to teach emotion recognition and expression to individuals with ASC, using humanoid robots. This has been shown to be very effective as an integral part of the psychoeducational therapy for children with ASC. The main reason for this is that humanoid robots are perceived by children with autism as being more predictable, less complicated, less threatening, and mor\n",
      "\n",
      "\n"
     ]
    }
   ],
   "source": [
    "# Some examples\n",
    "\n",
    "gimme_examples(health,'dis_pred','Mental Health',length=1000)"
   ]
  },
  {
   "cell_type": "code",
   "execution_count": 759,
   "metadata": {},
   "outputs": [
    {
     "name": "stdout",
     "output_type": "stream",
     "text": [
      "Cloud computing services (such as Amazon EC2 system, Google  AppEngine, and Microsoft Azure) are becoming ubiquitous and are starting to serve as the primary source of computing power for both enterprises and personal computing applications. A cloud computing platform (or simply, a cloud) can provide a variety of resources, including infrastructure, software, and services, to users in an on-demand fashion. Compared to traditional own-and-use approaches, cloud computing services eliminate the costs of purchasing and maintaining the infrastructures for cloud users, and allow the users to dynamically scale up and down computing resources in real time based on their needs.<br/><br/>A cloud consists of a number of machines (computers), each with a certain amount of resources (CPU, RAM, hard disk space, etc.). Each machine can be subdivided into virtual machines, where each virtual machine (VM) behaves like a small machine with a certain amount of dedicated resources. When a user submits a job to the cloud, he or she requests a certain amount of resources from the cloud and the cloud responds by creating a VM with the required resources in a machine. The resource allocation problem is to figure out how to allocate jobs to machines. Further, when several jobs are waiting for service, the cloud must also decide which job to select for service next. The goal of this project is to design resource allocation algorithms for efficient operation of the cloud, and to design pricing mechanis\n",
      "\n",
      "\n",
      "This research team plans to further develop a suite of products that aid in mobility for the elderly and individuals with disabilities. The technology includes stand-alone sensor modules as well as controllers that can convert an existing power wheelchair into a semi-autonomous mobility platform. These \"smart wheelchair\" technologies are designed to achieve the following qualifications (1) modular, reconfigurable and customizable designs that satisfy practical user and provider constraints and; (2) intuitive user interfaces combined with shared human-robot control algorithms for enabling mobility for individuals with general and age-related disabilities.<br/><br/>This project could help further the field of assistive robotics through the creation of cost-effective, modular, reconfigurable and customizable sensor, actuator and controller designs for smart wheelchairs by enabling individuals with disabilities with assistive mobility. The technologies developed through this project may enable translation of capabilities to alternative applications involving robots in smart and connected healthcare, such as rehabilitation devices for improved health as well as general human-supervised robot control systems.\n",
      "\n",
      "\n",
      "This project, based on research in the areas of robotics and intelligent systems, involves automated techniques for evaluating surgical skills.\n",
      "\n",
      "Routine evaluation of basic surgical skills in medical schools require considerable time and effort from the supervising faculty. For each surgical trainee, a supervisor has to observe the trainees in person or look at recorded videos. This manual assessment of surgical skills poses a significant resource problem to medical schools and teaching hospitals and results in complications in scheduling/executing their day-to-day activities. In addition to the extensive time requirements, manual assessments are often subjective and domain experts do not always agree on the assessment scores. Every surgical resident has to master basic suturing and knot tying tasks before they can move on to more complex surgeries. Considering the burden on supervising surgery faculty from performing actual surgeries and the amount of trainees that need to go through basic surgical skills training, a system for automated assessment of basic surgical tasks can benefit medical schools and teaching hospitals.\n",
      "\n",
      "The project addresses the potential commercialization of a system for automated assessment of basic surgical skills. The system consists of a central station with user interface and specialized instruments and gloves for the user. Data about movement of the gloves and instruments are captured using accelerometers and transmitted wirelessly to the cent\n",
      "\n",
      "\n"
     ]
    }
   ],
   "source": [
    "gimme_examples(health,'rwj_pred','Health Care Access',length=1500)"
   ]
  },
  {
   "cell_type": "code",
   "execution_count": 698,
   "metadata": {},
   "outputs": [
    {
     "name": "stdout",
     "output_type": "stream",
     "text": [
      "Blood\n",
      "===\n",
      "The brain, more than any other organ in the body, requires a constant supply of blood in order to maintain its function. When blood pressure drops, small arteries dilate to restore flow levels, and when pressure rises, they constrict to protect the most delicate blood vessels and avoid bleeding in the brain. This control system can however become impaired for example following stroke, head trauma, in dementia or following premature birth and this has been associated with worse outcomes for the patient. Failure of the control system also has important implications for the management of patient's blood pressure: changes in blood pressure could be dangerous without the protection of this 'autoregulatory' system.\n",
      "This project aims to improve methods for measuring cerebral autoregulation and to gain a deeper understanding of the complex relationship between blood pressure and blood flow in healthy individuals and patients following stroke. While much work has been done in this field, experi\n",
      "\n",
      "\n",
      "The brain, more than any other organ in the body, requires a constant supply of blood in order to maintain its function. When blood pressure drops, small arteries dilate to restore flow levels, and when pressure rises, they constrict to protect the most delicate blood vessels and avoid bleeding in the brain. This control system can however become impaired for example following stroke, head trauma, in dementia or following premature birth and this has been associated with worse outcomes for the patient. Failure of the control system also has important implications for the management of patient's blood pressure: changes in blood pressure could be dangerous without the protection of this 'autoregulatory' system.\n",
      "This project aims to improve methods for measuring cerebral autoregulation and to gain a deeper understanding of the complex relationship between blood pressure and blood flow in healthy individuals and patients following stroke. While much work has been done in this field, experi\n",
      "\n",
      "\n",
      "The brain, more than any other organ in the body, requires a constant supply of blood in order to maintain its function. When blood pressure drops, small arteries dilate to restore flow levels, and when pressure rises, they constrict to protect the most delicate blood vessels and avoid bleeding in the brain. This control system can however become impaired for example following stroke, head trauma, in dementia or following premature birth and this has been associated with worse outcomes for the patient. Failure of the control system also has important implications for the management of patient's blood pressure: changes in blood pressure could be dangerous without the protection of this 'autoregulatory' system.\n",
      "This project aims to improve methods for measuring cerebral autoregulation and to gain a deeper understanding of the complex relationship between blood pressure and blood flow in healthy individuals and patients following stroke. While much work has been done in this field, experi\n",
      "\n",
      "\n",
      "Cancer\n",
      "===\n",
      "Cievert is a digital health SME specialising in designing and implementing innovative software in the health sector. Established in 2011 by a former NHS radiographer, Cievert software can now be found in 20% of all NHS cancer centres. In England alone, there are 100million NHS outpatient appointments every year\\*. These cost an estimated £10billion, require significant clinical input and infrastructure, can often be a source of anxiety for patients, and a significant proportion (approx. 20%) of these appointments are not attended. With a growing elderly population and more people living with a long-term condition, the demand for outpatient appointments is predicted to grow. This growth will add to the demand of already-stretched, finite clinical resources. A large number of outpatient appointments are used for routine follow-up. Clinicians would rather see patients when they need to be seen, not on the arbitrary time-based schedule currently used. Assessing patients remotely using Arti\n",
      "\n",
      "\n",
      "MEDIRAD aims to enhance the scientific bases and clinical practice of radiation protection (RP) in the medical field and thereby addresses the need to understand and evaluate the health effects of low dose ionising radiation exposure from diagnostic and therapeutic imaging and from off-target effects in radiotherapy (RT).\n",
      "MEDIRAD will pursue 3 major operational objectives: First, it will improve organ dose estimation and registration to inform clinical practice, optimise doses, set recommendations and provide adequate dosimetry for clinical-epidemiological studies of effects of medical radiation. Second, it aims to evaluate and understand the effects of medical exposures, focusing on the two major endpoints of public health relevance: cardiovascular effects of low to moderate doses of radiation from RT in breast cancer treatment incl. understanding of mechanisms; and long-term effects on cancer risk of low doses from CT in children. Third, it will develop science-based consensus policy\n",
      "\n",
      "\n",
      "This Small Business Innovation Research (SBIR) Phase I project targets development of a radiation-hard IC design technology at the transistor level.   This will enable the design and production of radiation-hard devices using standard CMOS processing, with an order of magnitude improvement in radiation tolerance compared to standard transistor designs.  The proposed approach uses innovations in IC transistor design and layout methods which, while maintaining the performance of standard CMOS integrated circuits, greatly increase their radiation tolerance. The ability to use existing advanced CMOS IC designs and processes will enable better performance from the electronics and extend electronics life in high-radiation applications.  An early application of this technology will be the signal processing electronics used in CT scanners, with an objective of reducing radiation exposure experienced by patients and medical personnel during CT scans.  This project will enable production of sens\n",
      "\n",
      "\n",
      "Cardiovascular\n",
      "===\n",
      "The overall aim of  MOBISTYLE  is to raise consumer awareness and awareness of ownership, thus empowering consumers and providing confidence of choosing the right thing, by providing attractive tailor-made combined knowledge services on energy use, indoor environment, health and lifestyle, by ICT-based solutions. This awareness will support and motivate end-users to well informed pro-active behavior towards energy use, energy efficiency and health.\n",
      "The objectives are:\n",
      "1. To make energy use and energy efficiency understandable and easy to handle in an attractive way by unlocking and translating large data sets using data science from energy monitoring for consumers.\n",
      "a.\tTo transform ‘big data’ into ‘smart data’, i.e. giving meanings to data, making data understandable and findable.\n",
      "b.\tTo develop easy to use, desirable ICT-based tools which will make energy monitoring a well-accepted and attractive ‘daily activity’ for end-users as well as for professionals (building managers). \n",
      "2. To pro\n",
      "\n",
      "\n",
      "The project will develop a mobile lifelogging platform that will deliver measures of cardiovascular disease in an everyday situation, such as driving a car. Driving represents a common daily activity, where experiences and expressions of anger have implications for health and safety. As such, this activity can be associated with high levels of negative emotions that have a cumulative impact on long-term health.\n",
      "\n",
      "Lifelogging is the continuous act of recording and documenting our lives, from the things we do, to the places we visit and even our feelings. Wearable cameras and body sensors allow us to capture rich information from multiple data sources about ourselves. As sensors become more prevalent, within our environment, the range of available data is increasing. This has enabled lifelogs to become richer with information and their use in various application domains, such as digital health, is increasing. \n",
      "\n",
      "The project will explore how multiple streams of physiological and contextual \n",
      "\n",
      "\n",
      "The broader impact/commercial potential of this Small Business Technology Transfer (STTR) Phase I project is to increase access to and compliance with cardiac rehabilitation program and reduce the cost of avoidable hospital readmission, both by predicting which cardiac patients are at risk and by providing patients with simple but accurate guidance, allowing them to precisely control exercise intensity and volume during rehabilitation. It also has the potential to reduce the mortality rates of cardiac patients and provide doctors with a large amount of accurate information on the relationship between exercise duration, exercise intensity, and changes in cardiac patient conditions during recovery, supporting optimal design of rehabilitation program design. The key idea enabling these outcomes is using wearable sensors to measure the mechanical power outputs of cardiac patients and using these power measurements to estimate an established high-quality predictor for cardiac patient hospit\n",
      "\n",
      "\n",
      "Ear\n",
      "===\n",
      "In both speech and music perception, the auditory system decomposes sounds that overlap in time and frequency into distinct perceptual events and streams, which is referred to as auditory scene analysis (ASA). Hearing-impaired listeners suffer from severely compromised ASA, as illustrated by their immense difficulties to understand speech in noisy environments. Although the central role of ASA in shaping the experience of music is widely acknowledged—perceptually organizing sounds from multiple instruments or voices into melody and accompaniment, for instance—the role of hearing loss in musical scene perception remains largely unexplored. At the same time, hearing aids are typically designed for speech perception, not for music perception. Adopting a transdisciplinary approach that employs methods from music perception, auditory modelling, and signal processing, this Marie Skłodowska-Curie Action aims to Test, Predict, and Improve Musical Scene Perception of Hearing-Impaired Listeners \n",
      "\n",
      "\n",
      "This Small Business Innovative Research (SBIR) Phase I research project addresses the problem of tinnitus that afflicts millions of Americans, and millions more internationally. Tinnitus, or \"ringing in the ears,\" is a common and often debilitating ailment with no current cure. A common device used to ameliorate tinnitus is a \"tinnitus mask,\" which provides external audible stimulation to the brain. The brain focuses on this external noise instead of the artificial \"ringing\" that it is generating. Each person's response is different because tinnitus varies by individual. This project addresses the needs of individual tinnitus sufferers by applying interactive evolutionary computation to discover tinnitus masks that are optimal for the individual, and can adapt to the individual over time. The research objectives include having tinnitus sufferers test prototype software to determine the ease and effectiveness of the program, and to optimize the evolutionary computing that facilitates it\n",
      "\n",
      "\n",
      "Deaf people encounter several major obstacles that prevent them from seamlessly integrating in society and exclude them from many ICT services that a hearing person simply takes for granted. Hence, our trans-disciplinary team of hearing and deaf, started to develop ICT hardware, services and a smartphone App, which enable people with hearing deficiencies to more seamlessly interact with their environment.\n",
      "While our App is not at TRL 9, we plan to bring our innovations Deaf Smart Space-Home (DSS-Home) and Deaf Smart Space-Places (DSS-Places) to market within SME Instrument Phase 2. Deaf Smart Space-Home (DSS-Home), at TRL 7, provides accessibility in private homes, while Deaf Smart Space-Places (DSS-Places) at TRL 6 provides accessibility in public buildings such as administrative buildings, airports, train stations, hotels, museums, and shopping malls.\n",
      "\n",
      "According to the World Health Organization, partial hearing loss affects 360 million worldwide and is likely to grow to 1 billion over\n",
      "\n",
      "\n",
      "Eye\n",
      "===\n",
      "In our visual field, objects are typically easy to see when we look directly at them and difficult to see in the periphery (the 'edges' of our vision). This difference is not simply to do with resolution - even when a target object in the periphery is large enough to be seen in isolation, the placement of other objects in its immediate vicinity can render the target 'jumbled' and impossible to recognise. This is known as 'visual crowding'. It is crowding and not simple resolution that limits our object recognition over more than 95% of the visual field.\n",
      "\n",
      "Although crowding does not affect the centre of gaze in 'normal' vision, it becomes elevated the case of strabismic amblyopia, often known as 'lazy eye'. Amblyopia is the most common cause of visual impairment in children and affects ~3% of the population. It is defined by impaired resolution in one eye that occurs despite optical correction. In addition, the amblyopic eye is also strongly affected by crowding - even when objects are l\n",
      "\n",
      "\n",
      "Computer vision algorithms examine images and make sense of what these images depict. Current computer vision algorithms  are able to interpret images at the level of a typical middle school student for many image interpretation tasks.  Recent advances in computer vision have led to rapid technological advances which are still unfolding but affect not only the technology industry, but education,  national security and health care. However, these new algorithms are as yet poorly understood and do not describe how natural learners such as a typical middle school student learn to understand the visual world.  This proposal draws together a team of cognitive psychologists, neuroscientists, and computer scientists to develop a new class of algorithms for computer vision inspired by the way people learn.  \n",
      "\n",
      "The key insight of this proposal is that human learners, unlike many leading computer vision techniques, make extensive use of the temporal structure of visual experience to extract str\n",
      "\n",
      "\n",
      "Computer vision algorithms examine images and make sense of what these images depict. Current computer vision algorithms  are able to interpret images at the level of a typical middle school student for many image interpretation tasks.  Recent advances in computer vision have led to rapid technological advances which are still unfolding but affect not only the technology industry, but education,  national security and health care. However, these new algorithms are as yet poorly understood and do not describe how natural learners such as a typical middle school student learn to understand the visual world.  This proposal draws together a team of cognitive psychologists, neuroscientists, and computer scientists to develop a new class of algorithms for computer vision inspired by the way people learn.  \n",
      "\n",
      "The key insight of this proposal is that human learners, unlike many leading computer vision techniques, make extensive use of the temporal structure of visual experience to extract str\n",
      "\n",
      "\n",
      "Generic Health Relevance\n",
      "===\n",
      "How do cells sense their environment and respond to extracellular cues? This has been a central question in molecular biology, and one with far-fetching implications in biomedical science. For example, regarding how signals drive stem cells differentiation and why cancerous cells ignore restraining signals sent from the rest of the body. Cell signalling processes -- responsible for the flow of information from the cell membrane to the nucleus -- have been extensively studied over the last decades and a great deal has been learnt about the underlying molecular mechanisms. Recent technological progress, which enables the study of cellular responses under carefully controlled dynamic environments, opens up the way for a more quantitative understanding of how cells process noisy incoming signals and then make 'decisions'.\n",
      "\n",
      "The aim of this research project is to provide new and essential computational and statistical approaches for the analysis of cell signalling. These methods will rely on\n",
      "\n",
      "\n",
      "Health workers today face more pressure than ever before in a number of complex conflicts, for instance in Syria and Ukraine. The population in these conflicts is unable to access healthcare, as clinics are shelled, physicians are arrested or forced to flee, medication is unavailable or unaffordable, and sometimes the trip to the doctor is simply too dangerous. Under such circumstances, a case of pneumonia is a deadly illness. Conflict zones become hotbeds of disease as cholera, polio, and other illnesses resurface that were previously eradicated from the region. The relentless refugee streams further export these healthcare risks. The breakdown of healthcare moreover has repercussions for the population long after the conflict has officially finished. It takes years to rebuild infrastructure, and train staff. Moreover, the population's health has suffered in the meantime. When they need to be at their most resilient to rebuild their country, their physical and mental health is at its \n",
      "\n",
      "\n",
      "Abstract\n",
      "Increased capacity is needed to accelerate effective, reliable, and sustainable improvements\n",
      "in pediatric health care. As quality improvement (QI) activities in medicine have matured over\n",
      "recent decades, research designs and analytic methods have emerged that can produce\n",
      "scientifically sound, generalizable knowledge regarding QI strategies and outcomes. In parallel,\n",
      "implementation science has emerged as a field focused on refining tools for implementation at\n",
      "scale, with particular attention to organizational and other factors that may facilitate or impede\n",
      "implementation. The Academic Pediatric Association (APA), which has organized prior\n",
      "successful training conferences in QI science, now proposes to broaden both the scope and\n",
      "impact of future conferences to include implementation science methods, and to explicitly link\n",
      "research methods training with foundational discussions regarding emerging health care\n",
      "delivery systems for U.S. children.\n",
      "The aims of the proposed 3 annual con\n",
      "\n",
      "\n",
      "Infection\n",
      "===\n",
      "Project Summary\n",
      " Sepsis is defined as a severe infection with dangerous physiologic changes, organ dysfunction or death,\n",
      "which hospitalizes over 1.6 million people in the U.S. annually. Sepsis is a priority for the Center for Medicaid\n",
      "and Medicare Services due to its healthcare impact, incidence and staggering annual cost, which exceed $20\n",
      "billion and 5% of all U.S. hospital costs. All sepsis patients, even those with mild sepsis are at risk for in-\n",
      "hospital complications and death, but have improved outcomes if identified early. Sepsis recognition, however,\n",
      "is challenging due to the heterogeneity of patients who may manifest a wide array of clinical presentations.\n",
      "Electronic medical record (EMR) linked computer programs, known as clinical decision support (CDS) tools,\n",
      "have become ubiquitous to assist providers, including identifying sepsis patients. Unfortunately, all CDS tools\n",
      "in the literature miss 20-30% of sepsis patients and frequently misidentify non-sepsis patients as sepsis\n",
      "pa\n",
      "\n",
      "\n",
      "\n",
      " This K23 application, in response to PA-11-194 to NINR, is a 3-year mentored patient-oriented research project to develop, adapt and test a self- and family-management intervention targeting HIV+ women in China to improve HIV health outcomes. The PI has extensive training experience at Columbia, University of California at San Francisco (UCSF), and the University of Washington (UW), and research experience in both domestic and international settings. Her long-term career goal is to be an independent and productive investigator in the field of HIV self- and family-management, with particular expertise in designing and implementing culturally sensitive interventions and to develop, test, implement, and evaluate an intervention in self- and family-management tailored to the Asian HIV+ population in the U.S. Training objectives for this award are to (a) gain expertise in qualitative data analysis for network text mining purposes as well as ethnographic evaluation; (b) learn gender, sexu\n",
      "\n",
      "\n",
      "The main goal of this research project is to extend the traditional mathematical framework for modeling microbial kinetics to a systematic study of heterogeneous bacterial populations.<br/>New applications from dynamical systems, ordinary and partial differential equations, and stochastic processes will be developed to formulate and study a new class of mathematical models focusing on physiological aspects determining bacterial heterogeneity. The models will be scrutinized using a combination of analytical and numerical methods, and compared to experimental data in the literature. This project will not only advance the general mathematical theory of microbial populations, but it will also produce a number of theoretical conclusions and predictions presented in a way that would be useful for biologists studying microbial heterogeneity in the laboratory setting. This research project will serve as a training ground for future interdisciplinary scientists. The principal investigator will \n",
      "\n",
      "\n",
      "Inflammatory and Immune System\n",
      "===\n",
      "Sepsis, infection plus systemic manifestations of infection, is the leading cause of in-hospital mortality. About 700,000 people die annually in US hospitals and 16% of them were diagnosed with sepsis (including a high prevalence of severe sepsis with major  complication). In addition to being deadly, sepsis is the most expensive condition associated with in-hospital stay, resulting in a 75% longer stay than any other condition.  The total burden of sepsis to the US healthcare system is estimated to be $20.3 billion, most of which is paid by Medicare and Medicaid. In fact, in June 2015 the Centers for Medicare & Medicaid Services (CMS) reported that sepsis accounted for over $7 billion in Medicare payments (second only to major joint replacement), a close to 10% increase from the previous year.  This pervasive drain on health care resources is due, in part, to difficulties in diagnosis and delayed treatment. For example, every one hour delay in treatment of severe sepsis/shock with ant\n",
      "\n",
      "\n",
      "  \n",
      "DESCRIPTION (provided by applicant): Rheumatoid arthritis (RA) is a chronic debilitating disease affecting 1% of the adult US population. It is one of the most demanding diseases on our healthcare resources. Although the treatment costs of RA have recently increased, most of the economic impact is due to consequences of RA rather than direct treatment costs. The indirect cost (e.g., due to productivity loss) is estimated to be two to three times higher than the direct treatment costs. 1) Biologics have recently been introduced in the treatment of RA. These drugs target the inflammatory mediators in RA. Biologics have proven to be effective in slowing the progression of the joint damage and are well tolerated by RA patients. However, biologics are one of the most expensive specialty drugs. Not every RA patient can afford them. In fact, drug affordability in the most recent American College of Rheumatology's (ACR) guideline limits biologics use. 2) In these guidelines biologics are o\n",
      "\n",
      "\n",
      "Sepsis, infection plus systemic manifestations of infection, is the leading cause of in-hospital mortality. About 700,000 people die annually in US hospitals and 16% of them were diagnosed with sepsis (including a high prevalence of severe sepsis with major  complication). In addition to being deadly, sepsis is the most expensive condition associated with in-hospital stay, resulting in a 75% longer stay than any other condition.  The total burden of sepsis to the US healthcare system is estimated to be $20.3 billion, most of which is paid by Medicare and Medicaid. In fact, in June 2015 the Centers for Medicare & Medicaid Services (CMS) reported that sepsis accounted for over $7 billion in Medicare payments (second only to major joint replacement), a close to 10% increase from the previous year.  This pervasive drain on health care resources is due, in part, to difficulties in diagnosis and delayed treatment. For example, every one hour delay in treatment of severe sepsis/shock with ant\n",
      "\n",
      "\n",
      "Mental Health\n",
      "===\n",
      "Why do animals have strong variation in mental abilities like memory or task learning? Some animals fail at apparently simple tasks, while others have a remarkable capacity to learn difficult tasks, recall complex information, and solve complex problems. It is suggested that animals need to be smart in order to manage relationships within social groups. Consistent with this idea, animals that live in complex social groups, like we see in humans, are typically smarter than non-social animals. Although comparing mental abilities across many types of animals has provided important information about the factors that influence animal intelligence, results from large comparative analyses are rarely definitive or easy to interpret. This project will take a new, experimental approach to understanding the causes and consequences of within species variation in animal intelligence. Using a wasp species where variation in memory and learning has already been found, individual and colony success wi\n",
      "\n",
      "\n",
      "Autism Spectrum Conditions (ASC, frequently defined as ASD - Autism Spectrum Disorders) are neurodevelopmental conditions, characterized by social communication difficulties and restricted and repetitive behaviour patterns. There are over 5 million people with autism in Europe – around 1 in every 100 people, affecting lives of over 20 million people each day. Alongside their difficulties, individuals with ASC tend to have intact and sometimes superior abilities to comprehend and manipulate closed, rule-based, predictable systems, such as robot-based technology.\n",
      " \n",
      "Over the last couple of years, this has led to several attempts to teach emotion recognition and expression to individuals with ASC, using humanoid robots. This has been shown to be very effective as an integral part of the psychoeducational therapy for children with ASC. The main reason for this is that humanoid robots are perceived by children with autism as being more predictable, less complicated, less threatening, and mor\n",
      "\n",
      "\n",
      "   \n",
      "DESCRIPTION (provided by applicant): Postpartum depression (PPD) afflicts about 10-15% of pregnant women. Depression during pregnancy is the strongest risk factor for PPD. However, currently, significant confusion exists about whether treating depression during pregnancy could reduce the risk of PPD. Our preliminary studies suggest that treating prenatal depression may reduce PPD risk. To further determine (1) if prenatal depression itself increases the risk of PPD, thus should be treated, (2) if treatment is beneficial, and (3) which treatment is most effective i reducing PPD, we propose to conduct a two-stage prospective cohort study in Kaiser Permanente Northern California (KPNC). KPNC has implemented a unique universal peripartum depression screening program. All pregnant women (about 33,000 annually) are screened for depression twice during pregnancy and once postpartum using the Patient Health Questionnaire (PHQ-9). During the study period, 120,000 pregnant women who are scr\n",
      "\n",
      "\n",
      "Metabolic and Endocrine\n",
      "===\n",
      "The broader impact/commercial potential of this Small Business Technology Transfer (STTR) project will be to develop an automated high-intensity food production system that can be operated in urban neighborhoods to provide fresh food to urban populations. This innovation, through the development and testing of the automation technology, will enhance scientific and technical understanding of how computer science and information technology can be used for urban food production. Food systems address not only the environmental/physical dimensions of urban sustainability, but they are also intensely cultural. Food creates communities. Food systems can, therefore, address both the social/cultural and the environmental/physical aspects of urban sustainability.  The goals are to make disruptive and innovative contributions to urban food security, and to improve the state of the food-related illnesses such as obesity, diabetes, and hypertension in urban neighborhoods.<br/><br/>This STTR Phase I\n",
      "\n",
      "\n",
      "**Vision** Artificial Intelligence (AI)/ machine learning could transform personalised healthcare. By predicting complications and health consequence (thereby enabling early and appropriate intervention), AI has the potential to significantly improve health outcomes, reduce waste and provide significant cost savings and wider societal benefits at the same time. **Objectives** This project brings together a unique partnership of niche expertise across NHS, academia and the commercial sector to create a new and world leading diabetes artificial intelligence product (MyDiabetesIQ) driving tailored decision-support for clinicians and patients. This project aims to design, develop, test, implement and evaluate MyDiabetesIQ in Scotland and NW London to demonstrate its commercial potential. **Focus** Scotland is world-renowned for diabetes care, driven by a unique national data-linked complete shared electronic health record for clinicians (SCI-Diabetes) and patients (MyDiabetesMyWay (MDMW)).\n",
      "\n",
      "\n",
      "**Vision** Artificial Intelligence (AI)/ machine learning could transform personalised healthcare. By predicting complications and health consequence (thereby enabling early and appropriate intervention), AI has the potential to significantly improve health outcomes, reduce waste and provide significant cost savings and wider societal benefits at the same time. **Objectives** This project brings together a unique partnership of niche expertise across NHS, academia and the commercial sector to create a new and world leading diabetes artificial intelligence product (MyDiabetesIQ) driving tailored decision-support for clinicians and patients. This project aims to design, develop, test, implement and evaluate MyDiabetesIQ in Scotland and NW London to demonstrate its commercial potential. **Focus** Scotland is world-renowned for diabetes care, driven by a unique national data-linked complete shared electronic health record for clinicians (SCI-Diabetes) and patients (MyDiabetesMyWay (MDMW)).\n",
      "\n",
      "\n",
      "Musculoskeletal\n",
      "===\n",
      "The broader impact/commercial potential of this Small Business Innovation Research (SBIR) Phase II project is to provide a new tool revealing important information regarding skeletal muscle strength and health. Muscle weakness is a pervasive problem across our society, including people with joint disease, aging people, obese people, and people with neuromuscular disorders. All of these problems affect muscles across the body in different and non-intuitive ways; however, to date there has not been marketed technology that allows for quantitative measurement of muscle size on a muscle-by-muscle basis and specific analysis to address the muscle weakness problem. Due to the current high cost, the initial targeted customers will be elite athlete organizations, with the goal of using the technology to improve performance as well as to provide more quantitative metrics for predicting injury susceptibility and make return-to-sport decisions. However, with research and development to bring down\n",
      "\n",
      "\n",
      "Knee osteoarthritis (OA) affects 10% of older adults and is a major cause of work absence, early retirement and joint replacement. Knee OA is a disease characterized by deterioration of the cartilage in the knee. Using current technology, it is hard to predict how fast or how much deterioration will take place because cartilage loss is a slow and gradual process and can only be detected through medical images. This project will explore a novel 3D image model that can predict the accurate change of knee cartilage, to facilitate early detection and personal treatment for OA. If successful, the project could benefit 35 million people in the United States by reducing the high economic cost related to OA treatment, and improving the quality of life for these people. The PIs plan to disseminate the research to local medical communities and design a new course to involve undergraduate students into the research. The novel 3D image predictive model should have a wide variety of imaging applica\n",
      "\n",
      "\n",
      "The research objective of this award is to explore the computational design of complex multi-scale systems, with a focus on the hierarchical design of synthetic muscles at the macro level via design of myosin (a molecular motor) and myosin-actin networks at the nanoscale level. Through a 5-level hierarchy, myosin is the major force component in a multi-scale macro structural muscle system. This research uses a novel computational method that combines multi-level, multi-scale agent-based search with shape grammar representations of myosin to configure new myosin-actin filament designs and potential new biomaterials (synthetic muscle) with desired macro-level functional properties. It is anticipated that through combinations of different types of myosin at the lowest scale, unique macro muscle properties will emerge, and potentially new protein discoveries can be identified based on computational exploration. <br/><br/>If successful, this research will enable design across scales from na\n",
      "\n",
      "\n",
      "Neurological\n",
      "===\n",
      "ECCS Prop. No. 1407880<br/><br/>Proposal Title: <br/><br/>Implantable, Wireless, and Power-Efficient Trimodal Neural Interface for Electro-Optogenetic Manipulation of Visual Cortex in Small Freely Behaving Animals<br/><br/>Award Goal<br/>This proposal aims to realize an integrated, wireless, trimodal opto-electro neural interface to tackle the critical challenge of high-resolution spatiotemporal mapping and closed-loop control of visual cortex, which will enable better understanding of the structure and function of brain networks during visual processing of small, freely behaving animals. <br/><br/>Nontechnical Abstract<br/><br/>Blindness has affected millions of people worldwide, and at present is incurable.  A cortically-based visual prosthesis is believed to provide a therapeutic solution for all causes of blindness.  However, restoration of visual senses to a useful level has not yet been achieved with cortical implants, mainly due to the complex organization of visual cortex and v\n",
      "\n",
      "\n",
      "1053233<br/>Boyden<br/><br/>Tools that enable the perturbation of specific cellular processes in a temporally-precise manner are critical in the field of neuroscience for determining when and how such processes contribute to neural computations, behaviors, and pathologies. Without such tools, mechanistic understandings of how neurons and neural networks function are sometimes tentative, limiting not only basic science but also clinical progress, as the core mechanisms that contribute to normal function and disease states, and that might enable potential therapies, can remain obscure. To open up the ability to test the causal role of defined neurons in emergent brain functions, the PI has recently pioneered a set of molecular tools that, when genetically expressed in specific neuron classes within the brain, enable those neurons to be electrically activated and silenced in response to specific colors of light. These molecules are opsins, light-driven membrane proteins from nature that, \n",
      "\n",
      "\n",
      "ABSTRACT<br/><br/>Integration of Dynamic Sensing and Actuating of Neural Microcircuits<br/>PI: Arto V. Nurmikko <br/><br/>The proposed EFRI program aims to develop transformative paradigms in our understanding of the complex nonlinear dynamics of brain microcircuits and their function, by developing and fusing a new generation biosensing (recording) and actuation (neurostimulation) techniques to a potent toolbox. The proposed research engages brain circuits with external photonic and microelectronic interfaces in animal models, in particular for the study of the so-called \"working memory\" - the brain's \"random access memory\". At the neuroengineering level, the proposed research integrates new set of neural sensing and actuation tools on the microscale that are applied to engage with specific sensing and planning action by the brain - in particular the dynamics of information processing in the prefrontal cortex. A key experimental driver is the development of a new micro-optical/photoni\n",
      "\n",
      "\n",
      "Oral and Gastrointestinal\n",
      "===\n",
      "It is widely assumed that physical activity affects weight loss outcomes for severely obese patients, but there is a scarcity of robust research on this subject. We propose to use smartphone sensors and advanced data mining techniques to conduct detailed investigations addressing this important question. The research participants will be obese people having bariatric (or weight-loss) surgery (e.g. gastric bypass), but our results will also benefit other people with weight problems and patients with other conditions where exercise is helpful.\n",
      "\n",
      "In England just over a quarter of adults were classified as obese in 2010. This group is more likely to suffer from a range of illnesses (e.g. type-2 diabetes) and to have a lower life expectancy. Surgery is recommended for those with severe and complex obesity that has not responded to other therapies, and is highly cost effective in achieving weight loss, overcoming associated illnesses and promoting longer term health. However long-term success\n",
      "\n",
      "\n",
      "Chronic liver diseases such as liver cirrhosis and hepatocellular carcinoma (HCC) are major challenges for global health. HCC is the second leading and fastest rising cause of cancer death worldwide. The limited availability of therapeutic options reflects our poor understanding of the molecular and clinical mechanisms involved in progression of liver disease. Chronic hepatitis C virus (HCV) infection is a main risk factor for HCC. Although HCC may be avoided by addressing the underlying cause in early stage disease, strategies to prevent HCC in patients with established cirrhosis and advanced fibrosis, in which the risk of HCC persists despite treatment of the underlying cause are lacking. Indeed, even HCV cure does not eliminate the risk of HCC development when advanced fibrosis is already present. Since fibrosis/cirrhosis-driven carcinogenesis is the mechanism of HCC development common to all major etiologies, we propose to use HCV-induced liver disease as a model to decipher the pa\n",
      "\n",
      "\n",
      "This project aims to improve the surgical care of patients with primary and secondary liver cancer. It will do this by developing a new product that uses medical imaging to measure the health of a patient’s liver, helping doctors personalise their treatment plans to individual patients. Liver surgery is the treatment of choice for curing cancer in the liver with on-going advances making curative treatment is available to more patients. However, it is difficult to decide how best to treat patients with the ideal combination of surgery, chemotherapy or localised non-surgical treatments. The greater the extent of liver surgery, the greater the risk of complications, which can include death, particularly in patients with unhealthy livers. Surgeons consider the volume of liver that would remain after surgery, but there is a clear need to also consider the health of this liver to reduce complications. Perspectum Diagnostics span out of the University of Oxford to commercialise novel MRI tech\n",
      "\n",
      "\n",
      "Renal and Urogenital\n",
      "===\n",
      "Whenever someone visits their GP or the hospital, their medical condition (incl. test results, vaccinations, etc.) is recorded in their personal NHS health file. This process generates a largely untapped wealth of data on the nation's health. A health atlas uses this medical information to generate maps in order to show which areas of a region (eg. town or country) are at a low or high risk of a particular disease. When assessing the risk of disease it is common to account for factors such as poverty, age and coexisting diseases. Such health atlases already exist, but are inflexible as they use old historical data and take a long time to produce. Consequently they do not display the present health landscape.\n",
      "\n",
      "The fundamental aim of the project is to develop methods and tools for creating 'real-time' health atlases; as an example it will use the NHS medical records of the population living in the city of Salford, UK (over 200,000 people). The reason for targeting Salford is that it has \n",
      "\n",
      "\n",
      "Whenever someone visits their GP or the hospital, their medical condition (incl. test results, vaccinations, etc.) is recorded in their personal NHS health file. This process generates a largely untapped wealth of data on the nation's health. A health atlas uses this medical information to generate maps in order to show which areas of a region (eg. town or country) are at a low or high risk of a particular disease. When assessing the risk of disease it is common to account for factors such as poverty, age and coexisting diseases. Such health atlases already exist, but are inflexible as they use old historical data and take a long time to produce. Consequently they do not display the present health landscape.\n",
      "\n",
      "The fundamental aim of the project is to develop methods and tools for creating 'real-time' health atlases; as an example it will use the NHS medical records of the population living in the city of Salford, UK (over 200,000 people). The reason for targeting Salford is that it has \n",
      "\n",
      "\n",
      "An overarching objective of this research is to revisit the problem of modelling the progression of Chronic Kidney Disease (CKD) using state-of-the-art machine learning techniques and methodologies. We introduce three innovations in this project. \n",
      "\n",
      "First, we shall investigate statistical models that directly predict key clinical variables so that clinicians can make more informed decisions. This approach is more consistent with guidelines-based prescribing that is used by general practitioners. \n",
      "\n",
      "Second, we will develop a way to identify patient groups by using data-driven methods. The approach used is similar to 'market segmentation' used in Business Intelligence. The hypothesis is that patients can be divided into groups not by their disease or stages (as currently practised) but by their patient records that essentially capture their health history. In essence, this method of grouping will naturally group patients with similar treatments including drugs and procedures and similar ph\n",
      "\n",
      "\n",
      "Reproductive Health and Childbirth\n",
      "===\n",
      "DESCRIPTION (provided by applicant): Infertility and subfertility are pervasive problems in humans, and pregnancy loss is the most common complication of human gestation, with losses occurring most frequently in the first two weeks of gestation. Our long-range goal is to discover and understand the cellular and molecular mechanisms regulating uterine competency for pregnancy with a specific focus on uterine functions for blastocyst implantation in order to provide fundamental information useful for diagnosis, prevention and treatment of fertility problems. The receptive endometrium represents a temporary, but unique physiological state of the uterus when blastocyst growth and implantation is possible. Inadequate endometrial function, receptivity and decidualization negatively affect blastocyst implantation leading to pregnancy loss. Our central hypothesis is that endometrial glands and their secretions regulate endometrial receptivity, endometrial decidualization and blastocyst implant\n",
      "\n",
      "\n",
      "The United States spends over 26 billion dollars per annum on the delivery and care of the 12-13% of infants who are born preterm. As preterm birth (PTB) is a major public health problem with profound implications on society, there would be extreme value in being able to identify women at risk of preterm birth during the course of their pregnancy. Previous predictive approaches have been largely unsuccessful since they have focused on a limited number of well described risk factors known to be correlated with preterm birth (e.g. prior preterm birth, race, and infection) and less on combining multiple factors. The latter approach is necessary to understand the complex etiologies of preterm birth. While identifying individual PTB risk factors has brought insight into the problem and has led in some cases to successful treatments such as progesterone for women with a previous preterm birth, this has only a limited impact on the overall frequency since many at risk patients, such as first \n",
      "\n",
      "\n",
      "DESCRIPTION (provided by applicant): Infertility and subfertility are pervasive problems in humans, and pregnancy loss is the most common complication of human gestation, with losses occurring most frequently in the first two weeks of gestation. Our long-range goal is to discover and understand the cellular and molecular mechanisms regulating uterine competency for pregnancy with a specific focus on uterine functions for blastocyst implantation in order to provide fundamental information useful for diagnosis, prevention and treatment of fertility problems. The receptive endometrium represents a temporary, but unique physiological state of the uterus when blastocyst growth and implantation is possible. Inadequate endometrial function, receptivity and decidualization negatively affect blastocyst implantation leading to pregnancy loss. Our central hypothesis is that endometrial glands and their secretions regulate endometrial receptivity, endometrial decidualization and blastocyst implant\n",
      "\n",
      "\n",
      "Respiratory\n",
      "===\n",
      "This research proposes the development of an urgently needed Electrical Impedance Tomography (EIT)-based bio-imaging system for in-vivo monitoring of neonate lung function in Intensive care Units (ITUs). Disorders of lung growth, maturation and breathing control are among the most important problems faced by the neonatologist. Premature birth occurs in 5-10% of all pregnancies, and is frequently accompanied by complications due to lung immaturity. The annual cost to the NHS is estimated in the order of hundreds of millions. One of the key difficulties of neonate ITU monitoring for lung function is that the system must measure the subject in a passive manner, unlike adults who can be asked to perform specific respiratory tasks. EIT is the only solution to this problem. Moreover, EIT is proving to be successful in many clinical applications, an example is the new commercial TSCAN system for detection of breast cancer.The proposed system will provide a non-invasive measure of lung maturit\n",
      "\n",
      "\n",
      "Asthma is the most common chronic disease of childhood and causes many hospital admissions. The number of children suffering from asthma has increased dramatically over the past 30 years. It is unclear why some people get asthma and others do not. Asthma is largely heritable, but despite lots of effort we have had limited success identifying which genes are important, and genetic studies of asthma have not yet had a positive impact on patient care. Many factors in the environment may contribute to the development of asthma (for example diet, immunizations, antibiotics, pets and tobacco smoke) but we don't know how to modify the environment to reduce the risks. One reason for the difficulty in understanding causes of asthma is that asthma may be a collection of different diseases which cause similar symptoms. As asthma generally starts early in life, the best way to study it is to recruit new born babies and follow them as they grow (so-called birth cohort). During early life it is poss\n",
      "\n",
      "\n",
      "Asthma is a common lung disease with acute and chronic manifestations that impacts more than 22.2 million Americans or 7.9% of the population, including over 6.7 million children younger than 18 years of age. The cost of asthma is significant both for individuals and for the society as a whole. It is highly desirable to establish transformative technologies to improve the patient quality of life and reduce the cost of asthma management. The recent development in sensor and mobile computing technology provide great opportunities to establish Smart Asthma Management (SAM) systems and achieve a quantum leap in asthma management. Leveraging on the fast development of information infrastructure, patients can create a detailed temporal log recording their symptoms, medicine usage, and possibly vital physiological signals through an easy access to a website or their smart phones in SAM systems. This unprecedented continuous stream of patient-generated data in SAM systems provides us significa\n",
      "\n",
      "\n",
      "Skin\n",
      "===\n",
      "The societal needs such as helping elderly and rapid technological advances have transformed robotics in recent years. Making robots autonomous and at the same time able to interact safely with real world objects is desired in order to extend their range of applications to highly interactive tasks such as caring for the elderly. However, attaining robots capable of doing such tasks is challenging as the environmental model they often use is incomplete, which underlines the importance of sensors to obtain information at a sufficient rate to deal with external change. In robotics, the sensing modality par excellence so far has been vision in its multiple forms, for example lasers, or simply stereoscopic arrangements of conventional cameras. On other hand the animal world uses a wider variety of sensory modalities. The tactile/touch sensing is particularly important as many of the interactive tasks involve physical contact which carry precious information that is exploited by biological b\n",
      "\n",
      "\n",
      "The societal needs such as helping elderly and rapid technological advances have transformed robotics in recent years. Making robots autonomous and at the same time able to interact safely with real world objects is desired in order to extend their range of applications to highly interactive tasks such as caring for the elderly. However, attaining robots capable of doing such tasks is challenging as the environmental model they often use is incomplete, which underlines the importance of sensors to obtain information at a sufficient rate to deal with external change. In robotics, the sensing modality par excellence so far has been vision in its multiple forms, for example lasers, or simply stereoscopic arrangements of conventional cameras. On other hand the animal world uses a wider variety of sensory modalities. The tactile/touch sensing is particularly important as many of the interactive tasks involve physical contact which carry precious information that is exploited by biological b\n",
      "\n",
      "\n",
      "Skin Analytics will develop a cloud-based service to enable consumers to detect early warning signs of skin cancer. We will create a service accessible from smartphones and the web that gives users a convenient, secure and easy way to manage their skin health. The company will develop advanced image processing technology that can detect changes in skin topography and assess these against commonly accepted criteria used in assessing skin lesions.\n",
      "\n",
      "\n",
      "Stroke\n",
      "===\n",
      "Childhood and adolescent obesity is a major global and European public health problem. Currently, public actions are detached from local needs, mostly including indiscriminate blanket policies and single-element strategies, limiting their efficacy and effectiveness. The need for community-targeted actions has long been obvious, but the lack of monitoring and evaluation framework and the methodological inability to objectively quantify the local community characteristics, in a reasonable timeframe, has hindered that. Fortunately, technological achievements in mobile and wearable electronics and Big Data infrastructures allow the engagement of European citizens in the data collection process, allowing us to reshape policies at a regional, national and European level. In BigO, that will be facilitated through the development of a platform, allowing the quantification of behavioural community patterns through Big Data provided by wearables and eHealth- devices. During the project, BigO wil\n",
      "\n",
      "\n",
      "Urban communities are facing many challenges due to the increasing complexity of urban life, declining urban services and growing health and economic disparities. While diverse stakeholders are engaged in understanding and solving these issues, progress has not been commensurate with the effort, attributed partially to the limited collaboration and data sharing. The persistence of obesity disparities in early childhood is one example of the negative consequences of such isolated efforts. Obesity is a multi-faced health outcome. While some risk-factors for obesity are universal, others are highly specific to the community in which a particular child lives. As such, successful efforts to prevent and treat pediatric obesity depend upon integration of data from multiple community sources and systems. The overall objective of the proposed research is to develop an innovative data-driven health informatics system (Preschool Risk for Obesity Portal; PROP) that aims to promote comprehensive, e\n",
      "\n",
      "\n",
      "Stroke a leading cause of death and disability, with an estimated total cost of €65 billion per year in Europe. Even though preventive measures are in place to reduce the incidence of stroke, the number of persons having a stroke in Europe is likely to increase from 1.1 million/year in 2000 to more than 1.5 million/year in 2025 because of the increasing ageing population. Secondary stroke carries with it a greater risk than first-ever stroke for death and disability. Also, as mortality from first strokes has decreased recently, the number of people at risk for a secondary stroke has increased, with an associated increase in healthcare costs. In order to reduce these stroke statistics and the associated cost, the self-management of stroke risk factors is particularly suitable and necessary for the following reasons: 1) risk factors for stroke are well-known, and 2) 90% of strokes or secondary stroke events are preventable if the risk factors are managed appropriately. The Decision Suppo\n",
      "\n",
      "\n"
     ]
    }
   ],
   "source": [
    "#Examples\n",
    "\n",
    "ai_h_dis = ai_h.groupby('dis_pred')['description'].apply(lambda x: list(x))\n",
    "\n",
    "for dis in ai_h_dis.index:\n",
    "    \n",
    "    print(dis)\n",
    "    print('===')\n",
    "    selected = random.sample(list(ai_h_dis.loc[dis]),3)\n",
    "    \n",
    "    for sel in selected:\n",
    "        print(sel[:1000])\n",
    "        print('\\n')\n",
    "\n"
   ]
  },
  {
   "cell_type": "code",
   "execution_count": 762,
   "metadata": {},
   "outputs": [
    {
     "data": {
      "text/plain": [
       "357.14285714285717"
      ]
     },
     "execution_count": 762,
     "metadata": {},
     "output_type": "execute_result"
    }
   ],
   "source": [
    "30000/(4*21)"
   ]
  },
  {
   "cell_type": "code",
   "execution_count": null,
   "metadata": {},
   "outputs": [],
   "source": []
  }
 ],
 "metadata": {
  "kernelspec": {
   "display_name": "Python 3",
   "language": "python",
   "name": "python3"
  },
  "language_info": {
   "codemirror_mode": {
    "name": "ipython",
    "version": 3
   },
   "file_extension": ".py",
   "mimetype": "text/x-python",
   "name": "python",
   "nbconvert_exporter": "python",
   "pygments_lexer": "ipython3",
   "version": "3.5.2"
  }
 },
 "nbformat": 4,
 "nbformat_minor": 2
}
