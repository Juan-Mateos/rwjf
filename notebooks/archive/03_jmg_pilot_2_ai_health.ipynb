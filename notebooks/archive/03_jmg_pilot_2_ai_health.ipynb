{
 "cells": [
  {
   "cell_type": "markdown",
   "metadata": {},
   "source": [
    "# Pilot 2: An analysis of AI in health\n",
    "\n",
    "This pilot for the RWJF project sets out to identify AI innovations which could be of interest for the RWJF.\n",
    "\n",
    "We use a combined dataset including:\n",
    "\n",
    "* GDB, the grant database we are working on for pilot 1 including data from:\n",
    "  * [Gateway to Research](http:/http://gtr.ukri.org/) a database with information about research projects funded in the UK\n",
    "  * [Innovate UK](https://www.gov.uk/government/publications/innovate-uk-funded-projects)  \n",
    "  * [AHRQ](https://www.ahrq.gov/), agency healthcare research and quality, a public body supporting health research in the USA\n",
    "  * [H2020](https://cordis.europa.eu/home_en.html), a database with EU R&D data\n",
    "  * , a startup and tech company database\n",
    "  * RWJF (the Robert Woods Johnson Foundation open dataset)\n",
    "  * World reporter (TODO: Discover what this is)\n",
    "  \n",
    "* [Crunchbase](https://www.crunchbase.com/) a database of startup activity that we recently licensed\n",
    "* GitHub, an open source database. \n",
    "\n",
    "How do we identify ai projects in the data? We will use Clio, an information retrieval system which extracts relevant documents from a corpus of data, and a supervised approach potentially based on labelled data such as CrunchBase or Gateway to Research. Another important output of the analysis is a better understanding of the contents of the GDB, which will be relevant for pilot 1.\n",
    "\n",
    "The activities I will follow are as usual:\n",
    "\n",
    "1. Preamble including imports, directories, functions and classes.\n",
    "2. Load data and any necessary metadata\n",
    "3. Exploratory data analysis: what's in there? what are the questions about interpretation and provenance?\n",
    "4. Classification: Identify AI and health projects in the data. Think about how this analysis will include the classification developed by George Richardson (to understand the domain of health where a project sits)\n",
    "5. Reporting\n",
    "\n",
    "\n"
   ]
  },
  {
   "cell_type": "markdown",
   "metadata": {},
   "source": [
    "### Imports and paths go here"
   ]
  },
  {
   "cell_type": "code",
   "execution_count": 1,
   "metadata": {},
   "outputs": [],
   "source": [
    "# %load preamble.py\n",
    "%matplotlib inline\n",
    "#NB I open a standard set of directories\n",
    "\n",
    "#Paths\n",
    "\n",
    "#Get the top path\n",
    "top_path = os.path.dirname(os.getcwd())\n",
    "\n",
    "#Create the path for external data\n",
    "ext_data = os.path.join(top_path,'data/external')\n",
    "\n",
    "#Raw path (for html downloads)\n",
    "\n",
    "raw_data = os.path.join(top_path,'data/raw')\n",
    "\n",
    "#And external data\n",
    "proc_data = os.path.join(top_path,'data/processed')\n",
    "\n",
    "fig_path = os.path.join(top_path,'reports/figures')\n",
    "\n",
    "#Get date for saving files\n",
    "today = datetime.datetime.today()\n",
    "\n",
    "today_str = \"_\".join([str(x) for x in [today.day,today.month,today.year]])"
   ]
  },
  {
   "cell_type": "code",
   "execution_count": 2,
   "metadata": {},
   "outputs": [],
   "source": [
    "#And the model path\n",
    "mod_path = os.path.join(top_path,'models/')"
   ]
  },
  {
   "cell_type": "markdown",
   "metadata": {},
   "source": [
    "### Functions and classes go here"
   ]
  },
  {
   "cell_type": "code",
   "execution_count": 3,
   "metadata": {},
   "outputs": [],
   "source": [
    "def flatten_list(my_list):\n",
    "    '''\n",
    "    Flattens a list\n",
    "    '''\n",
    "    \n",
    "    return([x for el in my_list for x in el])"
   ]
  },
  {
   "cell_type": "markdown",
   "metadata": {},
   "source": [
    "## 1. Load data\n",
    "\n",
    "We load the data. \n",
    "\n",
    "**Data dictionary**\n",
    "\n",
    "\n",
    "\n",
    "* **GH User ID**: Github User ID.\n",
    "* **GDB Dataset ID**: Only for Grants DB. Shows the dataset (Grants.gov, Research.gov, AHRQ, H2020, Innovateuk, GtR, RWJF, World Explorer) of the instance.\n",
    "* **Source ID**: Can be Crunchbase, GitHub or GDB\n",
    "* **Start Date**: Incorporation date, project starting date or the date that a Github repo was created.\n",
    "* **Status**: Only for CB and GDB source datasets. Shows if the company/funded project is active.\n",
    "* **GH User Creation Date**: Only for Github. Creation date of a user's Github profile.\n",
    "* **Description**: Description of a company/funded project/github repo. \n",
    "* **Funding**: Only for CB and GDB source datasets. Shows the VC investment / public funds that companies have got. \n",
    "* **Row ID**: Every row has a unique ID that corresponds to the Crunchbase ID / Funded Project ID / Github repo ID.\n",
    "* **Currency**: Only for CB and GDB source datasets. Can be USD, EUR, GBP.\n",
    "* **CB Category Group List**: Only for CB. Broad categories of a Crunchbase company.\n",
    "* **GH User Type**: Only for Github. A user can be either a company or a user (individual person).\n",
    "* **CB Number of Employees**: Only for CB. Number of individuals employeed by a company.\n",
    "* **CB Category List**: Only for CB. Categories of a Crunchbase company. More granular than *CB Category Group List*\n",
    "* **CB Role**: Only for CB. Shows if an organisation is a company, investor or school.\n",
    "* **End Date**: Only for CB and GDB. Shows when a company closed and when a funded project finished. I would trust *Status* more for CB dataset.\n",
    "* **GH Valid Description**: Only for Github. Binary column, shows if a description has five or more tokens.\n",
    "* **Name**: Company name, Participant in a funded project name, github repo name.\n",
    "* **administrative_area_level_1**: Only for GDB at this point. \n",
    "* **administrative_area_level_2**: Only for GDB at this point. \n",
    "* **lng**: Only for GDB and Github. Longitude.\n",
    "* **lat**: Only for GDB and Github. Latitude.\n",
    "* **country**: Only for GDB at this point. \n",
    "\n",
    "Some observations / questions: \n",
    "\n",
    "* Is each GitHub project assigned to an individual and company?\n",
    "* Do the GitHub projects include forks?\n",
    "* We currently don't know the locations of GitHub projects. It would be easy to geocode them on the lat-lon but we'll leave it for now (Kostas is working on the geocoding anyway).\n",
    "* We will need to revise the Innovate UK funding data (in that database, the levels of funding allocated to a project are per organisation, not project). Need to determine what's the situation with the other sources.\n",
    "* How are projects with multiple organisations geocoded (eg GTR)? Are they geocoded to the lead organisation, to the first one to be deduplicated?\n"
   ]
  },
  {
   "cell_type": "code",
   "execution_count": 4,
   "metadata": {},
   "outputs": [
    {
     "name": "stderr",
     "output_type": "stream",
     "text": [
      "/usr/local/lib/python3.5/site-packages/IPython/core/interactiveshell.py:2785: DtypeWarning: Columns (2,5,6,8,9,10,11,12,13,14,15,16,19,20,23) have mixed types. Specify dtype option on import or set low_memory=False.\n",
      "  interactivity=interactivity, compiler=compiler, result=result)\n"
     ]
    }
   ],
   "source": [
    "#Here we load the data. Note that it was compressed with gzip.\n",
    "data = pd.read_csv(ext_data+'/gh_cb_gdb_v1.csv', compression='gzip')"
   ]
  },
  {
   "cell_type": "code",
   "execution_count": 5,
   "metadata": {},
   "outputs": [],
   "source": [
    "#Tidy columns (lowercases, no spaces)\n",
    "data.columns = [re.sub(' ','_',x.lower()) for x in data.columns]"
   ]
  },
  {
   "cell_type": "markdown",
   "metadata": {},
   "source": [
    "## 2. Explore data\n",
    "\n",
    "Initial data exploration to answer questions such as:\n",
    "\n",
    "1. How missing values are there in each variable\n",
    "2. How do we standardise funding amounts?\n",
    "3. Do we need to standardise dates? How?\n"
   ]
  },
  {
   "cell_type": "code",
   "execution_count": 6,
   "metadata": {},
   "outputs": [
    {
     "data": {
      "text/html": [
       "<div>\n",
       "<style scoped>\n",
       "    .dataframe tbody tr th:only-of-type {\n",
       "        vertical-align: middle;\n",
       "    }\n",
       "\n",
       "    .dataframe tbody tr th {\n",
       "        vertical-align: top;\n",
       "    }\n",
       "\n",
       "    .dataframe thead th {\n",
       "        text-align: right;\n",
       "    }\n",
       "</style>\n",
       "<table border=\"1\" class=\"dataframe\">\n",
       "  <thead>\n",
       "    <tr style=\"text-align: right;\">\n",
       "      <th></th>\n",
       "      <th>unnamed:_0</th>\n",
       "      <th>gh_user_id</th>\n",
       "      <th>gdb_dataset_id</th>\n",
       "      <th>source_id</th>\n",
       "      <th>start_date</th>\n",
       "      <th>status</th>\n",
       "      <th>gh_user_creation_date</th>\n",
       "      <th>description</th>\n",
       "      <th>funding</th>\n",
       "      <th>row_id</th>\n",
       "      <th>...</th>\n",
       "      <th>cb_category_list</th>\n",
       "      <th>cb_role</th>\n",
       "      <th>end_date</th>\n",
       "      <th>gh_valid_description</th>\n",
       "      <th>name</th>\n",
       "      <th>administrative_area_level_1</th>\n",
       "      <th>administrative_area_level_2</th>\n",
       "      <th>lng</th>\n",
       "      <th>lat</th>\n",
       "      <th>country</th>\n",
       "    </tr>\n",
       "  </thead>\n",
       "  <tbody>\n",
       "    <tr>\n",
       "      <th>0</th>\n",
       "      <td>0</td>\n",
       "      <td>NaN</td>\n",
       "      <td>gtr</td>\n",
       "      <td>GDB</td>\n",
       "      <td>2012-10-01 00:00:00</td>\n",
       "      <td>Closed</td>\n",
       "      <td>NaN</td>\n",
       "      <td>Over the last fifty years, accelerators of eve...</td>\n",
       "      <td>26776</td>\n",
       "      <td>http://gtr.rcuk.ac.uk:80/gtr/api/projects/0004...</td>\n",
       "      <td>...</td>\n",
       "      <td>NaN</td>\n",
       "      <td>NaN</td>\n",
       "      <td>NaN</td>\n",
       "      <td>NaN</td>\n",
       "      <td>University College London</td>\n",
       "      <td>England</td>\n",
       "      <td>Greater London</td>\n",
       "      <td>-0.132718</td>\n",
       "      <td>51.524469</td>\n",
       "      <td>United Kingdom</td>\n",
       "    </tr>\n",
       "    <tr>\n",
       "      <th>1</th>\n",
       "      <td>1</td>\n",
       "      <td>NaN</td>\n",
       "      <td>gtr</td>\n",
       "      <td>GDB</td>\n",
       "      <td>2002-02-01 00:00:00</td>\n",
       "      <td>Closed</td>\n",
       "      <td>NaN</td>\n",
       "      <td>Abstracts are not currently available in GtR f...</td>\n",
       "      <td>187427</td>\n",
       "      <td>http://gtr.rcuk.ac.uk:80/gtr/api/projects/000C...</td>\n",
       "      <td>...</td>\n",
       "      <td>NaN</td>\n",
       "      <td>NaN</td>\n",
       "      <td>NaN</td>\n",
       "      <td>NaN</td>\n",
       "      <td>University College London</td>\n",
       "      <td>England</td>\n",
       "      <td>Greater London</td>\n",
       "      <td>-0.132718</td>\n",
       "      <td>51.524469</td>\n",
       "      <td>United Kingdom</td>\n",
       "    </tr>\n",
       "    <tr>\n",
       "      <th>2</th>\n",
       "      <td>2</td>\n",
       "      <td>NaN</td>\n",
       "      <td>gtr</td>\n",
       "      <td>GDB</td>\n",
       "      <td>1998-10-01 00:00:00</td>\n",
       "      <td>Closed</td>\n",
       "      <td>NaN</td>\n",
       "      <td>The question of how the human brain develops o...</td>\n",
       "      <td>3.00761e+06</td>\n",
       "      <td>http://gtr.rcuk.ac.uk:80/gtr/api/projects/002D...</td>\n",
       "      <td>...</td>\n",
       "      <td>NaN</td>\n",
       "      <td>NaN</td>\n",
       "      <td>NaN</td>\n",
       "      <td>NaN</td>\n",
       "      <td>University College London</td>\n",
       "      <td>England</td>\n",
       "      <td>Greater London</td>\n",
       "      <td>-0.132718</td>\n",
       "      <td>51.524469</td>\n",
       "      <td>United Kingdom</td>\n",
       "    </tr>\n",
       "    <tr>\n",
       "      <th>3</th>\n",
       "      <td>3</td>\n",
       "      <td>NaN</td>\n",
       "      <td>gtr</td>\n",
       "      <td>GDB</td>\n",
       "      <td>2012-06-30 00:00:00</td>\n",
       "      <td>Closed</td>\n",
       "      <td>NaN</td>\n",
       "      <td>T-cells are white blood cells that enable us t...</td>\n",
       "      <td>465999</td>\n",
       "      <td>http://gtr.rcuk.ac.uk:80/gtr/api/projects/0042...</td>\n",
       "      <td>...</td>\n",
       "      <td>NaN</td>\n",
       "      <td>NaN</td>\n",
       "      <td>NaN</td>\n",
       "      <td>NaN</td>\n",
       "      <td>University College London</td>\n",
       "      <td>England</td>\n",
       "      <td>Greater London</td>\n",
       "      <td>-0.132718</td>\n",
       "      <td>51.524469</td>\n",
       "      <td>United Kingdom</td>\n",
       "    </tr>\n",
       "    <tr>\n",
       "      <th>4</th>\n",
       "      <td>4</td>\n",
       "      <td>NaN</td>\n",
       "      <td>gtr</td>\n",
       "      <td>GDB</td>\n",
       "      <td>2010-09-01 00:00:00</td>\n",
       "      <td>Closed</td>\n",
       "      <td>NaN</td>\n",
       "      <td>When excavators dug al-Bahnasa, some 200 km so...</td>\n",
       "      <td>851035</td>\n",
       "      <td>http://gtr.rcuk.ac.uk:80/gtr/api/projects/005B...</td>\n",
       "      <td>...</td>\n",
       "      <td>NaN</td>\n",
       "      <td>NaN</td>\n",
       "      <td>NaN</td>\n",
       "      <td>NaN</td>\n",
       "      <td>University College London</td>\n",
       "      <td>England</td>\n",
       "      <td>Greater London</td>\n",
       "      <td>-0.132718</td>\n",
       "      <td>51.524469</td>\n",
       "      <td>United Kingdom</td>\n",
       "    </tr>\n",
       "  </tbody>\n",
       "</table>\n",
       "<p>5 rows × 24 columns</p>\n",
       "</div>"
      ],
      "text/plain": [
       "   unnamed:_0  gh_user_id gdb_dataset_id source_id           start_date  \\\n",
       "0           0         NaN            gtr       GDB  2012-10-01 00:00:00   \n",
       "1           1         NaN            gtr       GDB  2002-02-01 00:00:00   \n",
       "2           2         NaN            gtr       GDB  1998-10-01 00:00:00   \n",
       "3           3         NaN            gtr       GDB  2012-06-30 00:00:00   \n",
       "4           4         NaN            gtr       GDB  2010-09-01 00:00:00   \n",
       "\n",
       "   status gh_user_creation_date  \\\n",
       "0  Closed                   NaN   \n",
       "1  Closed                   NaN   \n",
       "2  Closed                   NaN   \n",
       "3  Closed                   NaN   \n",
       "4  Closed                   NaN   \n",
       "\n",
       "                                         description      funding  \\\n",
       "0  Over the last fifty years, accelerators of eve...        26776   \n",
       "1  Abstracts are not currently available in GtR f...       187427   \n",
       "2  The question of how the human brain develops o...  3.00761e+06   \n",
       "3  T-cells are white blood cells that enable us t...       465999   \n",
       "4  When excavators dug al-Bahnasa, some 200 km so...       851035   \n",
       "\n",
       "                                              row_id       ...        \\\n",
       "0  http://gtr.rcuk.ac.uk:80/gtr/api/projects/0004...       ...         \n",
       "1  http://gtr.rcuk.ac.uk:80/gtr/api/projects/000C...       ...         \n",
       "2  http://gtr.rcuk.ac.uk:80/gtr/api/projects/002D...       ...         \n",
       "3  http://gtr.rcuk.ac.uk:80/gtr/api/projects/0042...       ...         \n",
       "4  http://gtr.rcuk.ac.uk:80/gtr/api/projects/005B...       ...         \n",
       "\n",
       "  cb_category_list cb_role end_date gh_valid_description  \\\n",
       "0              NaN     NaN      NaN                  NaN   \n",
       "1              NaN     NaN      NaN                  NaN   \n",
       "2              NaN     NaN      NaN                  NaN   \n",
       "3              NaN     NaN      NaN                  NaN   \n",
       "4              NaN     NaN      NaN                  NaN   \n",
       "\n",
       "                        name administrative_area_level_1  \\\n",
       "0  University College London                     England   \n",
       "1  University College London                     England   \n",
       "2  University College London                     England   \n",
       "3  University College London                     England   \n",
       "4  University College London                     England   \n",
       "\n",
       "  administrative_area_level_2       lng        lat         country  \n",
       "0              Greater London -0.132718  51.524469  United Kingdom  \n",
       "1              Greater London -0.132718  51.524469  United Kingdom  \n",
       "2              Greater London -0.132718  51.524469  United Kingdom  \n",
       "3              Greater London -0.132718  51.524469  United Kingdom  \n",
       "4              Greater London -0.132718  51.524469  United Kingdom  \n",
       "\n",
       "[5 rows x 24 columns]"
      ]
     },
     "execution_count": 6,
     "metadata": {},
     "output_type": "execute_result"
    }
   ],
   "source": [
    "data.head()"
   ]
  },
  {
   "cell_type": "code",
   "execution_count": 7,
   "metadata": {},
   "outputs": [
    {
     "data": {
      "text/plain": [
       "GitHub        5871898\n",
       "Crunchbase     662315\n",
       "GDB            358506\n",
       "Name: source_id, dtype: int64"
      ]
     },
     "execution_count": 7,
     "metadata": {},
     "output_type": "execute_result"
    }
   ],
   "source": [
    "#The overwhelming majority of projects come from GitHub\n",
    "data.source_id.value_counts()"
   ]
  },
  {
   "cell_type": "code",
   "execution_count": 8,
   "metadata": {},
   "outputs": [
    {
     "data": {
      "text/plain": [
       "rgov              155239\n",
       "gtr                79427\n",
       "H2020              63125\n",
       "innovateuk         31987\n",
       "world_reporter     15092\n",
       "rwjf                7315\n",
       "ahrq                6321\n",
       "Name: gdb_dataset_id, dtype: int64"
      ]
     },
     "execution_count": 8,
     "metadata": {},
     "output_type": "execute_result"
    }
   ],
   "source": [
    "#And what about the contents of GDB?\n",
    "data.gdb_dataset_id.value_counts()"
   ]
  },
  {
   "cell_type": "markdown",
   "metadata": {},
   "source": [
    "We need to write some documentation for each of these, using the fields in the data audits."
   ]
  },
  {
   "cell_type": "code",
   "execution_count": 9,
   "metadata": {},
   "outputs": [
    {
     "data": {
      "image/png": "[encoded data removed]",
      "text/plain": [
       "<Figure size 432x288 with 1 Axes>"
      ]
     },
     "metadata": {},
     "output_type": "display_data"
    }
   ],
   "source": [
    "#What are the percentage of missing values in all the data\n",
    "missing_all = (data.apply(lambda x: x.isna().sum(),axis=0)/len(data)).sort_values()\n",
    "\n",
    "missing_all.plot.bar(color='blue',title='Missing values fraction per variable')\n",
    "\n",
    "#We also store the order of the missing values. We will use this to sort data later\n",
    "miss_vars_sorted = missing_all.index\n"
   ]
  },
  {
   "cell_type": "markdown",
   "metadata": {},
   "source": [
    "This is not super-informative because many of the variables cover a single dataset"
   ]
  },
  {
   "cell_type": "code",
   "execution_count": 10,
   "metadata": {},
   "outputs": [],
   "source": [
    "#We want to process dates (just extract the years)\n",
    "#The prurpose is to look at trends and identify gaps and issues."
   ]
  },
  {
   "cell_type": "code",
   "execution_count": 11,
   "metadata": {},
   "outputs": [],
   "source": [
    "#First we need to acknowledge that each of the sources in GDB may have a different format.\n",
    "#The conditional in the list comprehension avoids concatenating a missing value if the data we are considering\n",
    "#is not in the GDB and therefore doesn't have a sub-source (ie grant source inside the grabt database)\n",
    "\n",
    "data['source_detailed'] = [str(x)+'_'+str(y) if str(y)!='nan' else str(x) for x,y in zip(data['source_id'],data['gdb_dataset_id'])]"
   ]
  },
  {
   "cell_type": "code",
   "execution_count": 12,
   "metadata": {},
   "outputs": [
    {
     "data": {
      "text/plain": [
       "GitHub                5871898\n",
       "Crunchbase             662315\n",
       "GDB_rgov               155239\n",
       "GDB_gtr                 79427\n",
       "GDB_H2020               63125\n",
       "GDB_innovateuk          31987\n",
       "GDB_world_reporter      15092\n",
       "GDB_rwjf                 7315\n",
       "GDB_ahrq                 6321\n",
       "Name: source_detailed, dtype: int64"
      ]
     },
     "execution_count": 12,
     "metadata": {},
     "output_type": "execute_result"
    }
   ],
   "source": [
    "#This is the same as before\n",
    "data['source_detailed'].value_counts()"
   ]
  },
  {
   "cell_type": "code",
   "execution_count": 13,
   "metadata": {},
   "outputs": [],
   "source": [
    "#This function gives us the fraction of missing values per data source we are considering \n",
    "missing_grouped = data.groupby('source_detailed').apply(lambda x: x.apply(lambda y: y.isna().sum()/len(y),axis=0))"
   ]
  },
  {
   "cell_type": "code",
   "execution_count": 14,
   "metadata": {},
   "outputs": [
    {
     "data": {
      "image/png": "[encoded data removed]",
      "text/plain": [
       "<Figure size 576x720 with 9 Axes>"
      ]
     },
     "metadata": {},
     "output_type": "display_data"
    }
   ],
   "source": [
    "#Plot missing values\n",
    "\n",
    "fig,ax = plt.subplots(ncols=len(missing_grouped),sharey=True,figsize=(8,10))\n",
    "\n",
    "#This loops over each row in the missing grouped DF and plots missing values as a share of the total.\n",
    "#We are using the missing_var_sorted to put the variables with most missing values at the top. Unexpectedly, \n",
    "#Those values which are missing from GitHub dominate\n",
    "\n",
    "for num,x in enumerate(missing_grouped.index):\n",
    "    missing_grouped.loc[x,miss_vars_sorted].plot.barh(ax=ax[num],color='blue')\n",
    "    ax[num].set_title(x,rotation=90,va='bottom')"
   ]
  },
  {
   "cell_type": "markdown",
   "metadata": {},
   "source": [
    "Some observations:\n",
    "\n",
    "* Lots of CB organisations have no funding data. Are these missing values or non-company entities? We should check.\n",
    "* All CBs have employees though! Or do they?\n",
    "* Quite a few CB organisations have no categories (these are their 'topics' or labels)\n",
    "* We have currency info for all entities with funding. It will be easy to convert them all to $\n",
    "* We have start dates for almost every database except the world reporter and some innovate UK records\n",
    "* Missing lat lon for almost all Crunchbase observations. How are we supposed to geocode these?"
   ]
  },
  {
   "cell_type": "markdown",
   "metadata": {},
   "source": [
    "### Parse dates"
   ]
  },
  {
   "cell_type": "code",
   "execution_count": 15,
   "metadata": {},
   "outputs": [
    {
     "name": "stdout",
     "output_type": "stream",
     "text": [
      "GDB_gtr\n",
      "0    2012-10-01 00:00:00\n",
      "1    2002-02-01 00:00:00\n",
      "2    1998-10-01 00:00:00\n",
      "Name: start_date, dtype: object\n",
      "\n",
      "\n",
      "GitHub\n",
      "1020821    2017-08-27 17:03:00 UTC\n",
      "1020822    2017-03-03 20:52:23 UTC\n",
      "1020823    2017-10-01 20:06:53 UTC\n",
      "Name: start_date, dtype: object\n",
      "\n",
      "\n",
      "Crunchbase\n",
      "358506           NaN\n",
      "358507    1968-07-18\n",
      "358508    1968-01-01\n",
      "Name: start_date, dtype: object\n",
      "\n",
      "\n",
      "GDB_rwjf\n",
      "85764    3/25/2009\n",
      "85765     3/8/2010\n",
      "85766    3/18/2011\n",
      "Name: start_date, dtype: object\n",
      "\n",
      "\n",
      "GDB_world_reporter\n",
      "343414    NaN\n",
      "343415    NaN\n",
      "343416    NaN\n",
      "Name: start_date, dtype: object\n",
      "\n",
      "\n",
      "GDB_rgov\n",
      "91360    =\"09/01/2017\"\n",
      "93154    =\"09/01/2011\"\n",
      "93155    =\"08/15/2010\"\n",
      "Name: start_date, dtype: object\n",
      "\n",
      "\n",
      "GDB_innovateuk\n",
      "3561    2017-08-01 00:00:00\n",
      "3562    2017-10-01 00:00:00\n",
      "3563                    NaN\n",
      "Name: start_date, dtype: object\n",
      "\n",
      "\n",
      "GDB_H2020\n",
      "46995    2016-03-01\n",
      "46996    2017-05-01\n",
      "46997    2017-04-01\n",
      "Name: start_date, dtype: object\n",
      "\n",
      "\n",
      "GDB_ahrq\n",
      "90822    09/30/05\n",
      "90823    09/30/13\n",
      "90824    09/30/13\n",
      "Name: start_date, dtype: object\n",
      "\n",
      "\n"
     ]
    }
   ],
   "source": [
    "#What are the date formats?\n",
    "#We loop over each unique source and print the top 3 dates\n",
    "\n",
    "for x in set(data['source_detailed']):\n",
    "    print(x)\n",
    "    print(data.loc[data['source_detailed']==x,'start_date'][:3])\n",
    "    print('\\n')"
   ]
  },
  {
   "cell_type": "code",
   "execution_count": 16,
   "metadata": {},
   "outputs": [],
   "source": [
    "#We want to parse these to extract years. \n",
    "#A simple option is to write a function that takes two elements (the string and the source) and returns the year\n",
    "\n",
    "def parse_string(date,datetime_function,date_format):\n",
    "    '''\n",
    "    This function takes a string and function, checks that the string is a string and if it is, parses it with a function and\n",
    "    format.\n",
    "    If it receives a timestamp style string, it splits on whitespace\n",
    "    \n",
    "    Otherwise it returns a np.nan\n",
    "    \n",
    "    '''\n",
    "    \n",
    "    #Check type\n",
    "    if type(date)!=str:\n",
    "        date_parsed = np.nan\n",
    "        date_year = np.nan\n",
    "    else:\n",
    "        \n",
    "        #Note that we are doing a bit of string cleaning to deal with some weird formats in the GDB gov data\n",
    "        \n",
    "        date = re.sub('=|\\\"','',date)\n",
    "        \n",
    "        #If it's a string it parses it using the function and format we provided\n",
    "        #Note that the split on whitespace allows us to automatically deal with timestamps\n",
    "        date_parsed = datetime_function(date.split(' ')[0],date_format)\n",
    "        date_year = date_parsed.year\n",
    "    \n",
    "    return([date_parsed,date_year])\n",
    "    \n",
    "\n",
    "\n",
    "def parse_date(date,source):\n",
    "    '''\n",
    "    The date is a string with the date, and the source is the data source. The parsing process depends on the source.\n",
    "    #The parsing function does some text processing to deal with timestamps, weird symbols in the data etc.\n",
    "\n",
    "    '''\n",
    "    \n",
    "    if source in ['GDB_ahrq']:\n",
    "        #Annoyingly, GDB AHRQ doesn't include full years but only the last 2 digits. 2014 is 14, 1993 is 93\n",
    "        #We split on / and if the first value in the last element of the list is below 2, we concatenate with 20 otherwise 19\n",
    "        if type(date)==str:\n",
    "            #This gives us the last part of the date (the year)\n",
    "\n",
    "            y = date.split('/')[-1]\n",
    "            \n",
    "            #Add the first two digits\n",
    "            if int(y[0])<2:\n",
    "                y = '20'+y\n",
    "            else:\n",
    "                y = '19'+y\n",
    "                \n",
    "            #Create a new date\n",
    "            date = date[:-2]+y\n",
    "                \n",
    "        \n",
    "        date_parsed,year = parse_string(date,datetime.datetime.strptime,'%m/%d/%Y')\n",
    "    \n",
    "    \n",
    "    if source in ['GDB_rwjf']:\n",
    "        #The year format is y/m/d.\n",
    "        #Parse.\n",
    "        \n",
    "        date_parsed,year = parse_string(date,datetime.datetime.strptime,'%m/%d/%Y')\n",
    "   \n",
    "    if source in ['Crunchbase','GDB_H2020','GDB_gtr','GitHub','GDB_innovateuk','GDB_world_reporter']:\n",
    "        #In these two, the year format is y-m-d or or a timestamop that is split on whitespace by the parser\n",
    "        #Note that the world reporter only has missing values \n",
    "        \n",
    "        date_parsed,year = parse_string(date,datetime.datetime.strptime,'%Y-%m-%d')\n",
    "        \n",
    "    if source in ['GDB_rgov']:\n",
    "        #Here  the formart is m/d/y. The parses removes some weird symbols in the rgov data\n",
    "        \n",
    "        date_parsed,year = parse_string(date,datetime.datetime.strptime,'%m/%d/%Y')\n",
    "\n",
    "\n",
    "    return([date_parsed,year])\n",
    "\n",
    "\n"
   ]
  },
  {
   "cell_type": "code",
   "execution_count": 17,
   "metadata": {},
   "outputs": [
    {
     "name": "stdout",
     "output_type": "stream",
     "text": [
      "CPU times: user 11min 47s, sys: 7.96 s, total: 11min 55s\n",
      "Wall time: 12min 5s\n"
     ]
    }
   ],
   "source": [
    "%%time\n",
    "#Run the function\n",
    "data['start_date_parsed'] = data[['start_date','source_detailed']].apply(lambda x: parse_date(x[0],x[1])[0],axis=1)\n",
    "data['start_year'] = data[['start_date','source_detailed']].apply(lambda x: parse_date(x[0],x[1])[1],axis=1)\n"
   ]
  },
  {
   "cell_type": "code",
   "execution_count": 18,
   "metadata": {},
   "outputs": [],
   "source": [
    "#All dates parsed.\n",
    "year_source = pd.pivot_table(data,index='start_year',columns='source_detailed',values='row_id',aggfunc='count').fillna(0)\n",
    "\n",
    "#So CrunchBase contains organisations started in the middle ages. fun\n"
   ]
  },
  {
   "cell_type": "code",
   "execution_count": 19,
   "metadata": {},
   "outputs": [
    {
     "data": {
      "image/png": "[encoded data removed]",
      "text/plain": [
       "<Figure size 432x720 with 8 Axes>"
      ]
     },
     "metadata": {},
     "output_type": "display_data"
    }
   ],
   "source": [
    "#Given the big differences between GitHub and other sources, we split by source when visualising trends.\n",
    "\n",
    "#Focus on activity since 2000\n",
    "year_source_recent = year_source.loc[year_source.index>1999]\n",
    "\n",
    "#Plot\n",
    "fig,ax = plt.subplots(figsize=(6,10),nrows=len(year_source.columns),sharex=True)\n",
    "\n",
    "#We loop over columns and enumerate to identify the right ax to plot\n",
    "for num,source in enumerate(year_source.columns):\n",
    "    \n",
    "    #Plot\n",
    "    year_source_recent[source].plot(ax=ax[num],color='blue')\n",
    "    \n",
    "    ax[num].set_title(source)\n",
    "\n",
    "fig.suptitle('Number of entities by source and year',size=16,y=1.01)\n",
    "    \n",
    "plt.tight_layout()    \n",
    "\n",
    "\n"
   ]
  },
  {
   "cell_type": "markdown",
   "metadata": {},
   "source": [
    "This gives us a good sense of data coverage:\n",
    "\n",
    "* Crunchbase has the smoothest trend\n",
    "* H2020 starts with the most recent framework programme (last 5 years)\n",
    "* GTR from around 2006 as we know\n",
    "* RWJF since 2007 (is there a reason for this?)\n",
    "* Innovate grows from 2005, which is somewhat odd given that they only started operation in 2007."
   ]
  },
  {
   "cell_type": "code",
   "execution_count": 20,
   "metadata": {},
   "outputs": [
    {
     "data": {
      "text/html": [
       "<div>\n",
       "<style scoped>\n",
       "    .dataframe tbody tr th:only-of-type {\n",
       "        vertical-align: middle;\n",
       "    }\n",
       "\n",
       "    .dataframe tbody tr th {\n",
       "        vertical-align: top;\n",
       "    }\n",
       "\n",
       "    .dataframe thead th {\n",
       "        text-align: right;\n",
       "    }\n",
       "</style>\n",
       "<table border=\"1\" class=\"dataframe\">\n",
       "  <thead>\n",
       "    <tr style=\"text-align: right;\">\n",
       "      <th></th>\n",
       "      <th>unnamed:_0</th>\n",
       "      <th>gh_user_id</th>\n",
       "      <th>gdb_dataset_id</th>\n",
       "      <th>source_id</th>\n",
       "      <th>start_date</th>\n",
       "      <th>status</th>\n",
       "      <th>gh_user_creation_date</th>\n",
       "      <th>description</th>\n",
       "      <th>funding</th>\n",
       "      <th>row_id</th>\n",
       "      <th>...</th>\n",
       "      <th>gh_valid_description</th>\n",
       "      <th>name</th>\n",
       "      <th>administrative_area_level_1</th>\n",
       "      <th>administrative_area_level_2</th>\n",
       "      <th>lng</th>\n",
       "      <th>lat</th>\n",
       "      <th>country</th>\n",
       "      <th>source_detailed</th>\n",
       "      <th>start_date_parsed</th>\n",
       "      <th>start_year</th>\n",
       "    </tr>\n",
       "  </thead>\n",
       "  <tbody>\n",
       "    <tr>\n",
       "      <th>321963</th>\n",
       "      <td>321963</td>\n",
       "      <td>NaN</td>\n",
       "      <td>innovateuk</td>\n",
       "      <td>GDB</td>\n",
       "      <td>1999-04-01 00:00:00</td>\n",
       "      <td>Closed</td>\n",
       "      <td>NaN</td>\n",
       "      <td>Awaiting Public Project Summary</td>\n",
       "      <td>110220.0</td>\n",
       "      <td>210034</td>\n",
       "      <td>...</td>\n",
       "      <td>NaN</td>\n",
       "      <td>GL Industrial Services UK Limited</td>\n",
       "      <td>England</td>\n",
       "      <td>Leicestershire</td>\n",
       "      <td>-1.258469</td>\n",
       "      <td>52.760994</td>\n",
       "      <td>United Kingdom</td>\n",
       "      <td>GDB_innovateuk</td>\n",
       "      <td>1999-04-01 00:00:00</td>\n",
       "      <td>1999.0</td>\n",
       "    </tr>\n",
       "    <tr>\n",
       "      <th>342967</th>\n",
       "      <td>342967</td>\n",
       "      <td>NaN</td>\n",
       "      <td>innovateuk</td>\n",
       "      <td>GDB</td>\n",
       "      <td>1999-06-01 00:00:00</td>\n",
       "      <td>Closed</td>\n",
       "      <td>NaN</td>\n",
       "      <td>Awaiting Public Project Summary</td>\n",
       "      <td>652486</td>\n",
       "      <td>210001</td>\n",
       "      <td>...</td>\n",
       "      <td>NaN</td>\n",
       "      <td>Ghana Forestry Commission</td>\n",
       "      <td>England</td>\n",
       "      <td>Greater London</td>\n",
       "      <td>-0.247325</td>\n",
       "      <td>51.610680</td>\n",
       "      <td>United Kingdom</td>\n",
       "      <td>GDB_innovateuk</td>\n",
       "      <td>1999-06-01 00:00:00</td>\n",
       "      <td>1999.0</td>\n",
       "    </tr>\n",
       "    <tr>\n",
       "      <th>75906</th>\n",
       "      <td>75906</td>\n",
       "      <td>NaN</td>\n",
       "      <td>innovateuk</td>\n",
       "      <td>GDB</td>\n",
       "      <td>2001-04-01 00:00:00</td>\n",
       "      <td>Closed</td>\n",
       "      <td>NaN</td>\n",
       "      <td>Awaiting Public Project Summary</td>\n",
       "      <td>895759.0</td>\n",
       "      <td>210004</td>\n",
       "      <td>...</td>\n",
       "      <td>NaN</td>\n",
       "      <td>Siemens Industrial Turbomachinery Limited</td>\n",
       "      <td>England</td>\n",
       "      <td>Surrey</td>\n",
       "      <td>-0.736373</td>\n",
       "      <td>51.318211</td>\n",
       "      <td>United Kingdom</td>\n",
       "      <td>GDB_innovateuk</td>\n",
       "      <td>2001-04-01 00:00:00</td>\n",
       "      <td>2001.0</td>\n",
       "    </tr>\n",
       "    <tr>\n",
       "      <th>338769</th>\n",
       "      <td>338769</td>\n",
       "      <td>NaN</td>\n",
       "      <td>innovateuk</td>\n",
       "      <td>GDB</td>\n",
       "      <td>2001-10-01 00:00:00</td>\n",
       "      <td>Closed</td>\n",
       "      <td>NaN</td>\n",
       "      <td>Awaiting Public Project Summary</td>\n",
       "      <td>1.4734e+06</td>\n",
       "      <td>140080</td>\n",
       "      <td>...</td>\n",
       "      <td>NaN</td>\n",
       "      <td>card University of Cardiff</td>\n",
       "      <td>Wales</td>\n",
       "      <td>Cardiff</td>\n",
       "      <td>-3.165951</td>\n",
       "      <td>51.483818</td>\n",
       "      <td>United Kingdom</td>\n",
       "      <td>GDB_innovateuk</td>\n",
       "      <td>2001-10-01 00:00:00</td>\n",
       "      <td>2001.0</td>\n",
       "    </tr>\n",
       "    <tr>\n",
       "      <th>23057</th>\n",
       "      <td>23057</td>\n",
       "      <td>NaN</td>\n",
       "      <td>innovateuk</td>\n",
       "      <td>GDB</td>\n",
       "      <td>2001-09-01 00:00:00</td>\n",
       "      <td>Closed</td>\n",
       "      <td>NaN</td>\n",
       "      <td>Awaiting Public Project Summary</td>\n",
       "      <td>1.80372e+06</td>\n",
       "      <td>140077</td>\n",
       "      <td>...</td>\n",
       "      <td>NaN</td>\n",
       "      <td>University of Southampton</td>\n",
       "      <td>England</td>\n",
       "      <td>Southampton</td>\n",
       "      <td>-1.395667</td>\n",
       "      <td>50.934107</td>\n",
       "      <td>United Kingdom</td>\n",
       "      <td>GDB_innovateuk</td>\n",
       "      <td>2001-09-01 00:00:00</td>\n",
       "      <td>2001.0</td>\n",
       "    </tr>\n",
       "  </tbody>\n",
       "</table>\n",
       "<p>5 rows × 27 columns</p>\n",
       "</div>"
      ],
      "text/plain": [
       "        unnamed:_0  gh_user_id gdb_dataset_id source_id           start_date  \\\n",
       "321963      321963         NaN     innovateuk       GDB  1999-04-01 00:00:00   \n",
       "342967      342967         NaN     innovateuk       GDB  1999-06-01 00:00:00   \n",
       "75906        75906         NaN     innovateuk       GDB  2001-04-01 00:00:00   \n",
       "338769      338769         NaN     innovateuk       GDB  2001-10-01 00:00:00   \n",
       "23057        23057         NaN     innovateuk       GDB  2001-09-01 00:00:00   \n",
       "\n",
       "        status gh_user_creation_date                      description  \\\n",
       "321963  Closed                   NaN  Awaiting Public Project Summary   \n",
       "342967  Closed                   NaN  Awaiting Public Project Summary   \n",
       "75906   Closed                   NaN  Awaiting Public Project Summary   \n",
       "338769  Closed                   NaN  Awaiting Public Project Summary   \n",
       "23057   Closed                   NaN  Awaiting Public Project Summary   \n",
       "\n",
       "            funding  row_id    ...     gh_valid_description  \\\n",
       "321963     110220.0  210034    ...                      NaN   \n",
       "342967       652486  210001    ...                      NaN   \n",
       "75906      895759.0  210004    ...                      NaN   \n",
       "338769   1.4734e+06  140080    ...                      NaN   \n",
       "23057   1.80372e+06  140077    ...                      NaN   \n",
       "\n",
       "                                             name administrative_area_level_1  \\\n",
       "321963          GL Industrial Services UK Limited                     England   \n",
       "342967                  Ghana Forestry Commission                     England   \n",
       "75906   Siemens Industrial Turbomachinery Limited                     England   \n",
       "338769                 card University of Cardiff                       Wales   \n",
       "23057                   University of Southampton                     England   \n",
       "\n",
       "       administrative_area_level_2       lng        lat         country  \\\n",
       "321963              Leicestershire -1.258469  52.760994  United Kingdom   \n",
       "342967              Greater London -0.247325  51.610680  United Kingdom   \n",
       "75906                       Surrey -0.736373  51.318211  United Kingdom   \n",
       "338769                     Cardiff -3.165951  51.483818  United Kingdom   \n",
       "23057                  Southampton -1.395667  50.934107  United Kingdom   \n",
       "\n",
       "        source_detailed    start_date_parsed start_year  \n",
       "321963   GDB_innovateuk  1999-04-01 00:00:00     1999.0  \n",
       "342967   GDB_innovateuk  1999-06-01 00:00:00     1999.0  \n",
       "75906    GDB_innovateuk  2001-04-01 00:00:00     2001.0  \n",
       "338769   GDB_innovateuk  2001-10-01 00:00:00     2001.0  \n",
       "23057    GDB_innovateuk  2001-09-01 00:00:00     2001.0  \n",
       "\n",
       "[5 rows x 27 columns]"
      ]
     },
     "execution_count": 20,
     "metadata": {},
     "output_type": "execute_result"
    }
   ],
   "source": [
    "data.loc[data.source_detailed=='GDB_innovateuk'].sort_values('start_year',ascending=True).head()"
   ]
  },
  {
   "cell_type": "markdown",
   "metadata": {},
   "source": [
    "There is a bunch of projects in the innovate UK data going back to 2000, and lacking a summary.\n",
    "\n",
    "We will need to remove these projects for other analyses"
   ]
  },
  {
   "cell_type": "markdown",
   "metadata": {},
   "source": [
    "### Parse currencies [TODO]\n",
    "\n",
    "This will be relatively trivial to do using one of the currency conversion packages.\n",
    "\n",
    "We need to decide to what currency do we convert. We also need to use the date. This will create some problems with the startup funding, where the funding was probably obtained in different periods."
   ]
  },
  {
   "cell_type": "code",
   "execution_count": 21,
   "metadata": {},
   "outputs": [
    {
     "data": {
      "text/plain": [
       "USD    831190\n",
       "GBP    111414\n",
       "EUR     63125\n",
       "Name: currency, dtype: int64"
      ]
     },
     "execution_count": 21,
     "metadata": {},
     "output_type": "execute_result"
    }
   ],
   "source": [
    "data['currency'].value_counts()"
   ]
  },
  {
   "cell_type": "markdown",
   "metadata": {},
   "source": [
    "## 3. Classify projects\n",
    "\n",
    "### a. Identify AI and ML projects in the data\n",
    "\n",
    "Strategies:\n",
    "\n",
    "* Use a model trained on GTR data to predict the probability that a project in another domain is AI/ML/Data related\n",
    "* Use a model trained on CB data to predict the probability that a project in another domain is AI/ML/Data related\n",
    "* Look for the presence of keywords related to AI, ML etc. (enhanced via word embeddings)\n",
    "\n",
    "**Steps**\n",
    "\n",
    "1. Preprocess *all* text data and explore it.\n",
    "2. Train a predictive model on the CB data.\n",
    "3. Load the GTR models we trained elsewhere\n",
    "4. Train a w2vec model on the data and use it to find AI/ML related keywords\n",
    "4. Apply the models to the whole corpus and crossvalidate performance\n",
    "\n"
   ]
  },
  {
   "cell_type": "markdown",
   "metadata": {},
   "source": [
    "#### Preprocess all the data (tokenise etc) first\n",
    "\n",
    "I will use the lda pipeline, a script I wrote before with a collection of tools for cleaning and parsing text data\n",
    "It doesn't include parts of speech tagging or entity recognition"
   ]
  },
  {
   "cell_type": "code",
   "execution_count": 22,
   "metadata": {},
   "outputs": [
    {
     "data": {
      "text/plain": [
       "<Figure size 432x288 with 0 Axes>"
      ]
     },
     "metadata": {},
     "output_type": "display_data"
    }
   ],
   "source": [
    "%run lda_pipeline.py"
   ]
  },
  {
   "cell_type": "code",
   "execution_count": 23,
   "metadata": {},
   "outputs": [],
   "source": [
    "from lda_pipeline import clean_tokenise, CleanTokenize\n",
    "\n",
    "#Modelling exports from sklearn\n",
    "from sklearn.feature_extraction.text import CountVectorizer\n",
    "from sklearn.ensemble import RandomForestClassifier\n",
    "from sklearn.linear_model import LogisticRegression\n",
    "from sklearn.model_selection import GridSearchCV\n"
   ]
  },
  {
   "cell_type": "code",
   "execution_count": 24,
   "metadata": {},
   "outputs": [],
   "source": [
    "#We want to convert only those entries with descriptions\n",
    "#TODO: Clean this up and remove some projects with no descriptions\n",
    "data_desc = data.dropna(axis=0,subset=['description']).reset_index(drop=True)"
   ]
  },
  {
   "cell_type": "code",
   "execution_count": 25,
   "metadata": {},
   "outputs": [
    {
     "data": {
      "text/plain": [
       "<lda_pipeline.CleanTokenize at 0x1ea79b9e8>"
      ]
     },
     "execution_count": 25,
     "metadata": {},
     "output_type": "execute_result"
    }
   ],
   "source": [
    "#We initialise a health_ct instance of the CleanTokenize class using the descriptions as input\n",
    "health_ct = CleanTokenize(data_desc['description'])\n",
    "\n",
    "#This cleans and bigrams\n",
    "health_ct.clean().bigram()"
   ]
  },
  {
   "cell_type": "code",
   "execution_count": 26,
   "metadata": {},
   "outputs": [],
   "source": [
    "#Turn this into a list we cxan feed to other analyses\n",
    "data_tokenised = list(health_ct.tokenised)"
   ]
  },
  {
   "cell_type": "markdown",
   "metadata": {},
   "source": [
    "#### i. Use predictive model we trained on the Gateway to Research\n",
    "\n",
    "Let's see what kinds of projects are picked up by a model trained on the Gateway to Research, a database of UK research projects where some of the projects were labelled with an 'artificial intelligence' topic"
   ]
  },
  {
   "cell_type": "code",
   "execution_count": 27,
   "metadata": {},
   "outputs": [],
   "source": [
    "import random"
   ]
  },
  {
   "cell_type": "code",
   "execution_count": 28,
   "metadata": {},
   "outputs": [],
   "source": [
    "#We use this to load a model we trained on the GTR corpus, and a count vectoriser we used to binarise the data (into features)\n",
    "with open('/Users/jmateosgarcia/links/iuk/clio_search/models/8_5_2018_ai_supervised_models.p','rb') as infile:\n",
    "    ai_gtr_supervised = pickle.load(infile)\n"
   ]
  },
  {
   "cell_type": "code",
   "execution_count": 29,
   "metadata": {},
   "outputs": [],
   "source": [
    "#Create a list with detailed sources. We will loop over this later\n",
    "sources_detailed = list(set(data.source_detailed))"
   ]
  },
  {
   "cell_type": "code",
   "execution_count": 30,
   "metadata": {},
   "outputs": [],
   "source": [
    "#Load the count vectoriser. Turns the data into a document term matrix with term counts, using the vocabulary from GTR.\n",
    "#This will limit the relevance of these data for the wider corpus we are considering\n",
    "count_vec = ai_gtr_supervised[1]\n",
    "\n",
    "#Create the feature dataset.\n",
    "X_pred = count_vec.transform(data_desc['description'])"
   ]
  },
  {
   "cell_type": "code",
   "execution_count": 31,
   "metadata": {},
   "outputs": [],
   "source": [
    "#Model\n",
    "best_gtr_model = ai_gtr_supervised[0][1].best_estimator_\n",
    "\n",
    "#Make predictions\n",
    "Y_pred = best_gtr_model.predict_proba(X_pred)"
   ]
  },
  {
   "cell_type": "code",
   "execution_count": 32,
   "metadata": {},
   "outputs": [
    {
     "data": {
      "text/plain": [
       "<matplotlib.axes._subplots.AxesSubplot at 0x68e6fbb38>"
      ]
     },
     "execution_count": 32,
     "metadata": {},
     "output_type": "execute_result"
    },
    {
     "data": {
      "image/png": "[encoded data removed]",
      "text/plain": [
       "<Figure size 432x288 with 1 Axes>"
      ]
     },
     "metadata": {},
     "output_type": "display_data"
    }
   ],
   "source": [
    "#What happens when we change the threshold for inclusion?\n",
    "#Let's plot.\n",
    "\n",
    "#This is a container with the source distribution of projects we predict as AI with different thresholds we use\n",
    "source_by_threshold = []\n",
    "\n",
    "for threshold in np.arange(0.1,0.6,0.05):\n",
    "    #For each probability threshold we get a distribution of accepted projects over sources.\n",
    "    source_distr = data_desc.loc[Y_pred[:,1]>threshold]['source_detailed'].value_counts()\n",
    "    \n",
    "    #We name each series with the threshold so we can later concatenate into a nicely labelled df\n",
    "    source_distr.name= str(np.round(threshold,2))\n",
    "    \n",
    "    #Append to the container\n",
    "    source_by_threshold.append(source_distr)\n",
    "    \n",
    "#Concatenate the series in the container\n",
    "source_by_threshold_df = pd.concat(source_by_threshold,axis=1).fillna(0)\n",
    "\n",
    "#Plot\n",
    "source_by_threshold_df.T.plot.bar(stacked=True,edgecolor='black',title='Predicted AI projects by threshold')"
   ]
  },
  {
   "cell_type": "markdown",
   "metadata": {},
   "source": [
    "Substantial decline in the number of predicted CrunchBase and GitHub projects when we move above a threshold of 0.1\n",
    "\n",
    "Above 0.3 we are only picking up H2020, GTR and rgov projects"
   ]
  },
  {
   "cell_type": "code",
   "execution_count": 33,
   "metadata": {},
   "outputs": [
    {
     "name": "stdout",
     "output_type": "stream",
     "text": [
      "0.1\n",
      "=====\n",
      "GDB_gtr\n",
      "---\n",
      "New scientific knowledge in areas such as biology and biochemistry is being discovered at an unprecedented rate. In some cases, structured knowledge sources are available, in the form of semantic web markup or databases, but most scientific discoveries are still reported in thetraditional way, as journal articles or conference proceedings. Managing this vast amount of information, whether structured or unstructured, requires mapping between disparate knowledge sources, involving different nomenc\n",
      "\n",
      "\n",
      "IMMPETUS (Institute for Microstructural and Mechanical Process Engineering: The University of Sheffield) was founded in 1997 to undertake truly integrated interdisciplinary research across the disciplines of systems, mechanical and metallurgical engineering, addressing key issues in the metals processing industry. Over the last ten years the unique inter-disciplinary research produced by IMMPETUS has secured national and international acclaim for its systems driven approach to process and proper\n",
      "\n",
      "\n",
      "GitHub\n",
      "---\n",
      "Vowpal Wabbit is a machine learning system which pushes the frontier of machine learning with techniques such as online, hashing, allreduce, reductions, learning2search, active, and interactive learning.\n",
      "\n",
      "\n",
      "Artificial intelligence/machine learning data structures and Swift algorithms for future iOS development. bayes theorem, neural networks, and more AI.\n",
      "\n",
      "\n",
      "Crunchbase\n",
      "---\n",
      "Intelligent Layer creates learning AI algorithms for enterprises.\n",
      "\n",
      "\n",
      "Projected AI is a London based start-up leveraging machine learning and natural language processing to assist in business decisions.\n",
      "\n",
      "\n",
      "GDB_rwjf\n",
      "---\n",
      "The Rapid Learning Project is exploring national strategies to accelerate the pace of learning about best uses of new biomedical technologies, products and treatments. Despite tremendous advances in medical science and technology, too often we don't know which treatments are most effective for improving patient's health. According to project director Lynn Etheredge, \"we are developing treatments and technologies faster than we know how to use them.\" The Rapid Learning Project seeks to create a n\n",
      "\n",
      "\n",
      "This grant supports the Leadership Learning Community, a project of the Tides Center, to convene the Leadership Development Funders and Evaluators Learning Lab. The Learning Lab will bring together 30 to 50 key foundation investors from across the United States for 1.5 days to discuss best practices in leadership-development programming and evaluation. The Learning Lab is currently supported by the Annie E. Casey Foundation and the W.K. Kellogg Foundation. Additional funding has been requested f\n",
      "\n",
      "\n",
      "GDB_world_reporter\n",
      "---\n",
      "The long-term objective of the proposed research is to understand the role of genome topological domains as\n",
      "Project Summary\n",
      "the functional and structural units in genome. It also aims to discover the localization preferences of Xist\n",
      "transcripts on chromosome X. Specifically, the proposed research will:\n",
      " 1. Discover the topological and epigenetic preferences of Xist localization on chromosome X by\n",
      " integrating and analyzing the data of multiple histone modifications (ChIP-Seq), CTCF binding (ChIP\n",
      "\n",
      "\n",
      "DESCRIPTION (provided by applicant): The objective is to engineer, build, and clinically validate DBS-Expert, an expert system for optimizing postoperative programming of deep brain stimulation (DBS) in patients with movement disorders such as Parkinson's disease (PD). The clinical utility of DBS for treatment of PD is well established. However, great outcome disparity exists among recipients due to varied postoperative management, particularly concerning DBS programming optimization. Many progr\n",
      "\n",
      "\n",
      "GDB_rgov\n",
      "---\n",
      "Many important problems require control of multiple actuators, or agents, in parallel, to achieve a common coordinated goal in a stochastic environment. Examples of such problems include scheduling in a building with multiple elevators, managing a team for fire and rescue operations, managing the inventory of a large company, controlling a robotic soccer team, and controlling a robotic team to manage shelving and orders in a warehouse environment. These problems naturally fit into a formulation \n",
      "\n",
      "\n",
      "Bullying has lasting negative psychological and physical effects on victims, bystanders, and bullies alike; online settings can magnify both the scale and impact of these effects, as anonymity can embolden people to make hostile posts about individuals or groups.  This project aims to reduce the prevalence of such posts through the design of active, automated \"bystander interventions\" in online comment threads.  Bystander interventions, in which one or more witnesses to a bullying incident press\n",
      "\n",
      "\n",
      "GDB_innovateuk\n",
      "---\n",
      "The goals of the project are: (i) to develop animal-mounted sensor systems that capture beef cattle feeding behaviour patterns and integrate this information with a feeding systems that accurately estimates feed intake at the individual animal level and (ii) to develop techniques for monitoring, in a commercial environment, the performance efficiency of individual animals. The aim is to integrate both input (feed) and output (growth/yield) measurements at the individual animal level, allowing be\n",
      "\n",
      "\n",
      "The goals of the project are: (i) to develop animal-mounted sensor systems that capture beef cattle feeding behaviour patterns and integrate this information with a feeding systems that accurately estimates feed intake at the individual animal level and (ii) to develop techniques for monitoring, in a commercial environment, the performance efficiency of individual animals. The aim is to integrate both input (feed) and output (growth/yield) measurements at the individual animal level, allowing be\n",
      "\n",
      "\n",
      "GDB_H2020\n",
      "---\n",
      "Postoperative complications for high-risk patients going through open heart surgeries are a major cause of morbidity and mortality and is responsible for a very large proportion of the overall health and socioeconomic burden of illness. In Switzerland for example, it is estimated the costs increase by 57 % post operation for high-risk patients with pre-operative complexities. The total cost of postoperative complications in Europe alone amounts to approximately €6 billion annually. \n",
      "CARDIACCS pr\n",
      "\n",
      "\n",
      "Cloud-LSVA will create Big Data Technologies to address the open problem of a lack of software tools, and hardware platforms, to annotate petabyte scale video datasets. The problem is of particular importance to the automotive industry. CMOS Image Sensors for Vehicles are the primary area of innovation for camera manufactures at present. They are the sensor that offers the most functionality for the price in a cost sensitive industry. By 2020 the typical mid-range car will have 10 cameras, be co\n",
      "\n",
      "\n",
      "GDB_ahrq\n",
      "---\n",
      "  \n",
      "DESCRIPTION (provided by applicant Correctly assessing the health status of American Indians/Alaska Natives (AI/AN) and other minority populations is complicated by the fact that public health data sources often fail to capture accurate race information. Using the most complete roster of Northwest AI/AN available, the Improving Data & Enhancing Access-Northwest (IDEA-NW) Project will complete probabilistic record linkages with external datasets in a three-state region to identify and correct\n",
      "\n",
      "\n",
      "   \n",
      "DESCRIPTION (provided by applicant): Medical error is one of the leading causes of death in the US. The study and reduction of medical errors have become a major concern in healthcare today. It is believed that medical error reporting systems could be a good resource to share and to learn from errors if medical error data are collected in a properly structured format and are useful for the detection of patterns, discovery of underlying factors, and generation of solutions[4]. Effectively ga\n",
      "\n",
      "\n",
      "\n",
      "\n",
      "0.2\n",
      "=====\n",
      "GDB_gtr\n",
      "---\n",
      "Modern computers are more powerful than many ever dared expect. So it is remarkable how much today's computers still can't do. Strangely, some of the hardest tasks for computers are effortless to humans. Problems like vision, natural language comprehension, and walking control will undoubtedly require massive computing power. But the real difficulty is our inability to write down sets of rules that a computer can follow to perform these tasks. The only solution may be to develop computer systems\n",
      "\n",
      "\n",
      "Study of photography as cultural history is relatively new and under-exploited discipline. It is important because the early history of photography coincides with significant global scientific, industrial, artistic, social, political and economic changes that inform understanding of the spread of scientific ideas, the relationship between science and art, the interplay between new technologies, popular culture and commerce, and the creation of personal and national identities. Access to photohis\n",
      "\n",
      "\n",
      "GitHub\n",
      "---\n",
      "Vowpal Wabbit is a machine learning system which pushes the frontier of machine learning with techniques such as online, hashing, allreduce, reductions, learning2search, active, and interactive learning.\n",
      "\n",
      "\n",
      "R, Python and Mathematica Codes in Machine Learning, Deep Learning, Artificial Intelligence and NLP\n",
      "\n",
      "\n",
      "Crunchbase\n",
      "---\n",
      "AI World is the industry’s largest independent event focused on the state of the practice of enterprise AI and machine learning.  \n",
      "\n",
      "\n",
      "xbird GmbH is a medical ai (artificial intelligence) company employing the latest know-how in data science and machine learning.\n",
      "\n",
      "\n",
      "GDB_rwjf\n",
      "---\n",
      "Robert Wood Johnson Foundation funding will support the development and piloting of a home-based, signal-detection solution to support independent older adults aging at home and in their community. The linkAges Connect Signal Detection system will track naturally occurring patterns of electricity use by older adults and interpret the data arising in the home environment as an indication of health status. The David Druker Center for Health Systems Innovation (Innovation Center) would like to test\n",
      "\n",
      "\n",
      "This grant supports the Leadership Learning Community, a project of the Tides Center, to convene the Leadership Development Funders and Evaluators Learning Lab. The Learning Lab will bring together 30 to 50 key foundation investors from across the United States for 1.5 days to discuss best practices in leadership-development programming and evaluation. The Learning Lab is currently supported by the Annie E. Casey Foundation and the W.K. Kellogg Foundation. Additional funding has been requested f\n",
      "\n",
      "\n",
      "GDB_world_reporter\n",
      "---\n",
      "Healthcare for seniors can be challenging, especially for those with chronic illnesses like heart failure. Without suitable home care to support them, their health can quickly get worse, resulting in Emergency Room (ER) visits or hospital admissions. By finding a way for doctors and nurses to watch over these seniors at home, we may be able to catch any problems early and help them to avoid getting sick and going to hospitals. This support may even help seniors feel better by being comfortable a\n",
      "\n",
      "\n",
      "Dundee Science Centre is a unique hub for Science Learning and Public Engagement in our community. Dundee Science Centre's entire first floor will be extended and redeveloped tohouse the Science Learning Institute (SLI) and medical technology exhibition. We will transform the entire upper level of the centre into an exciting immersive space themed on the Life Sciences our speciality at the centre. This new mezzanine extension will house a new exhibition as well as learning and lab spaces where t\n",
      "\n",
      "\n",
      "GDB_rgov\n",
      "---\n",
      "Assistive robots promise to improve the lives of many people with disabilities in the near future.  But whether due to traumatic spinal cord injury, early onset multiple sclerosis, or the common effects of advancing age, the variety of physical and mental disabilities, and the different psychological reaction of each individual to them, make it impossible to program one-size-fits-all behaviors for assistive robots.  To achieve its full potential, the assistive robot must learn to match the type \n",
      "\n",
      "\n",
      "Clemson University and the University of Illinois at Chicago are awarded grants to develop a dynamically scalable collaboration community, G-SESAME Cloud, for biological knowledge discovery. The first aim of this project is to enhance the popular G-SESAME tools (http://bioinformatics.clemson.edu/G-SESAME) in terms of methodology, functionality, accuracy, efficiency, and scalability to address the immediate needs of researchers who utilize G-SESAME tools in their daily biological research. The ul\n",
      "\n",
      "\n",
      "GDB_innovateuk\n",
      "---\n",
      "Servitisation of machine tools is a proposed business model where a manufacturer purchases productive time available on a machine, rather than the capital asset. Servitisation has been implemented successfully in areas such as production lines, tooling supply and most notably Rolls-Royce aero engines who supply engines almost exclusively to their clients based on a servitisation model. This approach will improve productivity, raise technology levels and improve sustainability of manufacturing th\n",
      "\n",
      "\n",
      "This project will enable Aralia systems to develop a Physical Security Information Management (PSIM) threat response system, which will tie security sensors together to form one unified network of sensors. This development will allow security sensor devices to cooperatively process information that can be accessed by connected sensors, and autonomously respond to a possible threat with minimal human intercention. For example, if an access control point is breached, then mobile sensors will be ab\n",
      "\n",
      "\n",
      "GDB_H2020\n",
      "---\n",
      "Cheaper and more powerful sensors, together with big data analytics, offer an unprecedented opportunity to track machine-tool performance and health condition. However, manufacturers only spend 15% of their total maintenance costs on predictive (vs reactive or preventative) maintenance.\n",
      "The project will deploy and test a predictive cognitive maintenance decision-support system able to identify and localize damage, assess damage severity, predict damage evolution, assess remaining asset life, red\n",
      "\n",
      "\n",
      "Tapoi (http://www.tapoi.me/) is an innovative customer intelligence service for web portal owners and mobile application developers. Tapoi leverages online activities of users to provide actionable knowledge on their interests and attitudes, allowing the optimization of offers and contents and the improvement of the user experience. Tapoi semantically analyzes the collected activities understanding precisely the meaning of texts, urls, places and tags and uses such meaning to build rich and deta\n",
      "\n",
      "\n",
      "GDB_ahrq\n",
      "---\n",
      "  \n",
      "DESCRIPTION (provided by applicant): Our goal is to develop a biometric patient identification system employing fingerprint scanners and pattern recognition software to identify patients undergoing radiation therapy or surgical operations to reduce medical errors associated with patient misidentification and failed procedure verification. Our customized system will be developed to interact with the Multi-Access treatment record and verification system (IMPAC inc., Sunnyvale, CA) used by radia\n",
      "\n",
      "\n",
      "   \n",
      "DESCRIPTION (provided by applicant): Simulation-based mastery learning (SBML) decreases serious iatrogenic complications from central venous catheter insertion. Given medical procedures are the second most common cause of the complications that afflict 3% of hospitalized patients, SBML should be applied to procedures done in all medical centers. In academic hospitals, bedside procedures such as thoracentesis (removal of fluid in the chest) are often performed by unsupervised medical trainees\n",
      "\n",
      "\n",
      "\n",
      "\n",
      "0.5\n",
      "=====\n",
      "GDB_gtr\n",
      "---\n",
      "Highly available information networks are an increasingly essential component of the modern society. Targeted attacks are a key threat to the availability of these networks. These attacks exploit weak components in network infrastructure and attack them, triggering side-effects that harm the ultimate victim. Targeted attacks are carried out using highly distributed attacker networks called botnets comprising between thousands and hundreds of thousands of compromised computers. A key feature is t\n",
      "\n",
      "\n",
      "We live in an age of burgeoning information, and increasingly fast information access. The WorldWide Web has allowed us to make many positive changes in our society and environment, for example through social networking and e-publishing, but it also presents problems, by its very nature. There is now so much information being spread so quickly that it is becoming impossible for individuals to be aware of enough of it to enable them to take advantage of it.What is more, because of the information\n",
      "\n",
      "\n",
      "GitHub\n",
      "---\n",
      "A comprehensive list of Deep Learning / Artificial Intelligence and Machine Learning tutorials - rapidly expanding into areas of AI/Deep Learning / Machine Vision / NLP and industry specific areas such as Automotives, Retail, Pharma, Medicine, Healthcare \n",
      "\n",
      "\n",
      "A comprehensive list of Deep Learning / Artificial Intelligence and Machine Learning tutorials - rapidly expanding into areas of AI/Deep Learning / Machine Vision / NLP and industry specific areas such as Automotives, Retail, Pharma, Medicine, Healthcare \n",
      "\n",
      "\n",
      "Crunchbase\n",
      "---\n",
      "GDB_rwjf\n",
      "---\n",
      "GDB_world_reporter\n",
      "---\n",
      "GDB_rgov\n",
      "---\n",
      "Software is an integral part of our everyday lives, and our economy relies heavily on software working correctly. However, bugs in software cause security breaches, and cost our economy billions of dollars annually. While these high costs of bugs are well known, the software industry struggles to remedy the situation because the inherent complexity of the software makes bugs so common that new bugs are typically reported faster than developers can fix them.  The goal of this project is to develo\n",
      "\n",
      "\n",
      "The past decade has witnessed a surge of research activities on knowledge discovery in high-dimensional data, among which convex optimization-based methods are widely used. While convex optimization algorithms enjoy global convergence guarantees, they are not always scalable to high-dimensional massive data. Motivated by the empirical success of nonconvex methods such as matrix factorization, the objective of this project is to develop a new generation of principled nonconvex statistical optimiz\n",
      "\n",
      "\n",
      "GDB_innovateuk\n",
      "---\n",
      "The broadcast media industry is undergoing rapid change. 24x7 news is now commonplace, requiring newsrooms instantly to combine feeds from all around the world with their large scale media archives. Emerging technologies in phonetic audio search can find matches to any words and phrases (including names) in spoken audio, creating the potential for journalists to be alerted about breaking news and to rapidly search their archives for relevant content - without being limited to just catalogue meta\n",
      "\n",
      "\n",
      "The broadcast media industry is undergoing rapid change. 24x7 news is now commonplace, requiring newsrooms instantly to combine feeds from all around the world with their large scale media archives. Emerging technologies in phonetic audio search can find matches to any words and phrases (including names) in spoken audio, creating the potential for journalists to be alerted about breaking news and to rapidly search their archives for relevant content - without being limited to just catalogue meta\n",
      "\n",
      "\n",
      "GDB_H2020\n",
      "---\n",
      "The goal of this proposal is to fundamentally change the way we build and reason about software. We aim to develop new kinds of statistical programming systems that provide probabilistically likely solutions to tasks that are difficult or impossible to solve with traditional approaches.\n",
      "\n",
      "These statistical programming systems will be based on probabilistic models of massive codebases (also known as 'Big Code') built via a combination of advanced programming languages and powerful machine learning\n",
      "\n",
      "\n",
      "The overarching aim of the iRead project is to develop a software infrastructure of personalised, adaptive technologies and a diverse set of applications for supporting learning and teaching of reading skills. The specific goals of the project proposed are to:\n",
      "1.   Develop a scalable, cloud-based software infrastructure of open, interoperable components, including real-time user modelling and domain knowledge components, to support learning of reading skills by children with different abilities \n",
      "\n",
      "\n",
      "GDB_ahrq\n",
      "---\n",
      "Medical errors hurt patients, cost money, and undermine the health care system. The first step to reducing errors is detecting them, for what cannot be detected cannot be managed. A number of approaches have been applied to medical error detection, including mandatory event reporting, voluntary near-miss reporting, chart review, and automated surveillance using information systems. Automated surveillance promises large-scale detection, minimal labor, and, potentially, detection in real time to p\n",
      "\n",
      "\n",
      "   \n",
      "DESCRIPTION (provided by applicant): Simulation-based mastery learning (SBML) decreases serious iatrogenic complications from central venous catheter insertion. Given medical procedures are the second most common cause of the complications that afflict 3% of hospitalized patients, SBML should be applied to procedures done in all medical centers. In academic hospitals, bedside procedures such as thoracentesis (removal of fluid in the chest) are often performed by unsupervised medical trainee\n",
      "\n",
      "\n",
      "\n",
      "\n"
     ]
    }
   ],
   "source": [
    "#Let's eyeball the results for 3 thresholds: 0.1, 0.2 and 0.5\n",
    "\n",
    "for thres in [0.1,0.2,0.5]:\n",
    "    print(thres)\n",
    "    print('=====')\n",
    "    \n",
    "    predicted = data_desc.loc[Y_pred[:,1]>thres]\n",
    "    \n",
    "    #For each source we get \n",
    "    for sou in sources_detailed:\n",
    "        print(sou)\n",
    "        print('---')\n",
    "        \n",
    "        #This returns the descriptions of all projects predicted as AI/ML\n",
    "        descriptions = list(predicted.loc[predicted['source_detailed']==sou,'description'])\n",
    "        \n",
    "        #If the length of the abstracts is below 3 there's not a lot to sample from\n",
    "        if len(descriptions)<3:\n",
    "            random_choice = descriptions\n",
    "            \n",
    "        #If there are more than 3 we get a random set of abstracts\n",
    "        else:\n",
    "            random_choice = random.sample(descriptions,2)\n",
    "        \n",
    "        #We then print them\n",
    "        for x in random_choice:\n",
    "            try:\n",
    "                print(x[:500]) #We only print the first 500 letters\n",
    "            \n",
    "            #Sometimes there is nothing to print\n",
    "            except:\n",
    "                print('nothing')\n",
    "            print('\\n')\n",
    "    \n",
    "    print('\\n')\n",
    "    \n",
    "\n"
   ]
  },
  {
   "cell_type": "markdown",
   "metadata": {},
   "source": [
    "The lower thresholds pick up lots of noisy predictions such as projects that are just about learning. At higher threshold the projects we identify become more relevant but several datasets disappear from the data. It looks like the GTR database will, on its own, be insufficient for our analysis"
   ]
  },
  {
   "cell_type": "markdown",
   "metadata": {},
   "source": [
    "#### ii. Train a predictive model on the CrunchBase data.\n",
    "\n",
    "Now we train a predictive model on CrunchBase. Can it help us predict which projects in the rest of the data are related to AI/ML?\n",
    "\n",
    "We need to identify labels related to AI and ML, preprocess the text to create a document term matrix and train the model\n"
   ]
  },
  {
   "cell_type": "markdown",
   "metadata": {},
   "source": [
    "** Identify labels **"
   ]
  },
  {
   "cell_type": "code",
   "execution_count": 34,
   "metadata": {},
   "outputs": [
    {
     "data": {
      "text/plain": [
       "(662209, 27)"
      ]
     },
     "execution_count": 34,
     "metadata": {},
     "output_type": "execute_result"
    }
   ],
   "source": [
    "#This is the Crunchbase data\n",
    "cb = data_desc.loc[data_desc['source_detailed']=='Crunchbase']\n",
    "\n",
    "cb.shape\n",
    "\n",
    "#It includes 662,209 observations"
   ]
  },
  {
   "cell_type": "code",
   "execution_count": 35,
   "metadata": {},
   "outputs": [
    {
     "data": {
      "text/html": [
       "<div>\n",
       "<style scoped>\n",
       "    .dataframe tbody tr th:only-of-type {\n",
       "        vertical-align: middle;\n",
       "    }\n",
       "\n",
       "    .dataframe tbody tr th {\n",
       "        vertical-align: top;\n",
       "    }\n",
       "\n",
       "    .dataframe thead th {\n",
       "        text-align: right;\n",
       "    }\n",
       "</style>\n",
       "<table border=\"1\" class=\"dataframe\">\n",
       "  <thead>\n",
       "    <tr style=\"text-align: right;\">\n",
       "      <th></th>\n",
       "      <th>unnamed:_0</th>\n",
       "      <th>source_id</th>\n",
       "      <th>start_date</th>\n",
       "      <th>status</th>\n",
       "      <th>description</th>\n",
       "      <th>funding</th>\n",
       "      <th>row_id</th>\n",
       "      <th>currency</th>\n",
       "      <th>cb_category_group_list</th>\n",
       "      <th>cb_number_of_employees</th>\n",
       "      <th>cb_category_list</th>\n",
       "      <th>cb_role</th>\n",
       "      <th>end_date</th>\n",
       "      <th>name</th>\n",
       "      <th>source_detailed</th>\n",
       "    </tr>\n",
       "  </thead>\n",
       "  <tbody>\n",
       "    <tr>\n",
       "      <th>357494</th>\n",
       "      <td>0</td>\n",
       "      <td>Crunchbase</td>\n",
       "      <td>NaN</td>\n",
       "      <td>operating</td>\n",
       "      <td>Bakery</td>\n",
       "      <td>NaN</td>\n",
       "      <td>52fe377c-3dea-a49a-25e1-ba25499d1eb7</td>\n",
       "      <td>USD</td>\n",
       "      <td>Food and Beverage</td>\n",
       "      <td>unknown</td>\n",
       "      <td>Bakery</td>\n",
       "      <td>company</td>\n",
       "      <td>NaN</td>\n",
       "      <td>Vive la tarte</td>\n",
       "      <td>Crunchbase</td>\n",
       "    </tr>\n",
       "    <tr>\n",
       "      <th>357495</th>\n",
       "      <td>1</td>\n",
       "      <td>Crunchbase</td>\n",
       "      <td>1968-07-18</td>\n",
       "      <td>ipo</td>\n",
       "      <td>Intel designs, manufactures, and sells integra...</td>\n",
       "      <td>2.51e+06</td>\n",
       "      <td>1e4f199c-363b-451b-a164-f94571075ee5</td>\n",
       "      <td>USD</td>\n",
       "      <td>Design,Hardware,Manufacturing,Science and Engi...</td>\n",
       "      <td>10000+</td>\n",
       "      <td>Hardware,Manufacturing,Product Design,Semicond...</td>\n",
       "      <td>company</td>\n",
       "      <td>NaN</td>\n",
       "      <td>Intel</td>\n",
       "      <td>Crunchbase</td>\n",
       "    </tr>\n",
       "    <tr>\n",
       "      <th>357496</th>\n",
       "      <td>2</td>\n",
       "      <td>Crunchbase</td>\n",
       "      <td>1968-01-01</td>\n",
       "      <td>operating</td>\n",
       "      <td>Intercomp designs and manufactures weighing an...</td>\n",
       "      <td>549000</td>\n",
       "      <td>6681b1b0-0cea-6a4a-820d-60b15793fa66</td>\n",
       "      <td>USD</td>\n",
       "      <td>Hardware,Software</td>\n",
       "      <td>101-250</td>\n",
       "      <td>Hardware,Software</td>\n",
       "      <td>company</td>\n",
       "      <td>NaN</td>\n",
       "      <td>Intercomp</td>\n",
       "      <td>Crunchbase</td>\n",
       "    </tr>\n",
       "    <tr>\n",
       "      <th>357497</th>\n",
       "      <td>3</td>\n",
       "      <td>Crunchbase</td>\n",
       "      <td>1955-01-01</td>\n",
       "      <td>ipo</td>\n",
       "      <td>Gruppo Editoriale L’Espresso is one of Italy’s...</td>\n",
       "      <td>NaN</td>\n",
       "      <td>e74463f7-94a8-ab7b-ba31-f4cd57a16570</td>\n",
       "      <td>USD</td>\n",
       "      <td>Content and Publishing,Media and Entertainment</td>\n",
       "      <td>1001-5000</td>\n",
       "      <td>News,Publishing</td>\n",
       "      <td>company</td>\n",
       "      <td>NaN</td>\n",
       "      <td>Gruppo Editoriale L'Espresso Spa</td>\n",
       "      <td>Crunchbase</td>\n",
       "    </tr>\n",
       "    <tr>\n",
       "      <th>357498</th>\n",
       "      <td>4</td>\n",
       "      <td>Crunchbase</td>\n",
       "      <td>1975-04-04</td>\n",
       "      <td>ipo</td>\n",
       "      <td>Microsoft is a software corporation that devel...</td>\n",
       "      <td>1e+06</td>\n",
       "      <td>fd80725f-53fc-7009-9878-aeecf1e9ffbb</td>\n",
       "      <td>USD</td>\n",
       "      <td>Consumer Electronics,Hardware,Internet Service...</td>\n",
       "      <td>10000+</td>\n",
       "      <td>Cloud Computing,Collaboration,Consumer Electro...</td>\n",
       "      <td>company</td>\n",
       "      <td>NaN</td>\n",
       "      <td>Microsoft</td>\n",
       "      <td>Crunchbase</td>\n",
       "    </tr>\n",
       "  </tbody>\n",
       "</table>\n",
       "</div>"
      ],
      "text/plain": [
       "        unnamed:_0   source_id  start_date     status  \\\n",
       "357494           0  Crunchbase         NaN  operating   \n",
       "357495           1  Crunchbase  1968-07-18        ipo   \n",
       "357496           2  Crunchbase  1968-01-01  operating   \n",
       "357497           3  Crunchbase  1955-01-01        ipo   \n",
       "357498           4  Crunchbase  1975-04-04        ipo   \n",
       "\n",
       "                                              description   funding  \\\n",
       "357494                                             Bakery       NaN   \n",
       "357495  Intel designs, manufactures, and sells integra...  2.51e+06   \n",
       "357496  Intercomp designs and manufactures weighing an...    549000   \n",
       "357497  Gruppo Editoriale L’Espresso is one of Italy’s...       NaN   \n",
       "357498  Microsoft is a software corporation that devel...     1e+06   \n",
       "\n",
       "                                      row_id currency  \\\n",
       "357494  52fe377c-3dea-a49a-25e1-ba25499d1eb7      USD   \n",
       "357495  1e4f199c-363b-451b-a164-f94571075ee5      USD   \n",
       "357496  6681b1b0-0cea-6a4a-820d-60b15793fa66      USD   \n",
       "357497  e74463f7-94a8-ab7b-ba31-f4cd57a16570      USD   \n",
       "357498  fd80725f-53fc-7009-9878-aeecf1e9ffbb      USD   \n",
       "\n",
       "                                   cb_category_group_list  \\\n",
       "357494                                  Food and Beverage   \n",
       "357495  Design,Hardware,Manufacturing,Science and Engi...   \n",
       "357496                                  Hardware,Software   \n",
       "357497     Content and Publishing,Media and Entertainment   \n",
       "357498  Consumer Electronics,Hardware,Internet Service...   \n",
       "\n",
       "       cb_number_of_employees  \\\n",
       "357494                unknown   \n",
       "357495                 10000+   \n",
       "357496                101-250   \n",
       "357497              1001-5000   \n",
       "357498                 10000+   \n",
       "\n",
       "                                         cb_category_list  cb_role end_date  \\\n",
       "357494                                             Bakery  company      NaN   \n",
       "357495  Hardware,Manufacturing,Product Design,Semicond...  company      NaN   \n",
       "357496                                  Hardware,Software  company      NaN   \n",
       "357497                                    News,Publishing  company      NaN   \n",
       "357498  Cloud Computing,Collaboration,Consumer Electro...  company      NaN   \n",
       "\n",
       "                                    name source_detailed  \n",
       "357494                     Vive la tarte      Crunchbase  \n",
       "357495                             Intel      Crunchbase  \n",
       "357496                         Intercomp      Crunchbase  \n",
       "357497  Gruppo Editoriale L'Espresso Spa      Crunchbase  \n",
       "357498                         Microsoft      Crunchbase  "
      ]
     },
     "execution_count": 35,
     "metadata": {},
     "output_type": "execute_result"
    }
   ],
   "source": [
    "# Identify relevant variables\n",
    "#They are the ones that have less than 100% of missing values\n",
    "cb = cb[missing_grouped.T.index[missing_grouped.T['Crunchbase']<1]]\n",
    "\n",
    "cb.head()"
   ]
  },
  {
   "cell_type": "code",
   "execution_count": 36,
   "metadata": {},
   "outputs": [
    {
     "data": {
      "text/plain": [
       "company     613851\n",
       "investor     33300\n",
       "school       15058\n",
       "Name: cb_role, dtype: int64"
      ]
     },
     "execution_count": 36,
     "metadata": {},
     "output_type": "execute_result"
    }
   ],
   "source": [
    "#What roles are present in the data?\n",
    "cb['cb_role'].value_counts()"
   ]
  },
  {
   "cell_type": "code",
   "execution_count": 37,
   "metadata": {},
   "outputs": [
    {
     "data": {
      "text/plain": [
       "<matplotlib.axes._subplots.AxesSubplot at 0x68f21b470>"
      ]
     },
     "execution_count": 37,
     "metadata": {},
     "output_type": "execute_result"
    },
    {
     "data": {
      "image/png": "[encoded data removed]",
      "text/plain": [
       "<Figure size 432x288 with 1 Axes>"
      ]
     },
     "metadata": {},
     "output_type": "display_data"
    }
   ],
   "source": [
    "#Where are the missing categories?\n",
    "cb.groupby('cb_role').apply(lambda x: np.sum(x.isna())/len(x)).T.plot.bar(title='Missing values by CrunchBase category')"
   ]
  },
  {
   "cell_type": "markdown",
   "metadata": {},
   "source": [
    "We are interested on the sectoral info so perhaps focus on the company category where there are fewer missing values"
   ]
  },
  {
   "cell_type": "code",
   "execution_count": 38,
   "metadata": {},
   "outputs": [],
   "source": [
    "#Subset to focus on companies\n",
    "cb_comps = cb.loc[cb['cb_role']=='company',:]\n",
    "\n",
    "#Turn the sectoral categories into flat lists and analyse the distribution\n",
    "#NB we are avoiding the missing values at the end of the list comprehension\n",
    "cat_list,cat_group_list = [flatten_list([x.split(',') for x in cb_comps[var] if type(x)==str]) for var in ['cb_category_list',\n",
    "                                                                                           'cb_category_group_list']]"
   ]
  },
  {
   "cell_type": "code",
   "execution_count": 39,
   "metadata": {},
   "outputs": [
    {
     "name": "stdout",
     "output_type": "stream",
     "text": [
      "737\n"
     ]
    },
    {
     "data": {
      "text/plain": [
       "<matplotlib.axes._subplots.AxesSubplot at 0x6b830df98>"
      ]
     },
     "execution_count": 39,
     "metadata": {},
     "output_type": "execute_result"
    },
    {
     "data": {
      "image/png": "[encoded data removed]",
      "text/plain": [
       "<Figure size 720x360 with 1 Axes>"
      ]
     },
     "metadata": {},
     "output_type": "display_data"
    }
   ],
   "source": [
    "print(len(set(cat_list)))\n",
    "\n",
    "pd.Series(cat_list).value_counts()[:40].plot.bar(color='blue',figsize=(10,5),title='Top 40 categories')"
   ]
  },
  {
   "cell_type": "markdown",
   "metadata": {},
   "source": [
    "There are 737 CrunchBase categories. We already see an 'Analytics' one that looks interesting"
   ]
  },
  {
   "cell_type": "code",
   "execution_count": 40,
   "metadata": {},
   "outputs": [
    {
     "name": "stdout",
     "output_type": "stream",
     "text": [
      "46\n"
     ]
    },
    {
     "data": {
      "text/plain": [
       "<matplotlib.axes._subplots.AxesSubplot at 0x6b835ce10>"
      ]
     },
     "execution_count": 40,
     "metadata": {},
     "output_type": "execute_result"
    },
    {
     "data": {
      "image/png": "[encoded data removed]",
      "text/plain": [
       "<Figure size 720x360 with 1 Axes>"
      ]
     },
     "metadata": {},
     "output_type": "display_data"
    }
   ],
   "source": [
    "print(len(set(cat_group_list)))\n",
    "\n",
    "pd.Series(cat_group_list).value_counts().plot.bar(color='blue',figsize=(10,5),title='Top category groups')"
   ]
  },
  {
   "cell_type": "markdown",
   "metadata": {},
   "source": [
    "Interestingly there is an Artificial Intelligence category\n",
    "\n"
   ]
  },
  {
   "cell_type": "code",
   "execution_count": 41,
   "metadata": {},
   "outputs": [
    {
     "data": {
      "text/plain": [
       "6413"
      ]
     },
     "execution_count": 41,
     "metadata": {},
     "output_type": "execute_result"
    }
   ],
   "source": [
    "pd.Series(cat_group_list).value_counts()['Artificial Intelligence']"
   ]
  },
  {
   "cell_type": "markdown",
   "metadata": {},
   "source": [
    "The Artificial Intelligence category has 6500 observations. We can probably work with that"
   ]
  },
  {
   "cell_type": "code",
   "execution_count": 42,
   "metadata": {},
   "outputs": [],
   "source": [
    "# Let's do it, to end the day.\n",
    "\n",
    "#We simply subset a series version of the tokenised CB using the indices of the variables here. I checked and everything\n",
    "#seems to line up\n",
    "\n",
    "cb_tokenised = list(pd.Series(data_tokenised).loc[cb_comps.index])\n",
    "\n",
    "#We turn each tokenised element into a string for the count vectorisation.\n",
    "#TODO: Make this less roundabout\n",
    "cb_tokenised_string = [' '.join(x) for x in cb_tokenised]"
   ]
  },
  {
   "cell_type": "code",
   "execution_count": 43,
   "metadata": {},
   "outputs": [],
   "source": [
    "#Initialise the count vectoriser and fit it to the CB data\n",
    "\n",
    "#Initialise and fit\n",
    "count_vec_cb = CountVectorizer(stop_words='english',min_df=5).fit(cb_tokenised_string)\n",
    "\n",
    "#Generate the X\n",
    "X = count_vec_cb.transform(cb_tokenised_string)"
   ]
  },
  {
   "cell_type": "code",
   "execution_count": 44,
   "metadata": {},
   "outputs": [],
   "source": [
    "#Also need to generate the target\n",
    "Y = ['Artificial Intelligence' in categories if type(categories)!=float else 0 for categories in cb_comps['cb_category_group_list']]"
   ]
  },
  {
   "cell_type": "code",
   "execution_count": 45,
   "metadata": {},
   "outputs": [
    {
     "name": "stdout",
     "output_type": "stream",
     "text": [
      "0\n",
      "1\n"
     ]
    }
   ],
   "source": [
    "#Do some grid search with a pair of models\n",
    "\n",
    "#Each element in this list is a classifier and some parameters to use in grid search\n",
    "\n",
    "models_params = [\n",
    "    [RandomForestClassifier(),\n",
    "     {'class_weight':['balanced',None],'min_samples_leaf':[1,5]}],\n",
    "    \n",
    "    [LogisticRegression(),\n",
    "     {'class_weight':['balanced',None],'penalty':['l1','l2'],\n",
    "      'C':[0.1,1,100]}]]\n",
    "                    \n",
    "#Container\n",
    "cb_results = []\n",
    "\n",
    "#For each model, run the analysis.\n",
    "for num,mod in enumerate(models_params):\n",
    "    print(num)\n",
    "    \n",
    "    #Initialise the Grid Search classifier with the combination of parameters\n",
    "    clf = GridSearchCV(mod[0],mod[1])\n",
    "    \n",
    "    #Fit\n",
    "    clf.fit(X,Y)\n",
    "    \n",
    "    #Append results\n",
    "    cb_results.append(clf)"
   ]
  },
  {
   "cell_type": "code",
   "execution_count": 46,
   "metadata": {},
   "outputs": [],
   "source": [
    "cb_mod = cb_results[1]\n",
    "Y_pred = cb_mod.best_estimator_.predict_proba(X)"
   ]
  },
  {
   "cell_type": "code",
   "execution_count": 47,
   "metadata": {},
   "outputs": [
    {
     "data": {
      "text/html": [
       "<div>\n",
       "<style scoped>\n",
       "    .dataframe tbody tr th:only-of-type {\n",
       "        vertical-align: middle;\n",
       "    }\n",
       "\n",
       "    .dataframe tbody tr th {\n",
       "        vertical-align: top;\n",
       "    }\n",
       "\n",
       "    .dataframe thead th {\n",
       "        text-align: right;\n",
       "    }\n",
       "</style>\n",
       "<table border=\"1\" class=\"dataframe\">\n",
       "  <thead>\n",
       "    <tr style=\"text-align: right;\">\n",
       "      <th>col_0</th>\n",
       "      <th>False</th>\n",
       "      <th>True</th>\n",
       "    </tr>\n",
       "    <tr>\n",
       "      <th>row_0</th>\n",
       "      <th></th>\n",
       "      <th></th>\n",
       "    </tr>\n",
       "  </thead>\n",
       "  <tbody>\n",
       "    <tr>\n",
       "      <th>False</th>\n",
       "      <td>606807</td>\n",
       "      <td>631</td>\n",
       "    </tr>\n",
       "    <tr>\n",
       "      <th>True</th>\n",
       "      <td>5620</td>\n",
       "      <td>793</td>\n",
       "    </tr>\n",
       "  </tbody>\n",
       "</table>\n",
       "</div>"
      ],
      "text/plain": [
       "col_0   False  True \n",
       "row_0               \n",
       "False  606807    631\n",
       "True     5620    793"
      ]
     },
     "execution_count": 47,
     "metadata": {},
     "output_type": "execute_result"
    }
   ],
   "source": [
    "pd.crosstab(pd.Series(Y),pd.Series(Y_pred[:,1]>0.5))"
   ]
  },
  {
   "cell_type": "markdown",
   "metadata": {},
   "source": [
    "This doesn't work very well. Low recall (less than 10% and low precision (just over 50%)"
   ]
  },
  {
   "cell_type": "code",
   "execution_count": 48,
   "metadata": {},
   "outputs": [],
   "source": [
    "#Let's test results\n",
    "\n",
    "#False positives\n",
    "ai_fp = pd.Series(Y)==False & pd.Series(Y_pred[:,1]>0.5)\n",
    "\n",
    "#False negatives\n",
    "ai_fn = pd.Series(Y)==True & pd.Series(Y_pred[:,1]<0.5)\n",
    "\n",
    "#True positives\n",
    "ai_tp = pd.Series(Y)==True & pd.Series(Y_pred[:,1]>0.5)\n",
    "\n",
    "cb_comps_2 = cb_comps.reset_index(drop=True)\n"
   ]
  },
  {
   "cell_type": "code",
   "execution_count": 49,
   "metadata": {},
   "outputs": [
    {
     "name": "stdout",
     "output_type": "stream",
     "text": [
      "false positive\n",
      "=====\n",
      "\tTransvise is providing a launching platform for passionate entrepreneurs with strong business concepts.\n",
      "\n",
      "\n",
      "\tBriggs and Morgan is a law firm that specializes in business law and litigation services.\n",
      "\n",
      "\n",
      "\tGigOptix provides semiconductor and optical components that enable high-speed information streaming.\n",
      "\n",
      "\n",
      "\tMitra is a biotechnology company focused on discovering tools to segregate patients for existing and developing anti-cancer treatments.\n",
      "\n",
      "\n",
      "\tPlay Toon Games provides free online games that are based around famous cartoon characters.\n",
      "\n",
      "\n",
      "\tViewPay is a video ads plateform developed for the web and mobile applications.\n",
      "\n",
      "\n",
      "\tThe QMA is involved in the main issues affecting the health care system in Québec and the future of the medical profession.\n",
      "\n",
      "\n",
      "\tOpen Path is a Leeds-based digital agency.\n",
      "\n",
      "\n",
      "\tVivitar is a consumer electronics brand that offers photographic, audio, and optic devices as well as other related accessories.\n",
      "\n",
      "\n",
      "\tQuietGrowth Tech is a provider of product development, Information Technology, tech consulting, fintech consulting and outsourcing services.\n",
      "\n",
      "\n",
      "\n",
      "\n",
      "false negative\n",
      "=====\n",
      "\tPioneering the future of career development, enablement, and research.\n",
      "\n",
      "\n",
      "\tAI BlockChain, an artificial intelligent blockchain, offers forefront security on a distributed system for contract lifecycle management.\n",
      "\n",
      "\n",
      "\tParam.ai is a predictive intelligence recruitment solution.\n",
      "\n",
      "\n",
      "\tAI-based app which connects home buyers and sellers w/o brokers\n",
      "\n",
      "\n",
      "\tRetention Science, the global leader in Retention Marketing, is the best way to target, engage and retain your customers.\n",
      "\n",
      "\n",
      "\tAn answer engine for the enterprise.\n",
      "\n",
      "\n",
      "\tWavii provides an iPhone app enabling users to follow and receive updates on topics such as celebrities, companies, and politicians.\n",
      "\n",
      "\n",
      "\tArtificial Intelligence (AI) & Machine Learning (ML), Platform as a Service (PaaS), AI-assisted Sales Agents, Content Marketing \n",
      "\n",
      "\n",
      "\tMachine Learning Development Tools For Enterprise\n",
      "\n",
      "\n",
      "\tFood ordering and table reservation assistant\n",
      "\n",
      "\n",
      "\n",
      "\n",
      "true positive\n",
      "=====\n",
      "\tThe Club at North Halton is a recreational facility company providing dining and social event management services.\n",
      "\n",
      "\n",
      "\turRadio is an online platform that enables its users to listen and share music and radio talk shows with others.\n",
      "\n",
      "\n",
      "\tThe Rodobens is a real estate company with 24 years of operation, has launched 167 residential projects\n",
      "\n",
      "\n",
      "\tSmall Business Server Appliances\n",
      "\n",
      "\n",
      "\tProviding highly qualified expert witnesses & consultants for over 20 years. Save time and money with ForensisGroup!\n",
      "\n",
      "\n",
      "\tEnterprise Investment Scheme\n",
      "\n",
      "\n",
      "\tR-Cade manufactures next-gen arcade cabinets.\n",
      "\n",
      "\n",
      "\tPacific Coast Automotive Group Inc is an Automotive company.\n",
      "\n",
      "\n",
      "\tWaterTower Research, an independent data collection and analysis service.\n",
      "\n",
      "\n",
      "\tGenerationE Technologies provides IT systems and networks management and consulting services.\n",
      "\n",
      "\n",
      "\n",
      "\n"
     ]
    }
   ],
   "source": [
    "test = [[name,random.sample(list(cb_comps_2.loc[comps,'description']),10)] for name,comps in zip(\n",
    "    ['false positive','false negative','true positive'],[ai_fp,ai_fn,ai_tp])]\n",
    "\n",
    "\n",
    "for x in test:\n",
    "    print(x[0])\n",
    "    print('=====')\n",
    "    \n",
    "    for entry in x[1]:\n",
    "        print('\\t'+entry)\n",
    "        print('\\n')\n",
    "    print('\\n')"
   ]
  },
  {
   "cell_type": "markdown",
   "metadata": {},
   "source": [
    "It looks like CrunchBase will be useless as a labelled dataset. Descriptions are too short and it's unclear how they link with the AI label"
   ]
  },
  {
   "cell_type": "markdown",
   "metadata": {},
   "source": [
    "#### iii. Use a keyword based strategy\n",
    "\n",
    "The third strategy is to look for relevant keywords in the data. The challenge we face is identifying the right set of keywords. This is what we will do through Clio. As a placeholder, we simply identify some keywords through word2vec. Would it make sense to look for them separately by dataset and then create a combined set of relevant keywords?\n"
   ]
  },
  {
   "cell_type": "code",
   "execution_count": 50,
   "metadata": {},
   "outputs": [],
   "source": [
    "w2v = models.Word2Vec(data_tokenised)"
   ]
  },
  {
   "cell_type": "code",
   "execution_count": 51,
   "metadata": {},
   "outputs": [
    {
     "name": "stderr",
     "output_type": "stream",
     "text": [
      "/usr/local/lib/python3.5/site-packages/ipykernel_launcher.py:1: DeprecationWarning: Call to deprecated `most_similar` (Method will be removed in 4.0.0, use self.wv.most_similar() instead).\n",
      "  \"\"\"Entry point for launching an IPython kernel.\n"
     ]
    },
    {
     "data": {
      "text/plain": [
       "[('ml', 0.8211133480072021),\n",
       " ('deep_learning', 0.8078600168228149),\n",
       " ('data_mining', 0.7967010736465454),\n",
       " ('artificial_intelligence', 0.7814732193946838),\n",
       " ('nlp', 0.7494409084320068),\n",
       " ('computer_vision', 0.7269118428230286),\n",
       " ('supervised_learning', 0.7213160991668701),\n",
       " ('recommender_systems', 0.7092524766921997),\n",
       " ('ai', 0.7062586545944214),\n",
       " ('machine-learning', 0.6883009672164917)]"
      ]
     },
     "execution_count": 51,
     "metadata": {},
     "output_type": "execute_result"
    }
   ],
   "source": [
    "w2v.most_similar('machine_learning')"
   ]
  },
  {
   "cell_type": "markdown",
   "metadata": {},
   "source": [
    "This is replaced with a clio powered analysis."
   ]
  },
  {
   "cell_type": "markdown",
   "metadata": {},
   "source": [
    "### b. Generate richer health categories\n",
    "\n",
    "Some of our datasets contain rich descriptions of activities in the health domain which we could use to try to understand the meaning or purpose of health activities in the data. For example:\n",
    "\n",
    "* The Gateway to Research contains information about disease areas and health topics which we could use to generate predictions about the rest of the data.\n",
    "* The RWJF data contains information about programme areas they work in.\n",
    "\n",
    "In this section we will load models that we trained in **`notebook 2`** and use them to generate predictions about the rest of the GDB data.\n"
   ]
  },
  {
   "cell_type": "code",
   "execution_count": 52,
   "metadata": {},
   "outputs": [
    {
     "ename": "SyntaxError",
     "evalue": "invalid syntax (<ipython-input-52-635fa96aca2e>, line 33)",
     "output_type": "error",
     "traceback": [
      "\u001b[0;36m  File \u001b[0;32m\"<ipython-input-52-635fa96aca2e>\"\u001b[0;36m, line \u001b[0;32m33\u001b[0m\n\u001b[0;31m    def report_findings\u001b[0m\n\u001b[0m                       ^\u001b[0m\n\u001b[0;31mSyntaxError\u001b[0m\u001b[0;31m:\u001b[0m invalid syntax\n"
     ]
    }
   ],
   "source": [
    "#We write a function that we will use with the two sets of models we wrote before\n",
    "\n",
    "def transfer_predictions(model_pack,corpus):\n",
    "    '''\n",
    "    This function takes a 'model pack' we have trained elsewhere: count vectoriser, model and variable names.\n",
    "    \n",
    "    It transforms the corpus into a set of features and predicts labels\n",
    "    \n",
    "    '''\n",
    "    \n",
    "    # Create features\n",
    "    \n",
    "    #We load the count vectoriser we trained on the GTR data\n",
    "    count_vec = model_pack[0]\n",
    "\n",
    "    #Estimator\n",
    "    estimator = model_pack[1]\n",
    "\n",
    "    #Var names\n",
    "    class_names = model_pack[2]\n",
    "    \n",
    "    \n",
    "    #Use it to create a feature set based on the merged dataset\n",
    "    X_for_pred = count_vec.transform(corpus)\n",
    "    \n",
    "    #Generate predictions\n",
    "    output = pd.DataFrame(estimator.predict_proba(X_for_pred),columns=class_names)\n",
    "    \n",
    "    #Return\n",
    "    return(output)\n",
    "\n",
    "\n",
    "def report_findings\n",
    "    "
   ]
  },
  {
   "cell_type": "markdown",
   "metadata": {},
   "source": [
    "#### i. With the Gateway to Research models"
   ]
  },
  {
   "cell_type": "code",
   "execution_count": null,
   "metadata": {},
   "outputs": [],
   "source": [
    "#Load model\n",
    "with open(mod_path+'15_5_2018_gtr_disease_models.p'.format(date=today_str),'rb') as infile:\n",
    "    gtr_models = pickle.load(infile)\n",
    "\n",
    "gtr_preds = transfer_predictions(gtr_models,data_desc['description'])\n"
   ]
  },
  {
   "cell_type": "code",
   "execution_count": null,
   "metadata": {},
   "outputs": [],
   "source": [
    "#We have outputed probabilities. We focus on projects with high confidence (>0.7). \n",
    "#We make other values np.nan to facilitate classification through idxmax later.\n",
    "\n",
    "gtr_high_conf = gtr_preds.applymap(lambda x: np.nan if x<0.9 else x)"
   ]
  },
  {
   "cell_type": "markdown",
   "metadata": {},
   "source": [
    "#### ii. With the RWJF models"
   ]
  },
  {
   "cell_type": "code",
   "execution_count": null,
   "metadata": {},
   "outputs": [],
   "source": [
    "#Load model\n",
    "with open(mod_path+'15_5_2018_rwj_topics.p'.format(date=today_str),'rb') as infile:\n",
    "    rwj_models = pickle.load(infile)\n",
    "\n",
    "rwj_preds = transfer_predictions(rwj_models,data_desc['description'])"
   ]
  },
  {
   "cell_type": "code",
   "execution_count": null,
   "metadata": {},
   "outputs": [],
   "source": [
    "#Same as with GTR\n",
    "rwj_high_conf = rwj_preds.applymap(lambda x: np.nan if x<0.9 else x)"
   ]
  },
  {
   "cell_type": "markdown",
   "metadata": {},
   "source": [
    "#### iv. Classify\n",
    "\n",
    "\n",
    "\n"
   ]
  },
  {
   "cell_type": "code",
   "execution_count": null,
   "metadata": {},
   "outputs": [],
   "source": [
    "#Each project is allocated to its top category based on the high confidence scores form GTR and RWJ\n",
    "data_desc['dis_pred'],data_desc['rwj_pred'] = [var.idxmax(axis=1) for var in [gtr_high_conf,rwj_high_conf]]"
   ]
  },
  {
   "cell_type": "code",
   "execution_count": null,
   "metadata": {},
   "outputs": [],
   "source": [
    "#And now we want to check the outputs\n",
    "\n",
    "def check_outputs(df,group_var,check_var,descr_var,condition,sample_n=3,length=500):\n",
    "    '''\n",
    "    \n",
    "    This simple function takes a df and returns a sample of records in the check_var (if they fulfill the condition)\n",
    "    grouped by the source var. This helps us assess the \n",
    "    \n",
    "    '''\n",
    "    #Subsets a df by the condition\n",
    "    relevant = df.loc[df[check_var]==condition,:]\n",
    "    \n",
    "    #Groups the df by the category and obtain the descriotions \n",
    "    descriptions_by_cat = relevant.groupby(group_var)[descr_var].apply(lambda x: list(x))\n",
    "        \n",
    "    for x in descriptions_by_cat.index:\n",
    "    \n",
    "        print(x)\n",
    "        print('===')\n",
    "        \n",
    "        random_selection = random.sample(descriptions_by_cat[x],1)\n",
    "\n",
    "        for des in random_selection:\n",
    "            print(des[:500])\n",
    "            print('\\n')\n",
    "\n",
    "        print('\\n')\n"
   ]
  },
  {
   "cell_type": "code",
   "execution_count": null,
   "metadata": {},
   "outputs": [],
   "source": [
    "#Run bthe check_outputs function for all the categories in relevant variables\n",
    "#for disease in set(data_desc['rwj_pred'].dropna()):\n",
    "#    print(disease.upper())\n",
    "#    check_outputs(data_desc,group_var='source_detailed',check_var='rwj_pred',descr_var='description',condition=disease)b"
   ]
  },
  {
   "cell_type": "markdown",
   "metadata": {},
   "source": [
    "#### **Observations based on some eyeballing of the outputs from classification**\n",
    "\n",
    "The results are hit and miss and depend a lot on the category we are considering and its vocabulary.\n",
    "\n",
    "For example, topics related to Nurses, Cancer, Neurology or Obesity are relatively easy to predict: they have a unique and specific vocabulary / terminology. The situation is different with topics like 'Health Costs' or 'Environmental determinants of health'. In that case, we find that the predictive models applied outside of health pick up anything to do with cost reduction regardless of the domain. The reason for this is that we trained the model on a health database where health is not a highly predictive variable for health costs. \n",
    "\n",
    "One way forward is to focus the model on the analysis of projects that are identified as health with a simple binary classifier, or Clio, and then to classify projects there inside the right categories. We will try to do this below.\n",
    "\n"
   ]
  },
  {
   "cell_type": "markdown",
   "metadata": {},
   "source": [
    "### d. Clio powered analysis\n",
    "\n",
    "In parallel to the analysis above, we have used Clio to query the data and identify relevant projects. I will load the project IDs and query the data\n"
   ]
  },
  {
   "cell_type": "code",
   "execution_count": null,
   "metadata": {},
   "outputs": [],
   "source": [
    "# Load the pickled dicts with the data\n",
    "\n",
    "with open(int_data+'/health_and_ai_ids.pickle','rb') as infile:\n",
    "    health_ai_ids = pickle.load(infile)\n"
   ]
  },
  {
   "cell_type": "code",
   "execution_count": null,
   "metadata": {},
   "outputs": [],
   "source": [
    "#How many of each do we have?\n",
    "\n",
    "print(len(health_ai_ids['AI IDs']))\n",
    "print(len(health_ai_ids['Health IDs']))"
   ]
  },
  {
   "cell_type": "code",
   "execution_count": null,
   "metadata": {},
   "outputs": [],
   "source": [
    "#Extract the data\n",
    "\n",
    "#We create two booleans showing where the AI projects and health projects are \n",
    "data_desc['is_ai'],data_desc['is_health'] = [data_desc['row_id'].apply(lambda x: x in health_ai_ids[id_list]) for \n",
    "                                   id_list in ['AI IDs','Health IDs']]\n",
    "\n",
    "#And a boolean indicating health-ai projects\n",
    "data_desc['ai_health'] = (data_desc['is_ai'] == True) & (data_desc['is_health']==True)\n",
    "\n"
   ]
  },
  {
   "cell_type": "code",
   "execution_count": null,
   "metadata": {},
   "outputs": [],
   "source": [
    "#This is what the health/AI matrix looks like\n",
    "pd.crosstab(data_desc['is_ai'],data_desc['is_health'])\n"
   ]
  },
  {
   "cell_type": "code",
   "execution_count": null,
   "metadata": {},
   "outputs": [],
   "source": [
    "#here is the distribution over datasets\n",
    "\n",
    "data_desc.loc[data['ai_health']==True,'source_detailed'].value_counts().plot.bar(color='blue',\n",
    "                                                                           title='Source for Health AI projects')"
   ]
  },
  {
   "cell_type": "markdown",
   "metadata": {},
   "source": [
    "Nothing from GitHub!"
   ]
  },
  {
   "cell_type": "code",
   "execution_count": null,
   "metadata": {},
   "outputs": [],
   "source": [
    "#Create a dataset focused on AI / Health\n",
    "ai_h = data_desc.loc[data_desc['ai_health']==True]\n",
    "\n",
    "#Print examples from each\n",
    "#We create a list for each source\n",
    "ai_descriptions = ai_h.groupby('source_detailed')['description'].apply(lambda x: list(x))\n",
    "\n",
    "for x in ai_descriptions.index:\n",
    "    \n",
    "    print(x)\n",
    "    print('===')\n",
    "    \n",
    "    random_selection = random.sample(ai_descriptions[x],3)\n",
    "    \n",
    "    for des in random_selection:\n",
    "        print(des)\n",
    "        print('\\n')\n",
    "        \n",
    "    print('\\n')\n",
    "    \n",
    "\n"
   ]
  },
  {
   "cell_type": "markdown",
   "metadata": {},
   "source": [
    "### Combine the above with our predictive analysis of disease areas and topics\n",
    "\n",
    "Some of the questions we are interested in:\n",
    "\n",
    "* Trends in AI for Health\n",
    "* Disease area focus and RWJF topic focus\n",
    "\n"
   ]
  },
  {
   "cell_type": "code",
   "execution_count": null,
   "metadata": {},
   "outputs": [],
   "source": [
    "#Create a df with only the health projects\n",
    "health = data_desc.loc[data_desc.is_health==True,:]\n",
    "\n",
    "#Here we are plotting the share of AI projects in Health between 2000 and 2018\n",
    "\n",
    "health_ai_year = health.groupby('start_year')['ai_health'].mean()[np.arange(2000,2018)]\n",
    "\n",
    "#And plot\n",
    "fig,ax = plt.subplots()\n",
    "\n",
    "(100*health_ai_year.rolling(window=2).mean()).plot.bar(color='blue',ax=ax)\n",
    "\n",
    "ax.set_title('AI-related projects as a % of all health projects',size=16)\n",
    "ax.set_xlabel('% of all health projects',fontsize=16)"
   ]
  },
  {
   "cell_type": "code",
   "execution_count": null,
   "metadata": {},
   "outputs": [],
   "source": [
    "#AI by disease area\n",
    "fig,ax = plt.subplots(nrows=2,figsize=(8,7),sharex=True)\n",
    "\n",
    "#This looks at the number of AI/ML projects per RWJF topic\n",
    "ai_rwj_topic = pd.pivot_table(\n",
    "    health,index='rwj_pred',columns='ai_health',values='row_id',aggfunc='count').fillna(0)\n",
    "ai_rwj_topic.sort_values(True,ascending=True).plot.barh(stacked=True,ax=ax[0],edgecolor='black')\n",
    "\n",
    "ax[0].set_title('AI projects in Health by RWJF topic',size=16)\n",
    "\n",
    "ax[0].axes.tick_params('y',labelsize=12)\n",
    "\n",
    "#This looks at the same thing but by disease area\n",
    "ai_dis_area = pd.pivot_table(\n",
    "    health,index='dis_pred',columns='ai_health',values='row_id',aggfunc='count').fillna(0)\n",
    "ai_dis_area.sort_values(True,ascending=True).plot.barh(stacked=True,ax=ax[1],edgecolor='black')\n",
    "\n",
    "ax[1].set_title('AI projects in Health by Disease Area',size=16)\n",
    "\n",
    "ax[1].axes.tick_params('y',labelsize=12)\n",
    "\n",
    "plt.tight_layout()\n",
    "\n",
    "plt.savefig(fig_path+'/{date}_areas.pdf'.format(date=today_str))\n"
   ]
  },
  {
   "cell_type": "code",
   "execution_count": null,
   "metadata": {},
   "outputs": [],
   "source": [
    "def gimme_examples(df,variable,value,how_many=3,length=500):\n",
    "    '''\n",
    "    Simple function to get some examples of AI projects\n",
    "    \n",
    "    '''\n",
    "    \n",
    "    projs = list(df.loc[(df.is_ai==True) & (df[variable]==value),'description'])\n",
    "    \n",
    "    examples = random.sample(projs,how_many)\n",
    "    \n",
    "    for x in examples:\n",
    "        print(x[:length])\n",
    "        print('\\n')\n",
    "    "
   ]
  },
  {
   "cell_type": "code",
   "execution_count": null,
   "metadata": {},
   "outputs": [],
   "source": [
    "# Some examples\n",
    "\n",
    "gimme_examples(health,'dis_pred','Mental Health',length=1000)"
   ]
  },
  {
   "cell_type": "code",
   "execution_count": null,
   "metadata": {},
   "outputs": [],
   "source": [
    "gimme_examples(health,'rwj_pred','Health Care Access',length=1500)"
   ]
  },
  {
   "cell_type": "code",
   "execution_count": null,
   "metadata": {},
   "outputs": [],
   "source": [
    "#Examples\n",
    "\n",
    "ai_h_dis = ai_h.groupby('dis_pred')['description'].apply(lambda x: list(x))\n",
    "\n",
    "for dis in ai_h_dis.index:\n",
    "    \n",
    "    print(dis)\n",
    "    print('===')\n",
    "    selected = random.sample(list(ai_h_dis.loc[dis]),3)\n",
    "    \n",
    "    for sel in selected:\n",
    "        print(sel[:1000])\n",
    "        print('\\n')\n",
    "\n"
   ]
  },
  {
   "cell_type": "code",
   "execution_count": null,
   "metadata": {},
   "outputs": [],
   "source": [
    "30000/(4*21)"
   ]
  },
  {
   "cell_type": "code",
   "execution_count": 54,
   "metadata": {},
   "outputs": [
    {
     "data": {
      "text/plain": [
       "600"
      ]
     },
     "execution_count": 54,
     "metadata": {},
     "output_type": "execute_result"
    }
   ],
   "source": [
    "12*50"
   ]
  },
  {
   "cell_type": "code",
   "execution_count": null,
   "metadata": {},
   "outputs": [],
   "source": []
  }
 ],
 "metadata": {
  "kernelspec": {
   "display_name": "Python 3",
   "language": "python",
   "name": "python3"
  },
  "language_info": {
   "codemirror_mode": {
    "name": "ipython",
    "version": 3
   },
   "file_extension": ".py",
   "mimetype": "text/x-python",
   "name": "python",
   "nbconvert_exporter": "python",
   "pygments_lexer": "ipython3",
   "version": "3.5.2"
  }
 },
 "nbformat": 4,
 "nbformat_minor": 2
}
