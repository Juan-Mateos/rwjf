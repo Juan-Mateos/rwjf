{
 "cells": [
  {
   "cell_type": "markdown",
   "metadata": {},
   "source": [
    "# A look at crowdfunding\n",
    "\n",
    "Kickstarter data here: https://webrobots.io/kickstarter-datasets/\n",
    "\n",
    "Indiegogo data here: https://webrobots.io/indiegogo-dataset/\n",
    "\n",
    "Remember the data checklist:\n",
    "\n",
    "**What**\n",
    "\n",
    "* Number of observations\n",
    "* Definition of entities\n",
    "* Missing data\n",
    "* Activities of relevance for project\n",
    "\n",
    "**Where**\n",
    "\n",
    "* Geographical unit of analysis\n",
    "* Geographical distribution\n",
    "\n",
    "**When**\n",
    "\n",
    "* Time coverage and trends\n",
    "\n",
    "\n"
   ]
  },
  {
   "cell_type": "code",
   "execution_count": 1,
   "metadata": {},
   "outputs": [],
   "source": [
    "import random"
   ]
  },
  {
   "cell_type": "code",
   "execution_count": 2,
   "metadata": {},
   "outputs": [],
   "source": [
    "def flatten_list(lol): \n",
    "    '''\n",
    "    Flatten a list\n",
    "    \n",
    "    '''\n",
    "    return([x for el in lol for x in el])\n",
    "\n",
    "#Get sample\n",
    "\n",
    "def sample_obs(data,field,sample_size,text_length):\n",
    "    '''\n",
    "    Samples observations from a dataset for sense-checking\n",
    "    \n",
    "    '''\n",
    "    \n",
    "    rel = list(data[field])\n",
    "    \n",
    "    out = random.sample(rel,sample_size)\n",
    "    \n",
    "    for s in out:\n",
    "        print('====')\n",
    "        print(s[:text_length])\n",
    "        print('\\n')\n"
   ]
  },
  {
   "cell_type": "code",
   "execution_count": 3,
   "metadata": {},
   "outputs": [],
   "source": [
    "with open('../data/external/crowdfunding/Kickstarter_2018-10-18T03_20_48_880Z.json','r') as infile:\n",
    "    k_json = [json.loads(line) for line in infile]"
   ]
  },
  {
   "cell_type": "code",
   "execution_count": 4,
   "metadata": {},
   "outputs": [],
   "source": [
    "kdata = [obs['data'] for obs in k_json]"
   ]
  },
  {
   "cell_type": "code",
   "execution_count": 5,
   "metadata": {},
   "outputs": [],
   "source": [
    "kdf = pd.DataFrame(kdata)"
   ]
  },
  {
   "cell_type": "code",
   "execution_count": 6,
   "metadata": {},
   "outputs": [
    {
     "data": {
      "text/html": [
       "<div>\n",
       "<style scoped>\n",
       "    .dataframe tbody tr th:only-of-type {\n",
       "        vertical-align: middle;\n",
       "    }\n",
       "\n",
       "    .dataframe tbody tr th {\n",
       "        vertical-align: top;\n",
       "    }\n",
       "\n",
       "    .dataframe thead th {\n",
       "        text-align: right;\n",
       "    }\n",
       "</style>\n",
       "<table border=\"1\" class=\"dataframe\">\n",
       "  <thead>\n",
       "    <tr style=\"text-align: right;\">\n",
       "      <th></th>\n",
       "      <th>backers_count</th>\n",
       "      <th>blurb</th>\n",
       "      <th>category</th>\n",
       "      <th>converted_pledged_amount</th>\n",
       "      <th>country</th>\n",
       "      <th>created_at</th>\n",
       "      <th>creator</th>\n",
       "      <th>currency</th>\n",
       "      <th>currency_symbol</th>\n",
       "      <th>currency_trailing_code</th>\n",
       "      <th>...</th>\n",
       "      <th>slug</th>\n",
       "      <th>source_url</th>\n",
       "      <th>spotlight</th>\n",
       "      <th>staff_pick</th>\n",
       "      <th>state</th>\n",
       "      <th>state_changed_at</th>\n",
       "      <th>static_usd_rate</th>\n",
       "      <th>urls</th>\n",
       "      <th>usd_pledged</th>\n",
       "      <th>usd_type</th>\n",
       "    </tr>\n",
       "  </thead>\n",
       "  <tbody>\n",
       "    <tr>\n",
       "      <th>0</th>\n",
       "      <td>1</td>\n",
       "      <td>Jozii is the premier service for full-time uni...</td>\n",
       "      <td>{'id': 342, 'name': 'Web', 'slug': 'technology...</td>\n",
       "      <td>50</td>\n",
       "      <td>US</td>\n",
       "      <td>1413476386</td>\n",
       "      <td>{'id': 69089661, 'name': 'AJ Smith and Brandon...</td>\n",
       "      <td>USD</td>\n",
       "      <td>$</td>\n",
       "      <td>True</td>\n",
       "      <td>...</td>\n",
       "      <td>jozii-college-jobs-made-easy</td>\n",
       "      <td>https://www.kickstarter.com/discover/categorie...</td>\n",
       "      <td>False</td>\n",
       "      <td>False</td>\n",
       "      <td>failed</td>\n",
       "      <td>1417150742</td>\n",
       "      <td>1.000000</td>\n",
       "      <td>{'web': {'project': 'https://www.kickstarter.c...</td>\n",
       "      <td>50.0</td>\n",
       "      <td>international</td>\n",
       "    </tr>\n",
       "    <tr>\n",
       "      <th>1</th>\n",
       "      <td>63</td>\n",
       "      <td>Dropsy is an adventure game with a focus on ex...</td>\n",
       "      <td>{'id': 35, 'name': 'Video Games', 'slug': 'gam...</td>\n",
       "      <td>1613</td>\n",
       "      <td>US</td>\n",
       "      <td>1317217452</td>\n",
       "      <td>{'id': 918042514, 'name': 'Jay Tholen', 'slug'...</td>\n",
       "      <td>USD</td>\n",
       "      <td>$</td>\n",
       "      <td>True</td>\n",
       "      <td>...</td>\n",
       "      <td>dropsy-a-different-take-on-the-old-school-adve...</td>\n",
       "      <td>https://www.kickstarter.com/discover/categorie...</td>\n",
       "      <td>True</td>\n",
       "      <td>True</td>\n",
       "      <td>successful</td>\n",
       "      <td>1320259153</td>\n",
       "      <td>1.000000</td>\n",
       "      <td>{'web': {'project': 'https://www.kickstarter.c...</td>\n",
       "      <td>1613.47</td>\n",
       "      <td>international</td>\n",
       "    </tr>\n",
       "    <tr>\n",
       "      <th>2</th>\n",
       "      <td>113</td>\n",
       "      <td>We've bought a press and already found a studi...</td>\n",
       "      <td>{'id': 349, 'name': 'Letterpress', 'slug': 'pu...</td>\n",
       "      <td>6633</td>\n",
       "      <td>US</td>\n",
       "      <td>1403324529</td>\n",
       "      <td>{'id': 1551377593, 'name': 'Camila and Daniela...</td>\n",
       "      <td>USD</td>\n",
       "      <td>$</td>\n",
       "      <td>True</td>\n",
       "      <td>...</td>\n",
       "      <td>letra-chueca-crooked-letter-a-printshop-and-bi...</td>\n",
       "      <td>https://www.kickstarter.com/discover/categorie...</td>\n",
       "      <td>True</td>\n",
       "      <td>False</td>\n",
       "      <td>successful</td>\n",
       "      <td>1410502338</td>\n",
       "      <td>1.000000</td>\n",
       "      <td>{'web': {'project': 'https://www.kickstarter.c...</td>\n",
       "      <td>6633.0</td>\n",
       "      <td>international</td>\n",
       "    </tr>\n",
       "    <tr>\n",
       "      <th>3</th>\n",
       "      <td>1</td>\n",
       "      <td>Premium, fashion sneaker brand intertwining hi...</td>\n",
       "      <td>{'id': 266, 'name': 'Footwear', 'slug': 'fashi...</td>\n",
       "      <td>1</td>\n",
       "      <td>GB</td>\n",
       "      <td>1457103832</td>\n",
       "      <td>{'id': 1361409471, 'name': 'Ross Buckley', 'is...</td>\n",
       "      <td>GBP</td>\n",
       "      <td>£</td>\n",
       "      <td>False</td>\n",
       "      <td>...</td>\n",
       "      <td>high-end-premium-handmade-sneakers</td>\n",
       "      <td>https://www.kickstarter.com/discover/categorie...</td>\n",
       "      <td>False</td>\n",
       "      <td>False</td>\n",
       "      <td>failed</td>\n",
       "      <td>1462305856</td>\n",
       "      <td>1.407899</td>\n",
       "      <td>{'web': {'project': 'https://www.kickstarter.c...</td>\n",
       "      <td>1.40789944</td>\n",
       "      <td>international</td>\n",
       "    </tr>\n",
       "    <tr>\n",
       "      <th>4</th>\n",
       "      <td>99</td>\n",
       "      <td>Made in Europe from the finest quality leather...</td>\n",
       "      <td>{'id': 266, 'name': 'Footwear', 'slug': 'fashi...</td>\n",
       "      <td>20654</td>\n",
       "      <td>CA</td>\n",
       "      <td>1423776567</td>\n",
       "      <td>{'id': 456810610, 'name': 'Luigi Sardo', 'slug...</td>\n",
       "      <td>CAD</td>\n",
       "      <td>$</td>\n",
       "      <td>True</td>\n",
       "      <td>...</td>\n",
       "      <td>the-domenico-sneakerboot-by-luigi-sardo</td>\n",
       "      <td>https://www.kickstarter.com/discover/categorie...</td>\n",
       "      <td>True</td>\n",
       "      <td>False</td>\n",
       "      <td>successful</td>\n",
       "      <td>1429678899</td>\n",
       "      <td>0.782122</td>\n",
       "      <td>{'web': {'project': 'https://www.kickstarter.c...</td>\n",
       "      <td>19817.40571572</td>\n",
       "      <td>international</td>\n",
       "    </tr>\n",
       "  </tbody>\n",
       "</table>\n",
       "<p>5 rows × 37 columns</p>\n",
       "</div>"
      ],
      "text/plain": [
       "   backers_count                                              blurb  \\\n",
       "0              1  Jozii is the premier service for full-time uni...   \n",
       "1             63  Dropsy is an adventure game with a focus on ex...   \n",
       "2            113  We've bought a press and already found a studi...   \n",
       "3              1  Premium, fashion sneaker brand intertwining hi...   \n",
       "4             99  Made in Europe from the finest quality leather...   \n",
       "\n",
       "                                            category  \\\n",
       "0  {'id': 342, 'name': 'Web', 'slug': 'technology...   \n",
       "1  {'id': 35, 'name': 'Video Games', 'slug': 'gam...   \n",
       "2  {'id': 349, 'name': 'Letterpress', 'slug': 'pu...   \n",
       "3  {'id': 266, 'name': 'Footwear', 'slug': 'fashi...   \n",
       "4  {'id': 266, 'name': 'Footwear', 'slug': 'fashi...   \n",
       "\n",
       "   converted_pledged_amount country  created_at  \\\n",
       "0                        50      US  1413476386   \n",
       "1                      1613      US  1317217452   \n",
       "2                      6633      US  1403324529   \n",
       "3                         1      GB  1457103832   \n",
       "4                     20654      CA  1423776567   \n",
       "\n",
       "                                             creator currency currency_symbol  \\\n",
       "0  {'id': 69089661, 'name': 'AJ Smith and Brandon...      USD               $   \n",
       "1  {'id': 918042514, 'name': 'Jay Tholen', 'slug'...      USD               $   \n",
       "2  {'id': 1551377593, 'name': 'Camila and Daniela...      USD               $   \n",
       "3  {'id': 1361409471, 'name': 'Ross Buckley', 'is...      GBP               £   \n",
       "4  {'id': 456810610, 'name': 'Luigi Sardo', 'slug...      CAD               $   \n",
       "\n",
       "   currency_trailing_code      ...        \\\n",
       "0                    True      ...         \n",
       "1                    True      ...         \n",
       "2                    True      ...         \n",
       "3                   False      ...         \n",
       "4                    True      ...         \n",
       "\n",
       "                                                slug  \\\n",
       "0                       jozii-college-jobs-made-easy   \n",
       "1  dropsy-a-different-take-on-the-old-school-adve...   \n",
       "2  letra-chueca-crooked-letter-a-printshop-and-bi...   \n",
       "3                 high-end-premium-handmade-sneakers   \n",
       "4            the-domenico-sneakerboot-by-luigi-sardo   \n",
       "\n",
       "                                          source_url  spotlight staff_pick  \\\n",
       "0  https://www.kickstarter.com/discover/categorie...      False      False   \n",
       "1  https://www.kickstarter.com/discover/categorie...       True       True   \n",
       "2  https://www.kickstarter.com/discover/categorie...       True      False   \n",
       "3  https://www.kickstarter.com/discover/categorie...      False      False   \n",
       "4  https://www.kickstarter.com/discover/categorie...       True      False   \n",
       "\n",
       "        state  state_changed_at  static_usd_rate  \\\n",
       "0      failed        1417150742         1.000000   \n",
       "1  successful        1320259153         1.000000   \n",
       "2  successful        1410502338         1.000000   \n",
       "3      failed        1462305856         1.407899   \n",
       "4  successful        1429678899         0.782122   \n",
       "\n",
       "                                                urls     usd_pledged  \\\n",
       "0  {'web': {'project': 'https://www.kickstarter.c...            50.0   \n",
       "1  {'web': {'project': 'https://www.kickstarter.c...         1613.47   \n",
       "2  {'web': {'project': 'https://www.kickstarter.c...          6633.0   \n",
       "3  {'web': {'project': 'https://www.kickstarter.c...      1.40789944   \n",
       "4  {'web': {'project': 'https://www.kickstarter.c...  19817.40571572   \n",
       "\n",
       "        usd_type  \n",
       "0  international  \n",
       "1  international  \n",
       "2  international  \n",
       "3  international  \n",
       "4  international  \n",
       "\n",
       "[5 rows x 37 columns]"
      ]
     },
     "execution_count": 6,
     "metadata": {},
     "output_type": "execute_result"
    }
   ],
   "source": [
    "kdf.head()"
   ]
  },
  {
   "cell_type": "code",
   "execution_count": 7,
   "metadata": {},
   "outputs": [
    {
     "data": {
      "text/plain": [
       "(205696, 37)"
      ]
     },
     "execution_count": 7,
     "metadata": {},
     "output_type": "execute_result"
    }
   ],
   "source": [
    "kdf.shape"
   ]
  },
  {
   "cell_type": "markdown",
   "metadata": {},
   "source": [
    "There are around 205,000 projects"
   ]
  },
  {
   "cell_type": "markdown",
   "metadata": {},
   "source": [
    "#### What is an entity here?"
   ]
  },
  {
   "cell_type": "code",
   "execution_count": 8,
   "metadata": {},
   "outputs": [
    {
     "data": {
      "text/plain": [
       "backers_count                                                               1\n",
       "blurb                       Jozii is the premier service for full-time uni...\n",
       "category                    {'id': 342, 'name': 'Web', 'slug': 'technology...\n",
       "converted_pledged_amount                                                   50\n",
       "country                                                                    US\n",
       "created_at                                                         1413476386\n",
       "creator                     {'id': 69089661, 'name': 'AJ Smith and Brandon...\n",
       "currency                                                                  USD\n",
       "currency_symbol                                                             $\n",
       "currency_trailing_code                                                   True\n",
       "current_currency                                                          USD\n",
       "deadline                                                           1417150740\n",
       "disable_communication                                                   False\n",
       "friends                                                                   NaN\n",
       "fx_rate                                                                     1\n",
       "goal                                                                     3500\n",
       "id                                                                  895922629\n",
       "is_backing                                                                NaN\n",
       "is_starrable                                                            False\n",
       "is_starred                                                                NaN\n",
       "launched_at                                                        1414525374\n",
       "location                    {'id': 12589342, 'name': 'Manhattan', 'slug': ...\n",
       "name                                             Jozii-College Jobs Made Easy\n",
       "permissions                                                               NaN\n",
       "photo                       {'key': 'assets/011/911/160/2ff8292ff8ad7486f3...\n",
       "pledged                                                                    50\n",
       "profile                     {'id': 1445394, 'project_id': 1445394, 'state'...\n",
       "slug                                             jozii-college-jobs-made-easy\n",
       "source_url                  https://www.kickstarter.com/discover/categorie...\n",
       "spotlight                                                               False\n",
       "staff_pick                                                              False\n",
       "state                                                                  failed\n",
       "state_changed_at                                                   1417150742\n",
       "static_usd_rate                                                             1\n",
       "urls                        {'web': {'project': 'https://www.kickstarter.c...\n",
       "usd_pledged                                                              50.0\n",
       "usd_type                                                        international\n",
       "Name: 0, dtype: object"
      ]
     },
     "execution_count": 8,
     "metadata": {},
     "output_type": "execute_result"
    }
   ],
   "source": [
    "kdf.loc[0]"
   ]
  },
  {
   "cell_type": "markdown",
   "metadata": {},
   "source": [
    "An entity is a project. "
   ]
  },
  {
   "cell_type": "code",
   "execution_count": 9,
   "metadata": {},
   "outputs": [
    {
     "data": {
      "text/plain": [
       "successful    114158\n",
       "failed         74951\n",
       "canceled        8532\n",
       "live            7438\n",
       "suspended        617\n",
       "Name: state, dtype: int64"
      ]
     },
     "execution_count": 9,
     "metadata": {},
     "output_type": "execute_result"
    }
   ],
   "source": [
    "kdf['state'].value_counts()"
   ]
  },
  {
   "cell_type": "markdown",
   "metadata": {},
   "source": [
    "This seems to include all projects in Kickstarter ever"
   ]
  },
  {
   "cell_type": "code",
   "execution_count": 10,
   "metadata": {},
   "outputs": [
    {
     "data": {
      "text/plain": [
       "Index(['backers_count', 'blurb', 'category', 'converted_pledged_amount',\n",
       "       'country', 'created_at', 'creator', 'currency', 'currency_symbol',\n",
       "       'currency_trailing_code', 'current_currency', 'deadline',\n",
       "       'disable_communication', 'friends', 'fx_rate', 'goal', 'id',\n",
       "       'is_backing', 'is_starrable', 'is_starred', 'launched_at', 'location',\n",
       "       'name', 'permissions', 'photo', 'pledged', 'profile', 'slug',\n",
       "       'source_url', 'spotlight', 'staff_pick', 'state', 'state_changed_at',\n",
       "       'static_usd_rate', 'urls', 'usd_pledged', 'usd_type'],\n",
       "      dtype='object')"
      ]
     },
     "execution_count": 10,
     "metadata": {},
     "output_type": "execute_result"
    }
   ],
   "source": [
    "kdf.columns"
   ]
  },
  {
   "cell_type": "markdown",
   "metadata": {},
   "source": [
    "Some variables we will work with shortly:\n",
    "\n",
    "* Category / blurb (to find activities related to health)\n",
    "* Country / location (to analyse geography)\n",
    "* launched at / created at // deadline / status (to measure trends and geography)"
   ]
  },
  {
   "cell_type": "markdown",
   "metadata": {},
   "source": [
    "### Missing values"
   ]
  },
  {
   "cell_type": "code",
   "execution_count": 11,
   "metadata": {},
   "outputs": [
    {
     "data": {
      "text/plain": [
       "<matplotlib.axes._subplots.AxesSubplot at 0x1d90f6208>"
      ]
     },
     "execution_count": 11,
     "metadata": {},
     "output_type": "execute_result"
    },
    {
     "data": {
      "image/png": "[encoded data removed]",
      "text/plain": [
       "<Figure size 432x288 with 1 Axes>"
      ]
     },
     "metadata": {},
     "output_type": "display_data"
    }
   ],
   "source": [
    "kdf.apply(lambda x: x.isna().mean(),axis=0).plot.bar(color='navy')"
   ]
  },
  {
   "cell_type": "markdown",
   "metadata": {},
   "source": [
    "Few missing data"
   ]
  },
  {
   "cell_type": "markdown",
   "metadata": {},
   "source": [
    "### Activities of relevance to the project.\n",
    "\n",
    "In this case it would be projects that are about health or mention health"
   ]
  },
  {
   "cell_type": "markdown",
   "metadata": {},
   "source": [
    "#### Check categories "
   ]
  },
  {
   "cell_type": "code",
   "execution_count": 12,
   "metadata": {},
   "outputs": [
    {
     "data": {
      "text/plain": [
       "{'id': 342,\n",
       " 'name': 'Web',\n",
       " 'slug': 'technology/web',\n",
       " 'position': 15,\n",
       " 'parent_id': 16,\n",
       " 'color': 6526716,\n",
       " 'urls': {'web': {'discover': 'http://www.kickstarter.com/discover/categories/technology/web'}}}"
      ]
     },
     "execution_count": 12,
     "metadata": {},
     "output_type": "execute_result"
    }
   ],
   "source": [
    "kdf['category'][0]"
   ]
  },
  {
   "cell_type": "markdown",
   "metadata": {},
   "source": [
    "We need to extract the categories from this field"
   ]
  },
  {
   "cell_type": "code",
   "execution_count": 13,
   "metadata": {},
   "outputs": [],
   "source": [
    "kdf['category_value']=[x['name'] for x in kdf['category']]"
   ]
  },
  {
   "cell_type": "code",
   "execution_count": 14,
   "metadata": {},
   "outputs": [
    {
     "data": {
      "text/plain": [
       "159"
      ]
     },
     "execution_count": 14,
     "metadata": {},
     "output_type": "execute_result"
    }
   ],
   "source": [
    "kdf_cats = kdf.category_value.value_counts()\n",
    "\n",
    "len(kdf_cats)"
   ]
  },
  {
   "cell_type": "markdown",
   "metadata": {},
   "source": [
    "159 categories"
   ]
  },
  {
   "cell_type": "code",
   "execution_count": 15,
   "metadata": {},
   "outputs": [
    {
     "data": {
      "text/plain": [
       "(array([ 4.,  8.,  7., 21.,  6.,  6.,  5.,  5.,  4.,  9.,  3.,  4.,  6.,\n",
       "         5.,  2.,  2.,  1.,  6.,  2.,  2.,  2.,  0.,  2.,  2.,  3.,  0.,\n",
       "         1.,  2.,  9.,  6., 10.,  4.,  0.,  3.,  0.,  3.,  0.,  1.,  0.,\n",
       "         0.,  0.,  0.,  1.,  0.,  0.,  0.,  0.,  0.,  1.,  1.]),\n",
       " array([  18.  ,  103.98,  189.96,  275.94,  361.92,  447.9 ,  533.88,\n",
       "         619.86,  705.84,  791.82,  877.8 ,  963.78, 1049.76, 1135.74,\n",
       "        1221.72, 1307.7 , 1393.68, 1479.66, 1565.64, 1651.62, 1737.6 ,\n",
       "        1823.58, 1909.56, 1995.54, 2081.52, 2167.5 , 2253.48, 2339.46,\n",
       "        2425.44, 2511.42, 2597.4 , 2683.38, 2769.36, 2855.34, 2941.32,\n",
       "        3027.3 , 3113.28, 3199.26, 3285.24, 3371.22, 3457.2 , 3543.18,\n",
       "        3629.16, 3715.14, 3801.12, 3887.1 , 3973.08, 4059.06, 4145.04,\n",
       "        4231.02, 4317.  ]),\n",
       " <a list of 50 Patch objects>)"
      ]
     },
     "execution_count": 15,
     "metadata": {},
     "output_type": "execute_result"
    },
    {
     "data": {
      "image/png": "[encoded data removed]",
      "text/plain": [
       "<Figure size 432x288 with 1 Axes>"
      ]
     },
     "metadata": {},
     "output_type": "display_data"
    }
   ],
   "source": [
    "plt.hist(kdf_cats,bins=50,color='navy')"
   ]
  },
  {
   "cell_type": "code",
   "execution_count": 16,
   "metadata": {},
   "outputs": [
    {
     "data": {
      "text/plain": [
       "Web               4317\n",
       "Product Design    4153\n",
       "Tabletop Games    3636\n",
       "Shorts            3204\n",
       "Documentary       3108\n",
       "Hardware          3067\n",
       "Video Games       3035\n",
       "Fiction           2895\n",
       "Nonfiction        2883\n",
       "Indie Rock        2860\n",
       "Name: category_value, dtype: int64"
      ]
     },
     "execution_count": 16,
     "metadata": {},
     "output_type": "execute_result"
    }
   ],
   "source": [
    "kdf_cats.head(n=10)"
   ]
  },
  {
   "cell_type": "code",
   "execution_count": 17,
   "metadata": {},
   "outputs": [
    {
     "data": {
      "text/plain": [
       "False"
      ]
     },
     "execution_count": 17,
     "metadata": {},
     "output_type": "execute_result"
    }
   ],
   "source": [
    "'health' in list([x.lower() for x in kdf_cats.index])"
   ]
  },
  {
   "cell_type": "markdown",
   "metadata": {},
   "source": [
    "No health category"
   ]
  },
  {
   "cell_type": "markdown",
   "metadata": {},
   "source": [
    "#### Check blurbs"
   ]
  },
  {
   "cell_type": "code",
   "execution_count": 18,
   "metadata": {},
   "outputs": [],
   "source": [
    "keywords = ['health','well-being','wellbeing']"
   ]
  },
  {
   "cell_type": "code",
   "execution_count": 19,
   "metadata": {},
   "outputs": [],
   "source": [
    "#Nww boolean field for projects mentioning healthy stuff\n",
    "kdf['healthy']= [any(x in text.lower() for x in keywords) for text in kdf.blurb]"
   ]
  },
  {
   "cell_type": "code",
   "execution_count": 20,
   "metadata": {},
   "outputs": [
    {
     "data": {
      "text/plain": [
       "1955"
      ]
     },
     "execution_count": 20,
     "metadata": {},
     "output_type": "execute_result"
    }
   ],
   "source": [
    "kdf['healthy'].sum()"
   ]
  },
  {
   "cell_type": "markdown",
   "metadata": {},
   "source": [
    "1955 have the keyword"
   ]
  },
  {
   "cell_type": "code",
   "execution_count": 21,
   "metadata": {},
   "outputs": [
    {
     "data": {
      "text/html": [
       "<div>\n",
       "<style scoped>\n",
       "    .dataframe tbody tr th:only-of-type {\n",
       "        vertical-align: middle;\n",
       "    }\n",
       "\n",
       "    .dataframe tbody tr th {\n",
       "        vertical-align: top;\n",
       "    }\n",
       "\n",
       "    .dataframe thead th {\n",
       "        text-align: right;\n",
       "    }\n",
       "</style>\n",
       "<table border=\"1\" class=\"dataframe\">\n",
       "  <thead>\n",
       "    <tr style=\"text-align: right;\">\n",
       "      <th>healthy</th>\n",
       "      <th>False</th>\n",
       "      <th>True</th>\n",
       "    </tr>\n",
       "    <tr>\n",
       "      <th>category_value</th>\n",
       "      <th></th>\n",
       "      <th></th>\n",
       "    </tr>\n",
       "  </thead>\n",
       "  <tbody>\n",
       "    <tr>\n",
       "      <th>Restaurants</th>\n",
       "      <td>2302</td>\n",
       "      <td>143</td>\n",
       "    </tr>\n",
       "    <tr>\n",
       "      <th>Vegan</th>\n",
       "      <td>615</td>\n",
       "      <td>130</td>\n",
       "    </tr>\n",
       "    <tr>\n",
       "      <th>Food</th>\n",
       "      <td>2047</td>\n",
       "      <td>111</td>\n",
       "    </tr>\n",
       "    <tr>\n",
       "      <th>Drinks</th>\n",
       "      <td>2349</td>\n",
       "      <td>103</td>\n",
       "    </tr>\n",
       "    <tr>\n",
       "      <th>Small Batch</th>\n",
       "      <td>1945</td>\n",
       "      <td>100</td>\n",
       "    </tr>\n",
       "    <tr>\n",
       "      <th>Food Trucks</th>\n",
       "      <td>1858</td>\n",
       "      <td>97</td>\n",
       "    </tr>\n",
       "    <tr>\n",
       "      <th>Farms</th>\n",
       "      <td>1185</td>\n",
       "      <td>82</td>\n",
       "    </tr>\n",
       "    <tr>\n",
       "      <th>Web</th>\n",
       "      <td>4235</td>\n",
       "      <td>82</td>\n",
       "    </tr>\n",
       "    <tr>\n",
       "      <th>Cookbooks</th>\n",
       "      <td>560</td>\n",
       "      <td>60</td>\n",
       "    </tr>\n",
       "    <tr>\n",
       "      <th>Wearables</th>\n",
       "      <td>1406</td>\n",
       "      <td>45</td>\n",
       "    </tr>\n",
       "  </tbody>\n",
       "</table>\n",
       "</div>"
      ],
      "text/plain": [
       "healthy         False  True \n",
       "category_value              \n",
       "Restaurants      2302    143\n",
       "Vegan             615    130\n",
       "Food             2047    111\n",
       "Drinks           2349    103\n",
       "Small Batch      1945    100\n",
       "Food Trucks      1858     97\n",
       "Farms            1185     82\n",
       "Web              4235     82\n",
       "Cookbooks         560     60\n",
       "Wearables        1406     45"
      ]
     },
     "execution_count": 21,
     "metadata": {},
     "output_type": "execute_result"
    }
   ],
   "source": [
    "health_categories = pd.crosstab(kdf['category_value'],kdf['healthy']).sort_values(True,ascending=False)\n",
    "\n",
    "health_categories[:10]"
   ]
  },
  {
   "cell_type": "markdown",
   "metadata": {},
   "source": [
    "Interesting mix"
   ]
  },
  {
   "cell_type": "code",
   "execution_count": 22,
   "metadata": {},
   "outputs": [
    {
     "name": "stdout",
     "output_type": "stream",
     "text": [
      "Restaurants\n",
      "====\n",
      "====\n",
      "We are creating a healthy online food delivery service that brings people good food without the guilt straight to their door!\n",
      "\n",
      "\n",
      "====\n",
      "Avanzar Smoothies is opening a smoothie/juice bar in Queens, NY serving amazingly fresh frozen treats to promote health and well-being.\n",
      "\n",
      "\n",
      "Vegan\n",
      "====\n",
      "====\n",
      "Fruittyy is a vegan food truck.Our goal is to make healthy delicious food more accessible.We want to bring juices,and acai bowls to you\n",
      "\n",
      "\n",
      "====\n",
      "With a perfect combination of taste, health and convenience, our products provide an abundance of vitamins, minerals and antioxidants.\n",
      "\n",
      "\n",
      "Food\n",
      "====\n",
      "====\n",
      "R.N. Nuts, a sweet snack that's healthier than the status quo!\n",
      "\n",
      "\n",
      "====\n",
      "Planting healthy, useful trees, fruit trees and vegetables and creating clean water supply  for Lakota at Pine Ridge reservation.\n",
      "\n",
      "\n",
      "Drinks\n",
      "====\n",
      "====\n",
      "Village Tea Company is dedicated to providing a platform to promote healthy lifestyles through our brand of premium loose leaf tea.\n",
      "\n",
      "\n",
      "====\n",
      "100% Dill Pickle Brine. 100% Dillicious!!! Smashed Pickle is geared toward healthier cocktail mixer and part of your health routine.\n",
      "\n",
      "\n",
      "Small Batch\n",
      "====\n",
      "====\n",
      "launching an organic, all natural, healthy, nut and seed based granola without the guilt.\n",
      "\n",
      "\n",
      "====\n",
      "Homemaker delivers homemade nut mylks, nut/seed butters & raw juices in the Ottawa area. Helping to make #capcity a healthier home.\n",
      "\n",
      "\n",
      "Food Trucks\n",
      "====\n",
      "====\n",
      "Fresh healthy Pan Asian street food - I want to bring a new fresh style to the street food world \"Eat good, feel good & live good\"\n",
      "\n",
      "\n",
      "====\n",
      "Gota get this beast back on the road! have many leasing oportunities but need cash flow for rego, health certificate and service\n",
      "\n",
      "\n",
      "Farms\n",
      "====\n",
      "====\n",
      "Since 2008, SEEAG has been teaching thousands of kids about the importance of farms and the science behind healthy farm ecosystems.\n",
      "\n",
      "\n",
      "====\n",
      "100% Grass Fed Beef is scientifically proven to be so much better for us. A healthy cow really does equal a healthier you.\n",
      "\n",
      "\n",
      "Web\n",
      "====\n",
      "====\n",
      "SIP is a health and wellness newsletter platform that summarizes the latest relevant scientific publications for subscribers.\n",
      "\n",
      "\n",
      "====\n",
      "Life with Autism and Bipolar is a blog focusing on the science of mental health and the reality of living with mental health concerns.\n",
      "\n",
      "\n",
      "Cookbooks\n",
      "====\n",
      "====\n",
      "A Recipe Book, Menu Planner & Nutrition Handbook All In One - Designed to Help Busy Moms Make Healthy Food Their Kids Will Love!\n",
      "\n",
      "\n",
      "====\n",
      "Enjoy a better quality of life with better health. This book incudes your best food sources for 35 essential vitamins and minerals.\n",
      "\n",
      "\n",
      "Wearables\n",
      "====\n",
      "====\n",
      "Balios is the first training sensor for equestrian sports that tracks the rider’s training session and the horse's well-being.\n",
      "\n",
      "\n",
      "====\n",
      "Anywhere, Anytime Exercise with U band! \n",
      "Personal Exercise coaching health care device! \n",
      "(healthcare wearable)\n",
      "\n",
      "\n",
      "Community Gardens\n",
      "====\n",
      "====\n",
      "We're creating an edible town and sharing the bounty with everyone who needs better access to healthy, real food.\n",
      "\n",
      "\n",
      "====\n",
      "HydroHealthy, growing quality food for the masses. End starvation now!\n",
      "\n",
      "\n",
      "Apps\n",
      "====\n",
      "====\n",
      "HomeHealthScore rates properties on their environmental profile! Big data scoring algorithm allows easy view of top health concerns.\n",
      "\n",
      "\n",
      "====\n",
      "Help fund the growth of Bio Body Coach, a health & fitness app that has every feature you need to organise your healthy lifestyle\n",
      "\n",
      "\n",
      "Nonfiction\n",
      "====\n",
      "====\n",
      "Soulful stories and practical guidance for reclaiming healthy sex, safe love and intimate belonging after trauma.\n",
      "\n",
      "\n",
      "====\n",
      "Discover your physical, mental, emotional, and spiritual wellbeing\n",
      "\n",
      "\n",
      "Software\n",
      "====\n",
      "====\n",
      "New to market solution that enables fitness enthusiasts to effectively and efficiently get to any health and fitness goal imaginable\n",
      "\n",
      "\n",
      "====\n",
      "I am developing a web-based technology allowing users in rural and resource-limited settings to interact with health providers via SMS.\n",
      "\n",
      "\n",
      "Farmer's Markets\n",
      "====\n",
      "====\n",
      "General Jack’s Barkery aims to provide affordable all natural, healthy, wholesome, and homemade dog treats.\n",
      "\n",
      "\n",
      "====\n",
      "We are promoting a healthier life style at a better price. Fresh fruits and vegetables are so pricey in the stores now a day's. :)\n",
      "\n",
      "\n"
     ]
    }
   ],
   "source": [
    "for x in health_categories.index[:15]:\n",
    "    print(x)\n",
    "    print('====')\n",
    "    sample_obs(kdf.loc[(kdf.category_value==x) & (kdf.healthy==True)],'blurb',sample_size=2,text_length=500)\n",
    "    "
   ]
  },
  {
   "cell_type": "code",
   "execution_count": 23,
   "metadata": {},
   "outputs": [
    {
     "data": {
      "text/html": [
       "<div>\n",
       "<style scoped>\n",
       "    .dataframe tbody tr th:only-of-type {\n",
       "        vertical-align: middle;\n",
       "    }\n",
       "\n",
       "    .dataframe tbody tr th {\n",
       "        vertical-align: top;\n",
       "    }\n",
       "\n",
       "    .dataframe thead th {\n",
       "        text-align: right;\n",
       "    }\n",
       "</style>\n",
       "<table border=\"1\" class=\"dataframe\">\n",
       "  <thead>\n",
       "    <tr style=\"text-align: right;\">\n",
       "      <th>healthy</th>\n",
       "      <th>False</th>\n",
       "      <th>True</th>\n",
       "    </tr>\n",
       "    <tr>\n",
       "      <th>state</th>\n",
       "      <th></th>\n",
       "      <th></th>\n",
       "    </tr>\n",
       "  </thead>\n",
       "  <tbody>\n",
       "    <tr>\n",
       "      <th>canceled</th>\n",
       "      <td>8432</td>\n",
       "      <td>100</td>\n",
       "    </tr>\n",
       "    <tr>\n",
       "      <th>failed</th>\n",
       "      <td>73899</td>\n",
       "      <td>1052</td>\n",
       "    </tr>\n",
       "    <tr>\n",
       "      <th>live</th>\n",
       "      <td>7329</td>\n",
       "      <td>109</td>\n",
       "    </tr>\n",
       "    <tr>\n",
       "      <th>successful</th>\n",
       "      <td>113472</td>\n",
       "      <td>686</td>\n",
       "    </tr>\n",
       "    <tr>\n",
       "      <th>suspended</th>\n",
       "      <td>609</td>\n",
       "      <td>8</td>\n",
       "    </tr>\n",
       "  </tbody>\n",
       "</table>\n",
       "</div>"
      ],
      "text/plain": [
       "healthy      False  True \n",
       "state                    \n",
       "canceled      8432    100\n",
       "failed       73899   1052\n",
       "live          7329    109\n",
       "successful  113472    686\n",
       "suspended      609      8"
      ]
     },
     "execution_count": 23,
     "metadata": {},
     "output_type": "execute_result"
    }
   ],
   "source": [
    "pd.crosstab(kdf['state'],kdf['healthy'])"
   ]
  },
  {
   "cell_type": "markdown",
   "metadata": {},
   "source": [
    "109 live health-related projects right now"
   ]
  },
  {
   "cell_type": "markdown",
   "metadata": {},
   "source": [
    "### Where"
   ]
  },
  {
   "cell_type": "code",
   "execution_count": 24,
   "metadata": {},
   "outputs": [
    {
     "data": {
      "text/html": [
       "<div>\n",
       "<style scoped>\n",
       "    .dataframe tbody tr th:only-of-type {\n",
       "        vertical-align: middle;\n",
       "    }\n",
       "\n",
       "    .dataframe tbody tr th {\n",
       "        vertical-align: top;\n",
       "    }\n",
       "\n",
       "    .dataframe thead th {\n",
       "        text-align: right;\n",
       "    }\n",
       "</style>\n",
       "<table border=\"1\" class=\"dataframe\">\n",
       "  <thead>\n",
       "    <tr style=\"text-align: right;\">\n",
       "      <th>healthy</th>\n",
       "      <th>False</th>\n",
       "      <th>True</th>\n",
       "    </tr>\n",
       "    <tr>\n",
       "      <th>country</th>\n",
       "      <th></th>\n",
       "      <th></th>\n",
       "    </tr>\n",
       "  </thead>\n",
       "  <tbody>\n",
       "    <tr>\n",
       "      <th>US</th>\n",
       "      <td>160148</td>\n",
       "      <td>1441</td>\n",
       "    </tr>\n",
       "    <tr>\n",
       "      <th>GB</th>\n",
       "      <td>17585</td>\n",
       "      <td>213</td>\n",
       "    </tr>\n",
       "    <tr>\n",
       "      <th>CA</th>\n",
       "      <td>7594</td>\n",
       "      <td>105</td>\n",
       "    </tr>\n",
       "    <tr>\n",
       "      <th>AU</th>\n",
       "      <td>3941</td>\n",
       "      <td>53</td>\n",
       "    </tr>\n",
       "    <tr>\n",
       "      <th>NL</th>\n",
       "      <td>1503</td>\n",
       "      <td>22</td>\n",
       "    </tr>\n",
       "    <tr>\n",
       "      <th>DE</th>\n",
       "      <td>2109</td>\n",
       "      <td>20</td>\n",
       "    </tr>\n",
       "    <tr>\n",
       "      <th>SE</th>\n",
       "      <td>1002</td>\n",
       "      <td>13</td>\n",
       "    </tr>\n",
       "    <tr>\n",
       "      <th>HK</th>\n",
       "      <td>471</td>\n",
       "      <td>12</td>\n",
       "    </tr>\n",
       "    <tr>\n",
       "      <th>IT</th>\n",
       "      <td>1481</td>\n",
       "      <td>12</td>\n",
       "    </tr>\n",
       "    <tr>\n",
       "      <th>ES</th>\n",
       "      <td>1189</td>\n",
       "      <td>10</td>\n",
       "    </tr>\n",
       "    <tr>\n",
       "      <th>NZ</th>\n",
       "      <td>719</td>\n",
       "      <td>9</td>\n",
       "    </tr>\n",
       "    <tr>\n",
       "      <th>DK</th>\n",
       "      <td>654</td>\n",
       "      <td>9</td>\n",
       "    </tr>\n",
       "    <tr>\n",
       "      <th>FR</th>\n",
       "      <td>1608</td>\n",
       "      <td>9</td>\n",
       "    </tr>\n",
       "    <tr>\n",
       "      <th>IE</th>\n",
       "      <td>432</td>\n",
       "      <td>6</td>\n",
       "    </tr>\n",
       "    <tr>\n",
       "      <th>NO</th>\n",
       "      <td>388</td>\n",
       "      <td>4</td>\n",
       "    </tr>\n",
       "    <tr>\n",
       "      <th>CH</th>\n",
       "      <td>396</td>\n",
       "      <td>4</td>\n",
       "    </tr>\n",
       "    <tr>\n",
       "      <th>SG</th>\n",
       "      <td>348</td>\n",
       "      <td>4</td>\n",
       "    </tr>\n",
       "    <tr>\n",
       "      <th>AT</th>\n",
       "      <td>306</td>\n",
       "      <td>4</td>\n",
       "    </tr>\n",
       "    <tr>\n",
       "      <th>MX</th>\n",
       "      <td>1338</td>\n",
       "      <td>2</td>\n",
       "    </tr>\n",
       "    <tr>\n",
       "      <th>BE</th>\n",
       "      <td>378</td>\n",
       "      <td>2</td>\n",
       "    </tr>\n",
       "    <tr>\n",
       "      <th>JP</th>\n",
       "      <td>120</td>\n",
       "      <td>1</td>\n",
       "    </tr>\n",
       "    <tr>\n",
       "      <th>LU</th>\n",
       "      <td>31</td>\n",
       "      <td>0</td>\n",
       "    </tr>\n",
       "  </tbody>\n",
       "</table>\n",
       "</div>"
      ],
      "text/plain": [
       "healthy   False  True \n",
       "country               \n",
       "US       160148   1441\n",
       "GB        17585    213\n",
       "CA         7594    105\n",
       "AU         3941     53\n",
       "NL         1503     22\n",
       "DE         2109     20\n",
       "SE         1002     13\n",
       "HK          471     12\n",
       "IT         1481     12\n",
       "ES         1189     10\n",
       "NZ          719      9\n",
       "DK          654      9\n",
       "FR         1608      9\n",
       "IE          432      6\n",
       "NO          388      4\n",
       "CH          396      4\n",
       "SG          348      4\n",
       "AT          306      4\n",
       "MX         1338      2\n",
       "BE          378      2\n",
       "JP          120      1\n",
       "LU           31      0"
      ]
     },
     "execution_count": 24,
     "metadata": {},
     "output_type": "execute_result"
    }
   ],
   "source": [
    "pd.crosstab(kdf['country'],kdf['healthy']).sort_values(True,ascending=False)"
   ]
  },
  {
   "cell_type": "markdown",
   "metadata": {},
   "source": [
    "Almost exclusively developed countries"
   ]
  },
  {
   "cell_type": "markdown",
   "metadata": {},
   "source": [
    "What are the healthiest cities? (in terms of kickstarter projects)"
   ]
  },
  {
   "cell_type": "code",
   "execution_count": 25,
   "metadata": {},
   "outputs": [
    {
     "data": {
      "text/plain": [
       "{'id': 12589342,\n",
       " 'name': 'Manhattan',\n",
       " 'slug': 'manhattan-ny',\n",
       " 'short_name': 'Manhattan, NY',\n",
       " 'displayable_name': 'Manhattan, NY',\n",
       " 'localized_name': 'Manhattan',\n",
       " 'country': 'US',\n",
       " 'state': 'NY',\n",
       " 'type': 'County',\n",
       " 'is_root': False,\n",
       " 'urls': {'web': {'discover': 'https://www.kickstarter.com/discover/places/manhattan-ny',\n",
       "   'location': 'https://www.kickstarter.com/locations/manhattan-ny'},\n",
       "  'api': {'nearby_projects': 'https://api.kickstarter.com/v1/discover?signature=1539904398.aae3553d1e62a16aac55da44ac8c71966f64bb86&woe_id=12589342'}}}"
      ]
     },
     "execution_count": 25,
     "metadata": {},
     "output_type": "execute_result"
    }
   ],
   "source": [
    "kdf['location'][0]"
   ]
  },
  {
   "cell_type": "code",
   "execution_count": 26,
   "metadata": {},
   "outputs": [],
   "source": [
    "#Extract location value\n",
    "kdf['location_value'] = [val['short_name'] if pd.isnull(val)==False else np.nan for val in kdf['location']]"
   ]
  },
  {
   "cell_type": "code",
   "execution_count": 27,
   "metadata": {},
   "outputs": [],
   "source": [
    "health_cities = pd.crosstab(kdf['location_value'],kdf['healthy']).sort_values(True,ascending=False)[:30]"
   ]
  },
  {
   "cell_type": "code",
   "execution_count": 28,
   "metadata": {},
   "outputs": [],
   "source": [
    "health_cities['ratio'] = health_cities.apply(lambda x: x[True]/x[False],axis=1)"
   ]
  },
  {
   "cell_type": "code",
   "execution_count": 29,
   "metadata": {},
   "outputs": [
    {
     "data": {
      "text/plain": [
       "<matplotlib.axes._subplots.AxesSubplot at 0x1dd2f1710>"
      ]
     },
     "execution_count": 29,
     "metadata": {},
     "output_type": "execute_result"
    },
    {
     "data": {
      "image/png": "[encoded data removed]",
      "text/plain": [
       "<Figure size 432x288 with 1 Axes>"
      ]
     },
     "metadata": {},
     "output_type": "display_data"
    }
   ],
   "source": [
    "health_cities.sort_values('ratio',ascending=False)['ratio'].plot.bar(color='navy',title='Ratio of health to non health projects by city')"
   ]
  },
  {
   "cell_type": "markdown",
   "metadata": {},
   "source": [
    "#### When?"
   ]
  },
  {
   "cell_type": "code",
   "execution_count": 30,
   "metadata": {},
   "outputs": [],
   "source": [
    "# Date formats\n",
    "\n",
    "kdf['created_year'] = [datetime.datetime.fromtimestamp(time).year for time in kdf['created_at']]"
   ]
  },
  {
   "cell_type": "code",
   "execution_count": 31,
   "metadata": {},
   "outputs": [
    {
     "data": {
      "text/plain": [
       "<matplotlib.axes._subplots.AxesSubplot at 0x1d922fcc0>"
      ]
     },
     "execution_count": 31,
     "metadata": {},
     "output_type": "execute_result"
    },
    {
     "data": {
      "image/png": "[encoded data removed]",
      "text/plain": [
       "<Figure size 432x288 with 1 Axes>"
      ]
     },
     "metadata": {},
     "output_type": "display_data"
    }
   ],
   "source": [
    "kdf['created_year'].value_counts().sort_values().plot.bar(color='navy')"
   ]
  },
  {
   "cell_type": "code",
   "execution_count": 32,
   "metadata": {},
   "outputs": [
    {
     "data": {
      "text/plain": [
       "<matplotlib.legend.Legend at 0x1dd77fe48>"
      ]
     },
     "execution_count": 32,
     "metadata": {},
     "output_type": "execute_result"
    },
    {
     "data": {
      "image/png": "[encoded data removed]",
      "text/plain": [
       "<Figure size 720x432 with 1 Axes>"
      ]
     },
     "metadata": {},
     "output_type": "display_data"
    }
   ],
   "source": [
    "fig,ax = plt.subplots(figsize=(10,6))\n",
    "\n",
    "pd.crosstab(kdf['country'],kdf['created_year']).T.plot.bar(stacked=True,ax=ax,title='Projects per country')\n",
    "ax.legend(bbox_to_anchor=(1.01,1))"
   ]
  },
  {
   "cell_type": "markdown",
   "metadata": {},
   "source": [
    "I hadn't realised that Kickstarter was declining! US is top orange, UK is blue, China is red) "
   ]
  },
  {
   "cell_type": "code",
   "execution_count": 33,
   "metadata": {},
   "outputs": [
    {
     "data": {
      "text/plain": [
       "<matplotlib.axes._subplots.AxesSubplot at 0x1d9818d30>"
      ]
     },
     "execution_count": 33,
     "metadata": {},
     "output_type": "execute_result"
    },
    {
     "data": {
      "image/png": "[encoded data removed]",
      "text/plain": [
       "<Figure size 432x288 with 1 Axes>"
      ]
     },
     "metadata": {},
     "output_type": "display_data"
    }
   ],
   "source": [
    "pd.crosstab(kdf['created_year'],kdf['healthy'],normalize=1)[True].plot(title='Proportion of projects that mention health')"
   ]
  },
  {
   "cell_type": "markdown",
   "metadata": {},
   "source": [
    "We detect a decline in the proportion of projects that mention health since a peak of 2016. This could of course be driven by changes in the popularity of different categories"
   ]
  },
  {
   "cell_type": "markdown",
   "metadata": {},
   "source": [
    "### Check tabletop games"
   ]
  },
  {
   "cell_type": "code",
   "execution_count": 34,
   "metadata": {},
   "outputs": [
    {
     "data": {
      "text/plain": [
       "<matplotlib.axes._subplots.AxesSubplot at 0x1d9a2f550>"
      ]
     },
     "execution_count": 34,
     "metadata": {},
     "output_type": "execute_result"
    },
    {
     "data": {
      "image/png": "[encoded data removed]",
      "text/plain": [
       "<Figure size 432x288 with 1 Axes>"
      ]
     },
     "metadata": {},
     "output_type": "display_data"
    }
   ],
   "source": [
    "pd.crosstab(kdf['created_year'],kdf['category_value'])['Tabletop Games'].plot.bar(color='navy')"
   ]
  }
 ],
 "metadata": {
  "kernelspec": {
   "display_name": "Python 3",
   "language": "python",
   "name": "python3"
  },
  "language_info": {
   "codemirror_mode": {
    "name": "ipython",
    "version": 3
   },
   "file_extension": ".py",
   "mimetype": "text/x-python",
   "name": "python",
   "nbconvert_exporter": "python",
   "pygments_lexer": "ipython3",
   "version": "3.7.0"
  }
 },
 "nbformat": 4,
 "nbformat_minor": 2
}
