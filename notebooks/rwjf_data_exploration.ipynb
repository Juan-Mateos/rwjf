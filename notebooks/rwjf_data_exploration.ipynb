{
 "cells": [
  {
   "cell_type": "markdown",
   "metadata": {},
   "source": [
    "# Exploration of the RWJF data\n",
    "\n",
    "This exploration seeks to understand current levels of geographical, temporal, topical coverage\n"
   ]
  },
  {
   "cell_type": "markdown",
   "metadata": {},
   "source": [
    "## Functions etc"
   ]
  },
  {
   "cell_type": "code",
   "execution_count": 625,
   "metadata": {},
   "outputs": [],
   "source": [
    "import random"
   ]
  },
  {
   "cell_type": "code",
   "execution_count": 626,
   "metadata": {},
   "outputs": [],
   "source": [
    "def flatten_list(lol): \n",
    "    '''\n",
    "    Flatten a list\n",
    "    \n",
    "    '''\n",
    "    return([x for el in lol for x in el])\n",
    "\n",
    "#Get sample\n",
    "\n",
    "def sample_obs(data,field,sample_size,text_length):\n",
    "    '''\n",
    "    Samples observations from a dataset for sense-checking\n",
    "    \n",
    "    '''\n",
    "    \n",
    "    rel = list(data[field])\n",
    "    \n",
    "    out = random.sample(rel,sample_size)\n",
    "    \n",
    "    for s in out:\n",
    "        print('====')\n",
    "        print(s[:text_length])\n",
    "        print('\\n')\n"
   ]
  },
  {
   "cell_type": "markdown",
   "metadata": {},
   "source": [
    "## Load data"
   ]
  },
  {
   "cell_type": "code",
   "execution_count": 627,
   "metadata": {},
   "outputs": [
    {
     "name": "stderr",
     "output_type": "stream",
     "text": [
      "/usr/local/lib/python3.7/site-packages/IPython/core/interactiveshell.py:2785: DtypeWarning: Columns (1,2,3,4,5,7,8,9,10,12,15,17,18,20,21,22,23) have mixed types. Specify dtype option on import or set low_memory=False.\n",
      "  interactivity=interactivity, compiler=compiler, result=result)\n"
     ]
    }
   ],
   "source": [
    "data = pd.read_csv('../data/external/all_data.csv')"
   ]
  },
  {
   "cell_type": "code",
   "execution_count": 628,
   "metadata": {},
   "outputs": [
    {
     "data": {
      "text/plain": [
       "(7139561, 26)"
      ]
     },
     "execution_count": 628,
     "metadata": {},
     "output_type": "execute_result"
    }
   ],
   "source": [
    "data.shape"
   ]
  },
  {
   "cell_type": "code",
   "execution_count": 629,
   "metadata": {},
   "outputs": [],
   "source": [
    "data.columns = [re.sub(' ','_',x.lower()) for x in data.columns]"
   ]
  },
  {
   "cell_type": "code",
   "execution_count": 630,
   "metadata": {},
   "outputs": [
    {
     "data": {
      "text/plain": [
       "GitHub        5871898\n",
       "Crunchbase     662238\n",
       "GDB            357494\n",
       "arxiv          247931\n",
       "Name: source_id, dtype: int64"
      ]
     },
     "execution_count": 630,
     "metadata": {},
     "output_type": "execute_result"
    }
   ],
   "source": [
    "data.source_id.value_counts()"
   ]
  },
  {
   "cell_type": "code",
   "execution_count": 631,
   "metadata": {},
   "outputs": [
    {
     "data": {
      "text/plain": [
       "357494"
      ]
     },
     "execution_count": 631,
     "metadata": {},
     "output_type": "execute_result"
    }
   ],
   "source": [
    "data.gdb_dataset_id.value_counts().sum()"
   ]
  },
  {
   "cell_type": "markdown",
   "metadata": {},
   "source": [
    "We have 357,000 observations outside of GitHUb, CrunchBase and arXIV"
   ]
  },
  {
   "cell_type": "code",
   "execution_count": 632,
   "metadata": {},
   "outputs": [
    {
     "data": {
      "text/plain": [
       "rgov              154318\n",
       "gtr                79427\n",
       "H2020              63125\n",
       "innovateuk         31987\n",
       "world_reporter     15089\n",
       "rwjf                7227\n",
       "ahrq                6321\n",
       "Name: gdb_dataset_id, dtype: int64"
      ]
     },
     "execution_count": 632,
     "metadata": {},
     "output_type": "execute_result"
    }
   ],
   "source": [
    "data.gdb_dataset_id.value_counts()"
   ]
  },
  {
   "cell_type": "markdown",
   "metadata": {},
   "source": [
    "## Focus on shared fields\n",
    "\n",
    "In the case of funding, do we have data for the funders?"
   ]
  },
  {
   "cell_type": "code",
   "execution_count": 633,
   "metadata": {},
   "outputs": [
    {
     "data": {
      "text/plain": [
       "Index(['unnamed:_0', 'cb_category_group_list', 'cb_category_list',\n",
       "       'cb_number_of_employees', 'cb_role', 'currency', 'description',\n",
       "       'end_date', 'funding', 'gdb_dataset_id', 'gh_user_creation_date',\n",
       "       'gh_user_id', 'gh_user_type', 'gh_valid_description', 'name', 'row_id',\n",
       "       'source_id', 'start_date', 'status', 'unnamed:_0.1',\n",
       "       'administrative_area_level_1', 'administrative_area_level_2',\n",
       "       'arxiv_categories', 'country', 'lat', 'lng'],\n",
       "      dtype='object')"
      ]
     },
     "execution_count": 633,
     "metadata": {},
     "output_type": "execute_result"
    }
   ],
   "source": [
    "data.columns"
   ]
  },
  {
   "cell_type": "code",
   "execution_count": 634,
   "metadata": {},
   "outputs": [],
   "source": [
    "shared_columns = ['name','description','source_id','gdb_dataset_id','currency','funding','start_date','country']"
   ]
  },
  {
   "cell_type": "code",
   "execution_count": 635,
   "metadata": {},
   "outputs": [],
   "source": [
    "data_sh = data[shared_columns]"
   ]
  },
  {
   "cell_type": "code",
   "execution_count": 636,
   "metadata": {},
   "outputs": [
    {
     "data": {
      "text/html": [
       "<div>\n",
       "<style scoped>\n",
       "    .dataframe tbody tr th:only-of-type {\n",
       "        vertical-align: middle;\n",
       "    }\n",
       "\n",
       "    .dataframe tbody tr th {\n",
       "        vertical-align: top;\n",
       "    }\n",
       "\n",
       "    .dataframe thead th {\n",
       "        text-align: right;\n",
       "    }\n",
       "</style>\n",
       "<table border=\"1\" class=\"dataframe\">\n",
       "  <thead>\n",
       "    <tr style=\"text-align: right;\">\n",
       "      <th></th>\n",
       "      <th>name</th>\n",
       "      <th>description</th>\n",
       "      <th>source_id</th>\n",
       "      <th>gdb_dataset_id</th>\n",
       "      <th>currency</th>\n",
       "      <th>funding</th>\n",
       "      <th>start_date</th>\n",
       "      <th>country</th>\n",
       "    </tr>\n",
       "  </thead>\n",
       "  <tbody>\n",
       "    <tr>\n",
       "      <th>0</th>\n",
       "      <td>University College London</td>\n",
       "      <td>Over the last fifty years, accelerators of eve...</td>\n",
       "      <td>GDB</td>\n",
       "      <td>gtr</td>\n",
       "      <td>GBP</td>\n",
       "      <td>26776</td>\n",
       "      <td>2012-10-01 00:00:00</td>\n",
       "      <td>United Kingdom</td>\n",
       "    </tr>\n",
       "    <tr>\n",
       "      <th>1</th>\n",
       "      <td>University College London</td>\n",
       "      <td>Abstracts are not currently available in GtR f...</td>\n",
       "      <td>GDB</td>\n",
       "      <td>gtr</td>\n",
       "      <td>GBP</td>\n",
       "      <td>187427</td>\n",
       "      <td>2002-02-01 00:00:00</td>\n",
       "      <td>United Kingdom</td>\n",
       "    </tr>\n",
       "    <tr>\n",
       "      <th>2</th>\n",
       "      <td>University College London</td>\n",
       "      <td>The question of how the human brain develops o...</td>\n",
       "      <td>GDB</td>\n",
       "      <td>gtr</td>\n",
       "      <td>GBP</td>\n",
       "      <td>3.00761e+06</td>\n",
       "      <td>1998-10-01 00:00:00</td>\n",
       "      <td>United Kingdom</td>\n",
       "    </tr>\n",
       "    <tr>\n",
       "      <th>3</th>\n",
       "      <td>University College London</td>\n",
       "      <td>T-cells are white blood cells that enable us t...</td>\n",
       "      <td>GDB</td>\n",
       "      <td>gtr</td>\n",
       "      <td>GBP</td>\n",
       "      <td>465999</td>\n",
       "      <td>2012-06-30 00:00:00</td>\n",
       "      <td>United Kingdom</td>\n",
       "    </tr>\n",
       "    <tr>\n",
       "      <th>4</th>\n",
       "      <td>University College London</td>\n",
       "      <td>When excavators dug al-Bahnasa, some 200 km so...</td>\n",
       "      <td>GDB</td>\n",
       "      <td>gtr</td>\n",
       "      <td>GBP</td>\n",
       "      <td>851035</td>\n",
       "      <td>2010-09-01 00:00:00</td>\n",
       "      <td>United Kingdom</td>\n",
       "    </tr>\n",
       "  </tbody>\n",
       "</table>\n",
       "</div>"
      ],
      "text/plain": [
       "                        name  \\\n",
       "0  University College London   \n",
       "1  University College London   \n",
       "2  University College London   \n",
       "3  University College London   \n",
       "4  University College London   \n",
       "\n",
       "                                         description source_id gdb_dataset_id  \\\n",
       "0  Over the last fifty years, accelerators of eve...       GDB            gtr   \n",
       "1  Abstracts are not currently available in GtR f...       GDB            gtr   \n",
       "2  The question of how the human brain develops o...       GDB            gtr   \n",
       "3  T-cells are white blood cells that enable us t...       GDB            gtr   \n",
       "4  When excavators dug al-Bahnasa, some 200 km so...       GDB            gtr   \n",
       "\n",
       "  currency      funding           start_date         country  \n",
       "0      GBP        26776  2012-10-01 00:00:00  United Kingdom  \n",
       "1      GBP       187427  2002-02-01 00:00:00  United Kingdom  \n",
       "2      GBP  3.00761e+06  1998-10-01 00:00:00  United Kingdom  \n",
       "3      GBP       465999  2012-06-30 00:00:00  United Kingdom  \n",
       "4      GBP       851035  2010-09-01 00:00:00  United Kingdom  "
      ]
     },
     "execution_count": 636,
     "metadata": {},
     "output_type": "execute_result"
    }
   ],
   "source": [
    "data_sh.head()"
   ]
  },
  {
   "cell_type": "code",
   "execution_count": 637,
   "metadata": {},
   "outputs": [
    {
     "name": "stderr",
     "output_type": "stream",
     "text": [
      "/usr/local/lib/python3.7/site-packages/ipykernel_launcher.py:2: SettingWithCopyWarning: \n",
      "A value is trying to be set on a copy of a slice from a DataFrame.\n",
      "Try using .loc[row_indexer,col_indexer] = value instead\n",
      "\n",
      "See the caveats in the documentation: http://pandas.pydata.org/pandas-docs/stable/indexing.html#indexing-view-versus-copy\n",
      "  \n"
     ]
    }
   ],
   "source": [
    "#Create a detailed source field\n",
    "data_sh['source_det']  = [x if x!='GDB' else y for x,y in zip(data_sh.source_id,data_sh.gdb_dataset_id)]"
   ]
  },
  {
   "cell_type": "code",
   "execution_count": 638,
   "metadata": {},
   "outputs": [
    {
     "data": {
      "text/plain": [
       "GitHub            5871898\n",
       "Crunchbase         662238\n",
       "arxiv              247931\n",
       "rgov               154318\n",
       "gtr                 79427\n",
       "H2020               63125\n",
       "innovateuk          31987\n",
       "world_reporter      15089\n",
       "rwjf                 7227\n",
       "ahrq                 6321\n",
       "Name: source_det, dtype: int64"
      ]
     },
     "execution_count": 638,
     "metadata": {},
     "output_type": "execute_result"
    }
   ],
   "source": [
    "data_sh.source_det.value_counts()"
   ]
  },
  {
   "cell_type": "markdown",
   "metadata": {},
   "source": [
    "## Missing values"
   ]
  },
  {
   "cell_type": "code",
   "execution_count": 639,
   "metadata": {},
   "outputs": [
    {
     "data": {
      "text/html": [
       "<div>\n",
       "<style scoped>\n",
       "    .dataframe tbody tr th:only-of-type {\n",
       "        vertical-align: middle;\n",
       "    }\n",
       "\n",
       "    .dataframe tbody tr th {\n",
       "        vertical-align: top;\n",
       "    }\n",
       "\n",
       "    .dataframe thead th {\n",
       "        text-align: right;\n",
       "    }\n",
       "</style>\n",
       "<table border=\"1\" class=\"dataframe\">\n",
       "  <thead>\n",
       "    <tr style=\"text-align: right;\">\n",
       "      <th></th>\n",
       "      <th>name</th>\n",
       "      <th>description</th>\n",
       "      <th>source_id</th>\n",
       "      <th>gdb_dataset_id</th>\n",
       "      <th>currency</th>\n",
       "      <th>funding</th>\n",
       "      <th>start_date</th>\n",
       "      <th>country</th>\n",
       "      <th>source_det</th>\n",
       "    </tr>\n",
       "    <tr>\n",
       "      <th>source_det</th>\n",
       "      <th></th>\n",
       "      <th></th>\n",
       "      <th></th>\n",
       "      <th></th>\n",
       "      <th></th>\n",
       "      <th></th>\n",
       "      <th></th>\n",
       "      <th></th>\n",
       "      <th></th>\n",
       "    </tr>\n",
       "  </thead>\n",
       "  <tbody>\n",
       "    <tr>\n",
       "      <th>Crunchbase</th>\n",
       "      <td>0.000453</td>\n",
       "      <td>0.004379</td>\n",
       "      <td>0.0</td>\n",
       "      <td>100.0</td>\n",
       "      <td>0.0</td>\n",
       "      <td>86.763822</td>\n",
       "      <td>31.406383</td>\n",
       "      <td>100.000000</td>\n",
       "      <td>0.0</td>\n",
       "    </tr>\n",
       "    <tr>\n",
       "      <th>GitHub</th>\n",
       "      <td>0.000153</td>\n",
       "      <td>0.000000</td>\n",
       "      <td>0.0</td>\n",
       "      <td>100.0</td>\n",
       "      <td>100.0</td>\n",
       "      <td>100.000000</td>\n",
       "      <td>0.000000</td>\n",
       "      <td>100.000000</td>\n",
       "      <td>0.0</td>\n",
       "    </tr>\n",
       "    <tr>\n",
       "      <th>H2020</th>\n",
       "      <td>0.000000</td>\n",
       "      <td>0.000000</td>\n",
       "      <td>0.0</td>\n",
       "      <td>0.0</td>\n",
       "      <td>0.0</td>\n",
       "      <td>0.000000</td>\n",
       "      <td>0.004752</td>\n",
       "      <td>0.261386</td>\n",
       "      <td>0.0</td>\n",
       "    </tr>\n",
       "    <tr>\n",
       "      <th>ahrq</th>\n",
       "      <td>0.506249</td>\n",
       "      <td>0.000000</td>\n",
       "      <td>0.0</td>\n",
       "      <td>0.0</td>\n",
       "      <td>0.0</td>\n",
       "      <td>0.000000</td>\n",
       "      <td>0.601171</td>\n",
       "      <td>0.506249</td>\n",
       "      <td>0.0</td>\n",
       "    </tr>\n",
       "    <tr>\n",
       "      <th>arxiv</th>\n",
       "      <td>0.000000</td>\n",
       "      <td>0.000000</td>\n",
       "      <td>0.0</td>\n",
       "      <td>100.0</td>\n",
       "      <td>100.0</td>\n",
       "      <td>100.000000</td>\n",
       "      <td>0.000000</td>\n",
       "      <td>100.000000</td>\n",
       "      <td>0.0</td>\n",
       "    </tr>\n",
       "    <tr>\n",
       "      <th>gtr</th>\n",
       "      <td>0.000000</td>\n",
       "      <td>0.000000</td>\n",
       "      <td>0.0</td>\n",
       "      <td>0.0</td>\n",
       "      <td>0.0</td>\n",
       "      <td>0.000000</td>\n",
       "      <td>0.000000</td>\n",
       "      <td>0.000000</td>\n",
       "      <td>0.0</td>\n",
       "    </tr>\n",
       "    <tr>\n",
       "      <th>innovateuk</th>\n",
       "      <td>0.000000</td>\n",
       "      <td>0.000000</td>\n",
       "      <td>0.0</td>\n",
       "      <td>0.0</td>\n",
       "      <td>0.0</td>\n",
       "      <td>5.177103</td>\n",
       "      <td>5.177103</td>\n",
       "      <td>0.550224</td>\n",
       "      <td>0.0</td>\n",
       "    </tr>\n",
       "    <tr>\n",
       "      <th>rgov</th>\n",
       "      <td>2.268692</td>\n",
       "      <td>0.000000</td>\n",
       "      <td>0.0</td>\n",
       "      <td>0.0</td>\n",
       "      <td>0.0</td>\n",
       "      <td>15.903524</td>\n",
       "      <td>0.000000</td>\n",
       "      <td>2.339973</td>\n",
       "      <td>0.0</td>\n",
       "    </tr>\n",
       "    <tr>\n",
       "      <th>rwjf</th>\n",
       "      <td>0.000000</td>\n",
       "      <td>0.000000</td>\n",
       "      <td>0.0</td>\n",
       "      <td>0.0</td>\n",
       "      <td>0.0</td>\n",
       "      <td>0.000000</td>\n",
       "      <td>0.000000</td>\n",
       "      <td>7.748720</td>\n",
       "      <td>0.0</td>\n",
       "    </tr>\n",
       "    <tr>\n",
       "      <th>world_reporter</th>\n",
       "      <td>0.000000</td>\n",
       "      <td>0.000000</td>\n",
       "      <td>0.0</td>\n",
       "      <td>0.0</td>\n",
       "      <td>100.0</td>\n",
       "      <td>34.886341</td>\n",
       "      <td>100.000000</td>\n",
       "      <td>0.835045</td>\n",
       "      <td>0.0</td>\n",
       "    </tr>\n",
       "  </tbody>\n",
       "</table>\n",
       "</div>"
      ],
      "text/plain": [
       "                    name  description  source_id  gdb_dataset_id  currency  \\\n",
       "source_det                                                                   \n",
       "Crunchbase      0.000453     0.004379        0.0           100.0       0.0   \n",
       "GitHub          0.000153     0.000000        0.0           100.0     100.0   \n",
       "H2020           0.000000     0.000000        0.0             0.0       0.0   \n",
       "ahrq            0.506249     0.000000        0.0             0.0       0.0   \n",
       "arxiv           0.000000     0.000000        0.0           100.0     100.0   \n",
       "gtr             0.000000     0.000000        0.0             0.0       0.0   \n",
       "innovateuk      0.000000     0.000000        0.0             0.0       0.0   \n",
       "rgov            2.268692     0.000000        0.0             0.0       0.0   \n",
       "rwjf            0.000000     0.000000        0.0             0.0       0.0   \n",
       "world_reporter  0.000000     0.000000        0.0             0.0     100.0   \n",
       "\n",
       "                   funding  start_date     country  source_det  \n",
       "source_det                                                      \n",
       "Crunchbase       86.763822   31.406383  100.000000         0.0  \n",
       "GitHub          100.000000    0.000000  100.000000         0.0  \n",
       "H2020             0.000000    0.004752    0.261386         0.0  \n",
       "ahrq              0.000000    0.601171    0.506249         0.0  \n",
       "arxiv           100.000000    0.000000  100.000000         0.0  \n",
       "gtr               0.000000    0.000000    0.000000         0.0  \n",
       "innovateuk        5.177103    5.177103    0.550224         0.0  \n",
       "rgov             15.903524    0.000000    2.339973         0.0  \n",
       "rwjf              0.000000    0.000000    7.748720         0.0  \n",
       "world_reporter   34.886341  100.000000    0.835045         0.0  "
      ]
     },
     "execution_count": 639,
     "metadata": {},
     "output_type": "execute_result"
    }
   ],
   "source": [
    "data_sh.groupby('source_det').apply(lambda x: 100*x.isna().mean())"
   ]
  },
  {
   "cell_type": "markdown",
   "metadata": {},
   "source": [
    "We have missing data for some of the non-grant databases. I assume that this is because they haven't been geocoded yet\n",
    "\n",
    "And obviously, some of the data lack information about funding etc."
   ]
  },
  {
   "cell_type": "markdown",
   "metadata": {},
   "source": [
    "### Check country distributions by location"
   ]
  },
  {
   "cell_type": "code",
   "execution_count": 640,
   "metadata": {},
   "outputs": [],
   "source": [
    "country_data = data_sh.groupby('gdb_dataset_id')[\n",
    "    'country'].apply(lambda x: x.value_counts(normalize=True).sort_values(ascending=False)[:20]).reset_index(drop=False)"
   ]
  },
  {
   "cell_type": "code",
   "execution_count": 641,
   "metadata": {},
   "outputs": [
    {
     "data": {
      "image/png": "[encoded data removed]",
      "text/plain": [
       "<Figure size 720x1440 with 7 Axes>"
      ]
     },
     "metadata": {},
     "output_type": "display_data"
    }
   ],
   "source": [
    "fig,ax = plt.subplots(figsize=(10,20),nrows=len(set(country_data.gdb_dataset_id)))\n",
    "\n",
    "\n",
    "for num,source in enumerate(set(country_data.gdb_dataset_id)):\n",
    "    \n",
    "    rel_data = country_data.loc[country_data.gdb_dataset_id==source]\n",
    "    \n",
    "    rel_data.plot.bar(color='steelblue',ax=ax[num])\n",
    "    ax[num].set_xticklabels(rel_data['level_1'])\n",
    "    ax[num].set_ylabel(source[:10])\n",
    "    \n",
    "ax[0].set_title('Country distribution by dataset')\n",
    "plt.tight_layout()\n",
    "    "
   ]
  },
  {
   "cell_type": "markdown",
   "metadata": {},
   "source": [
    "Our current coverage (excluding, in this case, GitHub and CrunchBase) is very dominated by the USA. We need to consider strategies to address this.\n",
    "\n",
    "**Question:** Does the nationality data refer to the organisation doing the project or the country receiving the intervention?"
   ]
  },
  {
   "cell_type": "code",
   "execution_count": 642,
   "metadata": {},
   "outputs": [],
   "source": [
    "#Get them very lazily using a list of countries I got from here: http://www.fao.org/countryprofiles/iso3list/en/"
   ]
  },
  {
   "cell_type": "code",
   "execution_count": 643,
   "metadata": {},
   "outputs": [
    {
     "name": "stderr",
     "output_type": "stream",
     "text": [
      "/usr/local/lib/python3.7/site-packages/bs4/__init__.py:181: UserWarning: No parser was explicitly specified, so I'm using the best available HTML parser for this system (\"html5lib\"). This usually isn't a problem, but if you run this code on another system, or in a different virtual environment, it may use a different parser and behave differently.\n",
      "\n",
      "The code that caused this warning is on line 193 of the file /usr/local/Cellar/python/3.7.0/Frameworks/Python.framework/Versions/3.7/lib/python3.7/runpy.py. To get rid of this warning, change code that looks like this:\n",
      "\n",
      " BeautifulSoup(YOUR_MARKUP})\n",
      "\n",
      "to this:\n",
      "\n",
      " BeautifulSoup(YOUR_MARKUP, \"html5lib\")\n",
      "\n",
      "  markup_type=markup_type))\n"
     ]
    }
   ],
   "source": [
    "from bs4 import BeautifulSoup\n",
    "\n",
    "lazy_country_names = BeautifulSoup(requests.get('http://www.fao.org/countryprofiles/iso3list/en/').text)\n"
   ]
  },
  {
   "cell_type": "code",
   "execution_count": 644,
   "metadata": {},
   "outputs": [],
   "source": [
    "countries = [x.get_text().strip().lower() for x in lazy_country_names.find_all('td',class_='shortname')]"
   ]
  },
  {
   "cell_type": "code",
   "execution_count": 645,
   "metadata": {},
   "outputs": [],
   "source": [
    "#Let's check on a dataset without GitHub and only descriptions\n",
    "\n",
    "data_no_gh_descr = data_sh[data_sh.source_id!='GitHub'].dropna(axis=0,subset=['description'])"
   ]
  },
  {
   "cell_type": "code",
   "execution_count": 646,
   "metadata": {},
   "outputs": [],
   "source": [
    "data_no_gh_descr['countries_in_descr'] = [[x for x in countries if x in text.lower()] for text in data_no_gh_descr['description']]"
   ]
  },
  {
   "cell_type": "code",
   "execution_count": 647,
   "metadata": {},
   "outputs": [
    {
     "data": {
      "text/plain": [
       "116784"
      ]
     },
     "execution_count": 647,
     "metadata": {},
     "output_type": "execute_result"
    }
   ],
   "source": [
    "# How many descriptions mention a country?\n",
    "\n",
    "sum([len(x)>0 for x in data_no_gh_descr.countries_in_descr])"
   ]
  },
  {
   "cell_type": "code",
   "execution_count": 648,
   "metadata": {},
   "outputs": [
    {
     "data": {
      "text/plain": [
       "mali              23905\n",
       "india             14020\n",
       "china              7511\n",
       "australia          6063\n",
       "japan              5429\n",
       "canada             5215\n",
       "germany            4645\n",
       "france             4440\n",
       "oman               4302\n",
       "mexico             3672\n",
       "brazil             3491\n",
       "italy              3416\n",
       "cuba               3393\n",
       "spain              3310\n",
       "georgia            2513\n",
       "south africa       2137\n",
       "united kingdom     2124\n",
       "ireland            1991\n",
       "netherlands        1894\n",
       "singapore          1742\n",
       "dtype: int64"
      ]
     },
     "execution_count": 648,
     "metadata": {},
     "output_type": "execute_result"
    }
   ],
   "source": [
    "country_freqs = pd.Series(Counter(flatten_list(data_no_gh_descr['countries_in_descr']))).sort_values(ascending=False)\n",
    "\n",
    "country_freqs.head(n=20)"
   ]
  },
  {
   "cell_type": "code",
   "execution_count": 649,
   "metadata": {},
   "outputs": [
    {
     "name": "stdout",
     "output_type": "stream",
     "text": [
      "====\n",
      "\n",
      "Project Summary\n",
      "The focus of this revised renewal application remains centered around the natural history of SIVcpz infection\n",
      "in wild chimpanzees. In the previous budget period, we developed non-invasive (fecal and urine based)\n",
      "SIVcpz detection methods and used these to characterize the molecular epidemiology of SIVcpz in wild-living\n",
      "ape populations throughout equatorial Africa (Nature 2004; Science 2006). We also traced the origin of\n",
      "pandemic and non-pandemic HIV-1 to distinct chimpanzee communities in southern Cameroon (Science\n",
      "2006), discovered HIV-1 group O-like viruses in wild gorillas (Nature 2006), and found that SIVcpz (like HIV-1)\n",
      "has lost an important function of its Nef protein (Cell 2006; PLoS Pathogens 2008). These and other findings\n",
      "are summarized in 29 publications (includi\n",
      "\n",
      "\n",
      "====\n",
      "\n",
      " \n",
      "The epidemiology of HIV in the Asia-Pacific region reflects local drivers of infection (e.g., male-to-male sex, injection drug use), key co-infections that impact treatment outcomes (e.g., hepatitis B and 0, tuberculosis), and a range of treatment access and national resource levels. In addition, emerging evidence suggests that the pharmacology and toxicity of antiretroviral drugs in Asian populations are significantly different from Caucasian patients, which could impact long-term treatment tolerability and success. The overall goal of the Asia-Pacific HIV Research Collaboration is to evaluate the impact of HIV disease, co-infections, and ART management on clinical outcomes in the region. Research builds on existing scientific capacity for both broad regional and multiregional analyses\n",
      "\n",
      "\n",
      "====\n",
      "Early Childhood Caries (ECC), or tooth decay in baby teeth, is a serious burden on Aboriginal communities across Canada. Most ECC cases are severe and require teeth extractions or fillings under general anesthesia (GA), forcing families to seek specialty treatment in hospitals, often a plane flight away. Culturally appropriate preventive interventions promise to be effective and cheaper in reducing ECC rates and the need for dental surgery under GA. The study's primary aim is to work collaboratively with on- and off-reserve Aboriginal communities in Ontario and Manitoba to strengthen the effectiveness and scalability of a multi-pronged ECC preventive intervention through community-informed enhancements/adaptations. The intervention includes oral health Anticipatory Guidance (AG), delivered\n",
      "\n",
      "\n",
      "====\n",
      "DESCRIPTION (provided by applicant): The Alliance is an experienced multi-institutional cancer clinical trials group that has been reorganized in response to the Institute of Medicine (lOM) consensus report and NCI directives for cooperative group reorganization. Alliance provides a comprehensive and highly efficient clinical trials infrastructure, access to experienced\n",
      "collaborators across all disciplines of oncology clinical trials research, and a diverse portfolio f trials for patients with breast, gastrointestinal, genitourinary, respiratory, central nervous systm, hematological malignancies, and selected rare tumors. Particular strengths of the Alliance include the long-standing tradition of collaborative research of the legacy members, including many who have participated in cooperat\n",
      "\n",
      "\n",
      "====\n",
      "DESCRIPTION (provided by applicant): Women face unacceptably high risks for disability and death in developing countries and there is urgent need for evidence-based interventions to reduce the burden of disease. By virtue of their training and clinical expertise, obstetrician-gynecologists (Ob-Gyns) are uniquely positioned to contribute to the global effort to improve the health of women. Yet, there are surprisingly few opportunities for young Ob-Gyns who seek to develop research careers in this growing field. One of the few existing programs is based at the Centre for Infectious Disease Research in Zambia (CIDRZ), where the faculty leading this application have directed a post-residency fellowship since 1999. Despite the academic success of the program's trainees - six past and present fe\n",
      "\n",
      "\n"
     ]
    }
   ],
   "source": [
    "#Let's have a look focusing on the world reporter data\n",
    "\n",
    "sample_obs(data_no_gh_descr.loc[([len(x)>0 for x in data_no_gh_descr.countries_in_descr]) & (data_no_gh_descr.source_det=='world_reporter')],'description',5,800)"
   ]
  },
  {
   "cell_type": "code",
   "execution_count": 650,
   "metadata": {},
   "outputs": [
    {
     "name": "stdout",
     "output_type": "stream",
     "text": [
      "====\n",
      "The Amazon basin contains nearly one million square kilometers of wetlands, predominantly peatlands, which are known to be highly productive and to store significant quantities of carbon in plant biomass and soil. Peatlands are characterized by soils rich in organic matter that are often saturated with water, and are therefore often low in oxygen. These conditions often lead to the release of methane, a greenhouse gas with ~25 times the heat-trapping capacity of carbon dioxide, and peatlands are known to be important global sources of methane. Until very recently, peatlands were not expected to be a significant component of the Amazon basin since these wetlands are more common in cold, northern latitudes and there were few records of their existence in the Amazon. In recent years, however,\n",
      "\n",
      "\n",
      "====\n",
      "1123536<br/>Stewart<br/><br/>This Pan-American Advanced Studies Institutes (PASI) award, jointly supported by the NSF and the Department of Energy (DOE), will take place during January, 2012 at the Pontificia Universidad Cat?lica de Chile, in Santiago, Chile.  Organized by Dr. Derek A. Stewart and Prof. Richard Hennig from Cornell University, the institute will focus on computational materials science for energy generation and conversion.  Through lectures, hands-on labs, and discussions, the workshop will introduce graduate students and postdocs to powerful computational methods and state-of-the-art simulation codes that can be used to predict macroscopic properties of materials such as crystal structures, defect energies, electronic band structure, vibrational properties, reaction pathwa\n",
      "\n",
      "\n",
      "====\n",
      "This US-Latin America award will support a workshop that will promote international scientific collaboration for seismological research and hazard mitigation between the Middle America region and the US.  The workshop will be held in October 2010 in San Jose, Costa Rica and will be co-funded by the Division of Earth Sciences and the U.S. Agency for International Development (USAID).  The meeting will focus on:  (a) scientific issues that derive from the unique tectonic environment of the region, (b) strengthening the regional infrastructure and academic community for seismological research, and (c) generating products with immediate regional societal benefits.  Participants will include researchers from universities and geophysical observatory networks, students, national policy experts, a\n",
      "\n",
      "\n",
      "====\n",
      "Breakthrough technology enabling rapid sequencing of whole genomes from single cells, will be used in this project to unlock secrets of life's early evolution and genealogy. Prior to this breakthrough, many of life's earliest diverging lineages could not be analyzed because they cannot be grown in laboratory cultures. This unculturable \"Microbial Dark Matter\" (MDM) within the groups Bacteria and Archaea constitutes the majority of biological species diversity and biological mass on Earth, and this can now be brought to light by the sequencing of single amplified genomes (SAGs). In this unprecedented research project, many new genomes, encoding the blueprints for disparate organisms, can and will be analyzed to illuminate (1) the genealogy of these ancient microbial species, (2) the relativ\n",
      "\n",
      "\n",
      "====\n",
      "THIS PROJECT WILL CONDUCT A FOCUSED DATA ANALYSIS IN THE STUDY OF EXTREME PRECIPITATION THREAT AND IDENTIFY VULNERABLE REGIONS IN A CHANGING CLIMATE. EXTREME PRECIPITATION EVENTS ARE TIED CLOSELY TO THE OCCURRENCE OF INTENSE MESOSCALE CONVECTIVE SYSTEMS (MCSS). INTENSE MCSS TEND TO OCCUR WHERE INSTABILITY, MOISTURE, AND LIFT ARE ENHANCED BY FREQUENT INTERACTIONS BETWEEN TROPICAL AND MIDLATITUDE WEATHER SYSTEMS, SUCH AS THE LOW-LEVEL JET (LLJ) AND PROPAGATING SYNOPTIC DISTURBANCES. IN THE SUBTROPICS AND MIDLATITUDES, THESE WEATHER SYSTEMS ARE MODULATED CONSIDERABLY BY THE CIRCUMGLOBAL TELECONNECTION (CGT)-I.E. ROSSBY SHORT WAVES EXCITED IN THE JET STREAM \\\"\"WAVEGUIDE\\\"\". OUR ANALYSIS OF SOME RECENT EXTREME PRECIPITATION EVENTS (E.G., THE 2008 IOWA FLOODS, THE 2010 PAKISTAN AND THE AUSTRALIA\n",
      "\n",
      "\n"
     ]
    }
   ],
   "source": [
    "#Let's have a look focusing on the world reporter data\n",
    "\n",
    "sample_obs(data_no_gh_descr.loc[([len(x)>0 for x in data_no_gh_descr.countries_in_descr]) & (data_no_gh_descr.source_det=='rgov')],'description',5,800)"
   ]
  },
  {
   "cell_type": "markdown",
   "metadata": {},
   "source": [
    "We are identifying some projects with beneficiaries in the countries being mentioned"
   ]
  },
  {
   "cell_type": "markdown",
   "metadata": {},
   "source": [
    "### Check type of content by source\n",
    "\n",
    "Token frequencies by data source.\n",
    "\n",
    "Lets use Spacy.\n",
    "\n"
   ]
  },
  {
   "cell_type": "code",
   "execution_count": 651,
   "metadata": {},
   "outputs": [],
   "source": [
    "from nltk.corpus import stopwords\n",
    "from collections import Counter\n"
   ]
  },
  {
   "cell_type": "code",
   "execution_count": 652,
   "metadata": {},
   "outputs": [],
   "source": [
    "from string import punctuation\n",
    "\n",
    "#Drop stopwords and punctuation\n",
    "sws = stopwords.words('english') + [x for x in punctuation]\n"
   ]
  },
  {
   "cell_type": "code",
   "execution_count": 653,
   "metadata": {},
   "outputs": [],
   "source": [
    "def freq_distr(corpus,length=500):\n",
    "    '''\n",
    "    corpus\n",
    "    '''\n",
    "    \n",
    "    tok = corpus.apply(lambda x: x.lower().split(' '))\n",
    "    \n",
    "    return (pd.Series([x for el in tok for x in el if x not in eng]).value_counts(normalize=True).sort_values(ascending=False)[:length])\n",
    "\n",
    "\n",
    "    "
   ]
  },
  {
   "cell_type": "code",
   "execution_count": 654,
   "metadata": {},
   "outputs": [
    {
     "name": "stdout",
     "output_type": "stream",
     "text": [
      "CPU times: user 7min 6s, sys: 12.3 s, total: 7min 18s\n",
      "Wall time: 8min 42s\n"
     ]
    }
   ],
   "source": [
    "%%time\n",
    "top_toks = data_no_gh_descr.groupby('source_det')['description'].apply(lambda x: freq_distr(x))\n"
   ]
  },
  {
   "cell_type": "code",
   "execution_count": 655,
   "metadata": {},
   "outputs": [
    {
     "name": "stdout",
     "output_type": "stream",
     "text": [
      "rgov\n",
      "====\n",
      ", research, project, new, students, data, also, understanding, provide, science, study, development, work, use, high, using, program, develop, used, graduate, university, undergraduate, proposed, systems, important, well, materials, two, including, one\n",
      "\n",
      "\n",
      "H2020\n",
      "====\n",
      "project, research, new, european, , data, energy, development, develop, innovation, based, use, innovative, provide, support, technology, system, also, high, systems, different, management, well, eu, key, market, technologies, network, knowledge, services\n",
      "\n",
      "\n",
      "world_reporter\n",
      "====\n",
      ", research, health, clinical, new, hiv, data, study, patients, development, studies, aim, treatment, (provided, applicant):, specific, use, cell, cancer, using, also, provide, project, develop, training, disease, risk, program, cells, human\n",
      "\n",
      "\n",
      "arxiv\n",
      "====\n",
      "show, data, problem, using, algorithm, based, model, results, also, paper, two, number, network, new, proposed, method, approach, one, used, propose, information, present, performance, time, set, system, , paper,, use, learning\n",
      "\n",
      "\n",
      "Crunchbase\n",
      "====\n",
      "company, provides, services, online, offers, solutions, services., software, platform, technology, management, business, mobile, development, marketing, digital, service, provider, based, providing, firm, , web, social, products, group, leading, new, company., media\n",
      "\n",
      "\n",
      "rwjf\n",
      "====\n",
      "health, program, support, research, new, project, grant, nursing, foundation's, public, care, policy, , national, designed, community, (2), (1), foundation, funds, state, use, include, students, johnson, robert, wood, provide, deliverables, school\n",
      "\n",
      "\n",
      "ahrq\n",
      "====\n",
      ", health, care, research, patient, quality, patients, \n",
      ", use, clinical, data, study, information, medical, improve, outcomes, project, primary, services, (provided, applicant):, safety, using, healthcare, program, \n",
      "description, develop, training, hospital, provide\n",
      "\n",
      "\n",
      "innovateuk\n",
      "====\n",
      "project, new, technology, develop, uk, use, system, energy, high, data, public, development, using, cost, summary, awaiting, used, market, provide, design, also, based, process, manufacturing, novel, innovative, enable, potential, developed, systems\n",
      "\n",
      "\n",
      "gtr\n",
      "====\n",
      "research, new, project, also, use, data, different, work, uk, using, develop, used, one, understanding, many, development, provide, important, energy, study, within, information, may, high, cells, key, systems, two, range, design\n",
      "\n",
      "\n"
     ]
    }
   ],
   "source": [
    "top_toks_2 = top_toks.reset_index(drop=False)\n",
    "\n",
    "\n",
    "for x in set(top_toks_2.source_det):\n",
    "    print(x)\n",
    "    print('====')\n",
    "    \n",
    "    print(', '.join([x for x in top_toks_2.loc[top_toks_2.source_det==x,'level_1']][:30]))\n",
    "    print('\\n')\n"
   ]
  },
  {
   "cell_type": "markdown",
   "metadata": {},
   "source": [
    "The vocabulary reflect sources: some of them are much more focused on health, others are generalist"
   ]
  },
  {
   "cell_type": "markdown",
   "metadata": {},
   "source": [
    "### Temporal coverage"
   ]
  },
  {
   "cell_type": "code",
   "execution_count": 658,
   "metadata": {},
   "outputs": [
    {
     "data": {
      "text/plain": [
       "source_det\n",
       "Crunchbase                            [nan, 1968-07-18, 1968-01-01]\n",
       "GitHub            [2017-08-27 17:03:00 UTC, 2017-03-03 20:52:23 ...\n",
       "H2020                          [2016-03-01, 2017-05-01, 2017-04-01]\n",
       "ahrq                                 [09/30/05, 09/30/13, 09/30/13]\n",
       "arxiv                 [1241136000000, 1241136000000, 1044057600000]\n",
       "gtr               [2012-10-01 00:00:00, 2002-02-01 00:00:00, 199...\n",
       "innovateuk          [2017-08-01 00:00:00, 2017-10-01 00:00:00, nan]\n",
       "rgov                  [=\"09/01/2017\", =\"09/01/2011\", =\"08/15/2010\"]\n",
       "rwjf                               [3/25/2009, 3/8/2010, 3/18/2011]\n",
       "world_reporter                                      [nan, nan, nan]\n",
       "Name: start_date, dtype: object"
      ]
     },
     "execution_count": 658,
     "metadata": {},
     "output_type": "execute_result"
    }
   ],
   "source": [
    "data_sh.groupby('source_det')['start_date'].apply(lambda x: list(x)[0:3])"
   ]
  },
  {
   "cell_type": "markdown",
   "metadata": {},
   "source": [
    "Dates are a mess"
   ]
  },
  {
   "cell_type": "markdown",
   "metadata": {},
   "source": [
    "## Preliminary conclusions\n",
    "\n",
    "* Our coverage is very focused on developed countries (for which we have founding) although we also detect activity in other countries through the abstract descriptions\n",
    "* We mostly cover grants. Coverage of private-sector/applied/under-the-radar activity is much weaker\n",
    "* The data include a mix of sources with health-specific data (AHRQ, RWJF, world-reporter) and generic research sources\n",
    "\n",
    "## Next steps:\n",
    "\n",
    "* Identify and collect data from other types of sources: crowdfunding, meetup activity, social innovation directories etc.\n",
    "* Identify a strategy for research papers\n",
    "\n",
    "\n",
    "\n"
   ]
  },
  {
   "cell_type": "markdown",
   "metadata": {},
   "source": [
    "# A look at crowdfunding\n",
    "\n",
    "Kickstarter data here: https://webrobots.io/kickstarter-datasets/\n",
    "\n",
    "Indiegogo data here: https://webrobots.io/indiegogo-dataset/\n",
    "\n",
    "Remember the data checklist:\n",
    "\n",
    "**What**\n",
    "\n",
    "* Number of observations\n",
    "* Definition of entities\n",
    "* Missing data\n",
    "* Activities of relevance for project\n",
    "\n",
    "**Where**\n",
    "\n",
    "* Geographical unit of analysis\n",
    "* Geographical distribution\n",
    "\n",
    "**When**\n",
    "\n",
    "* Time coverage and trends\n",
    "\n",
    "\n"
   ]
  },
  {
   "cell_type": "code",
   "execution_count": 471,
   "metadata": {},
   "outputs": [],
   "source": [
    "with open('../data/external/crowdfunding/Kickstarter_2018-10-18T03_20_48_880Z.json','r') as infile:\n",
    "    k_json = [json.loads(line) for line in infile]"
   ]
  },
  {
   "cell_type": "code",
   "execution_count": 485,
   "metadata": {},
   "outputs": [],
   "source": [
    "kdata = [obs['data'] for obs in k_json]"
   ]
  },
  {
   "cell_type": "code",
   "execution_count": 488,
   "metadata": {},
   "outputs": [],
   "source": [
    "kdf = pd.DataFrame(kdata)"
   ]
  },
  {
   "cell_type": "code",
   "execution_count": 489,
   "metadata": {},
   "outputs": [
    {
     "data": {
      "text/html": [
       "<div>\n",
       "<style scoped>\n",
       "    .dataframe tbody tr th:only-of-type {\n",
       "        vertical-align: middle;\n",
       "    }\n",
       "\n",
       "    .dataframe tbody tr th {\n",
       "        vertical-align: top;\n",
       "    }\n",
       "\n",
       "    .dataframe thead th {\n",
       "        text-align: right;\n",
       "    }\n",
       "</style>\n",
       "<table border=\"1\" class=\"dataframe\">\n",
       "  <thead>\n",
       "    <tr style=\"text-align: right;\">\n",
       "      <th></th>\n",
       "      <th>backers_count</th>\n",
       "      <th>blurb</th>\n",
       "      <th>category</th>\n",
       "      <th>converted_pledged_amount</th>\n",
       "      <th>country</th>\n",
       "      <th>created_at</th>\n",
       "      <th>creator</th>\n",
       "      <th>currency</th>\n",
       "      <th>currency_symbol</th>\n",
       "      <th>currency_trailing_code</th>\n",
       "      <th>...</th>\n",
       "      <th>slug</th>\n",
       "      <th>source_url</th>\n",
       "      <th>spotlight</th>\n",
       "      <th>staff_pick</th>\n",
       "      <th>state</th>\n",
       "      <th>state_changed_at</th>\n",
       "      <th>static_usd_rate</th>\n",
       "      <th>urls</th>\n",
       "      <th>usd_pledged</th>\n",
       "      <th>usd_type</th>\n",
       "    </tr>\n",
       "  </thead>\n",
       "  <tbody>\n",
       "    <tr>\n",
       "      <th>0</th>\n",
       "      <td>1</td>\n",
       "      <td>Jozii is the premier service for full-time uni...</td>\n",
       "      <td>{'id': 342, 'name': 'Web', 'slug': 'technology...</td>\n",
       "      <td>50</td>\n",
       "      <td>US</td>\n",
       "      <td>1413476386</td>\n",
       "      <td>{'id': 69089661, 'name': 'AJ Smith and Brandon...</td>\n",
       "      <td>USD</td>\n",
       "      <td>$</td>\n",
       "      <td>True</td>\n",
       "      <td>...</td>\n",
       "      <td>jozii-college-jobs-made-easy</td>\n",
       "      <td>https://www.kickstarter.com/discover/categorie...</td>\n",
       "      <td>False</td>\n",
       "      <td>False</td>\n",
       "      <td>failed</td>\n",
       "      <td>1417150742</td>\n",
       "      <td>1.000000</td>\n",
       "      <td>{'web': {'project': 'https://www.kickstarter.c...</td>\n",
       "      <td>50.0</td>\n",
       "      <td>international</td>\n",
       "    </tr>\n",
       "    <tr>\n",
       "      <th>1</th>\n",
       "      <td>63</td>\n",
       "      <td>Dropsy is an adventure game with a focus on ex...</td>\n",
       "      <td>{'id': 35, 'name': 'Video Games', 'slug': 'gam...</td>\n",
       "      <td>1613</td>\n",
       "      <td>US</td>\n",
       "      <td>1317217452</td>\n",
       "      <td>{'id': 918042514, 'name': 'Jay Tholen', 'slug'...</td>\n",
       "      <td>USD</td>\n",
       "      <td>$</td>\n",
       "      <td>True</td>\n",
       "      <td>...</td>\n",
       "      <td>dropsy-a-different-take-on-the-old-school-adve...</td>\n",
       "      <td>https://www.kickstarter.com/discover/categorie...</td>\n",
       "      <td>True</td>\n",
       "      <td>True</td>\n",
       "      <td>successful</td>\n",
       "      <td>1320259153</td>\n",
       "      <td>1.000000</td>\n",
       "      <td>{'web': {'project': 'https://www.kickstarter.c...</td>\n",
       "      <td>1613.47</td>\n",
       "      <td>international</td>\n",
       "    </tr>\n",
       "    <tr>\n",
       "      <th>2</th>\n",
       "      <td>113</td>\n",
       "      <td>We've bought a press and already found a studi...</td>\n",
       "      <td>{'id': 349, 'name': 'Letterpress', 'slug': 'pu...</td>\n",
       "      <td>6633</td>\n",
       "      <td>US</td>\n",
       "      <td>1403324529</td>\n",
       "      <td>{'id': 1551377593, 'name': 'Camila and Daniela...</td>\n",
       "      <td>USD</td>\n",
       "      <td>$</td>\n",
       "      <td>True</td>\n",
       "      <td>...</td>\n",
       "      <td>letra-chueca-crooked-letter-a-printshop-and-bi...</td>\n",
       "      <td>https://www.kickstarter.com/discover/categorie...</td>\n",
       "      <td>True</td>\n",
       "      <td>False</td>\n",
       "      <td>successful</td>\n",
       "      <td>1410502338</td>\n",
       "      <td>1.000000</td>\n",
       "      <td>{'web': {'project': 'https://www.kickstarter.c...</td>\n",
       "      <td>6633.0</td>\n",
       "      <td>international</td>\n",
       "    </tr>\n",
       "    <tr>\n",
       "      <th>3</th>\n",
       "      <td>1</td>\n",
       "      <td>Premium, fashion sneaker brand intertwining hi...</td>\n",
       "      <td>{'id': 266, 'name': 'Footwear', 'slug': 'fashi...</td>\n",
       "      <td>1</td>\n",
       "      <td>GB</td>\n",
       "      <td>1457103832</td>\n",
       "      <td>{'id': 1361409471, 'name': 'Ross Buckley', 'is...</td>\n",
       "      <td>GBP</td>\n",
       "      <td>£</td>\n",
       "      <td>False</td>\n",
       "      <td>...</td>\n",
       "      <td>high-end-premium-handmade-sneakers</td>\n",
       "      <td>https://www.kickstarter.com/discover/categorie...</td>\n",
       "      <td>False</td>\n",
       "      <td>False</td>\n",
       "      <td>failed</td>\n",
       "      <td>1462305856</td>\n",
       "      <td>1.407899</td>\n",
       "      <td>{'web': {'project': 'https://www.kickstarter.c...</td>\n",
       "      <td>1.40789944</td>\n",
       "      <td>international</td>\n",
       "    </tr>\n",
       "    <tr>\n",
       "      <th>4</th>\n",
       "      <td>99</td>\n",
       "      <td>Made in Europe from the finest quality leather...</td>\n",
       "      <td>{'id': 266, 'name': 'Footwear', 'slug': 'fashi...</td>\n",
       "      <td>20654</td>\n",
       "      <td>CA</td>\n",
       "      <td>1423776567</td>\n",
       "      <td>{'id': 456810610, 'name': 'Luigi Sardo', 'slug...</td>\n",
       "      <td>CAD</td>\n",
       "      <td>$</td>\n",
       "      <td>True</td>\n",
       "      <td>...</td>\n",
       "      <td>the-domenico-sneakerboot-by-luigi-sardo</td>\n",
       "      <td>https://www.kickstarter.com/discover/categorie...</td>\n",
       "      <td>True</td>\n",
       "      <td>False</td>\n",
       "      <td>successful</td>\n",
       "      <td>1429678899</td>\n",
       "      <td>0.782122</td>\n",
       "      <td>{'web': {'project': 'https://www.kickstarter.c...</td>\n",
       "      <td>19817.40571572</td>\n",
       "      <td>international</td>\n",
       "    </tr>\n",
       "  </tbody>\n",
       "</table>\n",
       "<p>5 rows × 37 columns</p>\n",
       "</div>"
      ],
      "text/plain": [
       "   backers_count                                              blurb  \\\n",
       "0              1  Jozii is the premier service for full-time uni...   \n",
       "1             63  Dropsy is an adventure game with a focus on ex...   \n",
       "2            113  We've bought a press and already found a studi...   \n",
       "3              1  Premium, fashion sneaker brand intertwining hi...   \n",
       "4             99  Made in Europe from the finest quality leather...   \n",
       "\n",
       "                                            category  \\\n",
       "0  {'id': 342, 'name': 'Web', 'slug': 'technology...   \n",
       "1  {'id': 35, 'name': 'Video Games', 'slug': 'gam...   \n",
       "2  {'id': 349, 'name': 'Letterpress', 'slug': 'pu...   \n",
       "3  {'id': 266, 'name': 'Footwear', 'slug': 'fashi...   \n",
       "4  {'id': 266, 'name': 'Footwear', 'slug': 'fashi...   \n",
       "\n",
       "   converted_pledged_amount country  created_at  \\\n",
       "0                        50      US  1413476386   \n",
       "1                      1613      US  1317217452   \n",
       "2                      6633      US  1403324529   \n",
       "3                         1      GB  1457103832   \n",
       "4                     20654      CA  1423776567   \n",
       "\n",
       "                                             creator currency currency_symbol  \\\n",
       "0  {'id': 69089661, 'name': 'AJ Smith and Brandon...      USD               $   \n",
       "1  {'id': 918042514, 'name': 'Jay Tholen', 'slug'...      USD               $   \n",
       "2  {'id': 1551377593, 'name': 'Camila and Daniela...      USD               $   \n",
       "3  {'id': 1361409471, 'name': 'Ross Buckley', 'is...      GBP               £   \n",
       "4  {'id': 456810610, 'name': 'Luigi Sardo', 'slug...      CAD               $   \n",
       "\n",
       "   currency_trailing_code      ...        \\\n",
       "0                    True      ...         \n",
       "1                    True      ...         \n",
       "2                    True      ...         \n",
       "3                   False      ...         \n",
       "4                    True      ...         \n",
       "\n",
       "                                                slug  \\\n",
       "0                       jozii-college-jobs-made-easy   \n",
       "1  dropsy-a-different-take-on-the-old-school-adve...   \n",
       "2  letra-chueca-crooked-letter-a-printshop-and-bi...   \n",
       "3                 high-end-premium-handmade-sneakers   \n",
       "4            the-domenico-sneakerboot-by-luigi-sardo   \n",
       "\n",
       "                                          source_url  spotlight staff_pick  \\\n",
       "0  https://www.kickstarter.com/discover/categorie...      False      False   \n",
       "1  https://www.kickstarter.com/discover/categorie...       True       True   \n",
       "2  https://www.kickstarter.com/discover/categorie...       True      False   \n",
       "3  https://www.kickstarter.com/discover/categorie...      False      False   \n",
       "4  https://www.kickstarter.com/discover/categorie...       True      False   \n",
       "\n",
       "        state  state_changed_at  static_usd_rate  \\\n",
       "0      failed        1417150742         1.000000   \n",
       "1  successful        1320259153         1.000000   \n",
       "2  successful        1410502338         1.000000   \n",
       "3      failed        1462305856         1.407899   \n",
       "4  successful        1429678899         0.782122   \n",
       "\n",
       "                                                urls     usd_pledged  \\\n",
       "0  {'web': {'project': 'https://www.kickstarter.c...            50.0   \n",
       "1  {'web': {'project': 'https://www.kickstarter.c...         1613.47   \n",
       "2  {'web': {'project': 'https://www.kickstarter.c...          6633.0   \n",
       "3  {'web': {'project': 'https://www.kickstarter.c...      1.40789944   \n",
       "4  {'web': {'project': 'https://www.kickstarter.c...  19817.40571572   \n",
       "\n",
       "        usd_type  \n",
       "0  international  \n",
       "1  international  \n",
       "2  international  \n",
       "3  international  \n",
       "4  international  \n",
       "\n",
       "[5 rows x 37 columns]"
      ]
     },
     "execution_count": 489,
     "metadata": {},
     "output_type": "execute_result"
    }
   ],
   "source": [
    "kdf.head()"
   ]
  },
  {
   "cell_type": "code",
   "execution_count": 490,
   "metadata": {},
   "outputs": [
    {
     "data": {
      "text/plain": [
       "(205696, 37)"
      ]
     },
     "execution_count": 490,
     "metadata": {},
     "output_type": "execute_result"
    }
   ],
   "source": [
    "kdf.shape"
   ]
  },
  {
   "cell_type": "markdown",
   "metadata": {},
   "source": [
    "There are around 205,000 projects"
   ]
  },
  {
   "cell_type": "markdown",
   "metadata": {},
   "source": [
    "#### What is an entity here?"
   ]
  },
  {
   "cell_type": "code",
   "execution_count": 494,
   "metadata": {},
   "outputs": [
    {
     "data": {
      "text/plain": [
       "backers_count                                                               1\n",
       "blurb                       Jozii is the premier service for full-time uni...\n",
       "category                    {'id': 342, 'name': 'Web', 'slug': 'technology...\n",
       "converted_pledged_amount                                                   50\n",
       "country                                                                    US\n",
       "created_at                                                         1413476386\n",
       "creator                     {'id': 69089661, 'name': 'AJ Smith and Brandon...\n",
       "currency                                                                  USD\n",
       "currency_symbol                                                             $\n",
       "currency_trailing_code                                                   True\n",
       "current_currency                                                          USD\n",
       "deadline                                                           1417150740\n",
       "disable_communication                                                   False\n",
       "friends                                                                   NaN\n",
       "fx_rate                                                                     1\n",
       "goal                                                                     3500\n",
       "id                                                                  895922629\n",
       "is_backing                                                                NaN\n",
       "is_starrable                                                            False\n",
       "is_starred                                                                NaN\n",
       "launched_at                                                        1414525374\n",
       "location                    {'id': 12589342, 'name': 'Manhattan', 'slug': ...\n",
       "name                                             Jozii-College Jobs Made Easy\n",
       "permissions                                                               NaN\n",
       "photo                       {'key': 'assets/011/911/160/2ff8292ff8ad7486f3...\n",
       "pledged                                                                    50\n",
       "profile                     {'id': 1445394, 'project_id': 1445394, 'state'...\n",
       "slug                                             jozii-college-jobs-made-easy\n",
       "source_url                  https://www.kickstarter.com/discover/categorie...\n",
       "spotlight                                                               False\n",
       "staff_pick                                                              False\n",
       "state                                                                  failed\n",
       "state_changed_at                                                   1417150742\n",
       "static_usd_rate                                                             1\n",
       "urls                        {'web': {'project': 'https://www.kickstarter.c...\n",
       "usd_pledged                                                              50.0\n",
       "usd_type                                                        international\n",
       "Name: 0, dtype: object"
      ]
     },
     "execution_count": 494,
     "metadata": {},
     "output_type": "execute_result"
    }
   ],
   "source": [
    "kdf.loc[0]"
   ]
  },
  {
   "cell_type": "markdown",
   "metadata": {},
   "source": [
    "An entity is a project. "
   ]
  },
  {
   "cell_type": "code",
   "execution_count": 495,
   "metadata": {},
   "outputs": [
    {
     "data": {
      "text/plain": [
       "successful    114158\n",
       "failed         74951\n",
       "canceled        8532\n",
       "live            7438\n",
       "suspended        617\n",
       "Name: state, dtype: int64"
      ]
     },
     "execution_count": 495,
     "metadata": {},
     "output_type": "execute_result"
    }
   ],
   "source": [
    "kdf['state'].value_counts()"
   ]
  },
  {
   "cell_type": "markdown",
   "metadata": {},
   "source": [
    "This seems to include all projects in Kickstarter ever"
   ]
  },
  {
   "cell_type": "code",
   "execution_count": 496,
   "metadata": {},
   "outputs": [
    {
     "data": {
      "text/plain": [
       "Index(['backers_count', 'blurb', 'category', 'converted_pledged_amount',\n",
       "       'country', 'created_at', 'creator', 'currency', 'currency_symbol',\n",
       "       'currency_trailing_code', 'current_currency', 'deadline',\n",
       "       'disable_communication', 'friends', 'fx_rate', 'goal', 'id',\n",
       "       'is_backing', 'is_starrable', 'is_starred', 'launched_at', 'location',\n",
       "       'name', 'permissions', 'photo', 'pledged', 'profile', 'slug',\n",
       "       'source_url', 'spotlight', 'staff_pick', 'state', 'state_changed_at',\n",
       "       'static_usd_rate', 'urls', 'usd_pledged', 'usd_type'],\n",
       "      dtype='object')"
      ]
     },
     "execution_count": 496,
     "metadata": {},
     "output_type": "execute_result"
    }
   ],
   "source": [
    "kdf.columns"
   ]
  },
  {
   "cell_type": "markdown",
   "metadata": {},
   "source": [
    "Some variables we will work with shortly:\n",
    "\n",
    "* Category / blurb (to find activities related to health)\n",
    "* Country / location (to analyse geography)\n",
    "* launched at / created at // deadline / status (to measure trends and geography)"
   ]
  },
  {
   "cell_type": "markdown",
   "metadata": {},
   "source": [
    "### Missing values"
   ]
  },
  {
   "cell_type": "code",
   "execution_count": 500,
   "metadata": {},
   "outputs": [
    {
     "data": {
      "text/plain": [
       "<matplotlib.axes._subplots.AxesSubplot at 0x59e2c6be0>"
      ]
     },
     "execution_count": 500,
     "metadata": {},
     "output_type": "execute_result"
    },
    {
     "data": {
      "image/png": "[encoded data removed]",
      "text/plain": [
       "<Figure size 432x288 with 1 Axes>"
      ]
     },
     "metadata": {},
     "output_type": "display_data"
    }
   ],
   "source": [
    "kdf.apply(lambda x: x.isna().mean(),axis=0).plot.bar(color='navy')"
   ]
  },
  {
   "cell_type": "markdown",
   "metadata": {},
   "source": [
    "Few missing data"
   ]
  },
  {
   "cell_type": "markdown",
   "metadata": {},
   "source": [
    "### Activities of relevance to the project.\n",
    "\n",
    "In this case it would be projects that are about health or mention health"
   ]
  },
  {
   "cell_type": "markdown",
   "metadata": {},
   "source": [
    "#### Check categories "
   ]
  },
  {
   "cell_type": "code",
   "execution_count": 503,
   "metadata": {},
   "outputs": [
    {
     "data": {
      "text/plain": [
       "{'id': 342,\n",
       " 'name': 'Web',\n",
       " 'slug': 'technology/web',\n",
       " 'position': 15,\n",
       " 'parent_id': 16,\n",
       " 'color': 6526716,\n",
       " 'urls': {'web': {'discover': 'http://www.kickstarter.com/discover/categories/technology/web'}}}"
      ]
     },
     "execution_count": 503,
     "metadata": {},
     "output_type": "execute_result"
    }
   ],
   "source": [
    "kdf['category'][0]"
   ]
  },
  {
   "cell_type": "markdown",
   "metadata": {},
   "source": [
    "We need to extract the categories from this field"
   ]
  },
  {
   "cell_type": "code",
   "execution_count": 504,
   "metadata": {},
   "outputs": [],
   "source": [
    "kdf['category_value']=[x['name'] for x in kdf['category']]"
   ]
  },
  {
   "cell_type": "code",
   "execution_count": 510,
   "metadata": {},
   "outputs": [
    {
     "data": {
      "text/plain": [
       "159"
      ]
     },
     "execution_count": 510,
     "metadata": {},
     "output_type": "execute_result"
    }
   ],
   "source": [
    "kdf_cats = kdf.category_value.value_counts()\n",
    "\n",
    "len(kdf_cats)"
   ]
  },
  {
   "cell_type": "markdown",
   "metadata": {},
   "source": [
    "159 categories"
   ]
  },
  {
   "cell_type": "code",
   "execution_count": 517,
   "metadata": {},
   "outputs": [
    {
     "data": {
      "text/plain": [
       "(array([ 4.,  8.,  7., 21.,  6.,  6.,  5.,  5.,  4.,  9.,  3.,  4.,  6.,\n",
       "         5.,  2.,  2.,  1.,  6.,  2.,  2.,  2.,  0.,  2.,  2.,  3.,  0.,\n",
       "         1.,  2.,  9.,  6., 10.,  4.,  0.,  3.,  0.,  3.,  0.,  1.,  0.,\n",
       "         0.,  0.,  0.,  1.,  0.,  0.,  0.,  0.,  0.,  1.,  1.]),\n",
       " array([  18.  ,  103.98,  189.96,  275.94,  361.92,  447.9 ,  533.88,\n",
       "         619.86,  705.84,  791.82,  877.8 ,  963.78, 1049.76, 1135.74,\n",
       "        1221.72, 1307.7 , 1393.68, 1479.66, 1565.64, 1651.62, 1737.6 ,\n",
       "        1823.58, 1909.56, 1995.54, 2081.52, 2167.5 , 2253.48, 2339.46,\n",
       "        2425.44, 2511.42, 2597.4 , 2683.38, 2769.36, 2855.34, 2941.32,\n",
       "        3027.3 , 3113.28, 3199.26, 3285.24, 3371.22, 3457.2 , 3543.18,\n",
       "        3629.16, 3715.14, 3801.12, 3887.1 , 3973.08, 4059.06, 4145.04,\n",
       "        4231.02, 4317.  ]),\n",
       " <a list of 50 Patch objects>)"
      ]
     },
     "execution_count": 517,
     "metadata": {},
     "output_type": "execute_result"
    },
    {
     "data": {
      "image/png": "[encoded data removed]",
      "text/plain": [
       "<Figure size 432x288 with 1 Axes>"
      ]
     },
     "metadata": {},
     "output_type": "display_data"
    }
   ],
   "source": [
    "plt.hist(kdf_cats,bins=50,color='navy')"
   ]
  },
  {
   "cell_type": "code",
   "execution_count": 518,
   "metadata": {},
   "outputs": [
    {
     "data": {
      "text/plain": [
       "Web               4317\n",
       "Product Design    4153\n",
       "Tabletop Games    3636\n",
       "Shorts            3204\n",
       "Documentary       3108\n",
       "Hardware          3067\n",
       "Video Games       3035\n",
       "Fiction           2895\n",
       "Nonfiction        2883\n",
       "Indie Rock        2860\n",
       "Name: category_value, dtype: int64"
      ]
     },
     "execution_count": 518,
     "metadata": {},
     "output_type": "execute_result"
    }
   ],
   "source": [
    "kdf_cats.head(n=10)"
   ]
  },
  {
   "cell_type": "code",
   "execution_count": 522,
   "metadata": {},
   "outputs": [
    {
     "data": {
      "text/plain": [
       "False"
      ]
     },
     "execution_count": 522,
     "metadata": {},
     "output_type": "execute_result"
    }
   ],
   "source": [
    "'health' in list([x.lower() for x in kdf_cats.index])"
   ]
  },
  {
   "cell_type": "markdown",
   "metadata": {},
   "source": [
    "No health category"
   ]
  },
  {
   "cell_type": "markdown",
   "metadata": {},
   "source": [
    "#### Check blurbs"
   ]
  },
  {
   "cell_type": "code",
   "execution_count": 523,
   "metadata": {},
   "outputs": [],
   "source": [
    "keywords = ['health','well-being','wellbeing']"
   ]
  },
  {
   "cell_type": "code",
   "execution_count": 532,
   "metadata": {},
   "outputs": [],
   "source": [
    "#Nww boolean field for projects mentioning healthy stuff\n",
    "kdf['healthy']= [any(x in text.lower() for x in keywords) for text in kdf.blurb]"
   ]
  },
  {
   "cell_type": "code",
   "execution_count": 540,
   "metadata": {},
   "outputs": [
    {
     "data": {
      "text/plain": [
       "1955"
      ]
     },
     "execution_count": 540,
     "metadata": {},
     "output_type": "execute_result"
    }
   ],
   "source": [
    "kdf['healthy'].sum()"
   ]
  },
  {
   "cell_type": "markdown",
   "metadata": {},
   "source": [
    "1955 have the keyword"
   ]
  },
  {
   "cell_type": "code",
   "execution_count": 541,
   "metadata": {},
   "outputs": [
    {
     "data": {
      "text/html": [
       "<div>\n",
       "<style scoped>\n",
       "    .dataframe tbody tr th:only-of-type {\n",
       "        vertical-align: middle;\n",
       "    }\n",
       "\n",
       "    .dataframe tbody tr th {\n",
       "        vertical-align: top;\n",
       "    }\n",
       "\n",
       "    .dataframe thead th {\n",
       "        text-align: right;\n",
       "    }\n",
       "</style>\n",
       "<table border=\"1\" class=\"dataframe\">\n",
       "  <thead>\n",
       "    <tr style=\"text-align: right;\">\n",
       "      <th>healthy</th>\n",
       "      <th>False</th>\n",
       "      <th>True</th>\n",
       "    </tr>\n",
       "    <tr>\n",
       "      <th>category_value</th>\n",
       "      <th></th>\n",
       "      <th></th>\n",
       "    </tr>\n",
       "  </thead>\n",
       "  <tbody>\n",
       "    <tr>\n",
       "      <th>Restaurants</th>\n",
       "      <td>2302</td>\n",
       "      <td>143</td>\n",
       "    </tr>\n",
       "    <tr>\n",
       "      <th>Vegan</th>\n",
       "      <td>615</td>\n",
       "      <td>130</td>\n",
       "    </tr>\n",
       "    <tr>\n",
       "      <th>Food</th>\n",
       "      <td>2047</td>\n",
       "      <td>111</td>\n",
       "    </tr>\n",
       "    <tr>\n",
       "      <th>Drinks</th>\n",
       "      <td>2349</td>\n",
       "      <td>103</td>\n",
       "    </tr>\n",
       "    <tr>\n",
       "      <th>Small Batch</th>\n",
       "      <td>1945</td>\n",
       "      <td>100</td>\n",
       "    </tr>\n",
       "    <tr>\n",
       "      <th>Food Trucks</th>\n",
       "      <td>1858</td>\n",
       "      <td>97</td>\n",
       "    </tr>\n",
       "    <tr>\n",
       "      <th>Farms</th>\n",
       "      <td>1185</td>\n",
       "      <td>82</td>\n",
       "    </tr>\n",
       "    <tr>\n",
       "      <th>Web</th>\n",
       "      <td>4235</td>\n",
       "      <td>82</td>\n",
       "    </tr>\n",
       "    <tr>\n",
       "      <th>Cookbooks</th>\n",
       "      <td>560</td>\n",
       "      <td>60</td>\n",
       "    </tr>\n",
       "    <tr>\n",
       "      <th>Wearables</th>\n",
       "      <td>1406</td>\n",
       "      <td>45</td>\n",
       "    </tr>\n",
       "  </tbody>\n",
       "</table>\n",
       "</div>"
      ],
      "text/plain": [
       "healthy         False  True \n",
       "category_value              \n",
       "Restaurants      2302    143\n",
       "Vegan             615    130\n",
       "Food             2047    111\n",
       "Drinks           2349    103\n",
       "Small Batch      1945    100\n",
       "Food Trucks      1858     97\n",
       "Farms            1185     82\n",
       "Web              4235     82\n",
       "Cookbooks         560     60\n",
       "Wearables        1406     45"
      ]
     },
     "execution_count": 541,
     "metadata": {},
     "output_type": "execute_result"
    }
   ],
   "source": [
    "health_categories = pd.crosstab(kdf['category_value'],kdf['healthy']).sort_values(True,ascending=False)\n",
    "\n",
    "health_categories[:10]"
   ]
  },
  {
   "cell_type": "markdown",
   "metadata": {},
   "source": [
    "Interesting mix"
   ]
  },
  {
   "cell_type": "code",
   "execution_count": 551,
   "metadata": {},
   "outputs": [
    {
     "name": "stdout",
     "output_type": "stream",
     "text": [
      "Restaurants\n",
      "====\n",
      "====\n",
      "Help bring #organic#healthy#delicious#CentralAsian cuisine to our community. Serving tandoor, grill, classic Kebabs with various sides\n",
      "\n",
      "\n",
      "====\n",
      "Help Good Bird, purveyors of fresh, healthy chicken and salads, open up their brand-new Freret St location.\n",
      "\n",
      "\n",
      "Vegan\n",
      "====\n",
      "====\n",
      "Get Waisted was created to provide you with the power to control your health right from your very own kitchen.\n",
      "\n",
      "\n",
      "====\n",
      "Create and promote tasty sauces free of chemicals,and preservatives for a healthier lifestyle.\n",
      "\n",
      "\n",
      "Food\n",
      "====\n",
      "====\n",
      "Please help me build a health department-approved kitchen for on-farm cooking/cheesemaking workshops and other events!\n",
      "\n",
      "\n",
      "====\n",
      "Sugar-free, organic, raw, superfood chocolate. Please help me add new flavors so everyone's craving can be met: healthfully!\n",
      "\n",
      "\n",
      "Drinks\n",
      "====\n",
      "====\n",
      "Transforming apple cider vinegar into a serious daily supplement for on the go health benefits.\n",
      "\n",
      "\n",
      "====\n",
      "Making delicious kombucha mixed with essential oils. This makes a great smelling, healthy daily beverage. Also classic and sweet tea.\n",
      "\n",
      "\n",
      "Small Batch\n",
      "====\n",
      "====\n",
      "Texas Tapenade - A Texas style olive blend containing the freshest ingredients creating intense flavors offering a healthy feast.\n",
      "\n",
      "\n",
      "====\n",
      "Healthy cereal for people who work out and exercise.\n",
      "\n",
      "\n",
      "Food Trucks\n",
      "====\n",
      "====\n",
      "Healthy Food is my companion and I will share it with the world.\n",
      "\n",
      "\n",
      "====\n",
      "Hummus-mediterranean diet, real food, organic, vegan, kosher.\n",
      "An original great health oriented street food in Santa Fe NM.\n",
      "\n",
      "\n",
      "Farms\n",
      "====\n",
      "====\n",
      "Growing our own food, caring for animals and the environment, providing education on healthy and sustainable living is what we do best!\n",
      "\n",
      "\n",
      "====\n",
      "Local sustainable healthy specialty crops organically produced food and opportunities with community supported agriculture !\n",
      "\n",
      "\n",
      "Web\n",
      "====\n",
      "====\n",
      "Jacksonville, Florida health forum making health a community effort! Meet health care providers or join fitness events all on one site.\n",
      "\n",
      "\n",
      "====\n",
      "A healthy map for people on the go all over the world to find a healthy place in an easy way. With rewiews and offers to stay healthy\n",
      "\n",
      "\n",
      "Cookbooks\n",
      "====\n",
      "====\n",
      "The aim is to create healthy, simple, home cooked food that is quick to prepare, easy to make, and a pleasure for our little ones tums!\n",
      "\n",
      "\n",
      "====\n",
      "A digital cookbook for students. Cheap, awesome tasting and health food to lose those extra pounds from eating fastfood and pasta.\n",
      "\n",
      "\n",
      "Wearables\n",
      "====\n",
      "====\n",
      "No more old-age brain wave device using light and sound! /sleep/meditation/learning/study/brain//smart/health/Pillow/drone/smartwatch\n",
      "\n",
      "\n",
      "====\n",
      "A wearable band that analyzes your walking posture and helps to walk healthy, provides your body balance & tracks your daily activities\n",
      "\n",
      "\n",
      "Community Gardens\n",
      "====\n",
      "====\n",
      "We want to encourage, create, and enhance healthy eating programs for kids. Help us plant a sustainable veggie patch at a local school!\n",
      "\n",
      "\n",
      "====\n",
      "Our purpose is to educate, enrich and expose inner city youth to Culinary Arts through healthy food preparation, storage & consumption.\n",
      "\n",
      "\n",
      "Apps\n",
      "====\n",
      "====\n",
      "Healthcare Nurse call Tech is low key and needs advanced, we have the solution, Apple watch units measuring plus, stats and Alarm call\n",
      "\n",
      "\n",
      "====\n",
      "The Yelp for hotel gyms & hotel fitness centers around the world. A new healthy & exciting way to search and book your next hotel stay\n",
      "\n",
      "\n",
      "Nonfiction\n",
      "====\n",
      "====\n",
      "A story about our family's encounter with psychiatry, med-free recovery, and a vision for optimizing children's mental health.\n",
      "\n",
      "\n",
      "====\n",
      "(Your 4 keys to a healthier happier you) is a book  which can help you set your life on a new  healthier , wealthier and happier path\n",
      "\n",
      "\n",
      "Software\n",
      "====\n",
      "====\n",
      "To contribute to the health of the students mind by providing tools to expand the frontiers of their imagination.\n",
      "\n",
      "\n",
      "====\n",
      "Health record keeping software - effective & affordable for small - medium practices, group homes, Hm Hlth or charitable healthcare org\n",
      "\n",
      "\n",
      "Farmer's Markets\n",
      "====\n",
      "====\n",
      "Café Bel-Air is Edmonton’s first artisanal gourmet ice-pops company. We emphasize local and all-natural ingredients for a healthy pop.\n",
      "\n",
      "\n",
      "====\n",
      "I match you with a new hive, place that hive in a healthy environment and YOU get ALL the high quality pure honey. I do all the work!\n",
      "\n",
      "\n"
     ]
    }
   ],
   "source": [
    "for x in health_categories.index[:15]:\n",
    "    print(x)\n",
    "    print('====')\n",
    "    sample_obs(kdf.loc[(kdf.category_value==x) & (kdf.healthy==True)],'blurb',sample_size=2,text_length=500)\n",
    "    "
   ]
  },
  {
   "cell_type": "code",
   "execution_count": 556,
   "metadata": {},
   "outputs": [
    {
     "data": {
      "text/html": [
       "<div>\n",
       "<style scoped>\n",
       "    .dataframe tbody tr th:only-of-type {\n",
       "        vertical-align: middle;\n",
       "    }\n",
       "\n",
       "    .dataframe tbody tr th {\n",
       "        vertical-align: top;\n",
       "    }\n",
       "\n",
       "    .dataframe thead th {\n",
       "        text-align: right;\n",
       "    }\n",
       "</style>\n",
       "<table border=\"1\" class=\"dataframe\">\n",
       "  <thead>\n",
       "    <tr style=\"text-align: right;\">\n",
       "      <th>healthy</th>\n",
       "      <th>False</th>\n",
       "      <th>True</th>\n",
       "    </tr>\n",
       "    <tr>\n",
       "      <th>state</th>\n",
       "      <th></th>\n",
       "      <th></th>\n",
       "    </tr>\n",
       "  </thead>\n",
       "  <tbody>\n",
       "    <tr>\n",
       "      <th>canceled</th>\n",
       "      <td>8432</td>\n",
       "      <td>100</td>\n",
       "    </tr>\n",
       "    <tr>\n",
       "      <th>failed</th>\n",
       "      <td>73899</td>\n",
       "      <td>1052</td>\n",
       "    </tr>\n",
       "    <tr>\n",
       "      <th>live</th>\n",
       "      <td>7329</td>\n",
       "      <td>109</td>\n",
       "    </tr>\n",
       "    <tr>\n",
       "      <th>successful</th>\n",
       "      <td>113472</td>\n",
       "      <td>686</td>\n",
       "    </tr>\n",
       "    <tr>\n",
       "      <th>suspended</th>\n",
       "      <td>609</td>\n",
       "      <td>8</td>\n",
       "    </tr>\n",
       "  </tbody>\n",
       "</table>\n",
       "</div>"
      ],
      "text/plain": [
       "healthy      False  True \n",
       "state                    \n",
       "canceled      8432    100\n",
       "failed       73899   1052\n",
       "live          7329    109\n",
       "successful  113472    686\n",
       "suspended      609      8"
      ]
     },
     "execution_count": 556,
     "metadata": {},
     "output_type": "execute_result"
    }
   ],
   "source": [
    "pd.crosstab(kdf['state'],kdf['healthy'])"
   ]
  },
  {
   "cell_type": "markdown",
   "metadata": {},
   "source": [
    "109 live health-related projects right now"
   ]
  },
  {
   "cell_type": "markdown",
   "metadata": {},
   "source": [
    "### Where"
   ]
  },
  {
   "cell_type": "code",
   "execution_count": 559,
   "metadata": {},
   "outputs": [
    {
     "data": {
      "text/html": [
       "<div>\n",
       "<style scoped>\n",
       "    .dataframe tbody tr th:only-of-type {\n",
       "        vertical-align: middle;\n",
       "    }\n",
       "\n",
       "    .dataframe tbody tr th {\n",
       "        vertical-align: top;\n",
       "    }\n",
       "\n",
       "    .dataframe thead th {\n",
       "        text-align: right;\n",
       "    }\n",
       "</style>\n",
       "<table border=\"1\" class=\"dataframe\">\n",
       "  <thead>\n",
       "    <tr style=\"text-align: right;\">\n",
       "      <th>healthy</th>\n",
       "      <th>False</th>\n",
       "      <th>True</th>\n",
       "    </tr>\n",
       "    <tr>\n",
       "      <th>country</th>\n",
       "      <th></th>\n",
       "      <th></th>\n",
       "    </tr>\n",
       "  </thead>\n",
       "  <tbody>\n",
       "    <tr>\n",
       "      <th>US</th>\n",
       "      <td>160148</td>\n",
       "      <td>1441</td>\n",
       "    </tr>\n",
       "    <tr>\n",
       "      <th>GB</th>\n",
       "      <td>17585</td>\n",
       "      <td>213</td>\n",
       "    </tr>\n",
       "    <tr>\n",
       "      <th>CA</th>\n",
       "      <td>7594</td>\n",
       "      <td>105</td>\n",
       "    </tr>\n",
       "    <tr>\n",
       "      <th>AU</th>\n",
       "      <td>3941</td>\n",
       "      <td>53</td>\n",
       "    </tr>\n",
       "    <tr>\n",
       "      <th>NL</th>\n",
       "      <td>1503</td>\n",
       "      <td>22</td>\n",
       "    </tr>\n",
       "    <tr>\n",
       "      <th>DE</th>\n",
       "      <td>2109</td>\n",
       "      <td>20</td>\n",
       "    </tr>\n",
       "    <tr>\n",
       "      <th>SE</th>\n",
       "      <td>1002</td>\n",
       "      <td>13</td>\n",
       "    </tr>\n",
       "    <tr>\n",
       "      <th>HK</th>\n",
       "      <td>471</td>\n",
       "      <td>12</td>\n",
       "    </tr>\n",
       "    <tr>\n",
       "      <th>IT</th>\n",
       "      <td>1481</td>\n",
       "      <td>12</td>\n",
       "    </tr>\n",
       "    <tr>\n",
       "      <th>ES</th>\n",
       "      <td>1189</td>\n",
       "      <td>10</td>\n",
       "    </tr>\n",
       "    <tr>\n",
       "      <th>NZ</th>\n",
       "      <td>719</td>\n",
       "      <td>9</td>\n",
       "    </tr>\n",
       "    <tr>\n",
       "      <th>DK</th>\n",
       "      <td>654</td>\n",
       "      <td>9</td>\n",
       "    </tr>\n",
       "    <tr>\n",
       "      <th>FR</th>\n",
       "      <td>1608</td>\n",
       "      <td>9</td>\n",
       "    </tr>\n",
       "    <tr>\n",
       "      <th>IE</th>\n",
       "      <td>432</td>\n",
       "      <td>6</td>\n",
       "    </tr>\n",
       "    <tr>\n",
       "      <th>NO</th>\n",
       "      <td>388</td>\n",
       "      <td>4</td>\n",
       "    </tr>\n",
       "    <tr>\n",
       "      <th>CH</th>\n",
       "      <td>396</td>\n",
       "      <td>4</td>\n",
       "    </tr>\n",
       "    <tr>\n",
       "      <th>SG</th>\n",
       "      <td>348</td>\n",
       "      <td>4</td>\n",
       "    </tr>\n",
       "    <tr>\n",
       "      <th>AT</th>\n",
       "      <td>306</td>\n",
       "      <td>4</td>\n",
       "    </tr>\n",
       "    <tr>\n",
       "      <th>MX</th>\n",
       "      <td>1338</td>\n",
       "      <td>2</td>\n",
       "    </tr>\n",
       "    <tr>\n",
       "      <th>BE</th>\n",
       "      <td>378</td>\n",
       "      <td>2</td>\n",
       "    </tr>\n",
       "    <tr>\n",
       "      <th>JP</th>\n",
       "      <td>120</td>\n",
       "      <td>1</td>\n",
       "    </tr>\n",
       "    <tr>\n",
       "      <th>LU</th>\n",
       "      <td>31</td>\n",
       "      <td>0</td>\n",
       "    </tr>\n",
       "  </tbody>\n",
       "</table>\n",
       "</div>"
      ],
      "text/plain": [
       "healthy   False  True \n",
       "country               \n",
       "US       160148   1441\n",
       "GB        17585    213\n",
       "CA         7594    105\n",
       "AU         3941     53\n",
       "NL         1503     22\n",
       "DE         2109     20\n",
       "SE         1002     13\n",
       "HK          471     12\n",
       "IT         1481     12\n",
       "ES         1189     10\n",
       "NZ          719      9\n",
       "DK          654      9\n",
       "FR         1608      9\n",
       "IE          432      6\n",
       "NO          388      4\n",
       "CH          396      4\n",
       "SG          348      4\n",
       "AT          306      4\n",
       "MX         1338      2\n",
       "BE          378      2\n",
       "JP          120      1\n",
       "LU           31      0"
      ]
     },
     "execution_count": 559,
     "metadata": {},
     "output_type": "execute_result"
    }
   ],
   "source": [
    "pd.crosstab(kdf['country'],kdf['healthy']).sort_values(True,ascending=False)"
   ]
  },
  {
   "cell_type": "markdown",
   "metadata": {},
   "source": [
    "Almost exclusively developed countries"
   ]
  },
  {
   "cell_type": "markdown",
   "metadata": {},
   "source": [
    "What are the healthiest cities? (in terms of kickstarter projects)"
   ]
  },
  {
   "cell_type": "code",
   "execution_count": 569,
   "metadata": {},
   "outputs": [
    {
     "data": {
      "text/plain": [
       "{'id': 12589342,\n",
       " 'name': 'Manhattan',\n",
       " 'slug': 'manhattan-ny',\n",
       " 'short_name': 'Manhattan, NY',\n",
       " 'displayable_name': 'Manhattan, NY',\n",
       " 'localized_name': 'Manhattan',\n",
       " 'country': 'US',\n",
       " 'state': 'NY',\n",
       " 'type': 'County',\n",
       " 'is_root': False,\n",
       " 'urls': {'web': {'discover': 'https://www.kickstarter.com/discover/places/manhattan-ny',\n",
       "   'location': 'https://www.kickstarter.com/locations/manhattan-ny'},\n",
       "  'api': {'nearby_projects': 'https://api.kickstarter.com/v1/discover?signature=1539904398.aae3553d1e62a16aac55da44ac8c71966f64bb86&woe_id=12589342'}}}"
      ]
     },
     "execution_count": 569,
     "metadata": {},
     "output_type": "execute_result"
    }
   ],
   "source": [
    "kdf['location'][0]"
   ]
  },
  {
   "cell_type": "code",
   "execution_count": 570,
   "metadata": {},
   "outputs": [],
   "source": [
    "#Extract location value\n",
    "kdf['location_value'] = [val['short_name'] if pd.isnull(val)==False else np.nan for val in kdf['location']]"
   ]
  },
  {
   "cell_type": "code",
   "execution_count": 573,
   "metadata": {},
   "outputs": [],
   "source": [
    "health_cities = pd.crosstab(kdf['location_value'],kdf['healthy']).sort_values(True,ascending=False)[:30]"
   ]
  },
  {
   "cell_type": "code",
   "execution_count": 577,
   "metadata": {},
   "outputs": [],
   "source": [
    "health_cities['ratio'] = health_cities.apply(lambda x: x[True]/x[False],axis=1)"
   ]
  },
  {
   "cell_type": "code",
   "execution_count": 588,
   "metadata": {},
   "outputs": [
    {
     "data": {
      "text/plain": [
       "<matplotlib.axes._subplots.AxesSubplot at 0x371281748>"
      ]
     },
     "execution_count": 588,
     "metadata": {},
     "output_type": "execute_result"
    },
    {
     "data": {
      "image/png": "[encoded data removed]",
      "text/plain": [
       "<Figure size 432x288 with 1 Axes>"
      ]
     },
     "metadata": {},
     "output_type": "display_data"
    }
   ],
   "source": [
    "health_cities.sort_values('ratio',ascending=False)['ratio'].plot.bar(color='navy',title='Ratio of health to non health projects by city')"
   ]
  },
  {
   "cell_type": "markdown",
   "metadata": {},
   "source": [
    "#### When?"
   ]
  },
  {
   "cell_type": "code",
   "execution_count": 596,
   "metadata": {},
   "outputs": [],
   "source": [
    "# Date formats\n",
    "\n",
    "kdf['created_year'] = [datetime.datetime.fromtimestamp(time).year for time in kdf['created_at']]"
   ]
  },
  {
   "cell_type": "code",
   "execution_count": 602,
   "metadata": {},
   "outputs": [
    {
     "data": {
      "text/plain": [
       "<matplotlib.axes._subplots.AxesSubplot at 0x37190f550>"
      ]
     },
     "execution_count": 602,
     "metadata": {},
     "output_type": "execute_result"
    },
    {
     "data": {
      "image/png": "[encoded data removed]",
      "text/plain": [
       "<Figure size 432x288 with 1 Axes>"
      ]
     },
     "metadata": {},
     "output_type": "display_data"
    }
   ],
   "source": [
    "kdf['created_year'].value_counts().sort_values().plot.bar(color='navy')"
   ]
  },
  {
   "cell_type": "code",
   "execution_count": 613,
   "metadata": {},
   "outputs": [
    {
     "data": {
      "text/plain": [
       "<matplotlib.legend.Legend at 0x54f16ffd0>"
      ]
     },
     "execution_count": 613,
     "metadata": {},
     "output_type": "execute_result"
    },
    {
     "data": {
      "image/png": "[encoded data removed]",
      "text/plain": [
       "<Figure size 720x432 with 1 Axes>"
      ]
     },
     "metadata": {},
     "output_type": "display_data"
    }
   ],
   "source": [
    "fig,ax = plt.subplots(figsize=(10,6))\n",
    "\n",
    "pd.crosstab(kdf['country'],kdf['created_year']).T.plot.bar(stacked=True,ax=ax,title='Projects per country')\n",
    "ax.legend(bbox_to_anchor=(1.01,1))"
   ]
  },
  {
   "cell_type": "markdown",
   "metadata": {},
   "source": [
    "I hadn't realised that Kickstarter was declining! US is top orange, UK is blue, China is red) "
   ]
  },
  {
   "cell_type": "code",
   "execution_count": 618,
   "metadata": {},
   "outputs": [
    {
     "data": {
      "text/plain": [
       "<matplotlib.axes._subplots.AxesSubplot at 0x551c43630>"
      ]
     },
     "execution_count": 618,
     "metadata": {},
     "output_type": "execute_result"
    },
    {
     "data": {
      "image/png": "[encoded data removed]",
      "text/plain": [
       "<Figure size 432x288 with 1 Axes>"
      ]
     },
     "metadata": {},
     "output_type": "display_data"
    }
   ],
   "source": [
    "pd.crosstab(kdf['created_year'],kdf['healthy'],normalize=1)[True].plot(title='Proportion of projects that mention health')"
   ]
  },
  {
   "cell_type": "markdown",
   "metadata": {},
   "source": [
    "We detect a decline in the proportion of projects that mention health since a peak of 2016. This could of course be driven by changes in the popularity of different categories"
   ]
  },
  {
   "cell_type": "markdown",
   "metadata": {},
   "source": [
    "### Check tabletop games"
   ]
  },
  {
   "cell_type": "code",
   "execution_count": 624,
   "metadata": {},
   "outputs": [
    {
     "data": {
      "text/plain": [
       "<matplotlib.axes._subplots.AxesSubplot at 0x5528f85f8>"
      ]
     },
     "execution_count": 624,
     "metadata": {},
     "output_type": "execute_result"
    },
    {
     "data": {
      "image/png": "[encoded data removed]",
      "text/plain": [
       "<Figure size 432x288 with 1 Axes>"
      ]
     },
     "metadata": {},
     "output_type": "display_data"
    }
   ],
   "source": [
    "pd.crosstab(kdf['created_year'],kdf['category_value'])['Tabletop Games'].plot.bar(color='navy')"
   ]
  },
  {
   "cell_type": "code",
   "execution_count": null,
   "metadata": {},
   "outputs": [],
   "source": []
  }
 ],
 "metadata": {
  "kernelspec": {
   "display_name": "Python 3",
   "language": "python",
   "name": "python3"
  },
  "language_info": {
   "codemirror_mode": {
    "name": "ipython",
    "version": 3
   },
   "file_extension": ".py",
   "mimetype": "text/x-python",
   "name": "python",
   "nbconvert_exporter": "python",
   "pygments_lexer": "ipython3",
   "version": "3.7.0"
  }
 },
 "nbformat": 4,
 "nbformat_minor": 2
}
