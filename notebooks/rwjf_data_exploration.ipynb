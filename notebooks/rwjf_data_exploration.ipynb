{
 "cells": [
  {
   "cell_type": "markdown",
   "metadata": {},
   "source": [
    "# Exploration of the RWJF data\n",
    "\n",
    "This exploration seeks to understand current levels of geographical, temporal, topical coverage\n"
   ]
  },
  {
   "cell_type": "markdown",
   "metadata": {},
   "source": [
    "## Functions etc"
   ]
  },
  {
   "cell_type": "code",
   "execution_count": 288,
   "metadata": {},
   "outputs": [],
   "source": [
    "import random"
   ]
  },
  {
   "cell_type": "code",
   "execution_count": 291,
   "metadata": {},
   "outputs": [],
   "source": [
    "def flatten_list(lol): \n",
    "    '''\n",
    "    Flatten a list\n",
    "    \n",
    "    '''\n",
    "    return([x for el in lol for x in el])\n",
    "\n",
    "#Get sample\n",
    "\n",
    "def sample_obs(data,field,sample_size,text_length):\n",
    "    '''\n",
    "    Samples observations from a dataset for sense-checking\n",
    "    \n",
    "    '''\n",
    "    \n",
    "    rel = list(data[field])\n",
    "    \n",
    "    out = random.sample(rel,sample_size)\n",
    "    \n",
    "    for s in out:\n",
    "        print('====')\n",
    "        print(s[:text_length])\n",
    "        print('\\n')\n"
   ]
  },
  {
   "cell_type": "markdown",
   "metadata": {},
   "source": [
    "## Load data"
   ]
  },
  {
   "cell_type": "code",
   "execution_count": 18,
   "metadata": {},
   "outputs": [
    {
     "name": "stderr",
     "output_type": "stream",
     "text": [
      "/usr/local/lib/python3.7/site-packages/IPython/core/interactiveshell.py:2785: DtypeWarning: Columns (1,2,3,4,5,7,8,9,10,12,15,17,18,20,21,22,23) have mixed types. Specify dtype option on import or set low_memory=False.\n",
      "  interactivity=interactivity, compiler=compiler, result=result)\n"
     ]
    }
   ],
   "source": [
    "data = pd.read_csv('../data/external/all_data.csv')"
   ]
  },
  {
   "cell_type": "code",
   "execution_count": 19,
   "metadata": {},
   "outputs": [
    {
     "data": {
      "text/plain": [
       "(7139561, 26)"
      ]
     },
     "execution_count": 19,
     "metadata": {},
     "output_type": "execute_result"
    }
   ],
   "source": [
    "data.shape"
   ]
  },
  {
   "cell_type": "code",
   "execution_count": 20,
   "metadata": {},
   "outputs": [],
   "source": [
    "data.columns = [re.sub(' ','_',x.lower()) for x in data.columns]"
   ]
  },
  {
   "cell_type": "code",
   "execution_count": 21,
   "metadata": {},
   "outputs": [
    {
     "data": {
      "text/plain": [
       "GitHub        5871898\n",
       "Crunchbase     662238\n",
       "GDB            357494\n",
       "arxiv          247931\n",
       "Name: source_id, dtype: int64"
      ]
     },
     "execution_count": 21,
     "metadata": {},
     "output_type": "execute_result"
    }
   ],
   "source": [
    "data.source_id.value_counts()"
   ]
  },
  {
   "cell_type": "code",
   "execution_count": 22,
   "metadata": {},
   "outputs": [
    {
     "data": {
      "text/plain": [
       "357494"
      ]
     },
     "execution_count": 22,
     "metadata": {},
     "output_type": "execute_result"
    }
   ],
   "source": [
    "data.gdb_dataset_id.value_counts().sum()"
   ]
  },
  {
   "cell_type": "markdown",
   "metadata": {},
   "source": [
    "We have 357,000 observations outside of GitHUb, CrunchBase and arXIV"
   ]
  },
  {
   "cell_type": "code",
   "execution_count": 23,
   "metadata": {},
   "outputs": [
    {
     "data": {
      "text/plain": [
       "rgov              154318\n",
       "gtr                79427\n",
       "H2020              63125\n",
       "innovateuk         31987\n",
       "world_reporter     15089\n",
       "rwjf                7227\n",
       "ahrq                6321\n",
       "Name: gdb_dataset_id, dtype: int64"
      ]
     },
     "execution_count": 23,
     "metadata": {},
     "output_type": "execute_result"
    }
   ],
   "source": [
    "data.gdb_dataset_id.value_counts()"
   ]
  },
  {
   "cell_type": "markdown",
   "metadata": {},
   "source": [
    "## Focus on shared fields\n",
    "\n",
    "In the case of funding, do we have data for the funders?"
   ]
  },
  {
   "cell_type": "code",
   "execution_count": 25,
   "metadata": {},
   "outputs": [
    {
     "data": {
      "text/plain": [
       "Index(['unnamed:_0', 'cb_category_group_list', 'cb_category_list',\n",
       "       'cb_number_of_employees', 'cb_role', 'currency', 'description',\n",
       "       'end_date', 'funding', 'gdb_dataset_id', 'gh_user_creation_date',\n",
       "       'gh_user_id', 'gh_user_type', 'gh_valid_description', 'name', 'row_id',\n",
       "       'source_id', 'start_date', 'status', 'unnamed:_0.1',\n",
       "       'administrative_area_level_1', 'administrative_area_level_2',\n",
       "       'arxiv_categories', 'country', 'lat', 'lng'],\n",
       "      dtype='object')"
      ]
     },
     "execution_count": 25,
     "metadata": {},
     "output_type": "execute_result"
    }
   ],
   "source": [
    "data.columns"
   ]
  },
  {
   "cell_type": "code",
   "execution_count": 38,
   "metadata": {},
   "outputs": [],
   "source": [
    "shared_columns = ['name','description','source_id','gdb_dataset_id','currency','funding','start_date','country']"
   ]
  },
  {
   "cell_type": "code",
   "execution_count": 44,
   "metadata": {},
   "outputs": [],
   "source": [
    "data_sh = data[shared_columns]"
   ]
  },
  {
   "cell_type": "code",
   "execution_count": 45,
   "metadata": {},
   "outputs": [
    {
     "data": {
      "text/html": [
       "<div>\n",
       "<style scoped>\n",
       "    .dataframe tbody tr th:only-of-type {\n",
       "        vertical-align: middle;\n",
       "    }\n",
       "\n",
       "    .dataframe tbody tr th {\n",
       "        vertical-align: top;\n",
       "    }\n",
       "\n",
       "    .dataframe thead th {\n",
       "        text-align: right;\n",
       "    }\n",
       "</style>\n",
       "<table border=\"1\" class=\"dataframe\">\n",
       "  <thead>\n",
       "    <tr style=\"text-align: right;\">\n",
       "      <th></th>\n",
       "      <th>name</th>\n",
       "      <th>description</th>\n",
       "      <th>source_id</th>\n",
       "      <th>gdb_dataset_id</th>\n",
       "      <th>currency</th>\n",
       "      <th>funding</th>\n",
       "      <th>start_date</th>\n",
       "      <th>country</th>\n",
       "    </tr>\n",
       "  </thead>\n",
       "  <tbody>\n",
       "    <tr>\n",
       "      <th>0</th>\n",
       "      <td>University College London</td>\n",
       "      <td>Over the last fifty years, accelerators of eve...</td>\n",
       "      <td>GDB</td>\n",
       "      <td>gtr</td>\n",
       "      <td>GBP</td>\n",
       "      <td>26776</td>\n",
       "      <td>2012-10-01 00:00:00</td>\n",
       "      <td>United Kingdom</td>\n",
       "    </tr>\n",
       "    <tr>\n",
       "      <th>1</th>\n",
       "      <td>University College London</td>\n",
       "      <td>Abstracts are not currently available in GtR f...</td>\n",
       "      <td>GDB</td>\n",
       "      <td>gtr</td>\n",
       "      <td>GBP</td>\n",
       "      <td>187427</td>\n",
       "      <td>2002-02-01 00:00:00</td>\n",
       "      <td>United Kingdom</td>\n",
       "    </tr>\n",
       "    <tr>\n",
       "      <th>2</th>\n",
       "      <td>University College London</td>\n",
       "      <td>The question of how the human brain develops o...</td>\n",
       "      <td>GDB</td>\n",
       "      <td>gtr</td>\n",
       "      <td>GBP</td>\n",
       "      <td>3.00761e+06</td>\n",
       "      <td>1998-10-01 00:00:00</td>\n",
       "      <td>United Kingdom</td>\n",
       "    </tr>\n",
       "    <tr>\n",
       "      <th>3</th>\n",
       "      <td>University College London</td>\n",
       "      <td>T-cells are white blood cells that enable us t...</td>\n",
       "      <td>GDB</td>\n",
       "      <td>gtr</td>\n",
       "      <td>GBP</td>\n",
       "      <td>465999</td>\n",
       "      <td>2012-06-30 00:00:00</td>\n",
       "      <td>United Kingdom</td>\n",
       "    </tr>\n",
       "    <tr>\n",
       "      <th>4</th>\n",
       "      <td>University College London</td>\n",
       "      <td>When excavators dug al-Bahnasa, some 200 km so...</td>\n",
       "      <td>GDB</td>\n",
       "      <td>gtr</td>\n",
       "      <td>GBP</td>\n",
       "      <td>851035</td>\n",
       "      <td>2010-09-01 00:00:00</td>\n",
       "      <td>United Kingdom</td>\n",
       "    </tr>\n",
       "  </tbody>\n",
       "</table>\n",
       "</div>"
      ],
      "text/plain": [
       "                        name  \\\n",
       "0  University College London   \n",
       "1  University College London   \n",
       "2  University College London   \n",
       "3  University College London   \n",
       "4  University College London   \n",
       "\n",
       "                                         description source_id gdb_dataset_id  \\\n",
       "0  Over the last fifty years, accelerators of eve...       GDB            gtr   \n",
       "1  Abstracts are not currently available in GtR f...       GDB            gtr   \n",
       "2  The question of how the human brain develops o...       GDB            gtr   \n",
       "3  T-cells are white blood cells that enable us t...       GDB            gtr   \n",
       "4  When excavators dug al-Bahnasa, some 200 km so...       GDB            gtr   \n",
       "\n",
       "  currency      funding           start_date         country  \n",
       "0      GBP        26776  2012-10-01 00:00:00  United Kingdom  \n",
       "1      GBP       187427  2002-02-01 00:00:00  United Kingdom  \n",
       "2      GBP  3.00761e+06  1998-10-01 00:00:00  United Kingdom  \n",
       "3      GBP       465999  2012-06-30 00:00:00  United Kingdom  \n",
       "4      GBP       851035  2010-09-01 00:00:00  United Kingdom  "
      ]
     },
     "execution_count": 45,
     "metadata": {},
     "output_type": "execute_result"
    }
   ],
   "source": [
    "data_sh.head()"
   ]
  },
  {
   "cell_type": "code",
   "execution_count": 46,
   "metadata": {},
   "outputs": [
    {
     "name": "stderr",
     "output_type": "stream",
     "text": [
      "/usr/local/lib/python3.7/site-packages/ipykernel_launcher.py:2: SettingWithCopyWarning: \n",
      "A value is trying to be set on a copy of a slice from a DataFrame.\n",
      "Try using .loc[row_indexer,col_indexer] = value instead\n",
      "\n",
      "See the caveats in the documentation: http://pandas.pydata.org/pandas-docs/stable/indexing.html#indexing-view-versus-copy\n",
      "  \n"
     ]
    }
   ],
   "source": [
    "#Create a detailed source field\n",
    "data_sh['source_det']  = [x if x!='GDB' else y for x,y in zip(data_sh.source_id,data_sh.gdb_dataset_id)]"
   ]
  },
  {
   "cell_type": "code",
   "execution_count": 47,
   "metadata": {},
   "outputs": [
    {
     "data": {
      "text/plain": [
       "GitHub            5871898\n",
       "Crunchbase         662238\n",
       "arxiv              247931\n",
       "rgov               154318\n",
       "gtr                 79427\n",
       "H2020               63125\n",
       "innovateuk          31987\n",
       "world_reporter      15089\n",
       "rwjf                 7227\n",
       "ahrq                 6321\n",
       "Name: source_det, dtype: int64"
      ]
     },
     "execution_count": 47,
     "metadata": {},
     "output_type": "execute_result"
    }
   ],
   "source": [
    "data_sh.source_det.value_counts()"
   ]
  },
  {
   "cell_type": "markdown",
   "metadata": {},
   "source": [
    "## Missing values"
   ]
  },
  {
   "cell_type": "code",
   "execution_count": 50,
   "metadata": {},
   "outputs": [
    {
     "data": {
      "text/html": [
       "<div>\n",
       "<style scoped>\n",
       "    .dataframe tbody tr th:only-of-type {\n",
       "        vertical-align: middle;\n",
       "    }\n",
       "\n",
       "    .dataframe tbody tr th {\n",
       "        vertical-align: top;\n",
       "    }\n",
       "\n",
       "    .dataframe thead th {\n",
       "        text-align: right;\n",
       "    }\n",
       "</style>\n",
       "<table border=\"1\" class=\"dataframe\">\n",
       "  <thead>\n",
       "    <tr style=\"text-align: right;\">\n",
       "      <th></th>\n",
       "      <th>name</th>\n",
       "      <th>description</th>\n",
       "      <th>source_id</th>\n",
       "      <th>gdb_dataset_id</th>\n",
       "      <th>currency</th>\n",
       "      <th>funding</th>\n",
       "      <th>start_date</th>\n",
       "      <th>country</th>\n",
       "      <th>source_det</th>\n",
       "    </tr>\n",
       "    <tr>\n",
       "      <th>source_det</th>\n",
       "      <th></th>\n",
       "      <th></th>\n",
       "      <th></th>\n",
       "      <th></th>\n",
       "      <th></th>\n",
       "      <th></th>\n",
       "      <th></th>\n",
       "      <th></th>\n",
       "      <th></th>\n",
       "    </tr>\n",
       "  </thead>\n",
       "  <tbody>\n",
       "    <tr>\n",
       "      <th>Crunchbase</th>\n",
       "      <td>0.000453</td>\n",
       "      <td>0.004379</td>\n",
       "      <td>0.0</td>\n",
       "      <td>100.0</td>\n",
       "      <td>0.0</td>\n",
       "      <td>86.763822</td>\n",
       "      <td>31.406383</td>\n",
       "      <td>100.000000</td>\n",
       "      <td>0.0</td>\n",
       "    </tr>\n",
       "    <tr>\n",
       "      <th>GitHub</th>\n",
       "      <td>0.000153</td>\n",
       "      <td>0.000000</td>\n",
       "      <td>0.0</td>\n",
       "      <td>100.0</td>\n",
       "      <td>100.0</td>\n",
       "      <td>100.000000</td>\n",
       "      <td>0.000000</td>\n",
       "      <td>100.000000</td>\n",
       "      <td>0.0</td>\n",
       "    </tr>\n",
       "    <tr>\n",
       "      <th>H2020</th>\n",
       "      <td>0.000000</td>\n",
       "      <td>0.000000</td>\n",
       "      <td>0.0</td>\n",
       "      <td>0.0</td>\n",
       "      <td>0.0</td>\n",
       "      <td>0.000000</td>\n",
       "      <td>0.004752</td>\n",
       "      <td>0.261386</td>\n",
       "      <td>0.0</td>\n",
       "    </tr>\n",
       "    <tr>\n",
       "      <th>ahrq</th>\n",
       "      <td>0.506249</td>\n",
       "      <td>0.000000</td>\n",
       "      <td>0.0</td>\n",
       "      <td>0.0</td>\n",
       "      <td>0.0</td>\n",
       "      <td>0.000000</td>\n",
       "      <td>0.601171</td>\n",
       "      <td>0.506249</td>\n",
       "      <td>0.0</td>\n",
       "    </tr>\n",
       "    <tr>\n",
       "      <th>arxiv</th>\n",
       "      <td>0.000000</td>\n",
       "      <td>0.000000</td>\n",
       "      <td>0.0</td>\n",
       "      <td>100.0</td>\n",
       "      <td>100.0</td>\n",
       "      <td>100.000000</td>\n",
       "      <td>0.000000</td>\n",
       "      <td>100.000000</td>\n",
       "      <td>0.0</td>\n",
       "    </tr>\n",
       "    <tr>\n",
       "      <th>gtr</th>\n",
       "      <td>0.000000</td>\n",
       "      <td>0.000000</td>\n",
       "      <td>0.0</td>\n",
       "      <td>0.0</td>\n",
       "      <td>0.0</td>\n",
       "      <td>0.000000</td>\n",
       "      <td>0.000000</td>\n",
       "      <td>0.000000</td>\n",
       "      <td>0.0</td>\n",
       "    </tr>\n",
       "    <tr>\n",
       "      <th>innovateuk</th>\n",
       "      <td>0.000000</td>\n",
       "      <td>0.000000</td>\n",
       "      <td>0.0</td>\n",
       "      <td>0.0</td>\n",
       "      <td>0.0</td>\n",
       "      <td>5.177103</td>\n",
       "      <td>5.177103</td>\n",
       "      <td>0.550224</td>\n",
       "      <td>0.0</td>\n",
       "    </tr>\n",
       "    <tr>\n",
       "      <th>rgov</th>\n",
       "      <td>2.268692</td>\n",
       "      <td>0.000000</td>\n",
       "      <td>0.0</td>\n",
       "      <td>0.0</td>\n",
       "      <td>0.0</td>\n",
       "      <td>15.903524</td>\n",
       "      <td>0.000000</td>\n",
       "      <td>2.339973</td>\n",
       "      <td>0.0</td>\n",
       "    </tr>\n",
       "    <tr>\n",
       "      <th>rwjf</th>\n",
       "      <td>0.000000</td>\n",
       "      <td>0.000000</td>\n",
       "      <td>0.0</td>\n",
       "      <td>0.0</td>\n",
       "      <td>0.0</td>\n",
       "      <td>0.000000</td>\n",
       "      <td>0.000000</td>\n",
       "      <td>7.748720</td>\n",
       "      <td>0.0</td>\n",
       "    </tr>\n",
       "    <tr>\n",
       "      <th>world_reporter</th>\n",
       "      <td>0.000000</td>\n",
       "      <td>0.000000</td>\n",
       "      <td>0.0</td>\n",
       "      <td>0.0</td>\n",
       "      <td>100.0</td>\n",
       "      <td>34.886341</td>\n",
       "      <td>100.000000</td>\n",
       "      <td>0.835045</td>\n",
       "      <td>0.0</td>\n",
       "    </tr>\n",
       "  </tbody>\n",
       "</table>\n",
       "</div>"
      ],
      "text/plain": [
       "                    name  description  source_id  gdb_dataset_id  currency  \\\n",
       "source_det                                                                   \n",
       "Crunchbase      0.000453     0.004379        0.0           100.0       0.0   \n",
       "GitHub          0.000153     0.000000        0.0           100.0     100.0   \n",
       "H2020           0.000000     0.000000        0.0             0.0       0.0   \n",
       "ahrq            0.506249     0.000000        0.0             0.0       0.0   \n",
       "arxiv           0.000000     0.000000        0.0           100.0     100.0   \n",
       "gtr             0.000000     0.000000        0.0             0.0       0.0   \n",
       "innovateuk      0.000000     0.000000        0.0             0.0       0.0   \n",
       "rgov            2.268692     0.000000        0.0             0.0       0.0   \n",
       "rwjf            0.000000     0.000000        0.0             0.0       0.0   \n",
       "world_reporter  0.000000     0.000000        0.0             0.0     100.0   \n",
       "\n",
       "                   funding  start_date     country  source_det  \n",
       "source_det                                                      \n",
       "Crunchbase       86.763822   31.406383  100.000000         0.0  \n",
       "GitHub          100.000000    0.000000  100.000000         0.0  \n",
       "H2020             0.000000    0.004752    0.261386         0.0  \n",
       "ahrq              0.000000    0.601171    0.506249         0.0  \n",
       "arxiv           100.000000    0.000000  100.000000         0.0  \n",
       "gtr               0.000000    0.000000    0.000000         0.0  \n",
       "innovateuk        5.177103    5.177103    0.550224         0.0  \n",
       "rgov             15.903524    0.000000    2.339973         0.0  \n",
       "rwjf              0.000000    0.000000    7.748720         0.0  \n",
       "world_reporter   34.886341  100.000000    0.835045         0.0  "
      ]
     },
     "execution_count": 50,
     "metadata": {},
     "output_type": "execute_result"
    }
   ],
   "source": [
    "data_sh.groupby('source_det').apply(lambda x: 100*x.isna().mean())"
   ]
  },
  {
   "cell_type": "markdown",
   "metadata": {},
   "source": [
    "We have missing data for some of the non-grant databases. I assume that this is because they haven't been geocoded yet\n",
    "\n",
    "And obviously, some of the data lack information about funding etc."
   ]
  },
  {
   "cell_type": "markdown",
   "metadata": {},
   "source": [
    "### Check country distributions by location"
   ]
  },
  {
   "cell_type": "code",
   "execution_count": 76,
   "metadata": {},
   "outputs": [],
   "source": [
    "country_data = data_sh.groupby('gdb_dataset_id')[\n",
    "    'country'].apply(lambda x: x.value_counts(normalize=True).sort_values(ascending=False)[:20]).reset_index(drop=False)"
   ]
  },
  {
   "cell_type": "code",
   "execution_count": 86,
   "metadata": {},
   "outputs": [
    {
     "data": {
      "image/png": "[encoded data removed]",
      "text/plain": [
       "<Figure size 720x1440 with 7 Axes>"
      ]
     },
     "metadata": {},
     "output_type": "display_data"
    }
   ],
   "source": [
    "fig,ax = plt.subplots(figsize=(10,20),nrows=len(set(country_data.gdb_dataset_id)))\n",
    "\n",
    "\n",
    "for num,source in enumerate(set(country_data.gdb_dataset_id)):\n",
    "    \n",
    "    rel_data = country_data.loc[country_data.gdb_dataset_id==source]\n",
    "    \n",
    "    rel_data.plot.bar(color='steelblue',ax=ax[num])\n",
    "    ax[num].set_xticklabels(rel_data['level_1'])\n",
    "    ax[num].set_ylabel(source[:10])\n",
    "    \n",
    "ax[0].set_title('Country distribution by dataset')\n",
    "plt.tight_layout()\n",
    "    "
   ]
  },
  {
   "cell_type": "markdown",
   "metadata": {},
   "source": [
    "Our current coverage (excluding, in this case, GitHub and CrunchBase) is very dominated by the USA. We need to consider strategies to address this.\n",
    "\n",
    "**Question:** Does the nationality data refer to the organisation doing the project or the country receiving the intervention?"
   ]
  },
  {
   "cell_type": "code",
   "execution_count": null,
   "metadata": {},
   "outputs": [],
   "source": [
    "#Get them very lazily using a list of countries I got from here: http://www.fao.org/countryprofiles/iso3list/en/"
   ]
  },
  {
   "cell_type": "code",
   "execution_count": 242,
   "metadata": {},
   "outputs": [
    {
     "name": "stderr",
     "output_type": "stream",
     "text": [
      "/usr/local/lib/python3.7/site-packages/bs4/__init__.py:181: UserWarning: No parser was explicitly specified, so I'm using the best available HTML parser for this system (\"html5lib\"). This usually isn't a problem, but if you run this code on another system, or in a different virtual environment, it may use a different parser and behave differently.\n",
      "\n",
      "The code that caused this warning is on line 193 of the file /usr/local/Cellar/python/3.7.0/Frameworks/Python.framework/Versions/3.7/lib/python3.7/runpy.py. To get rid of this warning, change code that looks like this:\n",
      "\n",
      " BeautifulSoup(YOUR_MARKUP})\n",
      "\n",
      "to this:\n",
      "\n",
      " BeautifulSoup(YOUR_MARKUP, \"html5lib\")\n",
      "\n",
      "  markup_type=markup_type))\n"
     ]
    }
   ],
   "source": [
    "from bs4 import BeautifulSoup\n",
    "\n",
    "lazy_country_names = BeautifulSoup(requests.get('http://www.fao.org/countryprofiles/iso3list/en/').text)\n"
   ]
  },
  {
   "cell_type": "code",
   "execution_count": 257,
   "metadata": {},
   "outputs": [],
   "source": [
    "countries = [x.get_text().strip().lower() for x in lazy_country_names.find_all('td',class_='shortname')]"
   ]
  },
  {
   "cell_type": "code",
   "execution_count": 258,
   "metadata": {},
   "outputs": [],
   "source": [
    "#Let's check on a dataset without GitHub and only descriptions\n",
    "\n",
    "data_no_gh_descr = data_sh[data_sh.source_id!='GitHub'].dropna(axis=0,subset=['description'])"
   ]
  },
  {
   "cell_type": "code",
   "execution_count": 259,
   "metadata": {},
   "outputs": [],
   "source": [
    "data_no_gh_descr['countries_in_descr'] = [[x for x in countries if x in text.lower()] for text in data_no_gh_descr['description']]"
   ]
  },
  {
   "cell_type": "code",
   "execution_count": 281,
   "metadata": {},
   "outputs": [
    {
     "data": {
      "text/plain": [
       "116784"
      ]
     },
     "execution_count": 281,
     "metadata": {},
     "output_type": "execute_result"
    }
   ],
   "source": [
    "# How many descriptions mention a country?\n",
    "\n",
    "sum([len(x)>0 for x in data_no_gh_descr.countries_in_descr])"
   ]
  },
  {
   "cell_type": "code",
   "execution_count": 283,
   "metadata": {},
   "outputs": [
    {
     "data": {
      "text/plain": [
       "mali              23905\n",
       "india             14020\n",
       "china              7511\n",
       "australia          6063\n",
       "japan              5429\n",
       "canada             5215\n",
       "germany            4645\n",
       "france             4440\n",
       "oman               4302\n",
       "mexico             3672\n",
       "brazil             3491\n",
       "italy              3416\n",
       "cuba               3393\n",
       "spain              3310\n",
       "georgia            2513\n",
       "south africa       2137\n",
       "united kingdom     2124\n",
       "ireland            1991\n",
       "netherlands        1894\n",
       "singapore          1742\n",
       "dtype: int64"
      ]
     },
     "execution_count": 283,
     "metadata": {},
     "output_type": "execute_result"
    }
   ],
   "source": [
    "country_freqs = pd.Series(Counter(flatten_list(data_no_gh_descr['countries_in_descr']))).sort_values(ascending=False)\n",
    "\n",
    "country_freqs.head(n=20)"
   ]
  },
  {
   "cell_type": "code",
   "execution_count": 300,
   "metadata": {},
   "outputs": [
    {
     "name": "stdout",
     "output_type": "stream",
     "text": [
      "====\n",
      "DESCRIPTION (provided by applicant):  Antiretroviral therapy (ART) provided to HIV-positive individuals can reduce transmission risk by 96%. In this context, identifying new strategies to optimize treatment as prevention (TasP) is a top Fiscal Year 2014 Trans- NIH Research Priority. There are important gaps in our knowledge of how to implement TasP in key populations including female sex workers (FSW). Effective TasP will require higher levels of ART adherence than those achieved in typical treatment programs. Mobile Health (mHealth) approaches employing interactive short message service (SMS) messages have shown promise as a method for improving ART adherence, leading to suppression of plasma HIV RNA. However, the ability of SMS interventions to support ART adherence in key populations li\n",
      "\n",
      "\n",
      "====\n",
      "DESCRIPTION (provided by applicant): This project is based on INIA-West studies showing changes in neuroimmune gene expression in animal models of alcohol intake and in brain of human alcoholics. We found that deletion of any of six INIA candidate neuroinflammatory genes decreased alcohol consumption and activation of immune signaling increased alcohol consumption. These data suggest that in human alcoholism and in our genetic animal models there is a misregulation of pro-inflammatory signaling in brain. Several of our candidate genes are part of a specific toll-like receptor (TLR4) signaling pathway that we will study behaviorally and biochemically. Specific Aim 1 will: Define the molecular components of TLR4 signaling that are responsible for promotion of excessive alcohol consumption. T\n",
      "\n",
      "\n",
      "====\n",
      "The project entitled: Cost-effective microfluidic electronic devices for optimal drug administration based on fractional pharmacokinetics for leukemia treatments, with acronym MEDLEM, has a general objective to foster exchanging knowledge and sharing different culture and approaches in reaching high level of excellence, in research and innovation, in the framework of this field.The project is aimed at strengthening research collaboration through active networking, staff exchange and dissemination activities between 4 European organizations from Serbia, Germany and France as well as 2 non-European institutions from Thailand and Australia, in linking the fields of microfluidic electronic devices, optimal drug administration, fractional pharmacokinetics, and leukemia treatments. The project\n",
      "\n",
      "\n",
      "====\n",
      "\n",
      "About 3 billion individuals around the world are at risk for malaria, there are about 250 million cases per year, with about 1 million deaths. While deployment of insecticide impregnated bed nets, new drug combinations, and possibly new vaccines may help control malaria, we hypothesize that shrinking parasite population sizes would place greater burdens on the pathogens to change at faster rates, possibly contributing to higher virulence. Initially, such evolution could be to overcome drugs and cause resistance. However, once the capacity for faster genetic change is in place, the traits may favor acquisition of new niches, within vectors (to favor propagation of the disease) and within human hosts (possibly presenting new disease presentations). This multicenter Program Project applicat\n",
      "\n",
      "\n",
      "====\n",
      "Neisseria meningitidis is one of the major causes of bacterial meningitis in the African Meningitis Belt. It is believed that asymptomatic carriage of the bacteria drives the epidemiology of the disease and that understanding carriage is crucial to increase our knowledge on the disease. In 2010 a new conjugate vaccine (PsA-TT, MenAfriVac ) was introduced in the belt targeting the meningococcal serogroup A (NmA). This vaccine aimed to reduce carriage of NmA and confer herd immunity. The African M eningococcal Consortium (MenAfriCar) was initiated to evaluate the impact of this vaccine. They undertook three cross sectional studies in seven countries of the Belt before and after the vaccination and collected all the gram negative oxidase positive bacteria identified by microbiological techniq\n",
      "\n",
      "\n"
     ]
    }
   ],
   "source": [
    "#Let's have a look focusing on the world reporter data\n",
    "\n",
    "sample_obs(data_no_gh_descr.loc[([len(x)>0 for x in data_no_gh_descr.countries_in_descr]) & (data_no_gh_descr.source_det=='world_reporter')],'description',5,800)"
   ]
  },
  {
   "cell_type": "code",
   "execution_count": 305,
   "metadata": {},
   "outputs": [
    {
     "name": "stdout",
     "output_type": "stream",
     "text": [
      "====\n",
      "The workshop will be organized in partnership with the center of Modelamiento Matem?tico (CMM) of the University of Chile in Santiago and will be held Jan. 3-5, 2013 at CMM in Santiago, Chile. The organizers are Matias Courdurier from the Pontificia Universidad Cat?lica de Chile, Jaime Ortega and Axel Osses from CMM and Gunther Uhlmann from the University of Washington. The focus of the conference will be on \"coupled-physics\" or \"hybrid\" imaging modalities that have received a lot of attention in recent years due to the great promises they hold for medical imaging and other fields. By combining two or three different types of waves (or physical fields) these methods overcome limitations of classical tomography techniques and deliver otherwise unavailable, potentially life-saving diagnostic\n",
      "\n",
      "\n",
      "====\n",
      "EXTROVERT: LEARNING TO INNOVATE ACROSS DISCIPLINES:This proposal under topic E.2 comes from a team that has been building and proving curricular innovations and resources to support learning across disciplines. The primary focus is on the topic Methods to Enhance Multidisciplinary Learning, with additional development of analytical, computational and experimental learning tools for discovery and skill-building. The project supports NASA Strategic sub-goals 3E, and Outcomes 3E.l through 3E.3.  The project will help prepare learners to innovate and analyze new concepts. Such endeavor requires depth of understanding, along with the initiative and persistence to learn from other fields. We hypothesize that enabling learners to choose their learning style is key to nurturing these qualities. Ac\n",
      "\n",
      "\n",
      "====\n",
      "The Amazon Basin is Earth's most biodiverse watershed, yet much remains unknown about species diversity, population structures, biogeographic ranges, and ecological and evolutionary processes. This project will document and analyze the aquatic biodiversity of a 130 km-long anastomosing maze of high-energy rapids in Brazil: the Lower Xingu River Rapids (LXRR) and adjacent stretches of the Xingu.  The LXRR faces imminent change from its wild state to both dewatered and lentic, impounded habitats following completion of the Belo Monte hydroelectric dam. New comprehensive specimen collections of fishes, crustaceans and mollusks and associated data will be used to address key questions in taxonomy, evolution and ecology, and will provide a permanent record (placed at US and Brazilian museums) a\n",
      "\n",
      "\n",
      "====\n",
      "The southwest Indian Ridge (SWIR) is a slow spreading jagged ridge that extends 7700 kilometers along the edge of the Antarctic and African plates. The SWIR is one of the largest areas that experiences open ocean energy loss due to barotropic tides and the generation of internal waves. Several major branches of sub-surface currents in the Western Indian Ocean flow over the SWIR and are subject to turbulent mixing which may have a significant effect on the circulation of all of the water masses that pass through this region. Recent evidence suggests that increased turbulent mixing due to internal waves exists along the entire length of the SWIR, however, scientists need a better understanding of the dynamical processes that produce elevated turbulence to determine the actual source of this \n",
      "\n",
      "\n",
      "====\n",
      "Collaborative Research: Climatic and Biotic Transformations of Neogene Mammalian Faunas of Pakistan - Catherine Badgley, University of Michigan, Ann Arbor, MI<br/>Thure Cerling, University of Utah, Salt Lake City, UT, David Pilbeam, Harvard University, Cambridge, MA<br/><br/>Abstract<br/><br/>Collaborators from four institutions will address the ecological and evolutionary responses of mammals from the Miocene fossil record of Pakistan to changes in global climate, sea level, tectonic barriers, and immigrant species. The Siwalik record consists of highly fossiliferous Neogene sediments deposited in the Himalayan foreland basin from Pakistan to Myanmar. In the Potwar Plateau of Pakistan, this record provides an unparalleled history of faunal and environmental change in a continuous sequence\n",
      "\n",
      "\n"
     ]
    }
   ],
   "source": [
    "#Let's have a look focusing on the world reporter data\n",
    "\n",
    "sample_obs(data_no_gh_descr.loc[([len(x)>0 for x in data_no_gh_descr.countries_in_descr]) & (data_no_gh_descr.source_det=='rgov')],'description',5,800)"
   ]
  },
  {
   "cell_type": "markdown",
   "metadata": {},
   "source": [
    "We are identifying some projects with beneficiaries in the countries being mentioned"
   ]
  },
  {
   "cell_type": "markdown",
   "metadata": {},
   "source": [
    "### Check type of content by source\n",
    "\n",
    "Token frequencies by data source.\n",
    "\n",
    "Lets use Spacy.\n",
    "\n"
   ]
  },
  {
   "cell_type": "code",
   "execution_count": 135,
   "metadata": {},
   "outputs": [],
   "source": [
    "from nltk.corpus import stopwords\n",
    "from collections import Counter\n"
   ]
  },
  {
   "cell_type": "code",
   "execution_count": 231,
   "metadata": {},
   "outputs": [],
   "source": [
    "from string import punctuation\n",
    "\n",
    "#Drop stopwords and punctuation\n",
    "sws = stopwords.words('english') + [x for x in punctuation]\n"
   ]
  },
  {
   "cell_type": "code",
   "execution_count": 232,
   "metadata": {},
   "outputs": [],
   "source": [
    "def freq_distr(corpus,length=500):\n",
    "    '''\n",
    "    corpus\n",
    "    '''\n",
    "    \n",
    "    tok = corpus.apply(lambda x: x.lower().split(' '))\n",
    "    \n",
    "    return (pd.Series([x for el in tok for x in el if x not in eng]).value_counts(normalize=True).sort_values(ascending=False)[:length])\n",
    "\n",
    "\n",
    "    "
   ]
  },
  {
   "cell_type": "code",
   "execution_count": 234,
   "metadata": {},
   "outputs": [
    {
     "name": "stdout",
     "output_type": "stream",
     "text": [
      "CPU times: user 6min 17s, sys: 6.4 s, total: 6min 23s\n",
      "Wall time: 6min 33s\n"
     ]
    }
   ],
   "source": [
    "%%time\n",
    "top_toks = data_no_gh_descr.groupby('source_det')['description'].apply(lambda x: freq_distr(x))\n"
   ]
  },
  {
   "cell_type": "code",
   "execution_count": 238,
   "metadata": {},
   "outputs": [
    {
     "name": "stdout",
     "output_type": "stream",
     "text": [
      "rgov\n",
      "====\n",
      ", research, project, new, students, data, also, understanding, provide, science, study, development, work, use, high, using, program, develop, used, graduate, university, undergraduate, proposed, systems, important, well, materials, two, including, one\n",
      "\n",
      "\n",
      "H2020\n",
      "====\n",
      "project, research, new, european, , data, energy, development, develop, innovation, based, use, innovative, provide, support, technology, system, also, high, systems, different, management, well, eu, key, market, technologies, network, knowledge, services\n",
      "\n",
      "\n",
      "world_reporter\n",
      "====\n",
      ", research, health, clinical, new, hiv, data, study, patients, development, studies, aim, treatment, (provided, applicant):, specific, use, cell, cancer, using, also, provide, project, develop, training, disease, risk, program, cells, human\n",
      "\n",
      "\n",
      "arxiv\n",
      "====\n",
      "show, data, problem, using, algorithm, based, model, results, also, paper, two, number, network, new, proposed, method, approach, one, used, propose, information, present, performance, time, set, system, , paper,, use, learning\n",
      "\n",
      "\n",
      "Crunchbase\n",
      "====\n",
      "company, provides, services, online, offers, solutions, services., software, platform, technology, management, business, mobile, development, marketing, digital, service, provider, based, providing, firm, , web, social, products, group, leading, new, company., media\n",
      "\n",
      "\n",
      "rwjf\n",
      "====\n",
      "health, program, support, research, new, project, grant, nursing, foundation's, public, care, policy, , national, designed, community, (2), (1), foundation, funds, state, use, include, students, johnson, robert, wood, provide, deliverables, school\n",
      "\n",
      "\n",
      "ahrq\n",
      "====\n",
      ", health, care, research, patient, quality, patients, \n",
      ", use, clinical, data, study, information, medical, improve, outcomes, project, primary, services, (provided, applicant):, safety, using, healthcare, program, \n",
      "description, develop, training, hospital, provide\n",
      "\n",
      "\n",
      "innovateuk\n",
      "====\n",
      "project, new, technology, develop, uk, use, system, energy, high, data, public, development, using, cost, summary, awaiting, used, market, provide, design, also, based, process, manufacturing, novel, innovative, enable, potential, developed, systems\n",
      "\n",
      "\n",
      "gtr\n",
      "====\n",
      "research, new, project, also, use, data, different, work, uk, using, develop, used, one, understanding, many, development, provide, important, energy, study, within, information, may, high, cells, key, systems, two, range, design\n",
      "\n",
      "\n"
     ]
    }
   ],
   "source": [
    "top_toks_2 = top_toks.reset_index(drop=False)\n",
    "\n",
    "\n",
    "for x in set(top_toks_2.source_det):\n",
    "    print(x)\n",
    "    print('====')\n",
    "    \n",
    "    print(', '.join([x for x in top_toks_2.loc[top_toks_2.source_det==x,'level_1']][:30]))\n",
    "    print('\\n')\n"
   ]
  },
  {
   "cell_type": "markdown",
   "metadata": {},
   "source": [
    "The vocabulary reflect sources: some of them are much more focused on health, others are generalist"
   ]
  },
  {
   "cell_type": "markdown",
   "metadata": {},
   "source": [
    "### Temporal coverage"
   ]
  },
  {
   "cell_type": "code",
   "execution_count": 306,
   "metadata": {},
   "outputs": [
    {
     "data": {
      "text/plain": [
       "source_det\n",
       "Crunchbase                            [nan, 1968-07-18, 1968-01-01]\n",
       "GitHub            [2017-08-27 17:03:00 UTC, 2017-03-03 20:52:23 ...\n",
       "H2020                          [2016-03-01, 2017-05-01, 2017-04-01]\n",
       "ahrq                                 [09/30/05, 09/30/13, 09/30/13]\n",
       "arxiv                 [1241136000000, 1241136000000, 1044057600000]\n",
       "gtr               [2012-10-01 00:00:00, 2002-02-01 00:00:00, 199...\n",
       "innovateuk          [2017-08-01 00:00:00, 2017-10-01 00:00:00, nan]\n",
       "rgov                  [=\"09/01/2017\", =\"09/01/2011\", =\"08/15/2010\"]\n",
       "rwjf                               [3/25/2009, 3/8/2010, 3/18/2011]\n",
       "world_reporter                                      [nan, nan, nan]\n",
       "Name: start_date, dtype: object"
      ]
     },
     "execution_count": 306,
     "metadata": {},
     "output_type": "execute_result"
    }
   ],
   "source": [
    "data.groupby('source_det')['start_date'].apply(lambda x: list(x)[0:3])"
   ]
  },
  {
   "cell_type": "markdown",
   "metadata": {},
   "source": [
    "Dates are a mess"
   ]
  },
  {
   "cell_type": "markdown",
   "metadata": {},
   "source": [
    "## Preliminary conclusions\n",
    "\n",
    "* Our coverage is very focused on developed countries (for which we have founding) although we also detect activity in other countries through the abstract descriptions\n",
    "* We mostly cover grants. Coverage of private-sector/applied/under-the-radar activity is much weaker\n",
    "* The data include a mix of sources with health-specific data (AHRQ, RWJF, world-reporter) and generic research sources\n",
    "\n",
    "## Next steps:\n",
    "\n",
    "* Identify and collect data from other types of sources: crowdfunding, meetup activity, social innovation directories etc.\n",
    "* Identify a strategy for research papers\n",
    "\n",
    "\n",
    "\n"
   ]
  }
 ],
 "metadata": {
  "kernelspec": {
   "display_name": "Python 3",
   "language": "python",
   "name": "python3"
  },
  "language_info": {
   "codemirror_mode": {
    "name": "ipython",
    "version": 3
   },
   "file_extension": ".py",
   "mimetype": "text/x-python",
   "name": "python",
   "nbconvert_exporter": "python",
   "pygments_lexer": "ipython3",
   "version": "3.7.0"
  }
 },
 "nbformat": 4,
 "nbformat_minor": 2
}
