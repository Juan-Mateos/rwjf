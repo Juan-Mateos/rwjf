{
 "cells": [
  {
   "cell_type": "markdown",
   "metadata": {},
   "source": [
    "# Health innovation funding landscape exploration: download the data\n",
    "\n",
    "This notebook obtains data from 360 degree giving about the health funding landscape. It seeks to provide some empirical context for the scoping phase of the RWJF foundation. "
   ]
  },
  {
   "cell_type": "markdown",
   "metadata": {},
   "source": [
    "# Preamble"
   ]
  },
  {
   "cell_type": "code",
   "execution_count": 1,
   "metadata": {
    "collapsed": true
   },
   "outputs": [],
   "source": [
    "%matplotlib inline\n",
    "#NB I open a standard set of directories\n",
    "\n",
    "#Paths\n",
    "\n",
    "#Get the top path\n",
    "top_path = os.path.dirname(os.getcwd())\n",
    "\n",
    "#Create the path for external data\n",
    "ext_data = os.path.join(top_path,'data/external')\n",
    "\n",
    "#Raw path (for html downloads)\n",
    "\n",
    "raw_data = os.path.join(top_path,'data/raw')\n",
    "\n",
    "#And external data\n",
    "proc_data = os.path.join(top_path,'data/processed')\n",
    "\n",
    "fig_path = os.path.join(top_path,'reports/figures')\n",
    "\n",
    "#Get date for saving files\n",
    "today = datetime.datetime.today()\n",
    "\n",
    "today_str = \"_\".join([str(x) for x in [today.day,today.month,today.year]])"
   ]
  },
  {
   "cell_type": "code",
   "execution_count": 2,
   "metadata": {
    "collapsed": true
   },
   "outputs": [],
   "source": [
    "#Additional imports\n",
    "\n",
    "import ratelim\n"
   ]
  },
  {
   "cell_type": "markdown",
   "metadata": {},
   "source": [
    "# 1. Data collection\n",
    "\n",
    "[360Giving](http://www.threesixtygiving.org/data/data-registry/) is a standard for open data about charitable giving in the UK. The 70 organisations participating in the programme make their data available in an standardised way. It is hoped that this open dataset will improve our understanding of the funding landscape in the UK, as well as its impacts and gaps. \n",
    "\n",
    "A json with metadata about each of the datasets, and a link for download is available for download from [this page](http://threesixtygiving.github.io/getdata/). We will loop through their keys, concatenate and start an exploratory analysis.\n",
    "\n",
    "A preliminary glance at the data suggests some lack of standardisation (for example some funders include the country receiving the grant in the title while others have a specific field dedicated to this). Some fields that appear to eb present in all cases are, unsurprisingly: \n",
    "\n",
    "* project name, \n",
    "* description, \n",
    "* recipient, \n",
    "* period and \n",
    "* timeline.  \n",
    "\n",
    "We can use them to start addresssing some of the questions above\n",
    "\n"
   ]
  },
  {
   "cell_type": "code",
   "execution_count": 3,
   "metadata": {
    "collapsed": false
   },
   "outputs": [],
   "source": [
    "#Let's get started\n",
    "\n",
    "#First we will acquire the json file with the metadata using the following link\n",
    "\n",
    "url = 'http://data.threesixtygiving.org/data.json'\n",
    "\n",
    "#We use the get method to download the data and to parse into a json object\n",
    "three60_metadata = requests.get(url).json()"
   ]
  },
  {
   "cell_type": "markdown",
   "metadata": {},
   "source": [
    "Extract relevant information about each element in the json:\n",
    "\n",
    "* Tithe\n",
    "* Organisation name\n",
    "* Organisation link\n",
    "* Download url\n",
    "* Coverage\n",
    "* License"
   ]
  },
  {
   "cell_type": "code",
   "execution_count": 4,
   "metadata": {
    "collapsed": false
   },
   "outputs": [
    {
     "data": {
      "text/html": [
       "<div>\n",
       "<style scoped>\n",
       "    .dataframe tbody tr th:only-of-type {\n",
       "        vertical-align: middle;\n",
       "    }\n",
       "\n",
       "    .dataframe tbody tr th {\n",
       "        vertical-align: top;\n",
       "    }\n",
       "\n",
       "    .dataframe thead th {\n",
       "        text-align: right;\n",
       "    }\n",
       "</style>\n",
       "<table border=\"1\" class=\"dataframe\">\n",
       "  <thead>\n",
       "    <tr style=\"text-align: right;\">\n",
       "      <th></th>\n",
       "      <th>file_url</th>\n",
       "      <th>license</th>\n",
       "      <th>modified</th>\n",
       "      <th>org</th>\n",
       "      <th>org_url</th>\n",
       "      <th>title</th>\n",
       "    </tr>\n",
       "  </thead>\n",
       "  <tbody>\n",
       "    <tr>\n",
       "      <th>0</th>\n",
       "      <td>https://www.arcadiafund.org.uk/wp-content/uplo...</td>\n",
       "      <td>https://creativecommons.org/licenses/by/4.0/</td>\n",
       "      <td>2017-09-01T07:29:04+0000</td>\n",
       "      <td>Arcadia Fund</td>\n",
       "      <td>https://www.arcadiafund.org.uk/</td>\n",
       "      <td>Arcadia Fund grants awarded to July 2017</td>\n",
       "    </tr>\n",
       "    <tr>\n",
       "      <th>1</th>\n",
       "      <td>https://www.barrowcadbury.org.uk/wp-content/up...</td>\n",
       "      <td>https://creativecommons.org/licenses/by/4.0/</td>\n",
       "      <td>2018-02-05T14:27:52+0000</td>\n",
       "      <td>Barrow Cadbury Trust</td>\n",
       "      <td>http://www.barrowcadbury.org.uk/</td>\n",
       "      <td>Grants awarded 2012 to December 2017</td>\n",
       "    </tr>\n",
       "    <tr>\n",
       "      <th>2</th>\n",
       "      <td>http://downloads.bbc.co.uk/tv/pudsey/360_givin...</td>\n",
       "      <td>https://creativecommons.org/licenses/by/4.0/</td>\n",
       "      <td>2017-01-29T17:37:46+0000</td>\n",
       "      <td>BBC Children in Need</td>\n",
       "      <td>http://www.bbc.co.uk/corporate2/childreninneed</td>\n",
       "      <td>BBC Children in Need grants</td>\n",
       "    </tr>\n",
       "    <tr>\n",
       "      <th>3</th>\n",
       "      <td>https://www.biglotteryfund.org.uk/-/media/File...</td>\n",
       "      <td>http://www.nationalarchives.gov.uk/doc/open-go...</td>\n",
       "      <td>2017-07-27T10:33:57+0000</td>\n",
       "      <td>Big Lottery Fund</td>\n",
       "      <td>https://www.biglotteryfund.org.uk/</td>\n",
       "      <td>Big Lottery Fund - grants data 2015 to 2017</td>\n",
       "    </tr>\n",
       "    <tr>\n",
       "      <th>4</th>\n",
       "      <td>https://www.biglotteryfund.org.uk/-/media/File...</td>\n",
       "      <td>http://www.nationalarchives.gov.uk/doc/open-go...</td>\n",
       "      <td>2018-02-19T11:53:07+0000</td>\n",
       "      <td>Big Lottery Fund</td>\n",
       "      <td>https://www.biglotteryfund.org.uk/</td>\n",
       "      <td>Big Lottery Fund - grants data 2017-18 year-to...</td>\n",
       "    </tr>\n",
       "  </tbody>\n",
       "</table>\n",
       "</div>"
      ],
      "text/plain": [
       "                                            file_url  \\\n",
       "0  https://www.arcadiafund.org.uk/wp-content/uplo...   \n",
       "1  https://www.barrowcadbury.org.uk/wp-content/up...   \n",
       "2  http://downloads.bbc.co.uk/tv/pudsey/360_givin...   \n",
       "3  https://www.biglotteryfund.org.uk/-/media/File...   \n",
       "4  https://www.biglotteryfund.org.uk/-/media/File...   \n",
       "\n",
       "                                             license  \\\n",
       "0       https://creativecommons.org/licenses/by/4.0/   \n",
       "1       https://creativecommons.org/licenses/by/4.0/   \n",
       "2       https://creativecommons.org/licenses/by/4.0/   \n",
       "3  http://www.nationalarchives.gov.uk/doc/open-go...   \n",
       "4  http://www.nationalarchives.gov.uk/doc/open-go...   \n",
       "\n",
       "                   modified                   org  \\\n",
       "0  2017-09-01T07:29:04+0000          Arcadia Fund   \n",
       "1  2018-02-05T14:27:52+0000  Barrow Cadbury Trust   \n",
       "2  2017-01-29T17:37:46+0000  BBC Children in Need   \n",
       "3  2017-07-27T10:33:57+0000      Big Lottery Fund   \n",
       "4  2018-02-19T11:53:07+0000      Big Lottery Fund   \n",
       "\n",
       "                                          org_url  \\\n",
       "0                 https://www.arcadiafund.org.uk/   \n",
       "1                http://www.barrowcadbury.org.uk/   \n",
       "2  http://www.bbc.co.uk/corporate2/childreninneed   \n",
       "3              https://www.biglotteryfund.org.uk/   \n",
       "4              https://www.biglotteryfund.org.uk/   \n",
       "\n",
       "                                               title  \n",
       "0           Arcadia Fund grants awarded to July 2017  \n",
       "1               Grants awarded 2012 to December 2017  \n",
       "2                        BBC Children in Need grants  \n",
       "3        Big Lottery Fund - grants data 2015 to 2017  \n",
       "4  Big Lottery Fund - grants data 2017-18 year-to...  "
      ]
     },
     "execution_count": 4,
     "metadata": {},
     "output_type": "execute_result"
    }
   ],
   "source": [
    "#We create a flat dictionary from the json file above and then create a df with it\n",
    "#This is quite a generic problem. Maybe I should write a tool to do this. \n",
    "\n",
    "flat_dict = [{'title':x['title'],\n",
    "              'org':x['publisher']['name'],\n",
    "              'org_url':x['publisher']['website'],\n",
    "              'file_url':x['distribution'][0]['downloadURL'],\n",
    "              'license':x['license'],\n",
    "              'modified':x['modified']} for x in three60_metadata]\n",
    "\n",
    "three60_df = pd.DataFrame.from_dict(flat_dict,orient='columns')\n",
    "\n",
    "#This is what it looks like\n",
    "three60_df.head()"
   ]
  },
  {
   "cell_type": "markdown",
   "metadata": {},
   "source": [
    "There are several organisations with more than one file. This seems to reflect different funding periods"
   ]
  },
  {
   "cell_type": "code",
   "execution_count": 57,
   "metadata": {
    "collapsed": false
   },
   "outputs": [
    {
     "data": {
      "text/plain": [
       "Oxfordshire Community Foundation                5\n",
       "The Wolfson Foundation                          3\n",
       "Scottish Council for Voluntary Organisations    3\n",
       "Tudor Trust                                     3\n",
       "LandAid Charitable Trust                        3\n",
       "Big Lottery Fund                                3\n",
       "Lankelly Chase Foundation                       3\n",
       "Pears Foundation                                2\n",
       "Trafford Housing Trust                          2\n",
       "Joseph Rowntree Foundation                      2\n",
       "Name: org, dtype: int64"
      ]
     },
     "execution_count": 57,
     "metadata": {},
     "output_type": "execute_result"
    }
   ],
   "source": [
    "three60_df.org.value_counts()[:10]"
   ]
  },
  {
   "cell_type": "code",
   "execution_count": 65,
   "metadata": {
    "collapsed": false
   },
   "outputs": [
    {
     "name": "stdout",
     "output_type": "stream",
     "text": [
      "Arcadia Fund\n",
      "BBC Children in Need\n",
      "Barrow Cadbury Trust\n",
      "Big Lottery Fund\n",
      "Birmingham City Council\n",
      "Blagrave Trust\n",
      "Cabinet Office\n",
      "Calouste Gulbenkian Foundation (UK Branch)\n",
      "Cheshire Community Foundation\n",
      "City Bridge Trust\n",
      "Co-operative Group\n",
      "Comic Relief\n",
      "Community Foundation Tyne & Wear and Northumberland\n",
      "Community Foundation for Surrey\n",
      "Dunhill Medical Trust\n",
      "Equity Foundation\n",
      "Esmee Fairbairn Foundation\n",
      "Essex Community Foundation\n",
      "Gatsby Charitable Foundation\n",
      "Greenham Common Trust\n",
      "Henry Smith Charity\n",
      "Indigo Trust\n",
      "Joseph Rowntree Charitable Trust\n",
      "Joseph Rowntree Foundation\n",
      "LandAid Charitable Trust\n",
      "Lankelly Chase Foundation\n",
      "Lloyd's Register Foundation\n",
      "Lloyds Bank Foundation\n",
      "London Borough of Barnet\n",
      "London Catalyst\n",
      "London Councils\n",
      "Macc\n",
      "Millfield House Foundation\n",
      "Nationwide Foundation\n",
      "Nesta\n",
      "Northern Rock Foundation\n",
      "One Manchester\n",
      "Oxford City Council\n",
      "Oxfordshire Community Foundation\n",
      "Paul Hamlyn Foundation\n",
      "Pears Foundation\n",
      "Power to Change\n",
      "Quartet Community Foundation\n",
      "Quixote Foundation\n",
      "R S Macdonald Charitable Trust\n",
      "Scottish Council for Voluntary Organisations\n",
      "Seafarers UK\n",
      "Somerset Community Foundation\n",
      "Southwark Council\n",
      "Sport England\n",
      "Staples Trust\n",
      "Tedworth Charitable Trust\n",
      "The Baring Foundation\n",
      "The Clothworkers' Foundation\n",
      "The Corra Foundation, previously called Lloyds TSB Foundation for Scotland\n",
      "The David & Elaine Potter Foundation\n",
      "The Dulverton Trust\n",
      "The Fore\n",
      "The Joseph Rank Trust\n",
      "The Robertson Trust\n",
      "The Wolfson Foundation\n",
      "Three Guineas Trust\n",
      "Trafford Council\n",
      "Trafford Housing Trust\n",
      "True Colours Trust\n",
      "Tudor Trust\n",
      "Tuixen Foundation\n",
      "Virgin Money Foundation\n",
      "Walcot Foundation\n",
      "Wiltshire Community Foundation\n",
      "Zing\n"
     ]
    }
   ],
   "source": [
    "#Who is in the data?\n",
    "print(\"\\n\".join([x for x in sorted(set(three60_df.org))]))\n"
   ]
  },
  {
   "cell_type": "code",
   "execution_count": 66,
   "metadata": {
    "collapsed": false
   },
   "outputs": [
    {
     "data": {
      "text/plain": [
       "71"
      ]
     },
     "execution_count": 66,
     "metadata": {},
     "output_type": "execute_result"
    }
   ],
   "source": [
    "#How many organisations?\n",
    "#71 files!\n",
    "len(set(three60_df.org))"
   ]
  },
  {
   "cell_type": "code",
   "execution_count": 234,
   "metadata": {
    "collapsed": false
   },
   "outputs": [],
   "source": [
    "def get_file_type_string(request):\n",
    "    '''\n",
    "    This function takes the return from a webpage objec and returns a string where we look for the file type\n",
    "    \n",
    "    '''\n",
    "    \n",
    "    #Extract the url. This will often contain the file extension\n",
    "    text = request.url\n",
    "    \n",
    "    #Also add metadata from the get, in case there was no file extension:\n",
    "    if 'Content-Disposition' in request.headers:\n",
    "        text = text + ' '+request.headers['Content-Disposition']\n",
    "        \n",
    "    return(text)\n",
    "        \n",
    "\n",
    "\n",
    "@ratelim.patient(5,10)\n",
    "def get_360_file(url):\n",
    "    '''\n",
    "    This function downloads each file in the 360 degree data. We mostly create it to decorate with the rate limiter,\n",
    "    which slows down the pace at which we download files from 360.\n",
    "    \n",
    "    '''\n",
    "    \n",
    "    #Different data sources have different formatrs so we have to work with that as well.\n",
    "    \n",
    "    #Get the file\n",
    "    request = requests.get(url)\n",
    "    \n",
    "    #If the status code is 200, parse etc.\n",
    "    if request.status_code==200:\n",
    "        \n",
    "            file_type_string = get_file_type_string(request)\n",
    "        \n",
    "        #The parsing depends on the type of file. We get the type of file from the header or the url name\n",
    "        \n",
    "            #This takes ages with large files.\n",
    "            if '.csv' in file_type_string:\n",
    "                #We need to stream the text into the csv\n",
    "                table = pd.read_csv(io.StringIO(request.text))\n",
    "            \n",
    "            elif '.xls' in file_type_string:\n",
    "                #Excel is a bit different\n",
    "                with io.BytesIO(request.content) as fh:\n",
    "                    table = pd.io.excel.read_excel(fh, sheetname=0)\n",
    "\n",
    "            elif '.json' in file_type_string:\n",
    "                #There is even one download with json!\n",
    "                table = pd.DataFrame.from_dict(request.json()['grants'])\n",
    "\n",
    "            return(table)\n",
    "    \n",
    "    else:\n",
    "        #error = requests.get(url).error\n",
    "        return(request.status_code)\n",
    "    \n",
    "    "
   ]
  },
  {
   "cell_type": "code",
   "execution_count": 289,
   "metadata": {
    "collapsed": false
   },
   "outputs": [
    {
     "name": "stdout",
     "output_type": "stream",
     "text": [
      "https://www.arcadiafund.org.uk/wp-content/uploads/2017/07/Arcadia-grants-360Giving-28-Jul-2017.xlsx\n"
     ]
    },
    {
     "name": "stderr",
     "output_type": "stream",
     "text": [
      "/usr/local/lib/python3.5/site-packages/pandas/util/_decorators.py:118: FutureWarning: The `sheetname` keyword is deprecated, use `sheet_name` instead\n",
      "  return func(*args, **kwargs)\n"
     ]
    },
    {
     "name": "stdout",
     "output_type": "stream",
     "text": [
      "https://www.barrowcadbury.org.uk/wp-content/uploads/2018/02/Copy-of-2017-12-360-Giving-until-2017-12-revised.xlsx\n",
      "http://downloads.bbc.co.uk/tv/pudsey/360_giving_data_02102016.xlsx\n",
      "https://www.biglotteryfund.org.uk/-/media/Files/Research%20Documents/aOpenDataFiles/open_data_2015_2017.xlsx\n",
      "https://www.biglotteryfund.org.uk/-/media/Files/Research%20Documents/aOpenDataFiles/BLFOpenData17-18.xlsx\n",
      "https://www.biglotteryfund.org.uk/-/media/Files/Research%20Documents/aOpenDataFiles/BLFOpenData_2004_2015_V41.csv\n",
      "https://data.birmingham.gov.uk/dataset/bb896f0b-10d7-403d-bad4-cc147349c380/resource/6ff023e2-947a-4eb9-bd67-0cdd2c7163dc/download/ssystemsgovernancetransparencygrants360-giving-bcc-data_2014-17-v2.xlsx\n",
      "https://www.blagravetrust.org/wp-content/uploads/2018/02/360G-blagravetrust-2017.xlsx\n",
      "https://www.gov.uk/government/uploads/system/uploads/attachment_data/file/663589/GGIS_Grant_Awards_2016_to_2017_2017-10-27_1621.xlsx\n",
      "https://s3-eu-central-1.amazonaws.com/content.gulbenkian.pt/wp-content/uploads/sites/18/2018/01/26093057/360Giving_CGFUKB_Grants_2014-17-6.xlsx\n",
      "http://cheshirecommunityfoundation.org.uk/wp-content/uploads/2017/06/Grants-Awarded-Fiscal-Year-2016.xlsx\n",
      "http://1vfva1igmeah9lhs11aj1e1d-wpengine.netdna-ssl.com/wp-content/uploads/2018/01/CBT-360-data-Sept-2013-to-Nov-2017.xlsx\n",
      "https://www.coop.co.uk/downloads/causes-data-2017.csv\n",
      "https://www.comicrelief.com/sites/default/files/downloads/360_Giving_International.xlsx\n",
      "https://www.comicrelief.com/sites/default/files/downloads/360_Giving_UK.xlsx\n",
      "http://www.cfsurrey.org.uk/wp-content/uploads/2017/10/CF-for-Surrey-360Giving-Export-Grant-Awards-2016-17.xlsx\n",
      "http://www.communityfoundation.org.uk/wordpress/wp-content/uploads/2017/12/2016-2017-FINAL.xlsx\n",
      "http://www.communityfoundation.org.uk/wordpress/wp-content/uploads/2017/10/Community-Foundation-Tyne-Wear-Northumberland-Grants-2015-16-1.xlsx\n",
      "http://dunhillmedical.org.uk/wp-content/uploads/2018/03/19-12-DMT-final-file.xlsx\n",
      "http://www.equityfoundation.co.uk/wp-content/uploads/2016/11/360-Upload-Jan-16-July-2017-1.xlsx\n",
      "https://esmeefairbairn.org.uk/userfiles/Documents/Grants%20list/Esmee_Grants_Since_2008.json\n",
      "http://www.essexcommunityfoundation.org.uk/images/uploads/ECF_Grants_Awarded.xlsx\n",
      "http://ods.sfct.org.uk/opendataservice/sfct360givingfeed.aspx?trust=GB-CHC-251988\n",
      "http://www.greenham-common-trust.co.uk/sites/default/files/pdf/360Data_GCT_Reactive_Grants_Nov_2015_Final_0.xlsx\n",
      "https://www.henrysmithcharity.org.uk/wp-content/uploads/2017/10/360-Giving-Format-Grants-data-Jan-2012-Mar17.xlsx\n",
      "http://ods.sfct.org.uk/OpenDataService/sfct360givingfeed.aspx?trust=GB-CHC-1075920\n",
      "https://www.jrct.org.uk/userfiles/documents/JRCT%20grants%20awarded%202017.xlsx\n",
      "https://www.jrf.org.uk/sites/default/files/jrf/files-other/jrf-york-committee-small-grants-awarded-2017_0.xlsx\n",
      "https://www.jrf.org.uk/sites/default/files/jrf/files-other/jrf-york-committee-small-grants-awarded-2016_0.xlsx\n",
      "http://www.landaid.org/sites/default/files/downloads/LandAid%20data%20for%20Grant%20Nav%20201415.csv\n",
      "http://www.landaid.org/sites/default/files/downloads/LandAid%20data%20for%20Grant%20Nav%20201516_0.csv\n",
      "http://www.landaid.org/sites/default/files/downloads/LandAid%20data%20for%20Grant%20Nav%20201314_0.csv\n",
      "http://lankellychase.org.uk/wp-content/uploads/2017/12/2014-15-LC-data.xlsx\n",
      "http://lankellychase.org.uk/wp-content/uploads/2017/12/2015-16-LC-data.xlsx\n",
      "http://lankellychase.org.uk/wp-content/uploads/2017/12/2016-17-LC-data.xlsx\n",
      "http://info.lr.org/360giving-data\n",
      "https://www.lloydsbankfoundation.org.uk/360_giving_LBFEW_2010_2017.xlsx\n",
      "https://files.datapress.com/barnet/dataset/grants-to-voluntary--community-and-social-enterprise-organisations-2016-17/2017-11-29T14:30:28.71/LBB%20360Giving%20dataset.csv\n",
      "https://files.datapress.com/barnet/dataset/grants-to-voluntary--community-and-social-enterprise-organisations-2017-18/2017-11-29T12:17:58.69/2017-11-27%20360%20data.csv\n",
      "https://www.londoncatalyst.org.uk/newsite/wp-content/uploads/2018/02/Open-data-360Giving-export-from-SF-all-grants-2012-17-19-02-2018.xlsx.xlsx\n",
      "http://www.londoncouncils.gov.uk/node/33144\n",
      "https://www.londoncouncils.gov.uk/node/33476\n",
      "https://www.manchestercommunitycentral.org/sites/manchestercommunitycentral.co.uk/files/Macc-grants.xlsx\n",
      "http://mhfdn.org.uk/images/uploads/360g-mhfdn.xlsx\n",
      "http://www.nationwidefoundation.org.uk/wp-content/uploads/2018/01/360GivingGrants.xlsx\n",
      "http://www.nesta.org.uk/sites/default/files/360giving_data_export_12.05.17.csv\n",
      "https://docs.google.com/spreadsheets/d/1gyyHFzS60yrMqindaaTNW8kSFa0sOIZAjDIR8sZ5dLA/export?format=xlsx\n",
      "https://www.onemanchester.co.uk/sites/default/files/documents/resources/One%20Manchester%20360-giving%20data%20to%20YE%2016-17%20v2.xlsx\n",
      "https://www.oxford.gov.uk/download/downloads/id/4272/grants_awarded_2014_to_2017.csv\n",
      "https://3p50ut4bws5s2uzhmycc4t21-wpengine.netdna-ssl.com/wp-content/uploads/2018/03/OCF-Grants_FY17-18_21mar.xlsx\n",
      "http://oxfordshire.org/wp-content/uploads/2017/04/OCF-Grants_FY13-14-mod.xlsx\n",
      "http://oxfordshire.org/wp-content/uploads/2017/10/OCF-Grants_FY15-16-mod.xlsx\n",
      "http://oxfordshire.org/wp-content/uploads/2016/12/OCF-Grants_FY14-15-mod.xlsx\n",
      "http://oxfordshire.org/wp-content/uploads/2017/10/OCF-Grants_FY16-17-final.xlsx\n",
      "http://www.phf.org.uk/wp-content/uploads/2016/09/PHF-360Giving-data-UK-grants-to-orgs-under-the-current-strategy-2015-final-1.xlsx\n",
      "http://www.phf.org.uk/wp-content/uploads/2017/02/PHF-360Giving-data-UK-grants-to-orgs-under-the-previous-strategy-2006-2015-finalv2.xlsx\n",
      "http://www.pearsfoundation.org.uk/filedownload/0dfeec3bb40baa9053b1643ed91e2fb010fc6923/00a5efaeb1b88eeb80a4e4e9593ea3f00070333a\n",
      "http://www.pearsfoundation.org.uk/filedownload/0dfeec3bb40baa9053b1643ed91e2fb010fc6923/d3b3b66c86fafbab2d3d902e139ddf16a3608675\n",
      "http://www.powertochange.org.uk/wp-content/uploads/2017/07/Power-to-Change-Grants-Data-2015-2016.xlsx\n",
      "http://quartetcf.org.uk/wp-content/uploads/2015/05/Grants-Awarded-2016-17-360Giving-data-standard.xlsx\n",
      "https://archives.iupui.edu/bitstream/handle/2450/11391/Quixote%20Foundation%20Final%20Grants%20List_April2017%281%29.xlsx\n",
      "http://www.rsmacdonald.com/wp-content/uploads/2017/06/360-data-2015-2017.xlsx\n",
      "https://scvo.org/digital/participation/charter-fund/projects/data.json\n",
      "https://scvo.org/digital/evolution/cyber-resilience/projects/data.json\n",
      "https://scvo.org/running-your-organisation/funding/community-capacity-resilience-fund/projects/data.json\n",
      "http://www.seafarers.uk/wp-content/uploads/2018/01/Seafarers-UK-Grants-Data.xlsx\n",
      "http://www.somersetcf.org.uk/uploads/images/SCF2016-17.xlsx\n",
      "http://www.southwark.gov.uk/assets/attach/5129/360%20Giving%20standard%20Southwark%20grants%202016-17.xlsx\n",
      "https://www.sportengland.org/media/12725/360giving-sport-england-data.xlsx\n",
      "http://ods.sfct.org.uk/opendataservice/sfct360givingfeed.aspx?trust=GB-CHC-1010656\n",
      "http://ods.sfct.org.uk/opendataservice/sfct360givingfeed.aspx?trust=GB-CHC-328524\n",
      "http://www.baringfoundation.org.uk/wp-content/uploads/2014/07/Baring-Foundation-2014-and-2015-360-degree-data1.csv\n",
      "http://foundation.clothworkers.co.uk/ClothworkersFoundation/media/360giving/Clothworkers-Foundation-2016.xlsx\n",
      "https://www.corra.scot/wp-content/uploads/2018/01/360-Giving-report-as-at-31.12.17-1.xlsx\n",
      "http://www.potterfoundation.com/downloads/360giving_Potter_Foundation_data_2013_2017.xlsx\n",
      "http://www.dulverton.org/wp-content/uploads/2018/01/360G_dulverton_Jan2005_Jan2018.xlsx\n",
      "http://www.thefore.org/wp-content/uploads/2017/09/The-Fore-Pilot-2012-16-360Giving-Data.xlsx\n",
      "http://www.ranktrust.org/grants/360Givingdata2017grants.xlsx\n",
      "http://s3-eu-west-1.amazonaws.com/files.therobertsontrust.org.uk/Open_Data/Robertson_Trust_360_Data_2015-2017.xlsx\n",
      "http://www.wolfson.org.uk/media/2814/wolfson-foundation-grants-2015.xlsx\n",
      "http://www.wolfson.org.uk/media/3043/wolfson-foundation-grants-2016.xlsx\n",
      "http://www.wolfson.org.uk/media/2780/wolfson-foundation-grants-2014.xlsx\n",
      "http://ods.sfct.org.uk/opendataservice/sfct360givingfeed.aspx?trust=GB-CHC-1059652\n",
      "https://trafforddatalab.github.io/open_data/grants/trafford_council_voluntary_sector_grants_360_giving_format.xlsx\n",
      "http://socialinvestment.traffordhousingtrust.co.uk/media/1121/tht-social-investment-funding-data-new.xlsx\n",
      "http://socialinvestment.traffordhousingtrust.co.uk/media/1122/tht-social-investment-funding-data.xlsx\n",
      "http://ods.sfct.org.uk/opendataservice/sfct360givingfeed.aspx?trust=GB-CHC-1089893\n",
      "http://tudortrust.org.uk/assets/file/Fixed_2017-04-28_Tudor_Trust_grants_01-04-16_-_31-03-17.xlsx\n",
      "http://tudortrust.org.uk/assets/file/2018-01-04_grants_01-04-13_to_31-03-16_FNL_revised.xlsx\n",
      "http://tudortrust.org.uk/assets/file/2018-01-02_data_01.04.17_-_30.09.17.xlsx\n",
      "http://tuixen.org.uk/360_giving_tuixen_oct_2017.xlsx\n",
      "https://virginmoneyfoundation.org.uk/assets/pdf/open_data_csv.csv\n",
      "http://www.walcotfoundation.org.uk/uploads/1/7/2/2/17226772/360g_-_walcot_-_grants_april_12_to_march_17.xlsx\n",
      "https://wiltshirecf.org.uk/sites/default/files/Wiltshire%20Community%20Foundation%20open%20data%20grants%20awarded%202016-2017.xlsx\n",
      "https://wiltshirecf.org.uk/sites/default/files/Wiltshire%20Community%20Foundation%20open%20data%20grants%20awarded%202015-2016_0.xlsx\n",
      "http://zing.org.uk/open/grants.csv\n"
     ]
    }
   ],
   "source": [
    "#This loops over the urls we have and puts them in a container. When this doesn't work,\n",
    "#it returns an error we can check later.\n",
    "\n",
    "t60_container = []\n",
    "\n",
    "for url in three60_df['file_url']:\n",
    "    print(url)\n",
    "    try:\n",
    "        file = get_360_file(url)\n",
    "        t60_container.append(file)\n",
    "    except:\n",
    "        t60_container.append('error')"
   ]
  },
  {
   "cell_type": "code",
   "execution_count": 297,
   "metadata": {
    "collapsed": false
   },
   "outputs": [
    {
     "data": {
      "text/plain": [
       "[('error',\n",
       "  'http://www.equityfoundation.co.uk/wp-content/uploads/2016/11/360-Upload-Jan-16-July-2017-1.xlsx'),\n",
       " (403,\n",
       "  'https://3p50ut4bws5s2uzhmycc4t21-wpengine.netdna-ssl.com/wp-content/uploads/2018/03/OCF-Grants_FY17-18_21mar.xlsx'),\n",
       " (403,\n",
       "  'http://oxfordshire.org/wp-content/uploads/2017/04/OCF-Grants_FY13-14-mod.xlsx'),\n",
       " (403,\n",
       "  'http://oxfordshire.org/wp-content/uploads/2017/10/OCF-Grants_FY15-16-mod.xlsx'),\n",
       " (403,\n",
       "  'http://oxfordshire.org/wp-content/uploads/2016/12/OCF-Grants_FY14-15-mod.xlsx'),\n",
       " (403,\n",
       "  'http://oxfordshire.org/wp-content/uploads/2017/10/OCF-Grants_FY16-17-final.xlsx'),\n",
       " (403,\n",
       "  'http://www.powertochange.org.uk/wp-content/uploads/2017/07/Power-to-Change-Grants-Data-2015-2016.xlsx'),\n",
       " (403,\n",
       "  'http://tudortrust.org.uk/assets/file/Fixed_2017-04-28_Tudor_Trust_grants_01-04-16_-_31-03-17.xlsx'),\n",
       " (403,\n",
       "  'http://tudortrust.org.uk/assets/file/2018-01-04_grants_01-04-13_to_31-03-16_FNL_revised.xlsx'),\n",
       " (403,\n",
       "  'http://tudortrust.org.uk/assets/file/2018-01-02_data_01.04.17_-_30.09.17.xlsx')]"
      ]
     },
     "execution_count": 297,
     "metadata": {},
     "output_type": "execute_result"
    }
   ],
   "source": [
    "#How many errors\n",
    "\n",
    "errors = [(y,x) for x,y in zip(three60_df['file_url'],t60_container) if type(y)!=pd.core.frame.DataFrame]\n",
    "\n",
    "errors"
   ]
  },
  {
   "cell_type": "markdown",
   "metadata": {},
   "source": [
    "Seems to be 403 errors in all cases, with one exception where there is a problem with the formatting. The 403 files can be downloaded manually or using urllib and then loaded but I'm going to leave it for now.\n",
    "\n",
    "TODO: Fix errors above"
   ]
  },
  {
   "cell_type": "code",
   "execution_count": 360,
   "metadata": {
    "collapsed": false
   },
   "outputs": [],
   "source": [
    "#Pickle the file \n",
    "\n",
    "with open(ext_data+'/{date}_file_download.p','wb') as outfile:\n",
    "    pickle.dump(t60_container,outfile)"
   ]
  }
 ],
 "metadata": {
  "kernelspec": {
   "display_name": "Python 3",
   "language": "python",
   "name": "python3"
  },
  "language_info": {
   "codemirror_mode": {
    "name": "ipython",
    "version": 3
   },
   "file_extension": ".py",
   "mimetype": "text/x-python",
   "name": "python",
   "nbconvert_exporter": "python",
   "pygments_lexer": "ipython3",
   "version": "3.5.2"
  }
 },
 "nbformat": 4,
 "nbformat_minor": 2
}
