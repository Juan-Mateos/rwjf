{
 "cells": [
  {
   "cell_type": "markdown",
   "metadata": {},
   "source": [
    "# Exploration of AI data for the RWJF project\n",
    "\n",
    "Here we explore the AI data for the RWJF project. This involves:\n",
    "\n",
    "* Analysing World Reporter\n",
    "  * Load\n",
    "  * Map\n",
    "  * Trend analysis\n",
    "  * MeSH exploration\n",
    "  \n",
    "* Consider other sources such as CrunchBase or GitHub to illustrate the range of sources we are working with.\n",
    "\n",
    "\n"
   ]
  },
  {
   "cell_type": "markdown",
   "metadata": {},
   "source": [
    "### World Reporter"
   ]
  },
  {
   "cell_type": "code",
   "execution_count": 3,
   "metadata": {},
   "outputs": [],
   "source": [
    "import boto3\n",
    "import pandas as pd\n",
    "from io import BytesIO\n",
    "\n",
    "# bucket, filename = “innovation-mapping-general”, “nih_all_processed_data/all_processed_nih_10000.json”\n",
    "\n",
    "# s3 = boto3.resource(‘s3’)\n",
    "# obj = s3.Object(bucket, filename)\n",
    "# with BytesIO(obj.get()[‘Body’].read()) as bio:\n",
    "#    df = pd.read_csv(bio)"
   ]
  },
  {
   "cell_type": "code",
   "execution_count": 4,
   "metadata": {},
   "outputs": [],
   "source": [
    "# out= ''\n",
    "\n",
    "# with open('../data/external/dloaded.txt','w') as outfile:\n",
    "#     outfile.write(out)"
   ]
  },
  {
   "cell_type": "code",
   "execution_count": 5,
   "metadata": {},
   "outputs": [],
   "source": [
    "with open('../data/external/dloaded.txt','r') as infile:\n",
    "    collected = infile.read().split(', ')"
   ]
  },
  {
   "cell_type": "code",
   "execution_count": 45,
   "metadata": {},
   "outputs": [],
   "source": [
    "del collected"
   ]
  },
  {
   "cell_type": "code",
   "execution_count": 46,
   "metadata": {},
   "outputs": [],
   "source": [
    "dfs = []"
   ]
  },
  {
   "cell_type": "code",
   "execution_count": 48,
   "metadata": {},
   "outputs": [
    {
     "name": "stdout",
     "output_type": "stream",
     "text": [
      "s3.ObjectSummary(bucket_name='innovation-mapping-general', key='nih_machine_learning_ai/all_nih_machine_learning_ai_6382.json')\n",
      "nih_machine_learning_ai/all_nih_machine_learning_ai_6382.json\n"
     ]
    }
   ],
   "source": [
    "bucket = \"innovation-mapping-general\" \n",
    "directory = \"nih_machine_learning_ai/\" \n",
    "s3 = boto3.resource('s3') \n",
    "\n",
    "t=0\n",
    "for key in s3.Bucket(bucket).objects.all(): \n",
    "    if not key.key.startswith(directory): \n",
    "        continue \n",
    "    if (key.key == directory): \n",
    "         continue\n",
    "    \n",
    "    #if (key.key in collected) | (key.key=='nih_all_processed_data/all_processed_nih_590000.json'):\n",
    "    #    continue\n",
    "    \n",
    "    print(key)\n",
    "    obj = s3.Object(bucket, key.key)     \n",
    "    with BytesIO(obj.get()['Body'].read()) as bio:\n",
    "        df = pd.read_json(bio) \n",
    "    \n",
    "    dfs.append(df)\n",
    "    \n",
    "    #collected.append(str(key.key))\n",
    "    \n",
    "    print(str(key.key))\n",
    "    \n",
    "    t+=1\n",
    "    \n",
    "    #Each five dfs, this saves the data as a timestamped df and the list with the collected data as a list\n",
    "    if t%5==0:\n",
    "        time = str(datetime.datetime.now())\n",
    "        with open(f'../data/external/{time}_wtr.p','wb') as outfile:\n",
    "            pickle.dump(list(dfs.values()),outfile)\n",
    "        with open('../data/external/dloaded.txt','w') as outfile:\n",
    "            outfile.write(', '.join(collected))\n",
    "            \n",
    "        del dfs\n",
    "        dfs = {}\n",
    "        \n",
    "    \n",
    "#df = pd.concat(dfs)     "
   ]
  },
  {
   "cell_type": "code",
   "execution_count": 51,
   "metadata": {},
   "outputs": [],
   "source": [
    "dfs[0].to_csv('../data/external/world_reporter/ai_projects')"
   ]
  }
 ],
 "metadata": {
  "kernelspec": {
   "display_name": "Python 3",
   "language": "python",
   "name": "python3"
  },
  "language_info": {
   "codemirror_mode": {
    "name": "ipython",
    "version": 3
   },
   "file_extension": ".py",
   "mimetype": "text/x-python",
   "name": "python",
   "nbconvert_exporter": "python",
   "pygments_lexer": "ipython3",
   "version": "3.7.0"
  }
 },
 "nbformat": 4,
 "nbformat_minor": 2
}
